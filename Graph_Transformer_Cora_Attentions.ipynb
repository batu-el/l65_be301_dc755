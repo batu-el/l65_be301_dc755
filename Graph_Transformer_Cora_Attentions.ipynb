{
  "cells": [
    {
      "cell_type": "markdown",
      "metadata": {
        "id": "view-in-github",
        "colab_type": "text"
      },
      "source": [
        "<a href=\"https://colab.research.google.com/github/batu-el/l65_be301_dc755/blob/main/Graph_Transformer_Cora_Attentions.ipynb\" target=\"_parent\"><img src=\"https://colab.research.google.com/assets/colab-badge.svg\" alt=\"Open In Colab\"/></a>"
      ]
    },
    {
      "cell_type": "code",
      "execution_count": 1,
      "metadata": {
        "colab": {
          "base_uri": "https://localhost:8080/"
        },
        "id": "oNVuquhQ83Bn",
        "outputId": "a99052c3-aa34-482c-cf23-46342297dbe6"
      },
      "outputs": [
        {
          "output_type": "stream",
          "name": "stdout",
          "text": [
            "Installing PyTorch Geometric\n",
            "Installing other libraries\n",
            "Requirement already satisfied: networkx in /usr/local/lib/python3.10/dist-packages (3.2.1)\n",
            "Requirement already satisfied: lovely-tensors in /usr/local/lib/python3.10/dist-packages (0.1.15)\n",
            "Requirement already satisfied: torch in /usr/local/lib/python3.10/dist-packages (from lovely-tensors) (2.1.0+cu121)\n",
            "Requirement already satisfied: lovely-numpy>=0.2.9 in /usr/local/lib/python3.10/dist-packages (from lovely-tensors) (0.2.11)\n",
            "Requirement already satisfied: numpy>=1.17 in /usr/local/lib/python3.10/dist-packages (from lovely-numpy>=0.2.9->lovely-tensors) (1.25.2)\n",
            "Requirement already satisfied: fastcore in /usr/local/lib/python3.10/dist-packages (from lovely-numpy>=0.2.9->lovely-tensors) (1.5.29)\n",
            "Requirement already satisfied: ipython in /usr/local/lib/python3.10/dist-packages (from lovely-numpy>=0.2.9->lovely-tensors) (7.34.0)\n",
            "Requirement already satisfied: matplotlib in /usr/local/lib/python3.10/dist-packages (from lovely-numpy>=0.2.9->lovely-tensors) (3.7.1)\n",
            "Requirement already satisfied: filelock in /usr/local/lib/python3.10/dist-packages (from torch->lovely-tensors) (3.13.1)\n",
            "Requirement already satisfied: typing-extensions in /usr/local/lib/python3.10/dist-packages (from torch->lovely-tensors) (4.9.0)\n",
            "Requirement already satisfied: sympy in /usr/local/lib/python3.10/dist-packages (from torch->lovely-tensors) (1.12)\n",
            "Requirement already satisfied: networkx in /usr/local/lib/python3.10/dist-packages (from torch->lovely-tensors) (3.2.1)\n",
            "Requirement already satisfied: jinja2 in /usr/local/lib/python3.10/dist-packages (from torch->lovely-tensors) (3.1.3)\n",
            "Requirement already satisfied: fsspec in /usr/local/lib/python3.10/dist-packages (from torch->lovely-tensors) (2023.6.0)\n",
            "Requirement already satisfied: triton==2.1.0 in /usr/local/lib/python3.10/dist-packages (from torch->lovely-tensors) (2.1.0)\n",
            "Requirement already satisfied: pip in /usr/local/lib/python3.10/dist-packages (from fastcore->lovely-numpy>=0.2.9->lovely-tensors) (23.1.2)\n",
            "Requirement already satisfied: packaging in /usr/local/lib/python3.10/dist-packages (from fastcore->lovely-numpy>=0.2.9->lovely-tensors) (23.2)\n",
            "Requirement already satisfied: setuptools>=18.5 in /usr/local/lib/python3.10/dist-packages (from ipython->lovely-numpy>=0.2.9->lovely-tensors) (67.7.2)\n",
            "Requirement already satisfied: jedi>=0.16 in /usr/local/lib/python3.10/dist-packages (from ipython->lovely-numpy>=0.2.9->lovely-tensors) (0.19.1)\n",
            "Requirement already satisfied: decorator in /usr/local/lib/python3.10/dist-packages (from ipython->lovely-numpy>=0.2.9->lovely-tensors) (4.4.2)\n",
            "Requirement already satisfied: pickleshare in /usr/local/lib/python3.10/dist-packages (from ipython->lovely-numpy>=0.2.9->lovely-tensors) (0.7.5)\n",
            "Requirement already satisfied: traitlets>=4.2 in /usr/local/lib/python3.10/dist-packages (from ipython->lovely-numpy>=0.2.9->lovely-tensors) (5.7.1)\n",
            "Requirement already satisfied: prompt-toolkit!=3.0.0,!=3.0.1,<3.1.0,>=2.0.0 in /usr/local/lib/python3.10/dist-packages (from ipython->lovely-numpy>=0.2.9->lovely-tensors) (3.0.43)\n",
            "Requirement already satisfied: pygments in /usr/local/lib/python3.10/dist-packages (from ipython->lovely-numpy>=0.2.9->lovely-tensors) (2.16.1)\n",
            "Requirement already satisfied: backcall in /usr/local/lib/python3.10/dist-packages (from ipython->lovely-numpy>=0.2.9->lovely-tensors) (0.2.0)\n",
            "Requirement already satisfied: matplotlib-inline in /usr/local/lib/python3.10/dist-packages (from ipython->lovely-numpy>=0.2.9->lovely-tensors) (0.1.6)\n",
            "Requirement already satisfied: pexpect>4.3 in /usr/local/lib/python3.10/dist-packages (from ipython->lovely-numpy>=0.2.9->lovely-tensors) (4.9.0)\n",
            "Requirement already satisfied: MarkupSafe>=2.0 in /usr/local/lib/python3.10/dist-packages (from jinja2->torch->lovely-tensors) (2.1.5)\n",
            "Requirement already satisfied: contourpy>=1.0.1 in /usr/local/lib/python3.10/dist-packages (from matplotlib->lovely-numpy>=0.2.9->lovely-tensors) (1.2.0)\n",
            "Requirement already satisfied: cycler>=0.10 in /usr/local/lib/python3.10/dist-packages (from matplotlib->lovely-numpy>=0.2.9->lovely-tensors) (0.12.1)\n",
            "Requirement already satisfied: fonttools>=4.22.0 in /usr/local/lib/python3.10/dist-packages (from matplotlib->lovely-numpy>=0.2.9->lovely-tensors) (4.48.1)\n",
            "Requirement already satisfied: kiwisolver>=1.0.1 in /usr/local/lib/python3.10/dist-packages (from matplotlib->lovely-numpy>=0.2.9->lovely-tensors) (1.4.5)\n",
            "Requirement already satisfied: pillow>=6.2.0 in /usr/local/lib/python3.10/dist-packages (from matplotlib->lovely-numpy>=0.2.9->lovely-tensors) (9.4.0)\n",
            "Requirement already satisfied: pyparsing>=2.3.1 in /usr/local/lib/python3.10/dist-packages (from matplotlib->lovely-numpy>=0.2.9->lovely-tensors) (3.1.1)\n",
            "Requirement already satisfied: python-dateutil>=2.7 in /usr/local/lib/python3.10/dist-packages (from matplotlib->lovely-numpy>=0.2.9->lovely-tensors) (2.8.2)\n",
            "Requirement already satisfied: mpmath>=0.19 in /usr/local/lib/python3.10/dist-packages (from sympy->torch->lovely-tensors) (1.3.0)\n",
            "Requirement already satisfied: parso<0.9.0,>=0.8.3 in /usr/local/lib/python3.10/dist-packages (from jedi>=0.16->ipython->lovely-numpy>=0.2.9->lovely-tensors) (0.8.3)\n",
            "Requirement already satisfied: ptyprocess>=0.5 in /usr/local/lib/python3.10/dist-packages (from pexpect>4.3->ipython->lovely-numpy>=0.2.9->lovely-tensors) (0.7.0)\n",
            "Requirement already satisfied: wcwidth in /usr/local/lib/python3.10/dist-packages (from prompt-toolkit!=3.0.0,!=3.0.1,<3.1.0,>=2.0.0->ipython->lovely-numpy>=0.2.9->lovely-tensors) (0.2.13)\n",
            "Requirement already satisfied: six>=1.5 in /usr/local/lib/python3.10/dist-packages (from python-dateutil>=2.7->matplotlib->lovely-numpy>=0.2.9->lovely-tensors) (1.16.0)\n"
          ]
        }
      ],
      "source": [
        "# Install required python libraries\n",
        "import os\n",
        "\n",
        "# Install PyTorch Geometric and other libraries\n",
        "if 'IS_GRADESCOPE_ENV' not in os.environ:\n",
        "    print(\"Installing PyTorch Geometric\")\n",
        "    !pip install -q torch-scatter -f https://data.pyg.org/whl/torch-2.1.0+cu121.html\n",
        "    !pip install -q torch-sparse -f https://data.pyg.org/whl/torch-2.1.0+cu121.html\n",
        "    !pip install -q torch-geometric\n",
        "    print(\"Installing other libraries\")\n",
        "    !pip install networkx\n",
        "    !pip install lovely-tensors"
      ]
    },
    {
      "cell_type": "code",
      "execution_count": 2,
      "metadata": {
        "colab": {
          "base_uri": "https://localhost:8080/"
        },
        "id": "baSS5Fgc86P3",
        "outputId": "2fc58244-9544-4324-902e-54516bd94387"
      },
      "outputs": [
        {
          "output_type": "stream",
          "name": "stdout",
          "text": [
            "All imports succeeded.\n",
            "Python version 3.10.12 (main, Nov 20 2023, 15:14:05) [GCC 11.4.0]\n",
            "PyTorch version 2.1.0+cu121\n",
            "PyG version 2.5.0\n"
          ]
        }
      ],
      "source": [
        "import os\n",
        "import sys\n",
        "import time\n",
        "import math\n",
        "import random\n",
        "import itertools\n",
        "from datetime import datetime\n",
        "from typing import Mapping, Tuple, Sequence, List\n",
        "\n",
        "import pandas as pd\n",
        "import networkx as nx\n",
        "import numpy as np\n",
        "import scipy as sp\n",
        "\n",
        "from tqdm.notebook import tqdm\n",
        "\n",
        "import torch\n",
        "import torch.nn.functional as F\n",
        "from torch.nn import Embedding, Linear, ReLU, BatchNorm1d, LayerNorm, Module, ModuleList, Sequential\n",
        "from torch.nn import TransformerEncoder, TransformerEncoderLayer, MultiheadAttention\n",
        "from torch.optim import Adam\n",
        "\n",
        "import torch_geometric\n",
        "from torch_geometric.data import Data, Batch\n",
        "from torch_geometric.loader import DataLoader\n",
        "from torch_geometric.datasets import Planetoid\n",
        "\n",
        "import torch_geometric.transforms as T\n",
        "from torch_geometric.utils import remove_self_loops, dense_to_sparse, to_dense_batch, to_dense_adj\n",
        "\n",
        "from torch_geometric.nn import GCNConv, GATConv\n",
        "\n",
        "from torch_scatter import scatter, scatter_mean, scatter_max, scatter_sum\n",
        "\n",
        "import lovely_tensors as lt\n",
        "lt.monkey_patch()\n",
        "\n",
        "import matplotlib.pyplot as plt\n",
        "import seaborn as sns\n",
        "\n",
        "# import warnings\n",
        "# warnings.filterwarnings(\"ignore\", category=RuntimeWarning)\n",
        "# warnings.filterwarnings(\"ignore\", category=UserWarning)\n",
        "# warnings.filterwarnings(\"ignore\", category=FutureWarning)\n",
        "\n",
        "print(\"All imports succeeded.\")\n",
        "print(\"Python version {}\".format(sys.version))\n",
        "print(\"PyTorch version {}\".format(torch.__version__))\n",
        "print(\"PyG version {}\".format(torch_geometric.__version__))"
      ]
    },
    {
      "cell_type": "code",
      "execution_count": 3,
      "metadata": {
        "colab": {
          "base_uri": "https://localhost:8080/"
        },
        "id": "P5DNRJPd9MZJ",
        "outputId": "35683db6-f13d-48b7-dd42-d6e09c477c0d"
      },
      "outputs": [
        {
          "output_type": "stream",
          "name": "stdout",
          "text": [
            "All seeds set.\n"
          ]
        }
      ],
      "source": [
        "# Set random seed for deterministic results\n",
        "\n",
        "def seed(seed=0):\n",
        "    random.seed(seed)\n",
        "    np.random.seed(seed)\n",
        "    torch.manual_seed(seed)\n",
        "    torch.cuda.manual_seed(seed)\n",
        "    torch.cuda.manual_seed_all(seed)\n",
        "    torch.backends.cudnn.deterministic = True\n",
        "    torch.backends.cudnn.benchmark = False\n",
        "\n",
        "seed(0)\n",
        "print(\"All seeds set.\")"
      ]
    },
    {
      "cell_type": "code",
      "execution_count": 4,
      "metadata": {
        "id": "zxqw7J1H9O3R"
      },
      "outputs": [],
      "source": [
        "# Download and load Cora dataset\n",
        "dataset = 'Cora'\n",
        "# transform = T.Compose([T.NormalizeFeatures(), T.GCNNorm(), T.ToSparseTensor()])\n",
        "dataset = Planetoid('/tmp/Cora', dataset)\n",
        "data = dataset[0]"
      ]
    },
    {
      "cell_type": "code",
      "execution_count": 5,
      "metadata": {
        "colab": {
          "base_uri": "https://localhost:8080/",
          "height": 717
        },
        "id": "tnJjzUQ1QSPR",
        "outputId": "54fd5daf-77a5-4413-f099-06f855200dfd"
      },
      "outputs": [
        {
          "output_type": "stream",
          "name": "stderr",
          "text": [
            "<ipython-input-5-449309cf93f5>:9: UserWarning: Sparse CSR tensor support is in beta state. If you miss a functionality in the sparse tensor support, please submit a feature request to https://github.com/pytorch/pytorch/issues. (Triggered internally at ../aten/src/ATen/SparseCsrTensorImpl.cpp:53.)\n",
            "  adj_norm = torch.sparse.mm(torch.sparse.mm(D_tilde_inv_sqrt, A_tilde), D_tilde_inv_sqrt) # degree-normalised adjacency\n"
          ]
        },
        {
          "output_type": "display_data",
          "data": {
            "text/plain": [
              "<Figure size 800x800 with 2 Axes>"
            ],
            "image/png": "[encoded data removed]"
          },
          "metadata": {}
        }
      ],
      "source": [
        "# adjacency matrices for Cora\n",
        "A = to_dense_adj(data.edge_index, max_num_nodes = data.x.shape[0])[0]\n",
        "A_tilde = A + torch.eye(A.shape[0])\n",
        "D_tilde = torch.diag(torch.sum(A_tilde, axis=1))\n",
        "D_tilde_inv_sqrt = torch.pow(D_tilde, -0.5)\n",
        "D_tilde_inv_sqrt[torch.isinf(D_tilde_inv_sqrt)] = 0.0\n",
        "A_tilde = A_tilde.to_sparse()\n",
        "D_tilde_inv_sqrt = D_tilde_inv_sqrt.to_sparse()\n",
        "adj_norm = torch.sparse.mm(torch.sparse.mm(D_tilde_inv_sqrt, A_tilde), D_tilde_inv_sqrt) # degree-normalised adjacency\n",
        "L = torch.eye(adj_norm.shape[0]) - adj_norm  # graph laplacian\n",
        "\n",
        "# # Eigenvectors with numpy\n",
        "# EigVal, EigVec = np.linalg.eig(L)\n",
        "# idx = EigVal.argsort() # sort in increasing order\n",
        "# EigVal, EigVec = EigVal[idx], np.real(EigVec[:,idx])\n",
        "\n",
        "plt.figure(figsize=(8, 8))\n",
        "sns.heatmap(adj_norm.to_dense().numpy(), cmap='viridis', square=True)\n",
        "plt.title('Adjacency Matrix Heatmap')\n",
        "plt.show()"
      ]
    },
    {
      "cell_type": "code",
      "execution_count": 6,
      "metadata": {
        "colab": {
          "base_uri": "https://localhost:8080/"
        },
        "id": "4miTxJel9o6x",
        "outputId": "d8df69ed-e5a2-4a9d-ee28-15e3e13ba2b1"
      },
      "outputs": [
        {
          "output_type": "stream",
          "name": "stdout",
          "text": [
            "Epoch: 0001, Loss: 1.9564 Train: 0.4143, Val: 0.1540, Test: 0.1650, Final Test: 0.1650\n",
            "Epoch: 0002, Loss: 1.8827 Train: 0.7071, Val: 0.2200, Test: 0.2460, Final Test: 0.2460\n",
            "Epoch: 0003, Loss: 1.8154 Train: 0.8929, Val: 0.2880, Test: 0.3280, Final Test: 0.3280\n",
            "Epoch: 0004, Loss: 1.7430 Train: 0.9214, Val: 0.3480, Test: 0.4090, Final Test: 0.4090\n",
            "Epoch: 0005, Loss: 1.6689 Train: 0.9571, Val: 0.4020, Test: 0.4590, Final Test: 0.4590\n",
            "Epoch: 0006, Loss: 1.5866 Train: 0.9857, Val: 0.4600, Test: 0.4970, Final Test: 0.4970\n",
            "Epoch: 0007, Loss: 1.5064 Train: 0.9929, Val: 0.4960, Test: 0.5360, Final Test: 0.5360\n",
            "Epoch: 0008, Loss: 1.4049 Train: 0.9929, Val: 0.5420, Test: 0.5630, Final Test: 0.5630\n",
            "Epoch: 0009, Loss: 1.3038 Train: 0.9929, Val: 0.5700, Test: 0.5910, Final Test: 0.5910\n",
            "Epoch: 0010, Loss: 1.2217 Train: 0.9929, Val: 0.6120, Test: 0.6130, Final Test: 0.6130\n",
            "Epoch: 0011, Loss: 1.0937 Train: 0.9929, Val: 0.6320, Test: 0.6360, Final Test: 0.6360\n",
            "Epoch: 0012, Loss: 0.9883 Train: 0.9929, Val: 0.6520, Test: 0.6480, Final Test: 0.6480\n",
            "Epoch: 0013, Loss: 0.8834 Train: 0.9929, Val: 0.6700, Test: 0.6600, Final Test: 0.6600\n",
            "Epoch: 0014, Loss: 0.7792 Train: 0.9929, Val: 0.6760, Test: 0.6750, Final Test: 0.6750\n",
            "Epoch: 0015, Loss: 0.6780 Train: 1.0000, Val: 0.6920, Test: 0.6910, Final Test: 0.6910\n",
            "Epoch: 0016, Loss: 0.5605 Train: 1.0000, Val: 0.7040, Test: 0.7120, Final Test: 0.7120\n",
            "Epoch: 0017, Loss: 0.4810 Train: 1.0000, Val: 0.7180, Test: 0.7220, Final Test: 0.7220\n",
            "Epoch: 0018, Loss: 0.3937 Train: 1.0000, Val: 0.7340, Test: 0.7340, Final Test: 0.7340\n",
            "Epoch: 0019, Loss: 0.3100 Train: 1.0000, Val: 0.7520, Test: 0.7470, Final Test: 0.7470\n",
            "Epoch: 0020, Loss: 0.2524 Train: 1.0000, Val: 0.7540, Test: 0.7580, Final Test: 0.7580\n",
            "Epoch: 0021, Loss: 0.2070 Train: 1.0000, Val: 0.7660, Test: 0.7600, Final Test: 0.7600\n",
            "Epoch: 0022, Loss: 0.1590 Train: 1.0000, Val: 0.7660, Test: 0.7670, Final Test: 0.7600\n",
            "Epoch: 0023, Loss: 0.1243 Train: 1.0000, Val: 0.7720, Test: 0.7700, Final Test: 0.7700\n",
            "Epoch: 0024, Loss: 0.1007 Train: 1.0000, Val: 0.7700, Test: 0.7730, Final Test: 0.7700\n",
            "Epoch: 0025, Loss: 0.0853 Train: 1.0000, Val: 0.7660, Test: 0.7720, Final Test: 0.7700\n",
            "Epoch: 0026, Loss: 0.0620 Train: 1.0000, Val: 0.7720, Test: 0.7780, Final Test: 0.7700\n",
            "Epoch: 0027, Loss: 0.0466 Train: 1.0000, Val: 0.7720, Test: 0.7780, Final Test: 0.7700\n",
            "Epoch: 0028, Loss: 0.0412 Train: 1.0000, Val: 0.7760, Test: 0.7760, Final Test: 0.7760\n",
            "Epoch: 0029, Loss: 0.0286 Train: 1.0000, Val: 0.7700, Test: 0.7790, Final Test: 0.7760\n",
            "Epoch: 0030, Loss: 0.0206 Train: 1.0000, Val: 0.7640, Test: 0.7780, Final Test: 0.7760\n",
            "Epoch: 0031, Loss: 0.0159 Train: 1.0000, Val: 0.7600, Test: 0.7760, Final Test: 0.7760\n",
            "Epoch: 0032, Loss: 0.0126 Train: 1.0000, Val: 0.7600, Test: 0.7740, Final Test: 0.7760\n",
            "Epoch: 0033, Loss: 0.0136 Train: 1.0000, Val: 0.7580, Test: 0.7710, Final Test: 0.7760\n",
            "Epoch: 0034, Loss: 0.0106 Train: 1.0000, Val: 0.7540, Test: 0.7720, Final Test: 0.7760\n",
            "Epoch: 0035, Loss: 0.0084 Train: 1.0000, Val: 0.7540, Test: 0.7740, Final Test: 0.7760\n",
            "Epoch: 0036, Loss: 0.0053 Train: 1.0000, Val: 0.7460, Test: 0.7770, Final Test: 0.7760\n",
            "Epoch: 0037, Loss: 0.0035 Train: 1.0000, Val: 0.7440, Test: 0.7780, Final Test: 0.7760\n",
            "Epoch: 0038, Loss: 0.0041 Train: 1.0000, Val: 0.7400, Test: 0.7810, Final Test: 0.7760\n",
            "Epoch: 0039, Loss: 0.0043 Train: 1.0000, Val: 0.7400, Test: 0.7770, Final Test: 0.7760\n",
            "Epoch: 0040, Loss: 0.0037 Train: 1.0000, Val: 0.7380, Test: 0.7750, Final Test: 0.7760\n",
            "Epoch: 0041, Loss: 0.0025 Train: 1.0000, Val: 0.7400, Test: 0.7740, Final Test: 0.7760\n",
            "Epoch: 0042, Loss: 0.0052 Train: 1.0000, Val: 0.7400, Test: 0.7740, Final Test: 0.7760\n",
            "Epoch: 0043, Loss: 0.0031 Train: 1.0000, Val: 0.7400, Test: 0.7750, Final Test: 0.7760\n",
            "Epoch: 0044, Loss: 0.0024 Train: 1.0000, Val: 0.7460, Test: 0.7730, Final Test: 0.7760\n",
            "Epoch: 0045, Loss: 0.0020 Train: 1.0000, Val: 0.7460, Test: 0.7700, Final Test: 0.7760\n",
            "Epoch: 0046, Loss: 0.0020 Train: 1.0000, Val: 0.7440, Test: 0.7680, Final Test: 0.7760\n",
            "Epoch: 0047, Loss: 0.0018 Train: 1.0000, Val: 0.7420, Test: 0.7690, Final Test: 0.7760\n",
            "Epoch: 0048, Loss: 0.0044 Train: 1.0000, Val: 0.7420, Test: 0.7690, Final Test: 0.7760\n",
            "Epoch: 0049, Loss: 0.0024 Train: 1.0000, Val: 0.7380, Test: 0.7690, Final Test: 0.7760\n",
            "Epoch: 0050, Loss: 0.0024 Train: 1.0000, Val: 0.7380, Test: 0.7670, Final Test: 0.7760\n",
            "Epoch: 0051, Loss: 0.0007 Train: 1.0000, Val: 0.7360, Test: 0.7670, Final Test: 0.7760\n",
            "Epoch: 0052, Loss: 0.0014 Train: 1.0000, Val: 0.7380, Test: 0.7660, Final Test: 0.7760\n",
            "Epoch: 0053, Loss: 0.0017 Train: 1.0000, Val: 0.7380, Test: 0.7640, Final Test: 0.7760\n",
            "Epoch: 0054, Loss: 0.0017 Train: 1.0000, Val: 0.7400, Test: 0.7640, Final Test: 0.7760\n",
            "Epoch: 0055, Loss: 0.0006 Train: 1.0000, Val: 0.7400, Test: 0.7650, Final Test: 0.7760\n",
            "Epoch: 0056, Loss: 0.0009 Train: 1.0000, Val: 0.7420, Test: 0.7660, Final Test: 0.7760\n",
            "Epoch: 0057, Loss: 0.0007 Train: 1.0000, Val: 0.7420, Test: 0.7680, Final Test: 0.7760\n",
            "Epoch: 0058, Loss: 0.0010 Train: 1.0000, Val: 0.7440, Test: 0.7660, Final Test: 0.7760\n",
            "Epoch: 0059, Loss: 0.0015 Train: 1.0000, Val: 0.7440, Test: 0.7660, Final Test: 0.7760\n",
            "Epoch: 0060, Loss: 0.0008 Train: 1.0000, Val: 0.7440, Test: 0.7660, Final Test: 0.7760\n",
            "Epoch: 0061, Loss: 0.0008 Train: 1.0000, Val: 0.7440, Test: 0.7630, Final Test: 0.7760\n",
            "Epoch: 0062, Loss: 0.0006 Train: 1.0000, Val: 0.7440, Test: 0.7630, Final Test: 0.7760\n",
            "Epoch: 0063, Loss: 0.0006 Train: 1.0000, Val: 0.7440, Test: 0.7630, Final Test: 0.7760\n",
            "Epoch: 0064, Loss: 0.0006 Train: 1.0000, Val: 0.7460, Test: 0.7620, Final Test: 0.7760\n",
            "Epoch: 0065, Loss: 0.0010 Train: 1.0000, Val: 0.7460, Test: 0.7620, Final Test: 0.7760\n",
            "Epoch: 0066, Loss: 0.0007 Train: 1.0000, Val: 0.7440, Test: 0.7640, Final Test: 0.7760\n",
            "Epoch: 0067, Loss: 0.0014 Train: 1.0000, Val: 0.7460, Test: 0.7670, Final Test: 0.7760\n",
            "Epoch: 0068, Loss: 0.0008 Train: 1.0000, Val: 0.7480, Test: 0.7700, Final Test: 0.7760\n",
            "Epoch: 0069, Loss: 0.0008 Train: 1.0000, Val: 0.7460, Test: 0.7700, Final Test: 0.7760\n",
            "Epoch: 0070, Loss: 0.0005 Train: 1.0000, Val: 0.7440, Test: 0.7700, Final Test: 0.7760\n",
            "Epoch: 0071, Loss: 0.0003 Train: 1.0000, Val: 0.7460, Test: 0.7700, Final Test: 0.7760\n",
            "Epoch: 0072, Loss: 0.0013 Train: 1.0000, Val: 0.7460, Test: 0.7700, Final Test: 0.7760\n",
            "Epoch: 0073, Loss: 0.0010 Train: 1.0000, Val: 0.7440, Test: 0.7710, Final Test: 0.7760\n",
            "Epoch: 0074, Loss: 0.0008 Train: 1.0000, Val: 0.7420, Test: 0.7710, Final Test: 0.7760\n",
            "Epoch: 0075, Loss: 0.0005 Train: 1.0000, Val: 0.7420, Test: 0.7720, Final Test: 0.7760\n",
            "Epoch: 0076, Loss: 0.0007 Train: 1.0000, Val: 0.7440, Test: 0.7740, Final Test: 0.7760\n",
            "Epoch: 0077, Loss: 0.0007 Train: 1.0000, Val: 0.7440, Test: 0.7730, Final Test: 0.7760\n",
            "Epoch: 0078, Loss: 0.0004 Train: 1.0000, Val: 0.7420, Test: 0.7730, Final Test: 0.7760\n",
            "Epoch: 0079, Loss: 0.0006 Train: 1.0000, Val: 0.7440, Test: 0.7720, Final Test: 0.7760\n",
            "Epoch: 0080, Loss: 0.0005 Train: 1.0000, Val: 0.7440, Test: 0.7710, Final Test: 0.7760\n",
            "Epoch: 0081, Loss: 0.0008 Train: 1.0000, Val: 0.7420, Test: 0.7700, Final Test: 0.7760\n",
            "Epoch: 0082, Loss: 0.0005 Train: 1.0000, Val: 0.7420, Test: 0.7730, Final Test: 0.7760\n",
            "Epoch: 0083, Loss: 0.0011 Train: 1.0000, Val: 0.7420, Test: 0.7720, Final Test: 0.7760\n",
            "Epoch: 0084, Loss: 0.0002 Train: 1.0000, Val: 0.7420, Test: 0.7710, Final Test: 0.7760\n",
            "Epoch: 0085, Loss: 0.0004 Train: 1.0000, Val: 0.7400, Test: 0.7710, Final Test: 0.7760\n",
            "Epoch: 0086, Loss: 0.0005 Train: 1.0000, Val: 0.7400, Test: 0.7700, Final Test: 0.7760\n",
            "Epoch: 0087, Loss: 0.0004 Train: 1.0000, Val: 0.7400, Test: 0.7700, Final Test: 0.7760\n",
            "Epoch: 0088, Loss: 0.0003 Train: 1.0000, Val: 0.7400, Test: 0.7700, Final Test: 0.7760\n",
            "Epoch: 0089, Loss: 0.0004 Train: 1.0000, Val: 0.7400, Test: 0.7700, Final Test: 0.7760\n",
            "Epoch: 0090, Loss: 0.0003 Train: 1.0000, Val: 0.7400, Test: 0.7700, Final Test: 0.7760\n",
            "Epoch: 0091, Loss: 0.0004 Train: 1.0000, Val: 0.7400, Test: 0.7700, Final Test: 0.7760\n",
            "Epoch: 0092, Loss: 0.0002 Train: 1.0000, Val: 0.7400, Test: 0.7710, Final Test: 0.7760\n",
            "Epoch: 0093, Loss: 0.0004 Train: 1.0000, Val: 0.7400, Test: 0.7720, Final Test: 0.7760\n",
            "Epoch: 0094, Loss: 0.0003 Train: 1.0000, Val: 0.7400, Test: 0.7720, Final Test: 0.7760\n",
            "Epoch: 0095, Loss: 0.0003 Train: 1.0000, Val: 0.7400, Test: 0.7710, Final Test: 0.7760\n",
            "Epoch: 0096, Loss: 0.0005 Train: 1.0000, Val: 0.7400, Test: 0.7710, Final Test: 0.7760\n",
            "Epoch: 0097, Loss: 0.0002 Train: 1.0000, Val: 0.7400, Test: 0.7720, Final Test: 0.7760\n",
            "Epoch: 0098, Loss: 0.0003 Train: 1.0000, Val: 0.7400, Test: 0.7730, Final Test: 0.7760\n",
            "Epoch: 0099, Loss: 0.0005 Train: 1.0000, Val: 0.7400, Test: 0.7720, Final Test: 0.7760\n",
            "Median time per epoch: 0.0340s\n"
          ]
        }
      ],
      "source": [
        "# PyG example code: https://github.com/pyg-team/pytorch_geometric/blob/master/examples/gcn2_cora.py\n",
        "\n",
        "class GNNModel(Module):\n",
        "\n",
        "    def __init__(\n",
        "            self,\n",
        "            in_dim: int = dataset.num_features,\n",
        "            hidden_dim: int = 128,\n",
        "            num_heads: int = 1,\n",
        "            num_layers: int = 3,\n",
        "            out_dim: int = dataset.num_classes,\n",
        "            dropout: float = 0.5,\n",
        "        ):\n",
        "        super().__init__()\n",
        "\n",
        "        self.lin_in = Linear(in_dim, hidden_dim)\n",
        "        self.lin_out = Linear(hidden_dim, out_dim)\n",
        "\n",
        "        self.layers = ModuleList()\n",
        "        for layer in range(num_layers):\n",
        "            self.layers.append(\n",
        "                # GCNConv(hidden_dim, hidden_dim)\n",
        "                GATConv(hidden_dim, hidden_dim // num_heads, num_heads)\n",
        "            )\n",
        "        self.dropout = dropout\n",
        "\n",
        "    def forward(self, x, edge_index):\n",
        "\n",
        "        x = self.lin_in(x)\n",
        "\n",
        "        for layer in self.layers:\n",
        "            # conv -> activation ->  dropout -> residual\n",
        "            x_in = x\n",
        "            x = layer(x, edge_index)\n",
        "            x = F.relu(x)\n",
        "            x = F.dropout(x, self.dropout, training=self.training)\n",
        "            x = x_in + x\n",
        "\n",
        "        x = self.lin_out(x)\n",
        "\n",
        "        return x.log_softmax(dim=-1)\n",
        "\n",
        "\n",
        "device = torch.device('cuda' if torch.cuda.is_available() else 'cpu')\n",
        "\n",
        "model = GNNModel().to(device)\n",
        "\n",
        "data = data.to(device)\n",
        "\n",
        "optimizer = torch.optim.Adam(model.parameters(), lr=0.001)\n",
        "\n",
        "\n",
        "def train():\n",
        "    model.train()\n",
        "    optimizer.zero_grad()\n",
        "    out = model(data.x, data.edge_index)\n",
        "    loss = F.nll_loss(out[data.train_mask], data.y[data.train_mask])\n",
        "    loss.backward()\n",
        "    optimizer.step()\n",
        "    return float(loss)\n",
        "\n",
        "\n",
        "@torch.no_grad()\n",
        "def test():\n",
        "    model.eval()\n",
        "    pred, accs = model(data.x, data.edge_index).argmax(dim=-1), []\n",
        "    for _, mask in data('train_mask', 'val_mask', 'test_mask'):\n",
        "        accs.append(int((pred[mask] == data.y[mask]).sum()) / int(mask.sum()))\n",
        "    return accs\n",
        "\n",
        "\n",
        "best_val_acc = test_acc = 0\n",
        "times = []\n",
        "for epoch in range(1, 100):\n",
        "    start = time.time()\n",
        "    loss = train()\n",
        "    train_acc, val_acc, tmp_test_acc = test()\n",
        "    if val_acc > best_val_acc:\n",
        "        best_val_acc = val_acc\n",
        "        test_acc = tmp_test_acc\n",
        "    print(f'Epoch: {epoch:04d}, Loss: {loss:.4f} Train: {train_acc:.4f}, '\n",
        "          f'Val: {val_acc:.4f}, Test: {tmp_test_acc:.4f}, '\n",
        "          f'Final Test: {test_acc:.4f}')\n",
        "    times.append(time.time() - start)\n",
        "print(f\"Median time per epoch: {torch.tensor(times).median():.4f}s\")"
      ]
    },
    {
      "cell_type": "code",
      "execution_count": 11,
      "metadata": {
        "id": "-4fYeDvx903m",
        "colab": {
          "base_uri": "https://localhost:8080/"
        },
        "outputId": "c76bea44-717a-4b97-dad7-cf43b4d8d3f2"
      },
      "outputs": [
        {
          "output_type": "stream",
          "name": "stdout",
          "text": [
            "Epoch: 0001, Loss: 1.9455 Train: 0.4071, Val: 0.1700, Test: 0.1700, Final Test: 0.1700\n",
            "Epoch: 0002, Loss: 1.8863 Train: 0.7786, Val: 0.2460, Test: 0.2360, Final Test: 0.2360\n",
            "Epoch: 0003, Loss: 1.8281 Train: 0.9500, Val: 0.3100, Test: 0.3310, Final Test: 0.3310\n",
            "Epoch: 0004, Loss: 1.7691 Train: 0.9786, Val: 0.4040, Test: 0.4160, Final Test: 0.4160\n",
            "Epoch: 0005, Loss: 1.7044 Train: 0.9857, Val: 0.4600, Test: 0.4870, Final Test: 0.4870\n",
            "Epoch: 0006, Loss: 1.6397 Train: 0.9857, Val: 0.5060, Test: 0.5440, Final Test: 0.5440\n",
            "Epoch: 0007, Loss: 1.5733 Train: 1.0000, Val: 0.5720, Test: 0.5900, Final Test: 0.5900\n",
            "Epoch: 0008, Loss: 1.4883 Train: 1.0000, Val: 0.6000, Test: 0.6380, Final Test: 0.6380\n",
            "Epoch: 0009, Loss: 1.4136 Train: 1.0000, Val: 0.6340, Test: 0.6750, Final Test: 0.6750\n",
            "Epoch: 0010, Loss: 1.3257 Train: 1.0000, Val: 0.6640, Test: 0.7000, Final Test: 0.7000\n",
            "Epoch: 0011, Loss: 1.2481 Train: 1.0000, Val: 0.6900, Test: 0.7220, Final Test: 0.7220\n",
            "Epoch: 0012, Loss: 1.1285 Train: 1.0000, Val: 0.7080, Test: 0.7280, Final Test: 0.7280\n",
            "Epoch: 0013, Loss: 1.0394 Train: 1.0000, Val: 0.7200, Test: 0.7490, Final Test: 0.7490\n",
            "Epoch: 0014, Loss: 0.9433 Train: 0.9929, Val: 0.7400, Test: 0.7570, Final Test: 0.7570\n",
            "Epoch: 0015, Loss: 0.7968 Train: 0.9929, Val: 0.7460, Test: 0.7630, Final Test: 0.7630\n",
            "Epoch: 0016, Loss: 0.7469 Train: 0.9929, Val: 0.7500, Test: 0.7710, Final Test: 0.7710\n",
            "Epoch: 0017, Loss: 0.6135 Train: 0.9929, Val: 0.7600, Test: 0.7750, Final Test: 0.7750\n",
            "Epoch: 0018, Loss: 0.5060 Train: 0.9929, Val: 0.7680, Test: 0.7850, Final Test: 0.7850\n",
            "Epoch: 0019, Loss: 0.4006 Train: 0.9929, Val: 0.7700, Test: 0.7950, Final Test: 0.7950\n",
            "Epoch: 0020, Loss: 0.3077 Train: 0.9929, Val: 0.7800, Test: 0.7900, Final Test: 0.7900\n",
            "Epoch: 0021, Loss: 0.2476 Train: 1.0000, Val: 0.7720, Test: 0.7920, Final Test: 0.7900\n",
            "Epoch: 0022, Loss: 0.1818 Train: 1.0000, Val: 0.7740, Test: 0.7920, Final Test: 0.7900\n",
            "Epoch: 0023, Loss: 0.1613 Train: 1.0000, Val: 0.7760, Test: 0.7910, Final Test: 0.7900\n",
            "Epoch: 0024, Loss: 0.1331 Train: 1.0000, Val: 0.7760, Test: 0.7940, Final Test: 0.7900\n",
            "Epoch: 0025, Loss: 0.0966 Train: 1.0000, Val: 0.7820, Test: 0.7960, Final Test: 0.7960\n",
            "Epoch: 0026, Loss: 0.1143 Train: 1.0000, Val: 0.7880, Test: 0.8010, Final Test: 0.8010\n",
            "Epoch: 0027, Loss: 0.0646 Train: 1.0000, Val: 0.7860, Test: 0.8050, Final Test: 0.8010\n",
            "Epoch: 0028, Loss: 0.0850 Train: 1.0000, Val: 0.7920, Test: 0.7990, Final Test: 0.7990\n",
            "Epoch: 0029, Loss: 0.0624 Train: 1.0000, Val: 0.7780, Test: 0.7900, Final Test: 0.7990\n",
            "Epoch: 0030, Loss: 0.0513 Train: 1.0000, Val: 0.7800, Test: 0.7890, Final Test: 0.7990\n",
            "Epoch: 0031, Loss: 0.0450 Train: 1.0000, Val: 0.7800, Test: 0.7890, Final Test: 0.7990\n",
            "Epoch: 0032, Loss: 0.0891 Train: 1.0000, Val: 0.7840, Test: 0.7900, Final Test: 0.7990\n",
            "Epoch: 0033, Loss: 0.0656 Train: 1.0000, Val: 0.7900, Test: 0.7950, Final Test: 0.7990\n",
            "Epoch: 0034, Loss: 0.0439 Train: 1.0000, Val: 0.7860, Test: 0.7950, Final Test: 0.7990\n",
            "Epoch: 0035, Loss: 0.0394 Train: 1.0000, Val: 0.7740, Test: 0.7830, Final Test: 0.7990\n",
            "Epoch: 0036, Loss: 0.0549 Train: 1.0000, Val: 0.7680, Test: 0.7770, Final Test: 0.7990\n",
            "Epoch: 0037, Loss: 0.0165 Train: 0.9929, Val: 0.7620, Test: 0.7620, Final Test: 0.7990\n",
            "Epoch: 0038, Loss: 0.1646 Train: 1.0000, Val: 0.7600, Test: 0.7690, Final Test: 0.7990\n",
            "Epoch: 0039, Loss: 0.0348 Train: 1.0000, Val: 0.7620, Test: 0.7720, Final Test: 0.7990\n",
            "Epoch: 0040, Loss: 0.0241 Train: 1.0000, Val: 0.7540, Test: 0.7680, Final Test: 0.7990\n",
            "Epoch: 0041, Loss: 0.0334 Train: 1.0000, Val: 0.7440, Test: 0.7630, Final Test: 0.7990\n",
            "Epoch: 0042, Loss: 0.0307 Train: 1.0000, Val: 0.7380, Test: 0.7630, Final Test: 0.7990\n",
            "Epoch: 0043, Loss: 0.0240 Train: 1.0000, Val: 0.7320, Test: 0.7620, Final Test: 0.7990\n",
            "Epoch: 0044, Loss: 0.0201 Train: 1.0000, Val: 0.7280, Test: 0.7600, Final Test: 0.7990\n",
            "Epoch: 0045, Loss: 0.0500 Train: 1.0000, Val: 0.7320, Test: 0.7670, Final Test: 0.7990\n",
            "Epoch: 0046, Loss: 0.0255 Train: 1.0000, Val: 0.7400, Test: 0.7750, Final Test: 0.7990\n",
            "Epoch: 0047, Loss: 0.0225 Train: 1.0000, Val: 0.7460, Test: 0.7710, Final Test: 0.7990\n",
            "Epoch: 0048, Loss: 0.1207 Train: 1.0000, Val: 0.7240, Test: 0.7660, Final Test: 0.7990\n",
            "Epoch: 0049, Loss: 0.0303 Train: 1.0000, Val: 0.7260, Test: 0.7610, Final Test: 0.7990\n",
            "Epoch: 0050, Loss: 0.0132 Train: 1.0000, Val: 0.7280, Test: 0.7490, Final Test: 0.7990\n",
            "Epoch: 0051, Loss: 0.0716 Train: 1.0000, Val: 0.7320, Test: 0.7480, Final Test: 0.7990\n",
            "Epoch: 0052, Loss: 0.0256 Train: 1.0000, Val: 0.7380, Test: 0.7420, Final Test: 0.7990\n",
            "Epoch: 0053, Loss: 0.0377 Train: 1.0000, Val: 0.7340, Test: 0.7390, Final Test: 0.7990\n",
            "Epoch: 0054, Loss: 0.0307 Train: 1.0000, Val: 0.7280, Test: 0.7380, Final Test: 0.7990\n",
            "Epoch: 0055, Loss: 0.0554 Train: 1.0000, Val: 0.7360, Test: 0.7420, Final Test: 0.7990\n",
            "Epoch: 0056, Loss: 0.0195 Train: 1.0000, Val: 0.7400, Test: 0.7480, Final Test: 0.7990\n",
            "Epoch: 0057, Loss: 0.0313 Train: 1.0000, Val: 0.7480, Test: 0.7490, Final Test: 0.7990\n",
            "Epoch: 0058, Loss: 0.0226 Train: 1.0000, Val: 0.7480, Test: 0.7570, Final Test: 0.7990\n",
            "Epoch: 0059, Loss: 0.0193 Train: 1.0000, Val: 0.7500, Test: 0.7660, Final Test: 0.7990\n",
            "Epoch: 0060, Loss: 0.0134 Train: 1.0000, Val: 0.7500, Test: 0.7700, Final Test: 0.7990\n",
            "Epoch: 0061, Loss: 0.0208 Train: 1.0000, Val: 0.7480, Test: 0.7740, Final Test: 0.7990\n",
            "Epoch: 0062, Loss: 0.0343 Train: 1.0000, Val: 0.7460, Test: 0.7760, Final Test: 0.7990\n",
            "Epoch: 0063, Loss: 0.0220 Train: 1.0000, Val: 0.7420, Test: 0.7800, Final Test: 0.7990\n",
            "Epoch: 0064, Loss: 0.0249 Train: 1.0000, Val: 0.7440, Test: 0.7780, Final Test: 0.7990\n",
            "Epoch: 0065, Loss: 0.0157 Train: 1.0000, Val: 0.7440, Test: 0.7800, Final Test: 0.7990\n",
            "Epoch: 0066, Loss: 0.0163 Train: 1.0000, Val: 0.7480, Test: 0.7830, Final Test: 0.7990\n",
            "Epoch: 0067, Loss: 0.0069 Train: 1.0000, Val: 0.7480, Test: 0.7830, Final Test: 0.7990\n",
            "Epoch: 0068, Loss: 0.0197 Train: 1.0000, Val: 0.7520, Test: 0.7840, Final Test: 0.7990\n",
            "Epoch: 0069, Loss: 0.0096 Train: 1.0000, Val: 0.7540, Test: 0.7850, Final Test: 0.7990\n",
            "Epoch: 0070, Loss: 0.0243 Train: 1.0000, Val: 0.7600, Test: 0.7840, Final Test: 0.7990\n",
            "Epoch: 0071, Loss: 0.0133 Train: 1.0000, Val: 0.7600, Test: 0.7860, Final Test: 0.7990\n",
            "Epoch: 0072, Loss: 0.0287 Train: 1.0000, Val: 0.7600, Test: 0.7860, Final Test: 0.7990\n",
            "Epoch: 0073, Loss: 0.0222 Train: 1.0000, Val: 0.7640, Test: 0.7860, Final Test: 0.7990\n",
            "Epoch: 0074, Loss: 0.0379 Train: 1.0000, Val: 0.7660, Test: 0.7870, Final Test: 0.7990\n",
            "Epoch: 0075, Loss: 0.0269 Train: 1.0000, Val: 0.7640, Test: 0.7850, Final Test: 0.7990\n",
            "Epoch: 0076, Loss: 0.0322 Train: 1.0000, Val: 0.7640, Test: 0.7850, Final Test: 0.7990\n",
            "Epoch: 0077, Loss: 0.0206 Train: 1.0000, Val: 0.7660, Test: 0.7880, Final Test: 0.7990\n",
            "Epoch: 0078, Loss: 0.0125 Train: 1.0000, Val: 0.7660, Test: 0.7880, Final Test: 0.7990\n",
            "Epoch: 0079, Loss: 0.0121 Train: 1.0000, Val: 0.7660, Test: 0.7890, Final Test: 0.7990\n",
            "Epoch: 0080, Loss: 0.0217 Train: 1.0000, Val: 0.7660, Test: 0.7890, Final Test: 0.7990\n",
            "Epoch: 0081, Loss: 0.0483 Train: 1.0000, Val: 0.7660, Test: 0.7860, Final Test: 0.7990\n",
            "Epoch: 0082, Loss: 0.0132 Train: 1.0000, Val: 0.7680, Test: 0.7840, Final Test: 0.7990\n",
            "Epoch: 0083, Loss: 0.0187 Train: 1.0000, Val: 0.7680, Test: 0.7800, Final Test: 0.7990\n",
            "Epoch: 0084, Loss: 0.0156 Train: 1.0000, Val: 0.7620, Test: 0.7810, Final Test: 0.7990\n",
            "Epoch: 0085, Loss: 0.0072 Train: 1.0000, Val: 0.7600, Test: 0.7790, Final Test: 0.7990\n",
            "Epoch: 0086, Loss: 0.0202 Train: 1.0000, Val: 0.7560, Test: 0.7750, Final Test: 0.7990\n",
            "Epoch: 0087, Loss: 0.0164 Train: 1.0000, Val: 0.7540, Test: 0.7750, Final Test: 0.7990\n",
            "Epoch: 0088, Loss: 0.0137 Train: 1.0000, Val: 0.7520, Test: 0.7720, Final Test: 0.7990\n",
            "Epoch: 0089, Loss: 0.0161 Train: 1.0000, Val: 0.7440, Test: 0.7700, Final Test: 0.7990\n",
            "Epoch: 0090, Loss: 0.0212 Train: 1.0000, Val: 0.7400, Test: 0.7680, Final Test: 0.7990\n",
            "Epoch: 0091, Loss: 0.0202 Train: 1.0000, Val: 0.7400, Test: 0.7680, Final Test: 0.7990\n",
            "Epoch: 0092, Loss: 0.0114 Train: 1.0000, Val: 0.7380, Test: 0.7640, Final Test: 0.7990\n",
            "Epoch: 0093, Loss: 0.0113 Train: 1.0000, Val: 0.7400, Test: 0.7640, Final Test: 0.7990\n",
            "Epoch: 0094, Loss: 0.0101 Train: 1.0000, Val: 0.7400, Test: 0.7640, Final Test: 0.7990\n",
            "Epoch: 0095, Loss: 0.0205 Train: 1.0000, Val: 0.7400, Test: 0.7630, Final Test: 0.7990\n",
            "Epoch: 0096, Loss: 0.0060 Train: 1.0000, Val: 0.7380, Test: 0.7640, Final Test: 0.7990\n",
            "Epoch: 0097, Loss: 0.0123 Train: 1.0000, Val: 0.7380, Test: 0.7630, Final Test: 0.7990\n",
            "Epoch: 0098, Loss: 0.0143 Train: 1.0000, Val: 0.7380, Test: 0.7620, Final Test: 0.7990\n",
            "Epoch: 0099, Loss: 0.0087 Train: 1.0000, Val: 0.7360, Test: 0.7630, Final Test: 0.7990\n",
            "Median time per epoch: 0.0286s\n"
          ]
        }
      ],
      "source": [
        "ATTENTION_LIST = []\n",
        "class SparseGraphTransformerModel(Module):\n",
        "\n",
        "    def __init__(\n",
        "            self,\n",
        "            in_dim: int = dataset.num_features,\n",
        "            hidden_dim: int = 128,\n",
        "            num_heads: int = 1,\n",
        "            num_layers: int = 3,\n",
        "            out_dim: int = dataset.num_classes,\n",
        "            dropout: float = 0.5,\n",
        "        ):\n",
        "        super().__init__()\n",
        "\n",
        "        self.lin_in = Linear(in_dim, hidden_dim)\n",
        "        self.lin_out = Linear(hidden_dim, out_dim)\n",
        "\n",
        "        self.layers = ModuleList()\n",
        "        for layer in range(num_layers):\n",
        "            self.layers.append(\n",
        "                # TransformerEncoderLayer(\n",
        "                #     d_model = hidden_dim,\n",
        "                #     nhead = num_heads,\n",
        "                #     dim_feedforward = hidden_dim * 2,\n",
        "                #     dropout = dropout,\n",
        "                # )\n",
        "                MultiheadAttention(\n",
        "                    embed_dim = hidden_dim,\n",
        "                    num_heads = num_heads,\n",
        "                    dropout = dropout\n",
        "                )\n",
        "            )\n",
        "        # self.encoder = TransformerEncoder(\n",
        "        #     TransformerEncoderLayer(\n",
        "        #         d_model = hidden_dim,\n",
        "        #         nhead = num_heads,\n",
        "        #         dim_feedforward = hidden_dim * 2,\n",
        "        #         dropout = dropout,\n",
        "        #     ),\n",
        "        #     num_layers\n",
        "        # )\n",
        "\n",
        "        self.dropout = dropout\n",
        "\n",
        "    def forward(self, x, dense_adj):\n",
        "\n",
        "        x = self.lin_in(x)\n",
        "\n",
        "        # TransformerEncoder\n",
        "        # x = self.encoder(x, mask = ~dense_adj.bool())\n",
        "\n",
        "\n",
        "        for layer in self.layers:\n",
        "            # # TransformerEncoderLayer\n",
        "            # # boolean mask enforces graph structure\n",
        "            # x = layer(x, src_mask = ~dense_adj.bool())\n",
        "\n",
        "            # MHSA layer\n",
        "            # boolean mask enforces graph structure\n",
        "            x_in = x\n",
        "            x, attn_weights = layer(\n",
        "                x, x, x,\n",
        "                attn_mask = ~dense_adj.bool(),\n",
        "                average_attn_weights = False\n",
        "            )\n",
        "            x = F.relu(x)\n",
        "            x = F.dropout(x, self.dropout, training=self.training)\n",
        "            x = x_in + x\n",
        "            if epoch == 99:\n",
        "              ATTENTION_LIST.append(attn_weights)\n",
        "        x = self.lin_out(x)\n",
        "        return x.log_softmax(dim=-1)\n",
        "\n",
        "\n",
        "device = torch.device('cuda' if torch.cuda.is_available() else 'cpu')\n",
        "\n",
        "model = SparseGraphTransformerModel().to(device)\n",
        "\n",
        "data.dense_adj = to_dense_adj(data.edge_index, max_num_nodes = data.x.shape[0])[0]\n",
        "data = data.to(device)\n",
        "\n",
        "optimizer = torch.optim.Adam(model.parameters(), lr=0.001)\n",
        "\n",
        "\n",
        "def train():\n",
        "    model.train()\n",
        "    optimizer.zero_grad()\n",
        "    out = model(data.x, data.dense_adj)\n",
        "    loss = F.nll_loss(out[data.train_mask], data.y[data.train_mask])\n",
        "    loss.backward()\n",
        "    optimizer.step()\n",
        "    return float(loss)\n",
        "\n",
        "\n",
        "@torch.no_grad()\n",
        "def test():\n",
        "    model.eval()\n",
        "    pred, accs = model(data.x, data.dense_adj).argmax(dim=-1), []\n",
        "    for _, mask in data('train_mask', 'val_mask', 'test_mask'):\n",
        "        accs.append(int((pred[mask] == data.y[mask]).sum()) / int(mask.sum()))\n",
        "    return accs\n",
        "\n",
        "\n",
        "best_val_acc = test_acc = 0\n",
        "times = []\n",
        "for epoch in range(1, 100):\n",
        "    start = time.time()\n",
        "    loss = train()\n",
        "    train_acc, val_acc, tmp_test_acc = test()\n",
        "    if val_acc > best_val_acc:\n",
        "        best_val_acc = val_acc\n",
        "        test_acc = tmp_test_acc\n",
        "    print(f'Epoch: {epoch:04d}, Loss: {loss:.4f} Train: {train_acc:.4f}, '\n",
        "          f'Val: {val_acc:.4f}, Test: {tmp_test_acc:.4f}, '\n",
        "          f'Final Test: {test_acc:.4f}')\n",
        "    times.append(time.time() - start)\n",
        "print(f\"Median time per epoch: {torch.tensor(times).median():.4f}s\")"
      ]
    },
    {
      "cell_type": "code",
      "source": [
        "ATTENTION_MATRIX = ATTENTION_LIST[0].detach().cpu().numpy().squeeze()\n",
        "ADJACENCY = data.dense_adj.cpu().numpy()\n",
        "ATTENTION_MATRIX.shape, ADJACENCY.shape"
      ],
      "metadata": {
        "colab": {
          "base_uri": "https://localhost:8080/"
        },
        "id": "EEEuoEeGBNLj",
        "outputId": "5041d45a-a934-4ebc-b3af-650f3228f58f"
      },
      "execution_count": 104,
      "outputs": [
        {
          "output_type": "execute_result",
          "data": {
            "text/plain": [
              "((2708, 2708), (2708, 2708))"
            ]
          },
          "metadata": {},
          "execution_count": 104
        }
      ]
    },
    {
      "cell_type": "code",
      "source": [
        "ATTENTION_MATRIX.sum(axis=0), ATTENTION_MATRIX.sum(axis=1)"
      ],
      "metadata": {
        "colab": {
          "base_uri": "https://localhost:8080/"
        },
        "id": "4ephGAEzI9q0",
        "outputId": "42cb6f19-4246-4a0f-c1d3-bf32cab6dd9b"
      },
      "execution_count": 100,
      "outputs": [
        {
          "output_type": "execute_result",
          "data": {
            "text/plain": [
              "(array([1.207743 , 0.       , 2.6072464, ..., 0.       , 2.018168 ,\n",
              "        1.4597691], dtype=float32),\n",
              " array([1.9999999, 1.429992 , 1.1478934, ..., 0.       , 2.       ,\n",
              "        1.5186529], dtype=float32))"
            ]
          },
          "metadata": {},
          "execution_count": 100
        }
      ]
    },
    {
      "cell_type": "code",
      "source": [
        "(ADJACENCY.sum(axis=0) != ADJACENCY.sum(axis=1)).sum()"
      ],
      "metadata": {
        "colab": {
          "base_uri": "https://localhost:8080/"
        },
        "id": "1Oi5DdeTJBbo",
        "outputId": "d0a850e1-7ffa-44db-de45-16acea7524fe"
      },
      "execution_count": 92,
      "outputs": [
        {
          "output_type": "execute_result",
          "data": {
            "text/plain": [
              "0"
            ]
          },
          "metadata": {},
          "execution_count": 92
        }
      ]
    },
    {
      "cell_type": "code",
      "source": [
        "# (ADJACENCY -ATTENTION_MATRIX).sum(axis=0).sum()\n",
        "# plt.figure(figsize=(8, 8))\n",
        "# sns.heatmap(ADJACENCY, cmap='viridis', square=True)\n",
        "# plt.title('ADJACENCY')\n",
        "# plt.show()"
      ],
      "metadata": {
        "id": "xcsnenTCDHZw"
      },
      "execution_count": 74,
      "outputs": []
    },
    {
      "cell_type": "code",
      "source": [
        "treshold = 0\n",
        "ATTENTION_MATRIX[ ATTENTION_MATRIX > treshold] = 1\n",
        "ATTENTION_MATRIX[ ATTENTION_MATRIX < treshold] = 0\n",
        "ATTENTION_MATRIX.sum()"
      ],
      "metadata": {
        "colab": {
          "base_uri": "https://localhost:8080/"
        },
        "id": "5m7RMw6bIQkb",
        "outputId": "67325f18-8c23-4d89-e696-bdebd41f5e4e"
      },
      "execution_count": 105,
      "outputs": [
        {
          "output_type": "execute_result",
          "data": {
            "text/plain": [
              "5245.0"
            ]
          },
          "metadata": {},
          "execution_count": 105
        }
      ]
    },
    {
      "cell_type": "code",
      "source": [
        "treshold = 0.5\n",
        "ATTENTION_MATRIX[ ATTENTION_MATRIX >= treshold] = 1\n",
        "ATTENTION_MATRIX[ ATTENTION_MATRIX < treshold] = 0\n",
        "ATTENTION_MATRIX.sum()"
      ],
      "metadata": {
        "colab": {
          "base_uri": "https://localhost:8080/"
        },
        "id": "GI02y2CPEWnr",
        "outputId": "e04ece4d-d24c-424c-e209-1c4e0e7a76d8"
      },
      "execution_count": 102,
      "outputs": [
        {
          "output_type": "execute_result",
          "data": {
            "text/plain": [
              "2021.0"
            ]
          },
          "metadata": {},
          "execution_count": 102
        }
      ]
    },
    {
      "cell_type": "code",
      "source": [
        "pd.DataFrame(ATTENTION_MATRIX.sum(axis=1)).value_counts()"
      ],
      "metadata": {
        "colab": {
          "base_uri": "https://localhost:8080/"
        },
        "id": "_E3bljx9GjtE",
        "outputId": "4ef32911-95b9-4f9b-9ec6-78783c198337"
      },
      "execution_count": 106,
      "outputs": [
        {
          "output_type": "execute_result",
          "data": {
            "text/plain": [
              "1.0     899\n",
              "2.0     625\n",
              "0.0     511\n",
              "3.0     337\n",
              "4.0     169\n",
              "5.0      63\n",
              "6.0      33\n",
              "7.0      17\n",
              "9.0      14\n",
              "8.0       8\n",
              "10.0      7\n",
              "11.0      6\n",
              "15.0      4\n",
              "12.0      2\n",
              "14.0      2\n",
              "18.0      2\n",
              "13.0      1\n",
              "17.0      1\n",
              "19.0      1\n",
              "21.0      1\n",
              "23.0      1\n",
              "33.0      1\n",
              "35.0      1\n",
              "44.0      1\n",
              "98.0      1\n",
              "dtype: int64"
            ]
          },
          "metadata": {},
          "execution_count": 106
        }
      ]
    },
    {
      "cell_type": "code",
      "source": [
        "pd.DataFrame(ATTENTION_MATRIX.sum(axis=1))[pd.DataFrame(ATTENTION_MATRIX.sum(axis=1)) == 98.0].dropna()"
      ],
      "metadata": {
        "colab": {
          "base_uri": "https://localhost:8080/",
          "height": 81
        },
        "id": "E3WqN4sDIiTX",
        "outputId": "af4541c3-1af2-4de2-f027-2f261bbbdcdf"
      },
      "execution_count": 94,
      "outputs": [
        {
          "output_type": "execute_result",
          "data": {
            "text/plain": [
              "         0\n",
              "1358  98.0"
            ],
            "text/html": [
              "\n",
              "  <div id=\"df-d6528392-aa02-4331-a064-73cece37161e\" class=\"colab-df-container\">\n",
              "    <div>\n",
              "<style scoped>\n",
              "    .dataframe tbody tr th:only-of-type {\n",
              "        vertical-align: middle;\n",
              "    }\n",
              "\n",
              "    .dataframe tbody tr th {\n",
              "        vertical-align: top;\n",
              "    }\n",
              "\n",
              "    .dataframe thead th {\n",
              "        text-align: right;\n",
              "    }\n",
              "</style>\n",
              "<table border=\"1\" class=\"dataframe\">\n",
              "  <thead>\n",
              "    <tr style=\"text-align: right;\">\n",
              "      <th></th>\n",
              "      <th>0</th>\n",
              "    </tr>\n",
              "  </thead>\n",
              "  <tbody>\n",
              "    <tr>\n",
              "      <th>1358</th>\n",
              "      <td>98.0</td>\n",
              "    </tr>\n",
              "  </tbody>\n",
              "</table>\n",
              "</div>\n",
              "    <div class=\"colab-df-buttons\">\n",
              "\n",
              "  <div class=\"colab-df-container\">\n",
              "    <button class=\"colab-df-convert\" onclick=\"convertToInteractive('df-d6528392-aa02-4331-a064-73cece37161e')\"\n",
              "            title=\"Convert this dataframe to an interactive table.\"\n",
              "            style=\"display:none;\">\n",
              "\n",
              "  <svg xmlns=\"http://www.w3.org/2000/svg\" height=\"24px\" viewBox=\"0 -960 960 960\">\n",
              "    <path d=\"M120-120v-720h720v720H120Zm60-500h600v-160H180v160Zm220 220h160v-160H400v160Zm0 220h160v-160H400v160ZM180-400h160v-160H180v160Zm440 0h160v-160H620v160ZM180-180h160v-160H180v160Zm440 0h160v-160H620v160Z\"/>\n",
              "  </svg>\n",
              "    </button>\n",
              "\n",
              "  <style>\n",
              "    .colab-df-container {\n",
              "      display:flex;\n",
              "      gap: 12px;\n",
              "    }\n",
              "\n",
              "    .colab-df-convert {\n",
              "      background-color: #E8F0FE;\n",
              "      border: none;\n",
              "      border-radius: 50%;\n",
              "      cursor: pointer;\n",
              "      display: none;\n",
              "      fill: #1967D2;\n",
              "      height: 32px;\n",
              "      padding: 0 0 0 0;\n",
              "      width: 32px;\n",
              "    }\n",
              "\n",
              "    .colab-df-convert:hover {\n",
              "      background-color: #E2EBFA;\n",
              "      box-shadow: 0px 1px 2px rgba(60, 64, 67, 0.3), 0px 1px 3px 1px rgba(60, 64, 67, 0.15);\n",
              "      fill: #174EA6;\n",
              "    }\n",
              "\n",
              "    .colab-df-buttons div {\n",
              "      margin-bottom: 4px;\n",
              "    }\n",
              "\n",
              "    [theme=dark] .colab-df-convert {\n",
              "      background-color: #3B4455;\n",
              "      fill: #D2E3FC;\n",
              "    }\n",
              "\n",
              "    [theme=dark] .colab-df-convert:hover {\n",
              "      background-color: #434B5C;\n",
              "      box-shadow: 0px 1px 3px 1px rgba(0, 0, 0, 0.15);\n",
              "      filter: drop-shadow(0px 1px 2px rgba(0, 0, 0, 0.3));\n",
              "      fill: #FFFFFF;\n",
              "    }\n",
              "  </style>\n",
              "\n",
              "    <script>\n",
              "      const buttonEl =\n",
              "        document.querySelector('#df-d6528392-aa02-4331-a064-73cece37161e button.colab-df-convert');\n",
              "      buttonEl.style.display =\n",
              "        google.colab.kernel.accessAllowed ? 'block' : 'none';\n",
              "\n",
              "      async function convertToInteractive(key) {\n",
              "        const element = document.querySelector('#df-d6528392-aa02-4331-a064-73cece37161e');\n",
              "        const dataTable =\n",
              "          await google.colab.kernel.invokeFunction('convertToInteractive',\n",
              "                                                    [key], {});\n",
              "        if (!dataTable) return;\n",
              "\n",
              "        const docLinkHtml = 'Like what you see? Visit the ' +\n",
              "          '<a target=\"_blank\" href=https://colab.research.google.com/notebooks/data_table.ipynb>data table notebook</a>'\n",
              "          + ' to learn more about interactive tables.';\n",
              "        element.innerHTML = '';\n",
              "        dataTable['output_type'] = 'display_data';\n",
              "        await google.colab.output.renderOutput(dataTable, element);\n",
              "        const docLink = document.createElement('div');\n",
              "        docLink.innerHTML = docLinkHtml;\n",
              "        element.appendChild(docLink);\n",
              "      }\n",
              "    </script>\n",
              "  </div>\n",
              "\n",
              "    </div>\n",
              "  </div>\n"
            ],
            "application/vnd.google.colaboratory.intrinsic+json": {
              "type": "dataframe",
              "summary": "{\n  \"name\": \"pd\",\n  \"rows\": 1,\n  \"fields\": [\n    {\n      \"column\": 0,\n      \"properties\": {\n        \"dtype\": \"float32\",\n        \"samples\": [\n          98.0\n        ],\n        \"num_unique_values\": 1,\n        \"semantic_type\": \"\",\n        \"description\": \"\"\n      }\n    }\n  ]\n}"
            }
          },
          "metadata": {},
          "execution_count": 94
        }
      ]
    },
    {
      "cell_type": "code",
      "source": [
        "ATTENTION_MATRIX[1358]"
      ],
      "metadata": {
        "colab": {
          "base_uri": "https://localhost:8080/"
        },
        "id": "VUwvkNaUIyKY",
        "outputId": "605ca059-fa44-48e8-d13c-3b4ab08bdf78"
      },
      "execution_count": 95,
      "outputs": [
        {
          "output_type": "execute_result",
          "data": {
            "text/plain": [
              "array([0., 0., 0., ..., 0., 0., 0.], dtype=float32)"
            ]
          },
          "metadata": {},
          "execution_count": 95
        }
      ]
    },
    {
      "cell_type": "code",
      "source": [
        "ADJACENCY[1358].sum()"
      ],
      "metadata": {
        "colab": {
          "base_uri": "https://localhost:8080/"
        },
        "id": "C84A9CqwJlST",
        "outputId": "a1dedced-8643-4f95-d6aa-f121d4cf7c4a"
      },
      "execution_count": 97,
      "outputs": [
        {
          "output_type": "execute_result",
          "data": {
            "text/plain": [
              "168.0"
            ]
          },
          "metadata": {},
          "execution_count": 97
        }
      ]
    },
    {
      "cell_type": "code",
      "source": [
        "pd.DataFrame(ADJACENCY.sum(axis=0)).value_counts()"
      ],
      "metadata": {
        "colab": {
          "base_uri": "https://localhost:8080/"
        },
        "id": "nDv_kYM9HOf-",
        "outputId": "a52f7c52-104a-487f-abe3-ce7ae2172a9c"
      },
      "execution_count": 81,
      "outputs": [
        {
          "output_type": "execute_result",
          "data": {
            "text/plain": [
              "2.0      583\n",
              "3.0      553\n",
              "1.0      485\n",
              "4.0      389\n",
              "5.0      281\n",
              "6.0      131\n",
              "7.0       82\n",
              "8.0       57\n",
              "10.0      26\n",
              "9.0       25\n",
              "12.0      18\n",
              "11.0      14\n",
              "17.0       8\n",
              "16.0       7\n",
              "15.0       6\n",
              "14.0       6\n",
              "13.0       5\n",
              "19.0       5\n",
              "18.0       3\n",
              "21.0       3\n",
              "23.0       3\n",
              "32.0       2\n",
              "30.0       2\n",
              "22.0       1\n",
              "26.0       1\n",
              "29.0       1\n",
              "31.0       1\n",
              "33.0       1\n",
              "34.0       1\n",
              "36.0       1\n",
              "40.0       1\n",
              "42.0       1\n",
              "44.0       1\n",
              "65.0       1\n",
              "74.0       1\n",
              "78.0       1\n",
              "168.0      1\n",
              "dtype: int64"
            ]
          },
          "metadata": {},
          "execution_count": 81
        }
      ]
    },
    {
      "cell_type": "code",
      "source": [
        "def get_shortest_path_matrix(adjacency_matrix):\n",
        "    # Convert the adjacency matrix to a NetworkX graph\n",
        "    graph = nx.from_numpy_array(adjacency_matrix.cpu().numpy(), create_using=nx.DiGraph)\n",
        "    # Compute the shortest path matrix using Floyd-Warshall algorithm in NetworkX\n",
        "    shortest_path_matrix = nx.floyd_warshall_numpy(graph)\n",
        "    # Convert numpy array back to torch tensor\n",
        "    shortest_path_matrix = torch.tensor(shortest_path_matrix).float()\n",
        "    return shortest_path_matrix"
      ],
      "metadata": {
        "id": "th53uyY4UXHD"
      },
      "execution_count": null,
      "outputs": []
    },
    {
      "cell_type": "code",
      "source": [
        "pd.DataFrame(ATTENTION_MATRIX.sum(axis=0)).hist()"
      ],
      "metadata": {
        "colab": {
          "base_uri": "https://localhost:8080/"
        },
        "id": "QIH6Z6dBGZAV",
        "outputId": "2d8526d6-e078-4ab9-d796-aacc7cd8d178"
      },
      "execution_count": 47,
      "outputs": [
        {
          "output_type": "execute_result",
          "data": {
            "text/plain": [
              "array([2., 0., 2., ..., 0., 3., 0.], dtype=float32)"
            ]
          },
          "metadata": {},
          "execution_count": 47
        }
      ]
    },
    {
      "cell_type": "code",
      "source": [
        "ADJACENCY.sum(axis=0)"
      ],
      "metadata": {
        "colab": {
          "base_uri": "https://localhost:8080/"
        },
        "id": "2ZMTU90XEyed",
        "outputId": "e88d62fd-9302-49cb-f037-197f0a21a524"
      },
      "execution_count": 46,
      "outputs": [
        {
          "output_type": "execute_result",
          "data": {
            "text/plain": [
              "array([3., 3., 5., ..., 1., 4., 4.], dtype=float32)"
            ]
          },
          "metadata": {},
          "execution_count": 46
        }
      ]
    },
    {
      "cell_type": "code",
      "source": [
        "plt.figure(figsize=(8, 8))\n",
        "sns.heatmap(ATTENTION_MATRIX, cmap='viridis', square=True)\n",
        "plt.title('ATTENTION_MATRIX')\n",
        "plt.show()"
      ],
      "metadata": {
        "colab": {
          "base_uri": "https://localhost:8080/",
          "height": 666
        },
        "id": "HtrY4vsmDxH3",
        "outputId": "019f6aee-8bd5-4e60-8c21-1df8b9f45501"
      },
      "execution_count": 31,
      "outputs": [
        {
          "output_type": "display_data",
          "data": {
            "text/plain": [
              "<Figure size 800x800 with 2 Axes>"
            ],
            "image/png": "[encoded data removed]"
          },
          "metadata": {}
        }
      ]
    },
    {
      "cell_type": "code",
      "source": [],
      "metadata": {
        "id": "-Z2OmetlDzOT"
      },
      "execution_count": null,
      "outputs": []
    },
    {
      "cell_type": "code",
      "source": [
        "num_layers = len(model.attn_weights_list)\n",
        "num_heads = model.attn_weights_list[0].shape[0]\n",
        "\n",
        "fig, axes = plt.subplots(num_layers, num_heads, figsize=(num_heads * 4, num_layers * 4))\n",
        "\n",
        "for layer_idx in range(num_layers):\n",
        "    for head_idx in range(num_heads):\n",
        "        ax = axes[layer_idx, head_idx]\n",
        "\n",
        "        # Extract the attention heatmap for the current layer and head\n",
        "        attn_heatmap = model.attn_weights_list[layer_idx][head_idx, :, :].cpu().numpy()\n",
        "\n",
        "        # Plot the heatmap on the current subplot\n",
        "        sns.heatmap(attn_heatmap, cmap='viridis', square=True, ax=ax)\n",
        "\n",
        "        ax.set_title(f'Layer {layer_idx + 1}, Head {head_idx + 1}')\n",
        "        ax.axis('off')\n",
        "\n",
        "plt.suptitle('Attention Heatmaps', y=1.02)\n",
        "plt.tight_layout()\n",
        "plt.show()\n"
      ],
      "metadata": {
        "id": "Jwmk6md7OZHR"
      },
      "execution_count": null,
      "outputs": []
    },
    {
      "cell_type": "code",
      "execution_count": null,
      "metadata": {
        "id": "lug9F1Re91KN"
      },
      "outputs": [],
      "source": [
        "def get_shortest_path_matrix(adjacency_matrix):\n",
        "    # Convert the adjacency matrix to a NetworkX graph\n",
        "    graph = nx.from_numpy_array(adjacency_matrix.cpu().numpy(), create_using=nx.DiGraph)\n",
        "    # Compute the shortest path matrix using Floyd-Warshall algorithm in NetworkX\n",
        "    shortest_path_matrix = nx.floyd_warshall_numpy(graph)\n",
        "    # Convert numpy array back to torch tensor\n",
        "    shortest_path_matrix = torch.tensor(shortest_path_matrix).float()\n",
        "    return shortest_path_matrix\n",
        "\n",
        "dense_adj = to_dense_adj(data.edge_index, max_num_nodes = data.x.shape[0])[0]\n",
        "dense_shortest_path_matrix = get_shortest_path_matrix(dense_adj)  # takes about 1-2 mins"
      ]
    },
    {
      "cell_type": "code",
      "execution_count": null,
      "metadata": {
        "id": "eJDmOkbTHtUM"
      },
      "outputs": [],
      "source": [
        "class DenseGraphTransformerModel(Module):\n",
        "\n",
        "    def __init__(\n",
        "            self,\n",
        "            in_dim: int = dataset.num_features,\n",
        "            pos_enc_dim: int = 16,\n",
        "            hidden_dim: int = 128,\n",
        "            num_heads: int = 4,\n",
        "            num_layers: int = 3,\n",
        "            out_dim: int = dataset.num_classes,\n",
        "            dropout: float = 0.5,\n",
        "        ):\n",
        "        super().__init__()\n",
        "\n",
        "        self.lin_in = Linear(in_dim, hidden_dim)\n",
        "        self.lin_pos_enc = Linear(pos_enc_dim, hidden_dim)\n",
        "        self.lin_out = Linear(hidden_dim, out_dim)\n",
        "\n",
        "        self.layers = ModuleList()\n",
        "        for layer in range(num_layers):\n",
        "            self.layers.append(\n",
        "                # TransformerEncoderLayer(\n",
        "                #     d_model = hidden_dim,\n",
        "                #     nhead = num_heads,\n",
        "                #     dim_feedforward = hidden_dim * 2,\n",
        "                #     dropout = dropout,\n",
        "                # )\n",
        "                MultiheadAttention(\n",
        "                    embed_dim = hidden_dim,\n",
        "                    num_heads = num_heads,\n",
        "                    dropout = dropout\n",
        "                )\n",
        "            )\n",
        "        # self.encoder = TransformerEncoder(\n",
        "        #     TransformerEncoderLayer(\n",
        "        #         d_model = hidden_dim,\n",
        "        #         nhead = num_heads,\n",
        "        #         dim_feedforward = hidden_dim * 2,\n",
        "        #         dropout = dropout,\n",
        "        #     ),\n",
        "        #     num_layers\n",
        "        # )\n",
        "\n",
        "        self.attn_bias_scale = torch.nn.Parameter(torch.tensor([10.0]))  # controls how much we initially bias our model to nearby nodes\n",
        "        self.dropout = dropout\n",
        "\n",
        "    def forward(self, x, pos_enc, dense_sp_matrix):\n",
        "\n",
        "        # x = self.lin_in(x) + self.lin_pos_enc(pos_enc)\n",
        "        x = self.lin_in(x)  # no node positional encoding\n",
        "\n",
        "        # attention bias\n",
        "        # [i, j] -> inverse of shortest path distance b/w node i and j\n",
        "        # diagonals -> self connection, set to 0\n",
        "        # disconnected nodes -> -1\n",
        "        attn_bias = self.attn_bias_scale * torch.nan_to_num(\n",
        "            (1 / (torch.nan_to_num(dense_sp_matrix, nan=-1, posinf=-1, neginf=-1))),\n",
        "            nan=0, posinf=0, neginf=0\n",
        "        )\n",
        "\n",
        "        # TransformerEncoder\n",
        "        # x = self.encoder(x, mask = attn_bias)\n",
        "\n",
        "        self.attn_weights_list = []\n",
        "\n",
        "        for layer in self.layers:\n",
        "            # # TransformerEncoderLayer\n",
        "            # # float mask adds learnable additive attention bias\n",
        "            # x = layer(x, src_mask = attn_bias)\n",
        "\n",
        "            # MHSA layer\n",
        "            # float mask adds learnable additive attention bias\n",
        "            x_in = x\n",
        "            x, attn_weights = layer(\n",
        "                x, x, x,\n",
        "                attn_mask = attn_bias,\n",
        "                average_attn_weights = False\n",
        "            )\n",
        "            x = F.relu(x)\n",
        "            x = F.dropout(x, self.dropout, training=self.training)\n",
        "            x = x_in + x\n",
        "\n",
        "            self.attn_weights_list.append(attn_weights)\n",
        "\n",
        "        x = self.lin_out(x)\n",
        "\n",
        "        return x.log_softmax(dim=-1)\n",
        "\n",
        "\n",
        "device = torch.device('cuda' if torch.cuda.is_available() else 'cpu')\n",
        "\n",
        "model = DenseGraphTransformerModel().to(device)\n",
        "\n",
        "data = T.AddLaplacianEigenvectorPE(k = 16, attr_name = 'pos_enc')(data)\n",
        "# data = T.AddRandomWalkPE(walk_length = 16, attr_name = 'pos_enc')(data)\n",
        "data.dense_adj = to_dense_adj(data.edge_index, max_num_nodes = data.x.shape[0])[0]\n",
        "data.dense_sp_matrix = dense_shortest_path_matrix.float()  # pre-computed in previous cell\n",
        "data = data.to(device)\n",
        "\n",
        "optimizer = torch.optim.Adam(model.parameters(), lr=0.001)\n",
        "\n",
        "\n",
        "def train():\n",
        "    model.train()\n",
        "    optimizer.zero_grad()\n",
        "    out = model(data.x, data.pos_enc, data.dense_sp_matrix)\n",
        "    loss = F.nll_loss(out[data.train_mask], data.y[data.train_mask])\n",
        "    loss.backward()\n",
        "    optimizer.step()\n",
        "    return float(loss)\n",
        "\n",
        "\n",
        "@torch.no_grad()\n",
        "def test():\n",
        "    model.eval()\n",
        "    pred, accs = model(data.x, data.pos_enc, data.dense_sp_matrix).argmax(dim=-1), []\n",
        "    for _, mask in data('train_mask', 'val_mask', 'test_mask'):\n",
        "        accs.append(int((pred[mask] == data.y[mask]).sum()) / int(mask.sum()))\n",
        "    return accs\n",
        "\n",
        "\n",
        "best_val_acc = test_acc = 0\n",
        "times = []\n",
        "for epoch in range(1, 100):\n",
        "    start = time.time()\n",
        "    loss = train()\n",
        "    train_acc, val_acc, tmp_test_acc = test()\n",
        "    if val_acc > best_val_acc:\n",
        "        best_val_acc = val_acc\n",
        "        test_acc = tmp_test_acc\n",
        "    print(f'Epoch: {epoch:04d}, Loss: {loss:.4f} Train: {train_acc:.4f}, '\n",
        "          f'Val: {val_acc:.4f}, Test: {tmp_test_acc:.4f}, '\n",
        "          f'Final Test: {test_acc:.4f}')\n",
        "    times.append(time.time() - start)\n",
        "print(f\"Median time per epoch: {torch.tensor(times).median():.4f}s\")\n",
        "\n",
        "# Notes\n",
        "# - Dense Transformer needs to be trained for a bit longer to reach low loss value\n",
        "# - Node positional encodings are not particularly useful\n",
        "# - Edge distance encodings are very useful\n",
        "# - Since Cora is highly homophilic, it is important to bias the attention towards nearby nodes"
      ]
    },
    {
      "cell_type": "code",
      "source": [
        "num_layers = len(model.attn_weights_list)\n",
        "num_heads = model.attn_weights_list[0].shape[0]\n",
        "\n",
        "fig, axes = plt.subplots(num_layers, num_heads, figsize=(num_heads * 4, num_layers * 4))\n",
        "\n",
        "for layer_idx in range(num_layers):\n",
        "    for head_idx in range(num_heads):\n",
        "        ax = axes[layer_idx, head_idx]\n",
        "\n",
        "        # Extract the attention heatmap for the current layer and head\n",
        "        attn_heatmap = model.attn_weights_list[layer_idx].cpu().numpy()[head_idx]\n",
        "\n",
        "        # Plot the heatmap on the current subplot\n",
        "        sns.heatmap(attn_heatmap, cmap='viridis', square=True, ax=ax)\n",
        "\n",
        "        ax.set_title(f'Layer {layer_idx + 1}, Head {head_idx + 1}')\n",
        "        ax.axis('off')\n",
        "\n",
        "plt.suptitle('Attention Heatmaps', y=1.02)\n",
        "plt.tight_layout()\n",
        "plt.show()\n"
      ],
      "metadata": {
        "id": "vNl73jfJ13Sf"
      },
      "execution_count": null,
      "outputs": []
    },
    {
      "cell_type": "code",
      "source": [
        "class DenseGraphTransformerModel(Module):\n",
        "\n",
        "    def __init__(\n",
        "            self,\n",
        "            in_dim: int = dataset.num_features,\n",
        "            pos_enc_dim: int = 16,\n",
        "            hidden_dim: int = 128,\n",
        "            num_heads: int = 4,\n",
        "            num_layers: int = 3,\n",
        "            out_dim: int = dataset.num_classes,\n",
        "            dropout: float = 0.5,\n",
        "        ):\n",
        "        super().__init__()\n",
        "\n",
        "        self.lin_in = Linear(in_dim, hidden_dim)\n",
        "        self.lin_pos_enc = Linear(pos_enc_dim, hidden_dim)\n",
        "        self.lin_out = Linear(hidden_dim, out_dim)\n",
        "\n",
        "        self.layers = ModuleList()\n",
        "        for layer in range(num_layers):\n",
        "            self.layers.append(\n",
        "                # TransformerEncoderLayer(\n",
        "                #     d_model = hidden_dim,\n",
        "                #     nhead = num_heads,\n",
        "                #     dim_feedforward = hidden_dim * 2,\n",
        "                #     dropout = dropout,\n",
        "                # )\n",
        "                MultiheadAttention(\n",
        "                    embed_dim = hidden_dim,\n",
        "                    num_heads = num_heads,\n",
        "                    dropout = dropout\n",
        "                )\n",
        "            )\n",
        "        # self.encoder = TransformerEncoder(\n",
        "        #     TransformerEncoderLayer(\n",
        "        #         d_model = hidden_dim,\n",
        "        #         nhead = num_heads,\n",
        "        #         dim_feedforward = hidden_dim * 2,\n",
        "        #         dropout = dropout,\n",
        "        #     ),\n",
        "        #     num_layers\n",
        "        # )\n",
        "\n",
        "        # controls how much we initially bias our model to nearby nodes\n",
        "        self.attn_bias_scale = Linear(1, num_heads, bias=False)\n",
        "        with torch.no_grad():\n",
        "            self.attn_bias_scale.weight.data = torch.linspace(\n",
        "                0, 10, steps=num_heads, requires_grad=True\n",
        "            ).unsqueeze(-1)\n",
        "\n",
        "        self.dropout = dropout\n",
        "\n",
        "    def forward(self, x, pos_enc, dense_sp_matrix):\n",
        "\n",
        "        # x = self.lin_in(x) + self.lin_pos_enc(pos_enc)\n",
        "        x = self.lin_in(x)  # no node positional encoding\n",
        "\n",
        "        # attention bias\n",
        "        # [i, j] -> inverse of shortest path distance b/w node i and j\n",
        "        # diagonals -> self connection, set to 0\n",
        "        # disconnected nodes -> -1\n",
        "        attn_bias = torch.nan_to_num(\n",
        "            (1 / (torch.nan_to_num(dense_sp_matrix, nan=-1, posinf=-1, neginf=-1))),\n",
        "            nan=0, posinf=0, neginf=0\n",
        "        ).unsqueeze(-1)\n",
        "        # learnable scaling factor\n",
        "        attn_bias = self.attn_bias_scale(attn_bias).permute(2, 0, 1)\n",
        "\n",
        "        # TransformerEncoder\n",
        "        # x = self.encoder(x, mask = attn_bias)\n",
        "\n",
        "        self.attn_weights_list = []\n",
        "\n",
        "        for layer in self.layers:\n",
        "            # # TransformerEncoderLayer\n",
        "            # # float mask adds learnable additive attention bias\n",
        "            # x = layer(x, src_mask = attn_bias)\n",
        "\n",
        "            # MHSA layer\n",
        "            # float mask adds learnable additive attention bias\n",
        "            x_in = x\n",
        "            x, attn_weights = layer(\n",
        "                x, x, x,\n",
        "                attn_mask = attn_bias,\n",
        "                average_attn_weights = False\n",
        "            )\n",
        "            x = F.relu(x)\n",
        "            x = F.dropout(x, self.dropout, training=self.training)\n",
        "            x = x_in + x\n",
        "\n",
        "            self.attn_weights_list.append(attn_weights)\n",
        "\n",
        "        x = self.lin_out(x)\n",
        "\n",
        "        return x.log_softmax(dim=-1)\n",
        "\n",
        "\n",
        "device = torch.device('cuda' if torch.cuda.is_available() else 'cpu')\n",
        "\n",
        "model = DenseGraphTransformerModel().to(device)\n",
        "\n",
        "data = T.AddLaplacianEigenvectorPE(k = 16, attr_name = 'pos_enc')(data)\n",
        "# data = T.AddRandomWalkPE(walk_length = 16, attr_name = 'pos_enc')(data)\n",
        "data.dense_adj = to_dense_adj(data.edge_index, max_num_nodes = data.x.shape[0])[0]\n",
        "data.dense_sp_matrix = dense_shortest_path_matrix.float()  # pre-computed in previous cell\n",
        "data = data.to(device)\n",
        "\n",
        "optimizer = torch.optim.Adam(model.parameters(), lr=0.001)\n",
        "\n",
        "\n",
        "def train():\n",
        "    model.train()\n",
        "    optimizer.zero_grad()\n",
        "    out = model(data.x, data.pos_enc, data.dense_sp_matrix)\n",
        "    loss = F.nll_loss(out[data.train_mask], data.y[data.train_mask])\n",
        "    loss.backward()\n",
        "    optimizer.step()\n",
        "    return float(loss)\n",
        "\n",
        "\n",
        "@torch.no_grad()\n",
        "def test():\n",
        "    model.eval()\n",
        "    pred, accs = model(data.x, data.pos_enc, data.dense_sp_matrix).argmax(dim=-1), []\n",
        "    for _, mask in data('train_mask', 'val_mask', 'test_mask'):\n",
        "        accs.append(int((pred[mask] == data.y[mask]).sum()) / int(mask.sum()))\n",
        "    return accs\n",
        "\n",
        "\n",
        "best_val_acc = test_acc = 0\n",
        "times = []\n",
        "for epoch in range(1, 100):\n",
        "    start = time.time()\n",
        "    loss = train()\n",
        "    train_acc, val_acc, tmp_test_acc = test()\n",
        "    if val_acc > best_val_acc:\n",
        "        best_val_acc = val_acc\n",
        "        test_acc = tmp_test_acc\n",
        "    print(f'Epoch: {epoch:04d}, Loss: {loss:.4f} Train: {train_acc:.4f}, '\n",
        "          f'Val: {val_acc:.4f}, Test: {tmp_test_acc:.4f}, '\n",
        "          f'Final Test: {test_acc:.4f}')\n",
        "    times.append(time.time() - start)\n",
        "print(f\"Median time per epoch: {torch.tensor(times).median():.4f}s\")\n",
        "\n",
        "# Notes\n",
        "# - Dense Transformer needs to be trained for a bit longer to reach low loss value\n",
        "# - Node positional encodings are not particularly useful\n",
        "# - Edge distance encodings are very useful\n",
        "# - Since Cora is highly homophilic, it is important to bias the attention towards nearby nodes"
      ],
      "metadata": {
        "id": "iynSE147WjRB"
      },
      "execution_count": null,
      "outputs": []
    },
    {
      "cell_type": "code",
      "source": [],
      "metadata": {
        "id": "IW4ahH7o7dsr"
      },
      "execution_count": null,
      "outputs": []
    }
  ],
  "metadata": {
    "accelerator": "GPU",
    "colab": {
      "gpuType": "T4",
      "provenance": [],
      "include_colab_link": true
    },
    "kernelspec": {
      "display_name": "Python 3",
      "name": "python3"
    },
    "language_info": {
      "name": "python"
    }
  },
  "nbformat": 4,
  "nbformat_minor": 0
}
{
  "cells": [
    {
      "cell_type": "markdown",
      "metadata": {
        "id": "view-in-github",
        "colab_type": "text"
      },
      "source": [
        "<a href=\"https://colab.research.google.com/github/batu-el/l65_be301_dc755/blob/main/L65_Project.ipynb\" target=\"_parent\"><img src=\"https://colab.research.google.com/assets/colab-badge.svg\" alt=\"Open In Colab\"/></a>"
      ]
    },
    {
      "cell_type": "markdown",
      "metadata": {
        "id": "rcHQFzsOFwPx"
      },
      "source": [
        "# L65 Project - An Attempt at Mechanistic Interpretability of Graph Neural Networks\n",
        "\n",
        "## Introduction\n",
        "\n",
        "\n",
        "\n",
        "## Contents\n",
        "\n",
        "\n",
        "The **aims** of this project are as follows:\n",
        "\n",
        "1. Mechanistic interpretability has been used to interpret trnansformers. it requires a detailed analysis of the activations at each layer of the model. however, currently, there is no library that provides a way to capture and analyze the activations of GNNs conveniently. That is why we present GNNLens. For our project, we implement x models as a start, but we are planning to build on this library which we think lays the groundwork for the mechanistic interpretability of GNNs in the future.\n",
        "\n",
        "2. Our initial intuition on Message passing / attention in GNNs was that they may be able to recover the graph sturucture in the case of dense (fully connected) GNNs. We ran a series of experiements to check this intuition. We find that ....\n",
        "\n",
        "\n",
        "3. SVD on activations has been applied in this neel nanda paper. and it stongly echoes the finding of the GCexplainer where k means clustering is used to recover concepts from the lasy message passing layer of the network. The intuition here is not all the activations are interpretable becuase there is some randomness in the model. however, the principal components principle components can be meaningful.\n",
        "\n",
        "4. Running the model multiple times and seeing which of the values in the attention matrix ends up taking high values consistently is a principled way to know which nodes are attending to each other. This is especially important because we observe that there is significant randomness in the learned attention matrices across different runs.\n",
        "\n",
        "## Outline\n",
        "\n",
        "This practical is split into 2 parts:\n",
        "\n",
        "**Part 1:** GCN\n",
        "\n",
        "**Part 2:** GAT\n",
        "\n",
        "**Part 3:** MPNN\n"
      ]
    },
    {
      "cell_type": "markdown",
      "metadata": {
        "id": "qU87TNON39IV"
      },
      "source": [
        "# ⚙️ [Setup] Installation and Setup\n",
        "\n",
        "**❗️Note:** You will need a GPU to complete this practical. Remember to click `Runtime -> Change runtime type`, and set the `hardware accelerator` to **GPU**."
      ]
    },
    {
      "cell_type": "code",
      "execution_count": 1,
      "metadata": {
        "colab": {
          "base_uri": "https://localhost:8080/"
        },
        "id": "ZoyyKP8bWk7a",
        "outputId": "fe4e01ab-4692-4d8e-f814-15a18b995cda"
      },
      "outputs": [
        {
          "output_type": "stream",
          "name": "stdout",
          "text": [
            "Correct version of torch detected. You are running on a machine with GPU.\n"
          ]
        }
      ],
      "source": [
        "#@title [RUN] Sanity check torch version and GPU runtime\n",
        "\n",
        "import torch\n",
        "assert torch.cuda.is_available(), \"WARNING! You are running on a non-GPU instance. For this practical a GPU is highly recommended.\"\n",
        "REQUIRED_VERSION = \"2.1.0+cu121\"\n",
        "TORCH_VERSION = torch.__version__\n",
        "CUDA_VERSION = TORCH_VERSION.split(\"+\")\n",
        "\n",
        "if TORCH_VERSION != REQUIRED_VERSION:\n",
        "  print(f\"Detected torch version {TORCH_VERSION}, but notebook was created for {REQUIRED_VERSION}\")\n",
        "  print(f\"Attempting installation of {REQUIRED_VERSION}\")\n",
        "  !pip install torch==2.1.0+cu121\n",
        "print(\"Correct version of torch detected. You are running on a machine with GPU.\")\n"
      ]
    },
    {
      "cell_type": "code",
      "execution_count": 2,
      "metadata": {
        "colab": {
          "base_uri": "https://localhost:8080/"
        },
        "id": "ZCNrlEcbWy1t",
        "outputId": "0f8389eb-1bd8-4b10-c746-cf04e635d17f"
      },
      "outputs": [
        {
          "output_type": "stream",
          "name": "stdout",
          "text": [
            "Installing PyTorch Geometric\n",
            "Installing other libraries\n",
            "Requirement already satisfied: networkx in /usr/local/lib/python3.10/dist-packages (3.2.1)\n",
            "Requirement already satisfied: mycolorpy in /usr/local/lib/python3.10/dist-packages (1.5.1)\n",
            "Requirement already satisfied: numpy in /usr/local/lib/python3.10/dist-packages (from mycolorpy) (1.25.2)\n",
            "Requirement already satisfied: matplotlib in /usr/local/lib/python3.10/dist-packages (from mycolorpy) (3.7.1)\n",
            "Requirement already satisfied: contourpy>=1.0.1 in /usr/local/lib/python3.10/dist-packages (from matplotlib->mycolorpy) (1.2.0)\n",
            "Requirement already satisfied: cycler>=0.10 in /usr/local/lib/python3.10/dist-packages (from matplotlib->mycolorpy) (0.12.1)\n",
            "Requirement already satisfied: fonttools>=4.22.0 in /usr/local/lib/python3.10/dist-packages (from matplotlib->mycolorpy) (4.49.0)\n",
            "Requirement already satisfied: kiwisolver>=1.0.1 in /usr/local/lib/python3.10/dist-packages (from matplotlib->mycolorpy) (1.4.5)\n",
            "Requirement already satisfied: packaging>=20.0 in /usr/local/lib/python3.10/dist-packages (from matplotlib->mycolorpy) (24.0)\n",
            "Requirement already satisfied: pillow>=6.2.0 in /usr/local/lib/python3.10/dist-packages (from matplotlib->mycolorpy) (9.4.0)\n",
            "Requirement already satisfied: pyparsing>=2.3.1 in /usr/local/lib/python3.10/dist-packages (from matplotlib->mycolorpy) (3.1.2)\n",
            "Requirement already satisfied: python-dateutil>=2.7 in /usr/local/lib/python3.10/dist-packages (from matplotlib->mycolorpy) (2.8.2)\n",
            "Requirement already satisfied: six>=1.5 in /usr/local/lib/python3.10/dist-packages (from python-dateutil>=2.7->matplotlib->mycolorpy) (1.16.0)\n",
            "Requirement already satisfied: colorama in /usr/local/lib/python3.10/dist-packages (0.4.6)\n"
          ]
        }
      ],
      "source": [
        "#@title [RUN] Install required python libraries\n",
        "import os\n",
        "\n",
        "# Install PyTorch Geometric and other libraries\n",
        "if 'IS_GRADESCOPE_ENV' not in os.environ:\n",
        "    print(\"Installing PyTorch Geometric\")\n",
        "    !pip install -q torch-scatter -f https://data.pyg.org/whl/torch-2.1.0+cu121.html\n",
        "    !pip install -q torch-sparse -f https://data.pyg.org/whl/torch-2.1.0+cu121.html\n",
        "    !pip install -q torch-geometric\n",
        "    print(\"Installing other libraries\")\n",
        "    !pip install -q rdkit-pypi==2021.9.4\n",
        "    !pip install -q py3Dmol==1.8.0\n",
        "    !pip install networkx\n",
        "    !pip install mycolorpy\n",
        "    !pip install colorama"
      ]
    },
    {
      "cell_type": "code",
      "execution_count": 3,
      "metadata": {
        "colab": {
          "base_uri": "https://localhost:8080/"
        },
        "id": "ZLrrWpkk6xv-",
        "outputId": "dfad0240-1c30-4e90-a1f4-da635f556e40"
      },
      "outputs": [
        {
          "output_type": "stream",
          "name": "stdout",
          "text": [
            "All imports succeeded.\n",
            "Python version 3.10.12 (main, Nov 20 2023, 15:14:05) [GCC 11.4.0]\n",
            "PyTorch version 2.1.0+cu121\n",
            "PyG version 2.5.1\n"
          ]
        }
      ],
      "source": [
        "#@title [RUN] Import python modules\n",
        "\n",
        "import os\n",
        "import sys\n",
        "import time\n",
        "import math\n",
        "import random\n",
        "import itertools\n",
        "from datetime import datetime\n",
        "from typing import Mapping, Tuple, Sequence, List\n",
        "\n",
        "import pandas as pd\n",
        "import networkx as nx\n",
        "import numpy as np\n",
        "import scipy as sp\n",
        "from scipy.stats import ortho_group\n",
        "from scipy.linalg import block_diag\n",
        "\n",
        "import torch\n",
        "import torch.nn.functional as F\n",
        "from torch.optim import Adam\n",
        "from torch.nn import Embedding, Linear, ReLU, BatchNorm1d, Module, ModuleList, Sequential\n",
        "\n",
        "import torch_geometric\n",
        "from torch_geometric.data import Data, Batch\n",
        "from torch_geometric.loader import DataLoader\n",
        "import torch_geometric.transforms as T\n",
        "from torch_geometric.utils import remove_self_loops, to_dense_adj, dense_to_sparse\n",
        "from torch_geometric.datasets import Planetoid, QM9\n",
        "from torch_geometric.nn import MessagePassing, global_mean_pool\n",
        "from torch_scatter import scatter, scatter_mean, scatter_max, scatter_sum\n",
        "\n",
        "import rdkit.Chem as Chem\n",
        "from rdkit.Geometry.rdGeometry import Point3D\n",
        "from rdkit.Chem import QED, Crippen, rdMolDescriptors, rdmolops\n",
        "from rdkit.Chem.Draw import IPythonConsole\n",
        "\n",
        "import py3Dmol\n",
        "from rdkit.Chem import AllChem\n",
        "\n",
        "import matplotlib.pyplot as plt\n",
        "import seaborn as sns\n",
        "from mycolorpy import colorlist as mcp\n",
        "import matplotlib.cm as cm\n",
        "import colorama\n",
        "\n",
        "from google.colab import files\n",
        "from IPython.display import HTML\n",
        "\n",
        "import warnings\n",
        "warnings.filterwarnings(\"ignore\", category=RuntimeWarning)\n",
        "warnings.filterwarnings(\"ignore\", category=UserWarning)\n",
        "warnings.filterwarnings(\"ignore\", category=FutureWarning)\n",
        "\n",
        "print(\"All imports succeeded.\")\n",
        "print(\"Python version {}\".format(sys.version))\n",
        "print(\"PyTorch version {}\".format(torch.__version__))\n",
        "print(\"PyG version {}\".format(torch_geometric.__version__))"
      ]
    },
    {
      "cell_type": "code",
      "execution_count": 4,
      "metadata": {
        "colab": {
          "base_uri": "https://localhost:8080/"
        },
        "id": "wV9ViIZBZ1TG",
        "outputId": "d6c064b0-4bfb-458b-b6fb-ff8576d869e3"
      },
      "outputs": [
        {
          "output_type": "stream",
          "name": "stdout",
          "text": [
            "All seeds set.\n"
          ]
        }
      ],
      "source": [
        "#@title [RUN] Set random seed for deterministic results\n",
        "\n",
        "def seed(seed=0):\n",
        "    random.seed(seed)\n",
        "    np.random.seed(seed)\n",
        "    torch.manual_seed(seed)\n",
        "    torch.cuda.manual_seed(seed)\n",
        "    torch.cuda.manual_seed_all(seed)\n",
        "    torch.backends.cudnn.deterministic = True\n",
        "    torch.backends.cudnn.benchmark = False\n",
        "\n",
        "seed(0)\n",
        "print(\"All seeds set.\")"
      ]
    },
    {
      "cell_type": "code",
      "execution_count": 5,
      "metadata": {
        "colab": {
          "base_uri": "https://localhost:8080/"
        },
        "id": "1us6k7hEq8Q0",
        "outputId": "873d3c42-ea30-47bd-e9ed-f707f1b8f60d"
      },
      "outputs": [
        {
          "output_type": "stream",
          "name": "stdout",
          "text": [
            "Helper functions loaded.\n"
          ]
        }
      ],
      "source": [
        "#@title [RUN] Helper functions for data preparation\n",
        "\n",
        "class SetTarget:\n",
        "    \"\"\"\n",
        "    This transform modifies the labels vector per data sample to only keep\n",
        "    the label for a specific target (there are 19 targets in QM9).\n",
        "\n",
        "    Note: for this practical, we have hardcoded the target to be target #0,\n",
        "    i.e. the electric dipole moment of a drug-like molecule.\n",
        "    (https://en.wikipedia.org/wiki/Electric_dipole_moment)\n",
        "    \"\"\"\n",
        "    def __call__(self, data):\n",
        "        target = 0 # we hardcoded choice of target\n",
        "        data.y = data.y[:, target]\n",
        "        return data\n",
        "\n",
        "\n",
        "class CompleteGraph:\n",
        "    \"\"\"\n",
        "    This transform adds all pairwise edges into the edge index per data sample,\n",
        "    then removes self loops, i.e. it builds a fully connected or complete graph\n",
        "    \"\"\"\n",
        "    def __call__(self, input):\n",
        "        data = input.clone()\n",
        "        device = data.edge_index.device\n",
        "\n",
        "        row = torch.arange(data.num_nodes, dtype=torch.long, device=device)\n",
        "        col = torch.arange(data.num_nodes, dtype=torch.long, device=device)\n",
        "\n",
        "        row = row.view(-1, 1).repeat(1, data.num_nodes).view(-1)\n",
        "        col = col.repeat(data.num_nodes)\n",
        "        edge_index = torch.stack([row, col], dim=0)\n",
        "\n",
        "        edge_attr = None\n",
        "        if data.edge_attr is not None:\n",
        "            idx = data.edge_index[0] * data.num_nodes + data.edge_index[1]\n",
        "            size = list(data.edge_attr.size())\n",
        "            size[0] = data.num_nodes * data.num_nodes\n",
        "            edge_attr = data.edge_attr.new_zeros(size)\n",
        "            edge_attr[idx] = data.edge_attr\n",
        "\n",
        "        edge_index, edge_attr = remove_self_loops(edge_index, edge_attr)\n",
        "        data.edge_attr = edge_attr\n",
        "        data.edge_index = edge_index\n",
        "\n",
        "        return data\n",
        "\n",
        "print(\"Helper functions loaded.\")"
      ]
    },
    {
      "cell_type": "code",
      "execution_count": 6,
      "metadata": {
        "colab": {
          "base_uri": "https://localhost:8080/"
        },
        "id": "EiuxXrwgmBE-",
        "outputId": "8319d2aa-89e4-4400-f851-ea7bf2099776"
      },
      "outputs": [
        {
          "output_type": "stream",
          "name": "stdout",
          "text": [
            "Helper functions loaded.\n"
          ]
        }
      ],
      "source": [
        "# @title [RUN] Helper functions for plots and visualisations\n",
        "\n",
        "\n",
        "def draw_one_graph(ax, edges, label=None, node_emb=None, layout=None, special_color=False):\n",
        "    \"\"\"draw a graph with networkx based on adjacency matrix (edges)\n",
        "    graph labels could be displayed as a title for each graph\n",
        "    node_emb could be displayed in colors\n",
        "    \"\"\"\n",
        "    graph = nx.Graph()\n",
        "    edges = zip(edges[0], edges[1])\n",
        "    graph.add_edges_from(edges)\n",
        "    node_pos = layout(graph)\n",
        "    #add colors according to node embeding\n",
        "    if (node_emb is not None) or special_color:\n",
        "        color_map = []\n",
        "        node_list = [node[0] for node in graph.nodes(data = True)]\n",
        "        for i,node in enumerate(node_list):\n",
        "            #just ignore this branch\n",
        "            if special_color:\n",
        "                if len(node_list) == 3:\n",
        "                    crt_color = (1,0,0)\n",
        "                elif len(node_list) == 5:\n",
        "                    crt_color = (0,1,0)\n",
        "                elif len(node_list) == 4:\n",
        "                    crt_color = (1,1,0)\n",
        "                else:\n",
        "                  special_list = [(1,0,0)] * 3 + [(0,1,0)] * 5 + [(1,1,0)] * 4\n",
        "                  crt_color = special_list[i]\n",
        "            else:\n",
        "                crt_node_emb = node_emb[node]\n",
        "                #map float number (node embeding) to a color\n",
        "                crt_color = cm.gist_rainbow(crt_node_emb, bytes=True)\n",
        "                crt_color = (crt_color[0]/255.0, crt_color[1]/255.0, crt_color[2]/255.0, crt_color[3]/255.0)\n",
        "            color_map.append(crt_color)\n",
        "\n",
        "        nx.draw_networkx_nodes(graph,node_pos, node_color=color_map,\n",
        "                        nodelist = node_list, ax=ax)\n",
        "        nx.draw_networkx_edges(graph, node_pos, ax=ax)\n",
        "        nx.draw_networkx_labels(graph,node_pos, ax=ax)\n",
        "    else:\n",
        "        nx.draw_networkx(graph, node_pos, ax=ax)\n",
        "\n",
        "\n",
        "def gallery(graphs, labels=None, node_emb=None, special_color=False, max_graphs=4, max_fig_size=(40, 10), layout=nx.layout.kamada_kawai_layout):\n",
        "    ''' Draw multiple graphs as a gallery\n",
        "    Args:\n",
        "      graphs: torch_geometrics.dataset object/ List of Graph objects\n",
        "      labels: num_graphs\n",
        "      node_emb: num_graphs* [num_nodes x num_ch]\n",
        "      max_graphs: maximum graphs display\n",
        "    '''\n",
        "    num_graphs = min(len(graphs), max_graphs)\n",
        "    ff, axes = plt.subplots(1, num_graphs,\n",
        "                            figsize=max_fig_size,\n",
        "                            subplot_kw={'xticks': [], 'yticks': []})\n",
        "    if num_graphs == 1:\n",
        "        axes = [axes]\n",
        "    if node_emb is None:\n",
        "        node_emb = num_graphs*[None]\n",
        "    if labels is None:\n",
        "        labels = num_graphs * [\" \"]\n",
        "\n",
        "\n",
        "    for i in range(num_graphs):\n",
        "        draw_one_graph(axes[i], graphs[i].edge_index.numpy(), labels[i], node_emb[i], layout, special_color)\n",
        "        if labels[i] != \" \":\n",
        "            axes[i].set_title(f\"Target: {labels[i]}\", fontsize=28)\n",
        "        axes[i].set_axis_off()\n",
        "    plt.show()\n",
        "\n",
        "\n",
        "def hash_node_embedings(node_emb):\n",
        "  \"\"\" Hash the tensor representing nodes' features\n",
        "  to a number in [0,1] used to represent a color\n",
        "\n",
        "  Args:\n",
        "    node_emb: list of num_graphs arrays, each of dim (num_nodes x num_feats)\n",
        "  Returns:\n",
        "    list of num_graphs arrays in [0,1], each of dim (num_nodes)\n",
        "  \"\"\"\n",
        "  chunk_size_graph = [x.shape[0] for x in node_emb]\n",
        "  start_idx_graph = [0] + list(itertools.accumulate(chunk_size_graph))[:-1]\n",
        "\n",
        "  node_emb_flatten = np.concatenate(node_emb).mean(-1)\n",
        "\n",
        "  min_emb = node_emb_flatten.min()\n",
        "  max_emb = node_emb_flatten.max()\n",
        "  node_emb_flatten = (node_emb_flatten-min_emb)/(max_emb-min_emb)\n",
        "\n",
        "  #split in graphs again according to (start_idx_graph, chunk_size_graph)\n",
        "  node_emb_hashed = [node_emb_flatten[i:i+l] for (i,l) in zip(start_idx_graph, chunk_size_graph)]\n",
        "  return node_emb_hashed\n",
        "\n",
        "\n",
        "def update_stats(training_stats, epoch_stats):\n",
        "    \"\"\" Store metrics along the training\n",
        "    Args:\n",
        "      epoch_stats: dict containg metrics about one epoch\n",
        "      training_stats: dict containing lists of metrics along training\n",
        "    Returns:\n",
        "      updated training_stats\n",
        "    \"\"\"\n",
        "    if training_stats is None:\n",
        "        training_stats = {}\n",
        "        for key in epoch_stats.keys():\n",
        "            training_stats[key] = []\n",
        "    for key,val in epoch_stats.items():\n",
        "        training_stats[key].append(val)\n",
        "    return training_stats\n",
        "\n",
        "\n",
        "def plot_stats(training_stats, figsize=(5, 5), name=\"\"):\n",
        "    \"\"\" Create one plot for each metric stored in training_stats\n",
        "    \"\"\"\n",
        "    stats_names = [key[6:] for key in training_stats.keys() if key.startswith('train_')]\n",
        "    f, ax = plt.subplots(len(stats_names), 1, figsize=figsize)\n",
        "    if len(stats_names)==1:\n",
        "        ax = np.array([ax])\n",
        "    for key, axx in zip(stats_names, ax.reshape(-1,)):\n",
        "        axx.plot(\n",
        "            training_stats['epoch'],\n",
        "            training_stats[f'train_{key}'],\n",
        "            label=f\"Training {key}\")\n",
        "        axx.plot(\n",
        "            training_stats['epoch'],\n",
        "            training_stats[f'val_{key}'],\n",
        "            label=f\"Validation {key}\")\n",
        "        axx.set_xlabel(\"Training epoch\")\n",
        "        axx.set_ylabel(key)\n",
        "        axx.legend()\n",
        "    plt.title(name)\n",
        "\n",
        "\n",
        "def get_color_coded_str(i, color):\n",
        "    return \"\\033[3{}m{}\\033[0m\".format(int(color), int(i))\n",
        "\n",
        "\n",
        "def print_color_numpy(map, list_graphs):\n",
        "    \"\"\" print matrix map in color according to list_graphs\n",
        "    \"\"\"\n",
        "    list_blocks = []\n",
        "    for i,graph in enumerate(list_graphs):\n",
        "        block_i = (i+1)*np.ones((graph.num_nodes,graph.num_nodes))\n",
        "        list_blocks += [block_i]\n",
        "    block_color = block_diag(*list_blocks)\n",
        "\n",
        "    map_modified = np.vectorize(get_color_coded_str)(map, block_color)\n",
        "    print(\"\\n\".join([\" \".join([\"{}\"]*map.shape[0])]*map.shape[1]).format(*[x for y in map_modified.tolist() for x in y]))\n",
        "\n",
        "\n",
        "#############################################\n",
        "# Visualization helpers for molecular graphs\n",
        "#############################################\n",
        "\n",
        "allowable_atoms = [\n",
        "    \"H\",\n",
        "    \"C\",\n",
        "    \"N\",\n",
        "    \"O\",\n",
        "    \"F\",\n",
        "    \"C\",\n",
        "    \"Cl\",\n",
        "    \"Br\",\n",
        "    \"I\",\n",
        "    \"H\",\n",
        "    \"Unknown\",\n",
        "]\n",
        "\n",
        "def to_atom(t):\n",
        "    try:\n",
        "        return allowable_atoms[int(t.argmax())]\n",
        "    except:\n",
        "        return \"C\"\n",
        "\n",
        "\n",
        "def to_bond_index(t):\n",
        "    t_s = t.squeeze()\n",
        "    return [1, 2, 3, 4][\n",
        "        int(\n",
        "            torch.dot(\n",
        "                t_s,\n",
        "                torch.tensor(\n",
        "                    range(t_s.size()[0]), dtype=torch.float, device=t.device\n",
        "                ),\n",
        "            ).item()\n",
        "        )\n",
        "    ]\n",
        "\n",
        "def to_rdkit(data, device=None):\n",
        "    has_pos = False\n",
        "    node_list = []\n",
        "    for i in range(data.x.size()[0]):\n",
        "        node_list.append(to_atom(data.x[i][:5]))\n",
        "\n",
        "    # create empty editable mol object\n",
        "    mol = Chem.RWMol()\n",
        "    # add atoms to mol and keep track of index\n",
        "    node_to_idx = {}\n",
        "    invalid_idx = set([])\n",
        "    for i in range(len(node_list)):\n",
        "        if node_list[i] == \"Stop\" or node_list[i] == \"H\":\n",
        "            invalid_idx.add(i)\n",
        "            continue\n",
        "        a = Chem.Atom(node_list[i])\n",
        "        molIdx = mol.AddAtom(a)\n",
        "        node_to_idx[i] = molIdx\n",
        "\n",
        "    added_bonds = set([])\n",
        "    for i in range(0, data.edge_index.size()[1]):\n",
        "        ix = data.edge_index[0][i].item()\n",
        "        iy = data.edge_index[1][i].item()\n",
        "        bond = to_bond_index(data.edge_attr[i])  # <font color='red'>TODO</font> fix this\n",
        "        # bond = 1\n",
        "        # add bonds between adjacent atoms\n",
        "\n",
        "        if data.edge_attr[i].sum() == 0:\n",
        "          continue\n",
        "\n",
        "        if (\n",
        "            (str((ix, iy)) in added_bonds)\n",
        "            or (str((iy, ix)) in added_bonds)\n",
        "            or (iy in invalid_idx or ix in invalid_idx)\n",
        "        ):\n",
        "            continue\n",
        "        # add relevant bond type (there are many more of these)\n",
        "\n",
        "        if bond == 0:\n",
        "            continue\n",
        "        elif bond == 1:\n",
        "            bond_type = Chem.rdchem.BondType.SINGLE\n",
        "            mol.AddBond(node_to_idx[ix], node_to_idx[iy], bond_type)\n",
        "        elif bond == 2:\n",
        "            bond_type = Chem.rdchem.BondType.DOUBLE\n",
        "            mol.AddBond(node_to_idx[ix], node_to_idx[iy], bond_type)\n",
        "        elif bond == 3:\n",
        "            bond_type = Chem.rdchem.BondType.TRIPLE\n",
        "            mol.AddBond(node_to_idx[ix], node_to_idx[iy], bond_type)\n",
        "        elif bond == 4:\n",
        "            bond_type = Chem.rdchem.BondType.SINGLE\n",
        "            mol.AddBond(node_to_idx[ix], node_to_idx[iy], bond_type)\n",
        "\n",
        "        added_bonds.add(str((ix, iy)))\n",
        "\n",
        "    if has_pos:\n",
        "        conf = Chem.Conformer(mol.GetNumAtoms())\n",
        "        for i in range(data.pos.size(0)):\n",
        "            if i in invalid_idx:\n",
        "                continue\n",
        "            p = Point3D(\n",
        "                data.pos[i][0].item(),\n",
        "                data.pos[i][1].item(),\n",
        "                data.pos[i][2].item(),\n",
        "            )\n",
        "            conf.SetAtomPosition(node_to_idx[i], p)\n",
        "        conf.SetId(0)\n",
        "        mol.AddConformer(conf)\n",
        "\n",
        "    # Convert RWMol to Mol object\n",
        "    mol = mol.GetMol()\n",
        "    mol_frags = rdmolops.GetMolFrags(mol, asMols=True, sanitizeFrags=False)\n",
        "    largest_mol = max(mol_frags, default=mol, key=lambda m: m.GetNumAtoms())\n",
        "    return largest_mol\n",
        "\n",
        "\n",
        "def MolTo3DView(mol, size=(300, 300), style=\"stick\", surface=False, opacity=0.5):\n",
        "    \"\"\"Draw molecule in 3D\n",
        "\n",
        "    Args:\n",
        "    ----\n",
        "        mol: rdMol, molecule to show\n",
        "        size: tuple(int, int), canvas size\n",
        "        style: str, type of drawing molecule\n",
        "               style can be 'line', 'stick', 'sphere', 'carton'\n",
        "        surface, bool, display SAS\n",
        "        opacity, float, opacity of surface, range 0.0-1.0\n",
        "    Return:\n",
        "    ----\n",
        "        viewer: py3Dmol.view, a class for constructing embedded 3Dmol.js views in ipython notebooks.\n",
        "    \"\"\"\n",
        "    assert style in ('line', 'stick', 'sphere', 'carton')\n",
        "\n",
        "    mol = Chem.AddHs(mol)\n",
        "    AllChem.EmbedMolecule(mol)\n",
        "    AllChem.MMFFOptimizeMolecule(mol, maxIters=200)\n",
        "    mblock = Chem.MolToMolBlock(mol)\n",
        "    viewer = py3Dmol.view(width=size[0], height=size[1])\n",
        "    viewer.addModel(mblock, 'mol')\n",
        "    viewer.setStyle({style:{}})\n",
        "    if surface:\n",
        "        viewer.addSurface(py3Dmol.SAS, {'opacity': opacity})\n",
        "    viewer.zoomTo()\n",
        "    return viewer\n",
        "\n",
        "def smi2conf(smiles):\n",
        "    '''Convert SMILES to rdkit.Mol with 3D coordinates'''\n",
        "    mol = Chem.MolFromSmiles(smiles)\n",
        "    if mol is not None:\n",
        "        mol = Chem.AddHs(mol)\n",
        "        AllChem.EmbedMolecule(mol)\n",
        "        AllChem.MMFFOptimizeMolecule(mol, maxIters=200)\n",
        "        return mol\n",
        "    else:\n",
        "        return None\n",
        "\n",
        "print(\"Helper functions loaded.\")"
      ]
    },
    {
      "cell_type": "code",
      "execution_count": 7,
      "metadata": {
        "id": "r07NtHDZaoYr"
      },
      "outputs": [],
      "source": [
        "#@title [RUN] Helper functions for unit testing\n",
        "\n",
        "################################\n",
        "# Dummy data helpers for Part 1\n",
        "################################\n",
        "\n",
        "def get_dummy_data_transductive():\n",
        "    input_dim = 64\n",
        "    A = torch.tensor([[0, 1, 1, 0],\n",
        "        [1, 0, 0, 0],\n",
        "        [1, 1, 0, 1],\n",
        "        [1, 1, 1, 0]])\n",
        "    x = torch.rand(A.shape[0], input_dim)\n",
        "    y = torch.tensor([[0.1680148244],\n",
        "        [0.3310719728],\n",
        "        [0.2041909844],\n",
        "        [0.2041909844]])\n",
        "    return A, x, y\n",
        "\n",
        "def get_dummy_data_inductive_layer():\n",
        "    input_dim = 64\n",
        "    A = torch.tensor([[0, 1, 1, 0],\n",
        "        [1, 0, 0, 0],\n",
        "        [1, 1, 0, 1],\n",
        "        [1, 1, 1, 0]])\n",
        "    x = torch.rand(A.shape[0], input_dim)\n",
        "    y = torch.tensor([[0.1086086035],\n",
        "        [0.1543375552],\n",
        "        [0.1992474943],\n",
        "        [0.1992474943]])\n",
        "    return A, x, y\n",
        "\n",
        "def get_dummy_data_inductive_model():\n",
        "    input_dim = 64\n",
        "    A = torch.tensor([[0, 1, 1, 0],\n",
        "        [1, 0, 0, 0],\n",
        "        [1, 1, 0, 1],\n",
        "        [1, 1, 1, 0]])\n",
        "    x = torch.rand(A.shape[0], input_dim)\n",
        "    y = torch.tensor([[-0.0814725384]])\n",
        "    return A, x, y\n",
        "\n",
        "################################\n",
        "# Dummy data helpers for Part 2\n",
        "################################\n",
        "\n",
        "def get_dummy_data():\n",
        "    yield Batch(\n",
        "        x=torch.Tensor([[1], [1]]),\n",
        "        pos=torch.Tensor([[0, 0, 0], [0, 0, 1]]),\n",
        "        edge_index=torch.LongTensor([[0, 1], [1, 0]]),\n",
        "        edge_attr=torch.Tensor([[1], [1]]),\n",
        "    )\n",
        "    yield Batch(\n",
        "        x=torch.Tensor([[1], [1]]),\n",
        "        pos=torch.Tensor([[0, 0, 0], [0, 0, 2]]),\n",
        "        edge_index=torch.LongTensor([[0, 1], [1, 0]]),\n",
        "        edge_attr=torch.Tensor([[1], [1]]),\n",
        "    )\n",
        "    yield Batch(\n",
        "        x=torch.Tensor([[1], [1]]),\n",
        "        pos=torch.Tensor([[0, 0, 0], [1, 2, 3]]),\n",
        "        edge_index=torch.LongTensor([[0, 1], [1, 0]]),\n",
        "        edge_attr=torch.Tensor([[1], [1]]),\n",
        "    )\n",
        "\n",
        "\n",
        "# Invariant Dummies\n",
        "def dummy_not_invariant(x, pos, edge_index, edge_attr):\n",
        "    return pos\n",
        "\n",
        "def dummy_invariant(x, pos, edge_index, edge_attr):\n",
        "    return x\n",
        "\n",
        "def dummy_only_trans_invariant(x, pos, edge_index, edge_attr):\n",
        "    return pos - torch.unsqueeze(pos[0], dim=0)\n",
        "\n",
        "def dummy_only_rot_invariant(x, pos, edge_index, edge_attr):\n",
        "    return torch.sum(pos * torch.unsqueeze(pos[0], dim=0), dim=-1)\n",
        "\n",
        "\n",
        "# Equivariant Dummies\n",
        "def dummy_equivariant(x, pos, edge_index, edge_attr):\n",
        "    return x, pos\n",
        "\n",
        "def dummy_not_equivariant(x, pos, edge_index, edge_attr):\n",
        "    return pos, 2 * pos + 2\n",
        "\n",
        "def dummy_h_not_invariant(x, pos, edge_index, edge_attr):\n",
        "    return pos, pos\n",
        "\n",
        "def dummy_x_not_equivariant(x, pos, edge_index, edge_attr):\n",
        "    return x, 2 * pos + 2\n",
        "\n",
        "def dummy_h_only_trans_invariant(x, pos, edge_index, edge_attr):\n",
        "    return dummy_only_trans_invariant(x, pos, edge_index, edge_attr), pos\n",
        "\n",
        "def dummy_h_only_rot_invariant(x, pos, edge_index, edge_attr):\n",
        "    return dummy_only_rot_invariant(x, pos, edge_index, edge_attr), pos\n",
        "\n",
        "def dummy_x_only_trans_equivariant(x, pos, edge_index, edge_attr):\n",
        "    return x, pos + 2\n",
        "\n",
        "def dummy_x_only_rot_equivariant(x, pos, edge_index, edge_attr):\n",
        "    return x, 2 * pos"
      ]
    },
    {
      "cell_type": "code",
      "execution_count": 8,
      "metadata": {
        "id": "ZSpYtULzawir"
      },
      "outputs": [],
      "source": [
        "# For storing experimental results over the course of the practical\n",
        "RESULTS = {}\n",
        "DF_RESULTS = pd.DataFrame(columns=[\"Test MAE\", \"Val MAE\", \"Epoch\", \"Model\"])"
      ]
    },
    {
      "cell_type": "markdown",
      "metadata": {
        "id": "uCMVQGcyayLT"
      },
      "source": [
        "Great! We are ready to dive into the Practical!\n",
        "\n",
        "---"
      ]
    },
    {
      "cell_type": "markdown",
      "source": [
        "# Graphing Library"
      ],
      "metadata": {
        "id": "jeN6Me1h7Qr0"
      }
    },
    {
      "cell_type": "code",
      "source": [
        "!pip install einops\n",
        "# Import stuff\n",
        "import torch\n",
        "import numpy as np\n",
        "import einops\n",
        "\n",
        "import pandas as pd\n",
        "import plotly.express as px\n",
        "import plotly.io as pio\n",
        "\n",
        "from plotly.subplots import make_subplots\n",
        "\n",
        "import plotly.graph_objects as go\n",
        "\n",
        "from functools import *\n",
        "\n",
        "import copy\n",
        "import re\n",
        "\n",
        "\n",
        "# %%\n",
        "# Key Helpers\n",
        "def to_numpy(tensor):\n",
        "    if isinstance(tensor, np.ndarray):\n",
        "        return tensor\n",
        "    elif isinstance(tensor, list):\n",
        "        # if isinstance(tensor[0])\n",
        "        tensor = list(map(to_numpy, tensor))\n",
        "        array = np.array(tensor)\n",
        "        if array.dtype != np.dtype(\"O\"):\n",
        "            return array\n",
        "        else:\n",
        "            return to_numpy_ragged_2d(tensor)\n",
        "    elif isinstance(tensor, (torch.Tensor, torch.nn.parameter.Parameter)):\n",
        "        if tensor.dtype == torch.bfloat16:\n",
        "            tensor = tensor.float()\n",
        "        return tensor.detach().cpu().numpy()\n",
        "    elif type(tensor) in [int, float, bool, str]:\n",
        "        return np.array(tensor)\n",
        "    elif isinstance(tensor, pd.Series):\n",
        "        return tensor.values\n",
        "    else:\n",
        "        raise ValueError(f\"Input to to_numpy has invalid type: {type(tensor)}\")\n",
        "\n",
        "\n",
        "def to_numpy_ragged_2d(lists):\n",
        "    # Assumes input is a ragged list (of lists, tensors or arrays). Further assumes it's 2D\n",
        "    lists = list(map(to_numpy, lists))\n",
        "    a = len(lists)\n",
        "    b = max(map(len, lists))\n",
        "    base_array = np.ones((a, b))\n",
        "    base_array.fill(np.NINF)\n",
        "    for i in range(a):\n",
        "        base_array[i, : len(lists[i])] = lists[i]\n",
        "    return base_array\n",
        "\n",
        "\n",
        "def melt(tensor):\n",
        "    arr = to_numpy(tensor)\n",
        "    n = arr.ndim\n",
        "    grid = np.ogrid[tuple(map(slice, arr.shape))]\n",
        "    out = np.empty(arr.shape + (n + 1,), dtype=np.result_type(arr.dtype, int))\n",
        "    offset = 1\n",
        "\n",
        "    for i in range(n):\n",
        "        out[..., i + offset] = grid[i]\n",
        "    out[..., -1 + offset] = arr\n",
        "    out.shape = (-1, n + 1)\n",
        "\n",
        "    df = pd.DataFrame(out, columns=[\"value\"] + [str(i) for i in range(n)], dtype=float)\n",
        "    return df.convert_dtypes([float] + [int] * n)\n",
        "\n",
        "\n",
        "# df = melt(torch.randn((1, 2, 3)))\n",
        "# display(df)\n",
        "\n",
        "\n",
        "def broadcast_up(array, shape, axis_str=None):\n",
        "    n = len(shape)\n",
        "    m = len(array.shape)\n",
        "    if axis_str is None:\n",
        "        axis_str = \" \".join([f\"x{i}\" for i in range(n - m, n)])\n",
        "    return einops.repeat(\n",
        "        array,\n",
        "        f\"{axis_str}->({' '.join([f'x{i}' for i in range(n)])})\",\n",
        "        **{f\"x{i}\": shape[i] for i in range(n)},\n",
        "    )\n",
        "\n",
        "\n",
        "# %%\n",
        "# Defining Kwargs\n",
        "DEFAULT_KWARGS = dict(\n",
        "    xaxis=\"x\",  # Good\n",
        "    yaxis=\"y\",  # Good\n",
        "    range_x=None,  # Good\n",
        "    range_y=None,  # Good\n",
        "    animation_name=\"snapshot\",  # Good\n",
        "\n",
        "    color_name=\"Color\",  # Good\n",
        "    color=None,\n",
        "    log_x=False,  # Good\n",
        "    log_y=False,  # Good\n",
        "    toggle_x=False,  # Good\n",
        "    toggle_y=False,  # Good\n",
        "    legend=True,  # Good\n",
        "    hover=None,  # Good\n",
        "    hover_name=\"data\",  # GOod\n",
        "    return_fig=False,  # Good\n",
        "    animation_index=None,  # Good\n",
        "    line_labels=None,  # Good\n",
        "    markers=False,  # Good\n",
        "    frame_rate=None,  # Good\n",
        "    facet_labels=None,\n",
        "    facet_name=\"facet\",\n",
        "    include_diag=False,\n",
        "    debug=False,\n",
        "    transition=\"none\",  # If \"none\" then turns off animation transitions, it just jumps between frames\n",
        "    animation_maxrange_x=True,  # Figure out the maximal range if animation across all frames and fix\n",
        "    animation_maxrange_y=True,  # Figure out the maximal range if animation across all frames and fix\n",
        ")\n",
        "\n",
        "\n",
        "def split_kwargs(kwargs):\n",
        "    custom = dict(DEFAULT_KWARGS)\n",
        "    plotly = {}\n",
        "    for k, v in kwargs.items():\n",
        "        if k in custom:\n",
        "            custom[k] = v\n",
        "        else:\n",
        "            plotly[k] = v\n",
        "    return custom, plotly\n",
        "\n",
        "\n",
        "# split_kwargs(dict(xaxis=\"hi\", yaxis=\"hi\", animation_name=\"hi\", color_name=\"hi\", log_x=True, log_y=True, toggle_x=True, toggle_y=True, legend=True, hover=None, xaxis_title=\"hi\", yaxis_title=\"hi\"))\n",
        "\n",
        "# %%\n",
        "# Figure Editing\n",
        "## Specific Helper Functions\n",
        "\n",
        "\n",
        "def update_play_button(button, custom_kwargs):\n",
        "    if custom_kwargs[\"transition\"] == \"none\":\n",
        "        button.args[1][\"transition\"][\"duration\"] = 0\n",
        "    else:\n",
        "        button.args[1][\"transition\"][\"easing\"] = custom_kwargs[\"transition\"]\n",
        "    if custom_kwargs[\"frame_rate\"] is not None:\n",
        "        button.args[1][\"frame\"][\"duration\"] = custom_kwargs[\"frame_rate\"]\n",
        "\n",
        "\n",
        "def update_hovertemplate(data, string):\n",
        "    if data.hovertemplate is not None:\n",
        "        data.hovertemplate = (\n",
        "            data.hovertemplate[:-15] + \"<br>\" + string + \"<extra></extra>\"\n",
        "        )\n",
        "\n",
        "\n",
        "def add_button(layout, button, pos=None):\n",
        "    if pos is None:\n",
        "        num_prev_buttons = len(layout.updatemenus)\n",
        "        button[\"y\"] = 1 - num_prev_buttons * 0.15\n",
        "    else:\n",
        "        button[\"y\"] = pos\n",
        "    if \"x\" not in button:\n",
        "        button[\"x\"] = -0.1\n",
        "    layout.updatemenus = layout.updatemenus + (button,)\n",
        "\n",
        "\n",
        "def add_axis_toggle(layout, axis, pos=None):\n",
        "    assert axis in \"xy\", f\"Invalid axis: {axis}\"\n",
        "    is_already_log = layout[f\"{axis}axis\"].type == \"log\"\n",
        "    toggle_axis = dict(\n",
        "        type=\"buttons\",\n",
        "        active=0 if is_already_log else -1,\n",
        "        buttons=[\n",
        "            dict(\n",
        "                label=f\"Log {axis}-axis\",\n",
        "                method=\"relayout\",\n",
        "                args=[{f\"{axis}axis.type\": \"log\"}],\n",
        "                args2=[{f\"{axis}axis.type\": \"linear\"}],\n",
        "            )\n",
        "        ],\n",
        "    )\n",
        "    add_button(layout, toggle_axis, pos=pos)\n",
        "\n",
        "\n",
        "## Global Helpers\n",
        "\n",
        "\n",
        "def update_data(data, custom_kwargs, index):\n",
        "    if custom_kwargs[\"hover\"] is not None and isinstance(data, go.Heatmap):\n",
        "        # Assumption -\n",
        "        hover = custom_kwargs[\"hover\"]\n",
        "        hover_name = custom_kwargs[\"hover_name\"]\n",
        "        hover = to_numpy(hover)\n",
        "        data.customdata = hover\n",
        "        update_hovertemplate(data, f\"{hover_name}=%{{customdata}}\")\n",
        "    if custom_kwargs[\"markers\"]:\n",
        "        data[\"mode\"] = \"lines+markers\"\n",
        "    if custom_kwargs[\"line_labels\"] is not None:\n",
        "        data[\"name\"] = custom_kwargs[\"line_labels\"][index]\n",
        "        data[\"hovertemplate\"] = re.sub(\n",
        "            f\"={index}\", f\"={data['name']}\", data[\"hovertemplate\"]\n",
        "        )\n",
        "    return\n",
        "\n",
        "\n",
        "def update_data_list(data_list, custom_kwargs):\n",
        "    for c, data in enumerate(data_list):\n",
        "        update_data(data, custom_kwargs, c)\n",
        "    return\n",
        "\n",
        "\n",
        "def update_frame(frame, custom_kwargs, frame_index):\n",
        "    # if custom_kwargs['animation_index'] is not None:\n",
        "    #     frame['name'] = custom_kwargs['animation_index'][frame_index]\n",
        "    update_data_list(frame[\"data\"], custom_kwargs)\n",
        "    return\n",
        "\n",
        "\n",
        "def update_layout(layout, custom_kwargs, is_animation):\n",
        "    if custom_kwargs[\"debug\"]:\n",
        "        print(layout, is_animation)\n",
        "    layout.xaxis.title.text = custom_kwargs[\"xaxis\"]\n",
        "    layout.yaxis.title.text = custom_kwargs[\"yaxis\"]\n",
        "    if custom_kwargs[\"log_x\"]:\n",
        "        layout.xaxis.type = \"log\"\n",
        "        if custom_kwargs[\"range_x\"] is not None:\n",
        "            range_x_0, range_x_1 = custom_kwargs[\"range_x\"]\n",
        "            layout.xaxis.range = (np.log10(range_x_0), np.log10(range_x_1))\n",
        "    else:\n",
        "        if custom_kwargs[\"range_x\"] is not None:\n",
        "            layout.xaxis.range = custom_kwargs[\"range_x\"]\n",
        "    if custom_kwargs[\"log_y\"]:\n",
        "        layout.yaxis.type = \"log\"\n",
        "        if custom_kwargs[\"range_y\"] is not None:\n",
        "            range_y_0, range_y_1 = custom_kwargs[\"range_y\"]\n",
        "            layout.yaxis.range = (np.log10(range_y_0), np.log10(range_y_1))\n",
        "    else:\n",
        "        if custom_kwargs[\"range_y\"] is not None:\n",
        "            layout.yaxis.range = custom_kwargs[\"range_y\"]\n",
        "    if custom_kwargs[\"toggle_x\"]:\n",
        "        add_axis_toggle(layout, \"x\")\n",
        "    if custom_kwargs[\"toggle_y\"]:\n",
        "        add_axis_toggle(layout, \"y\")\n",
        "    if not custom_kwargs[\"legend\"]:\n",
        "        layout.showlegend = False\n",
        "    if custom_kwargs[\"facet_labels\"]:\n",
        "        for i, label in enumerate(custom_kwargs[\"facet_labels\"]):\n",
        "            layout.annotations[i][\"text\"] = label\n",
        "            if i > 0:\n",
        "                layout[f\"xaxis{i+1}\"].title = layout[\"xaxis\"].title\n",
        "\n",
        "    if is_animation:\n",
        "        for updatemenu in layout.updatemenus:\n",
        "            if \"buttons\" in updatemenu:\n",
        "                for button in updatemenu[\"buttons\"]:\n",
        "                    if button.label == \"&#9654;\":\n",
        "                        update_play_button(button, custom_kwargs)\n",
        "        layout.sliders[0].currentvalue.prefix = custom_kwargs[\"animation_name\"] + \"=\"\n",
        "        if custom_kwargs[\"animation_index\"] is not None:\n",
        "            steps = layout.sliders[0].steps\n",
        "            for c, step in enumerate(steps):\n",
        "                step.label = custom_kwargs[\"animation_index\"][c]\n",
        "\n",
        "\n",
        "def update_fig(fig, custom_kwargs, inplace=True):\n",
        "    if custom_kwargs[\"debug\"]:\n",
        "        print(fig.frames == tuple())\n",
        "    if not inplace:\n",
        "        fig = copy.deepcopy(fig)\n",
        "    update_data_list(fig[\"data\"], custom_kwargs)\n",
        "    is_animation = \"frames\" in fig and fig.frames != tuple()\n",
        "    if is_animation:\n",
        "        for frame_index, frame in enumerate(fig[\"frames\"]):\n",
        "            update_frame(frame, custom_kwargs, frame_index)\n",
        "    update_layout(fig.layout, custom_kwargs, is_animation)\n",
        "    return fig\n",
        "\n",
        "\n",
        "# %%\n",
        "# Plotting Functions\n",
        "def line_or_scatter(\n",
        "    y, x=None, mode=\"multi\", squeeze=True, plot_type=None, animation_frame=None, facet_col=None, **kwargs\n",
        "):\n",
        "    custom_kwargs, plotly_kwargs = split_kwargs(kwargs)\n",
        "    array = to_numpy(y)\n",
        "    animation_name = custom_kwargs[\"animation_name\"]\n",
        "    xaxis = custom_kwargs[\"xaxis\"]\n",
        "    yaxis = custom_kwargs[\"yaxis\"]\n",
        "    color_name = custom_kwargs[\"color_name\"]\n",
        "    color = custom_kwargs[\"color\"]\n",
        "    facet_name = custom_kwargs[\"facet_name\"]\n",
        "    if custom_kwargs[\"debug\"]:\n",
        "        print(color, color_name)\n",
        "    if squeeze:\n",
        "        array = array.squeeze()\n",
        "\n",
        "    df = melt(array)\n",
        "\n",
        "    _color_name = None\n",
        "    _animation_name = None\n",
        "    _facet_col = None\n",
        "    if plot_type == \"line\":\n",
        "        # x and y\n",
        "        cols_not_taken = list(range(len(df.columns) - 1))\n",
        "        if animation_frame is not None:\n",
        "            _animation_name = str(animation_frame)\n",
        "\n",
        "            cols_not_taken.remove(animation_frame)\n",
        "\n",
        "        if facet_col is not None:\n",
        "            _facet_col = str(facet_col)\n",
        "\n",
        "            cols_not_taken.remove(facet_col)\n",
        "\n",
        "        if len(cols_not_taken) == 1:\n",
        "            _color_name = None\n",
        "            _x_name = str(cols_not_taken[0])\n",
        "        elif len(cols_not_taken) == 2:\n",
        "            _color_name = str(cols_not_taken[0])\n",
        "            _x_name = str(cols_not_taken[1])\n",
        "        else:\n",
        "            raise ValueError(f\"Input tensor has too many dimensions: {array.shape}. Available cols {cols_not_taken}\")\n",
        "\n",
        "    else:\n",
        "        cols_not_taken = list(range(len(df.columns) - 1))\n",
        "        if animation_frame is not None:\n",
        "            _animation_name = str(animation_frame)\n",
        "\n",
        "            cols_not_taken.remove(animation_frame)\n",
        "\n",
        "        if facet_col is not None:\n",
        "            _facet_col = str(facet_col)\n",
        "\n",
        "            cols_not_taken.remove(facet_col)\n",
        "\n",
        "        if len(cols_not_taken) == 1:\n",
        "            _color_name = None\n",
        "            _x_name = str(cols_not_taken[0])\n",
        "        else:\n",
        "            raise ValueError(f\"Input tensor has too many dimensions: {array.shape}. Available cols {cols_not_taken}\")\n",
        "\n",
        "        if color is not None:\n",
        "            _color_name = color_name\n",
        "            color = to_numpy(color)\n",
        "            color = broadcast_up(color, array.shape)\n",
        "            df[_color_name] = color.flatten()\n",
        "    if x is not None:\n",
        "        x = to_numpy(x)\n",
        "        x = broadcast_up(x, array.shape)\n",
        "        df[_x_name] = x.flatten()\n",
        "    if custom_kwargs[\"debug\"]:\n",
        "        display(df) #ignore\n",
        "\n",
        "    if custom_kwargs[\"hover\"] is not None:\n",
        "        # TODO: Add support for multi-hover\n",
        "        hover_data = to_numpy(custom_kwargs[\"hover\"])\n",
        "        df[custom_kwargs[\"hover_name\"]] = broadcast_up(hover_data, array.shape)\n",
        "        hover_names = [custom_kwargs[\"hover_name\"]]\n",
        "    else:\n",
        "        hover_names = []\n",
        "\n",
        "    if custom_kwargs[\"debug\"]:\n",
        "        display(df) #ignore\n",
        "\n",
        "    if plot_type == \"line\":\n",
        "        plot_fn = px.line\n",
        "    elif plot_type == \"scatter\":\n",
        "        plot_fn = px.scatter\n",
        "    else:\n",
        "        raise ValueError\n",
        "\n",
        "    fig = plot_fn(\n",
        "        df,\n",
        "        x=_x_name,\n",
        "        y=\"value\",\n",
        "        color=_color_name,\n",
        "        animation_frame=_animation_name,\n",
        "        facet_col=_facet_col,\n",
        "        hover_data=hover_names,\n",
        "        labels={\n",
        "            _x_name: xaxis,\n",
        "            \"value\": yaxis,\n",
        "            _color_name: color_name,\n",
        "            _animation_name: animation_name,\n",
        "            _facet_col: facet_name,\n",
        "        },\n",
        "        **plotly_kwargs,\n",
        "    )\n",
        "    if custom_kwargs['include_diag']:\n",
        "        if facet_col is None:\n",
        "            max_value = array.max()\n",
        "            min_value = array.min()\n",
        "            if x is not None:\n",
        "                max_value = max(max_value, x.max())\n",
        "                min_value = min(min_value, x.min())\n",
        "            fig.add_shape(\n",
        "                type=\"line\",\n",
        "                x0=min_value,\n",
        "                y0=min_value,\n",
        "                x1=max_value,\n",
        "                y1=max_value,\n",
        "                line={\n",
        "                    \"color\":\"gray\",\n",
        "                    \"dash\":\"dash\",\n",
        "                },\n",
        "                opacity=0.3\n",
        "            )\n",
        "        else:\n",
        "            for col in range(array.shape[facet_col]):\n",
        "                max_value = array.max()\n",
        "                min_value = array.min()\n",
        "                if x is not None:\n",
        "                    max_value = max(max_value, x.max())\n",
        "                    min_value = min(min_value, x.min())\n",
        "                fig.add_shape(\n",
        "                    type=\"line\",\n",
        "                    x0=min_value,\n",
        "                    y0=min_value,\n",
        "                    x1=max_value,\n",
        "                    y1=max_value,\n",
        "                    line={\n",
        "                        \"color\":\"gray\",\n",
        "                        \"dash\":\"dash\",\n",
        "                    },\n",
        "                    opacity=0.3,\n",
        "                    col=col+1,\n",
        "                    row=1,\n",
        "                )\n",
        "\n",
        "    if _animation_name is not None:\n",
        "        if custom_kwargs[\"animation_maxrange_x\"] and x is not None:\n",
        "            fig.layout.xaxis.range = [x.min(), x.max()]\n",
        "        if custom_kwargs[\"animation_maxrange_y\"]:\n",
        "            fig.layout.yaxis.range = [array.min(), array.max()]\n",
        "\n",
        "    update_fig(fig, custom_kwargs)\n",
        "\n",
        "    if custom_kwargs[\"return_fig\"]:\n",
        "        return fig\n",
        "    else:\n",
        "        fig.show()\n",
        "\n",
        "\n",
        "def scatter(x, y, *args, **kwargs):\n",
        "    return line_or_scatter(y, x, *args, plot_type=\"scatter\", **kwargs)\n",
        "scatter = partial(scatter, color_continuous_scale=\"Portland\")\n",
        "\n",
        "line = partial(line_or_scatter, plot_type=\"line\")\n",
        "\n",
        "# fig = (line(np.stack([np.arange(5), np.arange(5)+10]), x=np.random.randn(2, 5)+2, debug=True)) # TODO: Figure out Plotly bug where scatter + line axes don't change on animation\n",
        "\n",
        "# %%\n",
        "def imshow_base(array, **kwargs):\n",
        "    array = to_numpy(array)\n",
        "    custom_kwargs, plotly_kwargs = split_kwargs(kwargs)\n",
        "    array = to_numpy(array)\n",
        "    fig = px.imshow(array, **plotly_kwargs)\n",
        "    update_fig(fig, custom_kwargs)\n",
        "    if custom_kwargs[\"return_fig\"]:\n",
        "        return fig\n",
        "    else:\n",
        "        fig.show()\n",
        "\n",
        "\n",
        "imshow = partial(\n",
        "    imshow_base,\n",
        "    color_continuous_scale=\"RdBu\",\n",
        "    color_continuous_midpoint=0.0,\n",
        "    aspect=\"auto\",\n",
        ")\n",
        "imshow_pos = partial(imshow_base, color_continuous_scale=\"Blues\", aspect=\"auto\")\n",
        "\n",
        "legend_in_plot_dict = dict(\n",
        "    xanchor=\"right\",\n",
        "    x=0.95,\n",
        "    title=\"\",\n",
        "    orientation=\"h\",\n",
        "    y=1.0,\n",
        "    yanchor=\"top\",\n",
        "    bgcolor=\"rgba(255, 255, 255, 0.3)\",\n",
        ")\n",
        "\n",
        "\n",
        "def put_legend_in_plot(fig):\n",
        "    fig.update_layout(legend=legend_in_plot_dict)\n",
        "\n",
        "\n",
        "# %%\n",
        "\n",
        "\n",
        "def complex_polar(complex_tensor, **kwargs):\n",
        "    r = to_numpy(complex_tensor.abs())\n",
        "    theta = to_numpy(complex_tensor.angle()) * 180 / np.pi\n",
        "    custom_kwargs, plotly_kwargs = split_kwargs(kwargs)\n",
        "    fig = px.scatter_polar(r=r, theta=theta, **plotly_kwargs)\n",
        "    update_fig(fig, custom_kwargs)\n",
        "    if custom_kwargs[\"return_fig\"]:\n",
        "        return fig\n",
        "    else:\n",
        "        fig.show()\n",
        "\n",
        "\n",
        "# %%\n",
        "def histogram(tensor, **kwargs):\n",
        "    tensor = to_numpy(tensor)\n",
        "    custom_kwargs, plotly_kwargs = split_kwargs(kwargs)\n",
        "    fig = px.histogram(tensor, **plotly_kwargs)\n",
        "    update_fig(fig, custom_kwargs)\n",
        "    if custom_kwargs[\"return_fig\"]:\n",
        "        return fig\n",
        "    else:\n",
        "        fig.show()\n",
        "\n",
        "# %%\n",
        "def figs_to_subplots(figs, rows=1, cols=None, subplot_titles=[], shared_yaxes=False, shared_xaxes=False, xaxis=\"\", yaxis=\"\", title=\"\", reverse_y=False, reverse_x=False, colorscale=\"RdBu\", cmid=0.0, cmax=None, cmin=None, return_fig=False, **layout_kwargs):\n",
        "    \"\"\"\n",
        "    Janky function that takes a list of figures and makes a plot with each as a subplot. Assumes the list is flattened, and will put it into any subplot shape.\n",
        "    \"\"\"\n",
        "    if cols is None:\n",
        "        cols = len(figs)\n",
        "    assert (rows * cols)==len(figs)\n",
        "    sfig = make_subplots(rows=rows, cols=cols, subplot_titles=subplot_titles, shared_xaxes=shared_xaxes, shared_yaxes=shared_yaxes)\n",
        "\n",
        "    for i, fig in enumerate(figs):\n",
        "        c = 1 + (i//(rows))\n",
        "        r = 1 + (i%rows)\n",
        "        for trace in fig.data:\n",
        "            sfig.add_trace(trace, row=r, col=c)\n",
        "    sfig.update_layout(title_text=title)\n",
        "    if shared_xaxes:\n",
        "        for c in range(1, cols+1):\n",
        "            sfig.update_xaxes(title_text=xaxis, col=c, row=1)\n",
        "    else:\n",
        "        sfig.update_xaxes(title_text=xaxis)\n",
        "    if shared_yaxes:\n",
        "        for r in range(1, rows+1):\n",
        "            sfig.update_yaxes(title_text=yaxis, col=1, row=r)\n",
        "    else:\n",
        "        sfig.update_yaxes(title_text=yaxis)\n",
        "    if reverse_y:\n",
        "        sfig.update_yaxes(autorange=\"reversed\")\n",
        "    if reverse_x:\n",
        "        sfig.update_xaxes(autorange=\"reversed\")\n",
        "\n",
        "    if figs[0].data[0].type==\"heatmap\":\n",
        "        sfig.update_coloraxes(colorscale=colorscale, cmid=cmid, cmin=cmin, cmax=cmax)\n",
        "\n",
        "    sfig.update_layout(**layout_kwargs)\n",
        "\n",
        "    if return_fig:\n",
        "        return sfig\n",
        "    else:\n",
        "        sfig.show()"
      ],
      "metadata": {
        "colab": {
          "base_uri": "https://localhost:8080/"
        },
        "id": "LJTtcpAh7U3n",
        "outputId": "c46edd2b-f93e-4c24-820f-e9b7d07afe1c"
      },
      "execution_count": 9,
      "outputs": [
        {
          "output_type": "stream",
          "name": "stdout",
          "text": [
            "Requirement already satisfied: einops in /usr/local/lib/python3.10/dist-packages (0.7.0)\n"
          ]
        }
      ]
    },
    {
      "cell_type": "markdown",
      "metadata": {
        "id": "JvssQ0SOeJWR"
      },
      "source": [
        "# <font color=blue> **Part 1: Interpreting a GCN** </font>\n"
      ]
    },
    {
      "cell_type": "markdown",
      "metadata": {
        "id": "ClxVKxwvB41e"
      },
      "source": [
        "# Preliminaries on graphs and notation\n",
        "\n",
        "As described in the lectures, a graph is a mathematical structure which defines a set of entities which are related in some way. Graphs contain **nodes** or **vertices** representing said entities with related nodes being connected by an **edge** or **link** that records the relation.\n",
        "\n",
        "Mathematically we can define simple graph as an ordered tuple ${G} = (V, E)$ where $V$ is a set of nodes (or vertices) and $E \\subseteq (V \\times V$) is a 2-tuple set of the edges in the graph. Hence if $u$ and $v$ are nodes in ${G}$, their relation is recorded with edge as $(u,v) \\in E$ if the edge is directed from $u$ to $v$.\n",
        "\n",
        "- The **neighbours of a node** $u$ is the set of nodes which share an edge with $u$, denoted ${N}(u) = \\{v | (u, v) \\in E\\}$.\n",
        "\n",
        "- Edges can be directed or undirected. **Directed** edges are uni-directional relations from a source node $u$ and target node $v$ recorded as $(u,v) \\in E$ and importantly $(u,v) \\neq (v,u)$. **Undirected edges** are bi-directional and hence $(u,v) == (v,u)$.\n",
        "\n",
        "- Graphs can be represented nicely by matrices. For a graph with $n$ nodes, $A \\in \\mathbb{R}^{n \\times n}$ is a symmetric **adjacency matrix** where $a_{i,j}$ is the weight of the edge between nodes $v_i$ and $v_j$. If $(v_i, v_j) \\notin E$ then $a_{i,j} = 0$.\n",
        "\n",
        "- A diagonal **degree matrix** $D \\in \\mathbb{R}^{n \\times n}$ is defined as the matrix where each entry on the diagonal is the row-sum of the adjacency matrix. Note that this gives us what we need to define the Laplacian matrix of the graph $L = D-A$.\n",
        "\n",
        "- For graphs with node features, each node $v_i \\in V$ has an associated $d$-dimensional feature vector $\\mathbf{x_i} \\in \\mathbb{R}^{d}$. Then the **feature matrix** $\\mathbf{X} \\in \\mathbb{R}^{n \\times d}$ can be used to represent the feature vectors for every node in the graph.\n",
        "\n",
        "- Edge features can be defines as a 3D Adjacency matrix, $\\mathbb{R}^{n \\times n \\times e}$ where $e$ is the number of dimensions of the edge features. The absence of an edge can be represented with an $n$ dimensional vector of zeros at the corresponding entry."
      ]
    },
    {
      "cell_type": "markdown",
      "metadata": {
        "id": "Arp-90joB6uu"
      },
      "source": [
        "# 🦾 Machine learning on graph structured data with GNNs\n",
        "\n",
        "Machine learning tasks on graph structured data can be categorised based on the nuanced differences of the dataset and the task being studied. Most generally, we are interested in the following basic tasks:\n",
        "\n",
        "- **Node prediction:** a data observation is a node within a graph, and we are interested in doing node classification/regression. Eg. the Cora citation network dataset, where we are interested in categorising papers that are nodes of a larger citation network.\n",
        "- **Edge prediction:** we are interested in predicting edges between samples in the dataset, for instance to predict links between potential connections in a social network.\n",
        "- **Graph level prediction:** a data observation is an entire graph, i.e. our dataset consists of graphs and we are interested in graph classification/regression. Eg. the QM9 molecular properties dataset, where we are interested in predicting quantum mechanical properties of each molecule/graph in the dataset.\n",
        "\n",
        "<img src=\"https://drive.google.com/uc?export=view&id=1ZGdGCzR6MmQnQZuH__I5JltannhHfjem\"  width=\"800\">\n",
        "\n",
        "In this project we focus on Node prediction and graph level prediction examples."
      ]
    },
    {
      "cell_type": "markdown",
      "metadata": {
        "id": "erI_trUhTvSB"
      },
      "source": [
        "# Cora Dataset\n",
        "\n",
        "Cora is a small citation network dataset which was used extensively in early GNN papers (it is now discouraged to publish papers working with Cora as it is very easy to overfit on). There are many variations of the Cora dataset originally presented in [\"Automating the Construction of Internet Portals with Machine Learning\"](https://link.springer.com/article/10.1023/A:1009953814988) by McCallum et al. .\n",
        "\n",
        "We will use the **Cora dataset** variant as presented in [“FastGCN: Fast Learning with Graph Convolutional Networks via Importance Sampling”](https://arxiv.org/abs/1801.10247). It describes a citation network of 2708 papers and our task is classify each paper into one of **7 different categories**. Some quick facts of this Cora variant:\n",
        "\n",
        "*   There are 2708 papers (i.e. observations in the dataset)\n",
        "  * 1208 training\n",
        "  * 500 validation\n",
        "  * 1000 test\n",
        "*   Each paper is represented by a 1433 dimensional bag-of-words vector\n",
        "*   Each paper belongs to one of 7 classes"
      ]
    },
    {
      "cell_type": "markdown",
      "metadata": {
        "id": "h0wx4woEtVcI"
      },
      "source": [
        "Ignoring GNNs for a moment, our first attempt would be to use a simple model such as a **feed forward MLP**. In fact, it's always good practice to first explore the task with simpler models for debugging and benchmarking.\n",
        "\n",
        "We will work with the Cora dataset through a `CoraDataset` object which will download the dataset and provides the following methods:\n",
        "\n",
        "* a function that returns torch tensors for `train_x`, `train_y`, `validation_x`, `validation_y`, `test_x`, `test_y`, corresponding to input x and target y for each of the train/val/test splits.\n",
        "> `train_val_test_split(self)`\n",
        "\n",
        "* a function that returns the feature matrix $\\mathbf{X} \\in \\mathbb{R}^{|V| \\times d}$ where $V$ is the set of nodes and $d$ the feature vector dimensionality.\n",
        "> `get_fullx(self)`\n",
        "\n",
        "* a function that returns a dense version of the adjacency matrix $\\mathbf{A}$\n",
        "> `get_adjacency_matrix(self)`"
      ]
    },
    {
      "cell_type": "code",
      "execution_count": 10,
      "metadata": {
        "cellView": "form",
        "id": "OxvbRR52iKEf"
      },
      "outputs": [],
      "source": [
        "# @title [RUN] `CoraDataset` implementation\n",
        "# Let's get the Planetoid Cora dataset from\n",
        "# “FastGCN: Fast Learning with Graph Convolutional\n",
        "# Networks via Importance Sampling” (https://arxiv.org/abs/1801.10247)\n",
        "\n",
        "from torch_geometric.datasets import Planetoid\n",
        "from torch_geometric.utils import to_dense_adj\n",
        "\n",
        "class CoraDataset(object):\n",
        "    def __init__(self):\n",
        "        super(CoraDataset, self).__init__()\n",
        "        cora_pyg = Planetoid(root='/tmp/Cora', name='Cora', split=\"full\")\n",
        "        self.cora_data = cora_pyg[0]\n",
        "        self.train_mask = self.cora_data.train_mask\n",
        "        self.valid_mask = self.cora_data.val_mask\n",
        "        self.test_mask = self.cora_data.test_mask\n",
        "\n",
        "    def train_val_test_split(self):\n",
        "        train_x = self.cora_data.x[self.cora_data.train_mask]\n",
        "        train_y = self.cora_data.y[self.cora_data.train_mask]\n",
        "\n",
        "        valid_x = self.cora_data.x[self.cora_data.val_mask]\n",
        "        valid_y = self.cora_data.y[self.cora_data.val_mask]\n",
        "\n",
        "        test_x = self.cora_data.x[self.cora_data.test_mask]\n",
        "        test_y = self.cora_data.y[self.cora_data.test_mask]\n",
        "        return train_x, train_y, valid_x, valid_y, test_x, test_y\n",
        "\n",
        "    def get_fullx(self):\n",
        "        return self.cora_data.x\n",
        "\n",
        "    def get_adjacency_matrix(self):\n",
        "        # We will ignore this for the first part\n",
        "        adj = to_dense_adj(self.cora_data.edge_index)[0]\n",
        "        return adj"
      ]
    },
    {
      "cell_type": "code",
      "execution_count": 11,
      "metadata": {
        "colab": {
          "base_uri": "https://localhost:8080/"
        },
        "id": "q_7BEhQJt6AS",
        "outputId": "fb96108e-2466-4377-b3e7-87292884a596"
      },
      "outputs": [
        {
          "output_type": "stream",
          "name": "stdout",
          "text": [
            "Train shape x: torch.Size([1208, 1433]), y: torch.Size([1208])\n",
            "Val shape x: torch.Size([500, 1433]), y: torch.Size([500])\n",
            "Test shape x: torch.Size([1000, 1433]), y: torch.Size([1000])\n"
          ]
        }
      ],
      "source": [
        "# Lets download our cora dataset and get the splits\n",
        "cora_data = CoraDataset()\n",
        "train_x, train_y, valid_x, valid_y, test_x, test_y = cora_data.train_val_test_split()\n",
        "\n",
        "# Always check and confirm our data shapes match our expectations\n",
        "print(f\"Train shape x: {train_x.shape}, y: {train_y.shape}\")\n",
        "print(f\"Val shape x: {valid_x.shape}, y: {valid_y.shape}\")\n",
        "print(f\"Test shape x: {test_x.shape}, y: {test_y.shape}\")"
      ]
    },
    {
      "cell_type": "markdown",
      "metadata": {
        "id": "k0gPZZdftpzb"
      },
      "source": [
        "🥼 We have implemented a simple MLP model for the Cora dataset to get you started."
      ]
    },
    {
      "cell_type": "code",
      "execution_count": 12,
      "metadata": {
        "cellView": "form",
        "id": "h1fue_eNL4Z_"
      },
      "outputs": [],
      "source": [
        "# @title [RUN] Hyperparameters for simple MLP\n",
        "\n",
        "NUM_EPOCHS =  100 #@param {type:\"integer\"}\n",
        "LR         = 0.001 #@param {type:\"number\"}\n",
        "\n",
        "#you can add more here if you need"
      ]
    },
    {
      "cell_type": "code",
      "execution_count": 13,
      "metadata": {
        "id": "sFigi0DQT3zG"
      },
      "outputs": [],
      "source": [
        "# Lets implement a simple feed forward MLP\n",
        "\n",
        "class SimpleMLP(Module):\n",
        "    \"\"\"A simple feed forward neural network with no hidden layers\n",
        "\n",
        "    Args:\n",
        "        input_dim (int): Dimensionality of the input feature vectors\n",
        "        output_dim (int): Dimensionality of the output softmax distribution\n",
        "    \"\"\"\n",
        "    def __init__(self, input_dim, output_dim):\n",
        "        super(SimpleMLP, self).__init__()\n",
        "        self.layer_1 = Linear(input_dim, input_dim)\n",
        "        self.layer_2 = Linear(input_dim, output_dim)\n",
        "\n",
        "    def forward(self, x):\n",
        "        \"\"\"Forward pass through SimpleMLP given input tensor x\n",
        "\n",
        "        Args:\n",
        "            x (torch.Tensor): input tensor\n",
        "        \"\"\"\n",
        "        x = self.layer_1(x)\n",
        "        x = F.relu(x)\n",
        "        x = self.layer_2(x)\n",
        "        y_hat = x\n",
        "        return y_hat\n",
        "\n",
        "    def run_with_cache(self, x):\n",
        "        cache = {}\n",
        "        \"\"\"Forward pass through SimpleMLP given input tensor x\n",
        "\n",
        "        Args:\n",
        "            x (torch.Tensor): input tensor\n",
        "        \"\"\"\n",
        "        cache['input'] = x\n",
        "        x = self.layer_1(x)\n",
        "        cache['layer_1_pre_activation'] = x\n",
        "        x = F.relu(x)\n",
        "        cache['layer_1_post_activation'] = x\n",
        "        x = self.layer_2(x)\n",
        "        cache['layer_2_activation'] = x\n",
        "        # y_hat = x\n",
        "        return cache, self.state_dict()"
      ]
    },
    {
      "cell_type": "code",
      "execution_count": 14,
      "metadata": {
        "id": "IXoEefwAEbeK"
      },
      "outputs": [],
      "source": [
        "#@title [RUN] Helper functions for managing experiments, training, and evaluating models.\n",
        "\n",
        "def train_mlp_cora(x, y, model, optimiser):\n",
        "    model.train()\n",
        "    optimiser.zero_grad()\n",
        "    y_hat = model(x)\n",
        "    loss = F.cross_entropy(y_hat, y)\n",
        "    loss.backward()\n",
        "    optimiser.step()\n",
        "    return loss.data\n",
        "\n",
        "def evaluate_mlp_cora(x, y, model):\n",
        "    model.eval()\n",
        "    y_hat = model(x)\n",
        "    y_hat = y_hat.data.max(1)[1]\n",
        "    num_correct = y_hat.eq(y.data).sum()\n",
        "    num_total = len(y)\n",
        "    accuracy = 100.0 * (num_correct/num_total)\n",
        "    return accuracy\n",
        "\n",
        "def train_eval_loop(model, train_x, train_y, valid_x, valid_y, test_x, test_y):\n",
        "    optimiser = torch.optim.Adam(model.parameters(), lr=LR)\n",
        "    training_stats = None\n",
        "    # Training loop\n",
        "    for epoch in range(NUM_EPOCHS):\n",
        "        train_loss = train_mlp_cora(train_x, train_y, model, optimiser)\n",
        "        train_acc = evaluate_mlp_cora(train_x, train_y, model)\n",
        "        valid_acc = evaluate_mlp_cora(valid_x, valid_y, model)\n",
        "        if epoch % 10 == 0:\n",
        "            print(f\"Epoch {epoch} with train loss: {train_loss:.3f} train accuracy: {train_acc:.3f}\",\n",
        "                    f\"validation accuracy: {valid_acc:.3f}\")\n",
        "        # store the loss and the accuracy for the final plot\n",
        "        epoch_stats = {'train_acc': train_acc, 'val_acc': valid_acc, 'epoch':epoch}\n",
        "        training_stats = update_stats(training_stats, epoch_stats)\n",
        "    # Lets look at our final test performance\n",
        "    test_acc = evaluate_mlp_cora(test_x, test_y, model)\n",
        "    print(f\"Our final test accuracy for the SimpleMLP is: {test_acc:.3f}\")\n",
        "    return training_stats"
      ]
    },
    {
      "cell_type": "code",
      "execution_count": 15,
      "metadata": {
        "colab": {
          "base_uri": "https://localhost:8080/",
          "height": 678
        },
        "id": "_olnWUkaLRtx",
        "outputId": "8748cec1-0445-4734-bee8-a5d40852ec53"
      },
      "outputs": [
        {
          "output_type": "stream",
          "name": "stdout",
          "text": [
            "Epoch 0 with train loss: 1.939 train accuracy: 42.301 validation accuracy: 35.200\n",
            "Epoch 10 with train loss: 1.102 train accuracy: 75.414 validation accuracy: 57.800\n",
            "Epoch 20 with train loss: 0.374 train accuracy: 95.695 validation accuracy: 71.600\n",
            "Epoch 30 with train loss: 0.118 train accuracy: 98.841 validation accuracy: 71.400\n",
            "Epoch 40 with train loss: 0.048 train accuracy: 99.752 validation accuracy: 72.000\n",
            "Epoch 50 with train loss: 0.026 train accuracy: 100.000 validation accuracy: 71.800\n",
            "Epoch 60 with train loss: 0.016 train accuracy: 100.000 validation accuracy: 71.800\n",
            "Epoch 70 with train loss: 0.011 train accuracy: 100.000 validation accuracy: 71.800\n",
            "Epoch 80 with train loss: 0.009 train accuracy: 100.000 validation accuracy: 71.600\n",
            "Epoch 90 with train loss: 0.007 train accuracy: 100.000 validation accuracy: 71.600\n",
            "Our final test accuracy for the SimpleMLP is: 72.200\n"
          ]
        },
        {
          "output_type": "display_data",
          "data": {
            "text/plain": [
              "<Figure size 500x500 with 1 Axes>"
            ],
            "image/png": "[encoded data removed]"
          },
          "metadata": {}
        }
      ],
      "source": [
        "# Instantiate our model\n",
        "model = SimpleMLP(input_dim=train_x.shape[-1], output_dim=7)\n",
        "\n",
        "# Run training loop\n",
        "train_stats_mlp_cora = train_eval_loop(model, train_x, train_y, valid_x, valid_y, test_x, test_y)\n",
        "plot_stats(train_stats_mlp_cora, name=\"MLP_Cora\")"
      ]
    },
    {
      "cell_type": "code",
      "source": [
        "cache, model_state = model.run_with_cache(test_x)"
      ],
      "metadata": {
        "id": "6uhuAhLU6MS0"
      },
      "execution_count": 16,
      "outputs": []
    },
    {
      "cell_type": "code",
      "source": [
        "cache['layer_2_activation'].shape"
      ],
      "metadata": {
        "colab": {
          "base_uri": "https://localhost:8080/"
        },
        "id": "89TNi4EX8rNh",
        "outputId": "37124aaa-0a00-4352-a02e-dcf581759d9d"
      },
      "execution_count": 17,
      "outputs": [
        {
          "output_type": "execute_result",
          "data": {
            "text/plain": [
              "torch.Size([1000, 7])"
            ]
          },
          "metadata": {},
          "execution_count": 17
        }
      ]
    },
    {
      "cell_type": "code",
      "source": [
        "U, S, Vh = torch.linalg.svd(cache['layer_1_pre_activation'])\n",
        "line(S, title=\"Principal Components of the Layer 1 Pre Activation\")\n",
        "U, S, Vh = torch.linalg.svd(cache['layer_1_post_activation'])\n",
        "line(S, title=\"Principal Components of the Layer 1 Post Activation\")\n",
        "U, S, Vh = torch.linalg.svd(cache['layer_2_activation'])\n",
        "line(S, title=\"Principal Components of the Layer 2 Activation\")\n",
        "# U, S, Vh = torch.linalg.svd(test_x)"
      ],
      "metadata": {
        "colab": {
          "base_uri": "https://localhost:8080/",
          "height": 1000
        },
        "id": "vGXQdEBF66nw",
        "outputId": "e5aa1879-1b64-42c5-d842-21408edc3db5"
      },
      "execution_count": 18,
      "outputs": [
        {
          "output_type": "display_data",
          "data": {
            "text/html": [
              "<html>\n",
              "<head><meta charset=\"utf-8\" /></head>\n",
              "<body>\n",
              "    <div>            <script src=\"https://cdnjs.cloudflare.com/ajax/libs/mathjax/2.7.5/MathJax.js?config=TeX-AMS-MML_SVG\"></script><script type=\"text/javascript\">if (window.MathJax && window.MathJax.Hub && window.MathJax.Hub.Config) {window.MathJax.Hub.Config({SVG: {font: \"STIX-Web\"}});}</script>                <script type=\"text/javascript\">window.PlotlyConfig = {MathJaxConfig: 'local'};</script>\n",
              "        <script charset=\"utf-8\" src=\"https://cdn.plot.ly/plotly-2.24.1.min.js\"></script>                <div id=\"b7d8de64-8c74-4f6e-8317-ad588d8f93c9\" class=\"plotly-graph-div\" style=\"height:525px; width:100%;\"></div>            <script type=\"text/javascript\">                                    window.PLOTLYENV=window.PLOTLYENV || {};                                    if (document.getElementById(\"b7d8de64-8c74-4f6e-8317-ad588d8f93c9\")) {                    Plotly.newPlot(                        \"b7d8de64-8c74-4f6e-8317-ad588d8f93c9\",                        [{\"hovertemplate\":\"x=%{x}\\u003cbr\\u003ey=%{y}\\u003cextra\\u003e\\u003c\\u002fextra\\u003e\",\"legendgroup\":\"\",\"line\":{\"color\":\"#636efa\",\"dash\":\"solid\"},\"marker\":{\"symbol\":\"circle\"},\"mode\":\"lines\",\"name\":\"\",\"orientation\":\"v\",\"showlegend\":false,\"x\":[0,1,2,3,4,5,6,7,8,9,10,11,12,13,14,15,16,17,18,19,20,21,22,23,24,25,26,27,28,29,30,31,32,33,34,35,36,37,38,39,40,41,42,43,44,45,46,47,48,49,50,51,52,53,54,55,56,57,58,59,60,61,62,63,64,65,66,67,68,69,70,71,72,73,74,75,76,77,78,79,80,81,82,83,84,85,86,87,88,89,90,91,92,93,94,95,96,97,98,99,100,101,102,103,104,105,106,107,108,109,110,111,112,113,114,115,116,117,118,119,120,121,122,123,124,125,126,127,128,129,130,131,132,133,134,135,136,137,138,139,140,141,142,143,144,145,146,147,148,149,150,151,152,153,154,155,156,157,158,159,160,161,162,163,164,165,166,167,168,169,170,171,172,173,174,175,176,177,178,179,180,181,182,183,184,185,186,187,188,189,190,191,192,193,194,195,196,197,198,199,200,201,202,203,204,205,206,207,208,209,210,211,212,213,214,215,216,217,218,219,220,221,222,223,224,225,226,227,228,229,230,231,232,233,234,235,236,237,238,239,240,241,242,243,244,245,246,247,248,249,250,251,252,253,254,255,256,257,258,259,260,261,262,263,264,265,266,267,268,269,270,271,272,273,274,275,276,277,278,279,280,281,282,283,284,285,286,287,288,289,290,291,292,293,294,295,296,297,298,299,300,301,302,303,304,305,306,307,308,309,310,311,312,313,314,315,316,317,318,319,320,321,322,323,324,325,326,327,328,329,330,331,332,333,334,335,336,337,338,339,340,341,342,343,344,345,346,347,348,349,350,351,352,353,354,355,356,357,358,359,360,361,362,363,364,365,366,367,368,369,370,371,372,373,374,375,376,377,378,379,380,381,382,383,384,385,386,387,388,389,390,391,392,393,394,395,396,397,398,399,400,401,402,403,404,405,406,407,408,409,410,411,412,413,414,415,416,417,418,419,420,421,422,423,424,425,426,427,428,429,430,431,432,433,434,435,436,437,438,439,440,441,442,443,444,445,446,447,448,449,450,451,452,453,454,455,456,457,458,459,460,461,462,463,464,465,466,467,468,469,470,471,472,473,474,475,476,477,478,479,480,481,482,483,484,485,486,487,488,489,490,491,492,493,494,495,496,497,498,499,500,501,502,503,504,505,506,507,508,509,510,511,512,513,514,515,516,517,518,519,520,521,522,523,524,525,526,527,528,529,530,531,532,533,534,535,536,537,538,539,540,541,542,543,544,545,546,547,548,549,550,551,552,553,554,555,556,557,558,559,560,561,562,563,564,565,566,567,568,569,570,571,572,573,574,575,576,577,578,579,580,581,582,583,584,585,586,587,588,589,590,591,592,593,594,595,596,597,598,599,600,601,602,603,604,605,606,607,608,609,610,611,612,613,614,615,616,617,618,619,620,621,622,623,624,625,626,627,628,629,630,631,632,633,634,635,636,637,638,639,640,641,642,643,644,645,646,647,648,649,650,651,652,653,654,655,656,657,658,659,660,661,662,663,664,665,666,667,668,669,670,671,672,673,674,675,676,677,678,679,680,681,682,683,684,685,686,687,688,689,690,691,692,693,694,695,696,697,698,699,700,701,702,703,704,705,706,707,708,709,710,711,712,713,714,715,716,717,718,719,720,721,722,723,724,725,726,727,728,729,730,731,732,733,734,735,736,737,738,739,740,741,742,743,744,745,746,747,748,749,750,751,752,753,754,755,756,757,758,759,760,761,762,763,764,765,766,767,768,769,770,771,772,773,774,775,776,777,778,779,780,781,782,783,784,785,786,787,788,789,790,791,792,793,794,795,796,797,798,799,800,801,802,803,804,805,806,807,808,809,810,811,812,813,814,815,816,817,818,819,820,821,822,823,824,825,826,827,828,829,830,831,832,833,834,835,836,837,838,839,840,841,842,843,844,845,846,847,848,849,850,851,852,853,854,855,856,857,858,859,860,861,862,863,864,865,866,867,868,869,870,871,872,873,874,875,876,877,878,879,880,881,882,883,884,885,886,887,888,889,890,891,892,893,894,895,896,897,898,899,900,901,902,903,904,905,906,907,908,909,910,911,912,913,914,915,916,917,918,919,920,921,922,923,924,925,926,927,928,929,930,931,932,933,934,935,936,937,938,939,940,941,942,943,944,945,946,947,948,949,950,951,952,953,954,955,956,957,958,959,960,961,962,963,964,965,966,967,968,969,970,971,972,973,974,975,976,977,978,979,980,981,982,983,984,985,986,987,988,989,990,991,992,993,994,995,996,997,998,999],\"xaxis\":\"x\",\"y\":[246.47242736816406,87.52159118652344,71.91463470458984,63.56071853637695,60.26057434082031,53.646141052246094,46.16436004638672,12.84668254852295,11.879148483276367,11.47276782989502,11.00658130645752,10.412707328796387,10.371728897094727,9.857969284057617,9.512801170349121,9.202424049377441,9.109173774719238,9.025138854980469,8.95627212524414,8.80762767791748,8.7152681350708,8.643515586853027,8.539217948913574,8.438713073730469,8.21154499053955,8.16795539855957,8.079188346862793,8.01567554473877,7.973170280456543,7.82881498336792,7.710880279541016,7.674972057342529,7.602034568786621,7.52329683303833,7.469951152801514,7.4241461753845215,7.351587772369385,7.3164215087890625,7.286237716674805,7.148096561431885,7.123022556304932,7.07574462890625,7.044424057006836,7.011054992675781,6.950969696044922,6.914165019989014,6.84935998916626,6.791974067687988,6.757181644439697,6.68943452835083,6.648691654205322,6.617112159729004,6.606311798095703,6.538952350616455,6.519954204559326,6.470668792724609,6.435264587402344,6.414365291595459,6.352198123931885,6.327099800109863,6.269243240356445,6.263949394226074,6.243310451507568,6.199936389923096,6.175415992736816,6.14632511138916,6.121891975402832,6.077493190765381,6.046199798583984,6.038416385650635,5.941449165344238,5.9101386070251465,5.896271228790283,5.868831634521484,5.846392631530762,5.815456390380859,5.798758506774902,5.7655510902404785,5.754767417907715,5.7226409912109375,5.673617362976074,5.627828121185303,5.61382532119751,5.5945539474487305,5.578377723693848,5.516988277435303,5.5063371658325195,5.4849934577941895,5.464673042297363,5.448174476623535,5.428002834320068,5.412520408630371,5.38923978805542,5.356505393981934,5.304920673370361,5.298030853271484,5.262065887451172,5.2473673820495605,5.224773406982422,5.202420711517334,5.1900835037231445,5.169924736022949,5.14894962310791,5.123556613922119,5.087158679962158,5.053729057312012,5.046708583831787,5.01510763168335,5.004324913024902,4.994641304016113,4.963106155395508,4.952761650085449,4.921646595001221,4.917156219482422,4.882252216339111,4.8720598220825195,4.8534159660339355,4.831199645996094,4.806776523590088,4.790646553039551,4.775084018707275,4.737098693847656,4.727058410644531,4.71649694442749,4.69728422164917,4.651325702667236,4.636687278747559,4.63285493850708,4.611965179443359,4.604948997497559,4.597409248352051,4.579409599304199,4.540238857269287,4.535445213317871,4.515834808349609,4.501524925231934,4.48482084274292,4.464890956878662,4.445398330688477,4.4249396324157715,4.418520450592041,4.4090375900268555,4.400609016418457,4.380735397338867,4.376428604125977,4.363235950469971,4.326329708099365,4.317819118499756,4.303224563598633,4.280153751373291,4.255146503448486,4.240298748016357,4.231080532073975,4.217538356781006,4.202451229095459,4.169212818145752,4.159924507141113,4.152370929718018,4.146453380584717,4.129837512969971,4.113076210021973,4.104470252990723,4.089905261993408,4.075636386871338,4.068304538726807,4.050848960876465,4.041337490081787,4.022186756134033,4.008852005004883,3.994673490524292,3.9897994995117188,3.963167190551758,3.938645124435425,3.9226126670837402,3.90751576423645,3.9020700454711914,3.880293846130371,3.872570276260376,3.862840175628662,3.843204975128174,3.8378355503082275,3.8232767581939697,3.80880069732666,3.791839122772217,3.784918785095215,3.7655935287475586,3.759133815765381,3.7478461265563965,3.7384495735168457,3.72597336769104,3.709645986557007,3.7060229778289795,3.701101064682007,3.691424608230591,3.6695828437805176,3.6527345180511475,3.650465488433838,3.62788724899292,3.6089656352996826,3.5963048934936523,3.5857908725738525,3.5797815322875977,3.566488027572632,3.563131809234619,3.542466640472412,3.5361664295196533,3.527944564819336,3.507768154144287,3.497400999069214,3.491946220397949,3.475576639175415,3.4667913913726807,3.4610629081726074,3.454927921295166,3.4462058544158936,3.4259798526763916,3.4068603515625,3.3979287147521973,3.3911185264587402,3.37934947013855,3.3706908226013184,3.352200508117676,3.345147132873535,3.3385825157165527,3.3234195709228516,3.3215060234069824,3.3033993244171143,3.291832208633423,3.284637451171875,3.2777099609375,3.263166904449463,3.2500698566436768,3.2402777671813965,3.234912157058716,3.213775634765625,3.2015979290008545,3.1918764114379883,3.189796209335327,3.183767080307007,3.1740033626556396,3.1698341369628906,3.1509411334991455,3.1435744762420654,3.1375129222869873,3.1239304542541504,3.1153218746185303,3.110506296157837,3.0868663787841797,3.0830111503601074,3.078409433364868,3.067925453186035,3.0549635887145996,3.042163610458374,3.037628412246704,3.024693012237549,3.0234861373901367,3.0116312503814697,3.0012834072113037,2.9913032054901123,2.983344316482544,2.971259117126465,2.9582228660583496,2.9546396732330322,2.9479753971099854,2.9389731884002686,2.928678512573242,2.924929141998291,2.907580852508545,2.8992669582366943,2.8981564044952393,2.882051944732666,2.8784244060516357,2.860186815261841,2.853907346725464,2.844820261001587,2.838857889175415,2.825537919998169,2.818458080291748,2.812147617340088,2.797945022583008,2.7925522327423096,2.780299663543701,2.7681822776794434,2.7646169662475586,2.7509806156158447,2.7501139640808105,2.740441083908081,2.7352614402770996,2.727262020111084,2.7105391025543213,2.705763578414917,2.7047672271728516,2.6956899166107178,2.6810834407806396,2.6772196292877197,2.6640350818634033,2.6556992530822754,2.6493828296661377,2.6461100578308105,2.635157823562622,2.627192974090576,2.6229684352874756,2.6152825355529785,2.6011853218078613,2.5901710987091064,2.584520101547241,2.5793938636779785,2.576613187789917,2.5550522804260254,2.546043872833252,2.5385453701019287,2.533447027206421,2.5305216312408447,2.52771258354187,2.5189507007598877,2.507446527481079,2.4982240200042725,2.489769458770752,2.48534893989563,2.4816248416900635,2.4716317653656006,2.4611876010894775,2.454909324645996,2.448930263519287,2.4442691802978516,2.4419703483581543,2.4360709190368652,2.4249002933502197,2.4116737842559814,2.405019760131836,2.3983068466186523,2.396318197250366,2.3840808868408203,2.3747470378875732,2.3686513900756836,2.3616271018981934,2.3579862117767334,2.347766160964966,2.3417420387268066,2.3386237621307373,2.331833600997925,2.330504894256592,2.3243725299835205,2.3139734268188477,2.2956008911132812,2.2916619777679443,2.2882072925567627,2.2857327461242676,2.276854991912842,2.268216133117676,2.2615034580230713,2.2589030265808105,2.250298500061035,2.23836088180542,2.2369654178619385,2.2287442684173584,2.223820686340332,2.2197425365448,2.210740804672241,2.200911283493042,2.190035104751587,2.186706781387329,2.1822378635406494,2.1741812229156494,2.1717143058776855,2.159109115600586,2.146425485610962,2.14239239692688,2.1386640071868896,2.1354198455810547,2.1303465366363525,2.1262688636779785,2.121689558029175,2.110025405883789,2.1036412715911865,2.0964462757110596,2.0908875465393066,2.088881254196167,2.075813055038452,2.0707521438598633,2.068082332611084,2.0626635551452637,2.0496082305908203,2.048058271408081,2.0456700325012207,2.0402097702026367,2.0279479026794434,2.0210912227630615,2.013993501663208,2.0127604007720947,2.0060102939605713,1.9989585876464844,1.991478443145752,1.9897805452346802,1.9854848384857178,1.981233835220337,1.9767096042633057,1.9696069955825806,1.9679161310195923,1.9565192461013794,1.9486033916473389,1.9383171796798706,1.936377763748169,1.9322185516357422,1.925782322883606,1.9213896989822388,1.9132144451141357,1.9042245149612427,1.9020285606384277,1.8954933881759644,1.8886014223098755,1.88329017162323,1.8821426630020142,1.8765254020690918,1.8704389333724976,1.8622719049453735,1.856242299079895,1.8513909578323364,1.845381498336792,1.8401418924331665,1.8359719514846802,1.8282698392868042,1.82658052444458,1.8231052160263062,1.8170400857925415,1.808640956878662,1.8051648139953613,1.7908296585083008,1.7842400074005127,1.7783907651901245,1.7745062112808228,1.768671989440918,1.7653597593307495,1.7635704278945923,1.7604900598526,1.7575799226760864,1.7468746900558472,1.7444785833358765,1.7378259897232056,1.7299712896347046,1.7279986143112183,1.7254095077514648,1.7231738567352295,1.7137590646743774,1.7105011940002441,1.703230619430542,1.7019270658493042,1.6974583864212036,1.6901397705078125,1.6819586753845215,1.6785433292388916,1.6749159097671509,1.6690495014190674,1.6638603210449219,1.6594446897506714,1.657243013381958,1.6511205434799194,1.6454929113388062,1.6368284225463867,1.6336807012557983,1.6290090084075928,1.6226282119750977,1.6163734197616577,1.6130982637405396,1.605440378189087,1.6000882387161255,1.5966439247131348,1.5868064165115356,1.585890769958496,1.5774577856063843,1.576001524925232,1.5726343393325806,1.5695431232452393,1.5621867179870605,1.5571842193603516,1.5527338981628418,1.544743537902832,1.5425925254821777,1.54159414768219,1.5361311435699463,1.5309927463531494,1.5295441150665283,1.518451452255249,1.513527512550354,1.5119653940200806,1.508438229560852,1.5027995109558105,1.5008748769760132,1.4937881231307983,1.4840660095214844,1.4809484481811523,1.4789795875549316,1.470293402671814,1.4638912677764893,1.4608324766159058,1.4552940130233765,1.4525872468948364,1.445151925086975,1.4410053491592407,1.4351798295974731,1.433711290359497,1.429395079612732,1.428385853767395,1.4228333234786987,1.4161922931671143,1.412459135055542,1.4080982208251953,1.4030399322509766,1.4019498825073242,1.3969851732254028,1.3929060697555542,1.3907326459884644,1.3813503980636597,1.3795547485351562,1.3771125078201294,1.3717440366744995,1.3707383871078491,1.3667501211166382,1.3591973781585693,1.3562742471694946,1.3537429571151733,1.3489269018173218,1.3452526330947876,1.3412809371948242,1.3338284492492676,1.332916259765625,1.3316926956176758,1.3228484392166138,1.3202892541885376,1.3169128894805908,1.3134570121765137,1.3095357418060303,1.3044852018356323,1.2997782230377197,1.2972410917282104,1.2926514148712158,1.2887511253356934,1.2862293720245361,1.2783437967300415,1.2709561586380005,1.2681827545166016,1.2675573825836182,1.2630195617675781,1.253018856048584,1.2468302249908447,1.2442692518234253,1.2410609722137451,1.23684823513031,1.2340537309646606,1.2306338548660278,1.2267075777053833,1.2223831415176392,1.2212989330291748,1.213771104812622,1.2120256423950195,1.2055846452713013,1.2035667896270752,1.201791524887085,1.1957696676254272,1.1905381679534912,1.1894298791885376,1.1881349086761475,1.1824619770050049,1.1803077459335327,1.1766912937164307,1.1719348430633545,1.1672316789627075,1.1636470556259155,1.1614946126937866,1.1592192649841309,1.1522756814956665,1.1505686044692993,1.1479400396347046,1.1383763551712036,1.133317470550537,1.1311867237091064,1.1290268898010254,1.126481056213379,1.1194630861282349,1.1175541877746582,1.112977147102356,1.1090669631958008,1.1034586429595947,1.1007908582687378,1.0994682312011719,1.097693681716919,1.0958539247512817,1.088249683380127,1.0872385501861572,1.0811500549316406,1.0772933959960938,1.0753124952316284,1.0748381614685059,1.0681853294372559,1.0656275749206543,1.0629216432571411,1.0557661056518555,1.051389217376709,1.0502560138702393,1.0451924800872803,1.042722225189209,1.0387412309646606,1.0331830978393555,1.0304670333862305,1.0275392532348633,1.0263718366622925,1.0199568271636963,1.0165536403656006,1.0128583908081055,1.0100880861282349,1.0045057535171509,1.0014396905899048,0.9978460073471069,0.9930139780044556,0.9919587969779968,0.9907403588294983,0.9843297004699707,0.97819983959198,0.977368175983429,0.9745345711708069,0.9733579158782959,0.9669343829154968,0.9648510813713074,0.960195004940033,0.9573608636856079,0.9546680450439453,0.9529765844345093,0.945111870765686,0.9429974555969238,0.9389984011650085,0.9356122016906738,0.9326151013374329,0.9284042716026306,0.9225791692733765,0.9208479523658752,0.9173764586448669,0.9155712127685547,0.9112266898155212,0.9105941653251648,0.9072713255882263,0.9059469699859619,0.9015828371047974,0.8986867666244507,0.8938199877738953,0.8921552896499634,0.8890702724456787,0.8872790336608887,0.8846779465675354,0.8817765712738037,0.8784123063087463,0.8740060925483704,0.8722203969955444,0.8691333532333374,0.8678455352783203,0.8641552329063416,0.8586668372154236,0.8552762269973755,0.8500734567642212,0.8460500240325928,0.8434642553329468,0.8425779938697815,0.8417011499404907,0.8392077088356018,0.8334097266197205,0.8288879990577698,0.8277953267097473,0.8252230286598206,0.8241411447525024,0.820912778377533,0.8186753988265991,0.8171789646148682,0.8100647926330566,0.8071665167808533,0.8058449029922485,0.8016568422317505,0.8002990484237671,0.7944545149803162,0.7923057079315186,0.7883059978485107,0.7856764197349548,0.7837420105934143,0.7806375622749329,0.7767576575279236,0.7755452990531921,0.7703130841255188,0.7689620852470398,0.7671635150909424,0.7627345323562622,0.7585670948028564,0.7564735412597656,0.7528525590896606,0.7492204308509827,0.7457130551338196,0.7417513728141785,0.741470217704773,0.7366453409194946,0.7347037196159363,0.7319459319114685,0.7307556867599487,0.7275630831718445,0.7248700857162476,0.7226772904396057,0.7214027047157288,0.7181355953216553,0.7145468592643738,0.7141773700714111,0.7124017477035522,0.7087774276733398,0.7081049084663391,0.704733669757843,0.7004311084747314,0.6967465877532959,0.6921865940093994,0.6898201107978821,0.688508152961731,0.6868106722831726,0.6830157041549683,0.6780901551246643,0.6754185557365417,0.6732563376426697,0.6711372137069702,0.6687418818473816,0.6666967868804932,0.6615617275238037,0.659336268901825,0.656845211982727,0.6541575193405151,0.652655839920044,0.64984130859375,0.646755576133728,0.6454628109931946,0.6400032043457031,0.6374236345291138,0.6367116570472717,0.6332849860191345,0.6320981979370117,0.6283669471740723,0.6258937120437622,0.6245566010475159,0.6223944425582886,0.6196915507316589,0.6178845763206482,0.6124696731567383,0.6101586222648621,0.608083188533783,0.6042671203613281,0.6010168790817261,0.5983648896217346,0.5971234440803528,0.5937870144844055,0.591971755027771,0.5877158045768738,0.5848492383956909,0.5829970240592957,0.5806393027305603,0.5786038637161255,0.5764273405075073,0.5754207372665405,0.5723676681518555,0.5684509873390198,0.5672977566719055,0.5653977990150452,0.5632340908050537,0.560100793838501,0.5576866269111633,0.5545638203620911,0.551876962184906,0.5504019856452942,0.5461040735244751,0.5452292561531067,0.5447818636894226,0.5404658913612366,0.5383048057556152,0.5375353693962097,0.5366435050964355,0.5345552563667297,0.530897319316864,0.5281117558479309,0.5224058032035828,0.5212196111679077,0.5209475755691528,0.5177483558654785,0.5166305899620056,0.5134930610656738,0.5096395611763,0.5074657201766968,0.5061745047569275,0.5024818778038025,0.49953070282936096,0.4969974756240845,0.49533459544181824,0.4937211871147156,0.4902116060256958,0.4893592298030853,0.4886321425437927,0.48252931237220764,0.48149916529655457,0.47967806458473206,0.47838258743286133,0.4757290482521057,0.47381752729415894,0.4710666239261627,0.4688536822795868,0.4660502076148987,0.46493256092071533,0.4589448571205139,0.4589066505432129,0.45638367533683777,0.4540782570838928,0.4513346552848816,0.44951096177101135,0.4483717679977417,0.445904940366745,0.4437970221042633,0.4424423277378082,0.4390621483325958,0.4365675449371338,0.43590015172958374,0.4321073591709137,0.43007752299308777,0.4281245768070221,0.4254050850868225,0.42403560876846313,0.4232787787914276,0.4205964207649231,0.417651891708374,0.4153743088245392,0.4123619496822357,0.4096876382827759,0.4081706404685974,0.4044283628463745,0.403778076171875,0.4009079337120056,0.3996317982673645,0.397510826587677,0.3954566419124603,0.39332494139671326,0.39204370975494385,0.3880175054073334,0.38672664761543274,0.3834021985530853,0.38258957862854004,0.38138648867607117,0.3799354135990143,0.377177357673645,0.3754230737686157,0.3734777867794037,0.37030163407325745,0.36852115392684937,0.36499693989753723,0.36357489228248596,0.3624710142612457,0.3573032021522522,0.3571193814277649,0.3553171157836914,0.35236647725105286,0.34969452023506165,0.34918898344039917,0.3479486405849457,0.3463892638683319,0.3439549505710602,0.34296873211860657,0.3412395715713501,0.3380826413631439,0.33598750829696655,0.334398478269577,0.33272039890289307,0.3315584361553192,0.3292413651943207,0.327570378780365,0.3268170952796936,0.3238146901130676,0.3226122260093689,0.3218042254447937,0.3198202848434448,0.3174552917480469,0.315213143825531,0.31501516699790955,0.31186801195144653,0.3092156648635864,0.30716681480407715,0.3030804991722107,0.30068838596343994,0.2989155352115631,0.29769366979599,0.2972295582294464,0.29481545090675354,0.2926328480243683,0.291748583316803,0.29001519083976746,0.2892369329929352,0.28426554799079895,0.28245246410369873,0.28005287051200867,0.2779700756072998,0.2753757834434509,0.2737789750099182,0.2728310525417328,0.27025333046913147,0.2697966694831848,0.26717284321784973,0.26452407240867615,0.26345667243003845,0.2610171437263489,0.25949278473854065,0.25759556889533997,0.2557002007961273,0.2513473629951477,0.24992530047893524,0.24865198135375977,0.248199462890625,0.24611426889896393,0.24402585625648499,0.24169592559337616,0.24036771059036255,0.2387818843126297,0.23610620200634003,0.23375381529331207,0.2327452003955841,0.23191212117671967,0.229894757270813,0.22900888323783875,0.2252022624015808,0.22316209971904755,0.22189195454120636,0.21816225349903107,0.21616265177726746,0.2153925746679306,0.2143753319978714,0.21255362033843994,0.20995445549488068,0.20885953307151794,0.20642849802970886,0.20420269668102264,0.20306555926799774,0.20134292542934418,0.19867193698883057,0.19835299253463745,0.19621652364730835,0.19549518823623657,0.19256573915481567,0.19141536951065063,0.19040532410144806,0.18930888175964355,0.18527951836585999,0.18502548336982727,0.18244776129722595,0.18210537731647491,0.17936305701732635,0.17586959898471832,0.17539536952972412,0.17345651984214783,0.1714741587638855,0.1701439768075943,0.16791068017482758,0.16747212409973145,0.16286566853523254,0.1620195508003235,0.16010724008083344,0.15766118466854095,0.1561998873949051,0.15443240106105804,0.15292200446128845,0.15070103108882904,0.14808157086372375,0.1474222093820572,0.1435336321592331,0.1416434347629547,0.14051853120326996,0.13809357583522797,0.1357884258031845,0.13300661742687225,0.1328103095293045,0.12969423830509186,0.1278584897518158,0.12679199874401093,0.12489858269691467,0.12105774134397507,0.11863461881875992,0.11744378507137299,0.11587166041135788,0.11499140411615372,0.11230561882257462,0.10803644359111786,0.10614198446273804,0.10485583543777466,0.10171756893396378,0.09836726635694504,0.09461432695388794,0.09253887832164764,0.08875482529401779,0.0836300328373909,0.08100470900535583,0.07987985014915466,0.07431770116090775,0.06275401264429092,0.05672044679522514,0.04835444316267967,1.8901836256191018e-06,4.4070725380152e-07],\"yaxis\":\"y\",\"type\":\"scatter\"}],                        {\"template\":{\"data\":{\"histogram2dcontour\":[{\"type\":\"histogram2dcontour\",\"colorbar\":{\"outlinewidth\":0,\"ticks\":\"\"},\"colorscale\":[[0.0,\"#0d0887\"],[0.1111111111111111,\"#46039f\"],[0.2222222222222222,\"#7201a8\"],[0.3333333333333333,\"#9c179e\"],[0.4444444444444444,\"#bd3786\"],[0.5555555555555556,\"#d8576b\"],[0.6666666666666666,\"#ed7953\"],[0.7777777777777778,\"#fb9f3a\"],[0.8888888888888888,\"#fdca26\"],[1.0,\"#f0f921\"]]}],\"choropleth\":[{\"type\":\"choropleth\",\"colorbar\":{\"outlinewidth\":0,\"ticks\":\"\"}}],\"histogram2d\":[{\"type\":\"histogram2d\",\"colorbar\":{\"outlinewidth\":0,\"ticks\":\"\"},\"colorscale\":[[0.0,\"#0d0887\"],[0.1111111111111111,\"#46039f\"],[0.2222222222222222,\"#7201a8\"],[0.3333333333333333,\"#9c179e\"],[0.4444444444444444,\"#bd3786\"],[0.5555555555555556,\"#d8576b\"],[0.6666666666666666,\"#ed7953\"],[0.7777777777777778,\"#fb9f3a\"],[0.8888888888888888,\"#fdca26\"],[1.0,\"#f0f921\"]]}],\"heatmap\":[{\"type\":\"heatmap\",\"colorbar\":{\"outlinewidth\":0,\"ticks\":\"\"},\"colorscale\":[[0.0,\"#0d0887\"],[0.1111111111111111,\"#46039f\"],[0.2222222222222222,\"#7201a8\"],[0.3333333333333333,\"#9c179e\"],[0.4444444444444444,\"#bd3786\"],[0.5555555555555556,\"#d8576b\"],[0.6666666666666666,\"#ed7953\"],[0.7777777777777778,\"#fb9f3a\"],[0.8888888888888888,\"#fdca26\"],[1.0,\"#f0f921\"]]}],\"heatmapgl\":[{\"type\":\"heatmapgl\",\"colorbar\":{\"outlinewidth\":0,\"ticks\":\"\"},\"colorscale\":[[0.0,\"#0d0887\"],[0.1111111111111111,\"#46039f\"],[0.2222222222222222,\"#7201a8\"],[0.3333333333333333,\"#9c179e\"],[0.4444444444444444,\"#bd3786\"],[0.5555555555555556,\"#d8576b\"],[0.6666666666666666,\"#ed7953\"],[0.7777777777777778,\"#fb9f3a\"],[0.8888888888888888,\"#fdca26\"],[1.0,\"#f0f921\"]]}],\"contourcarpet\":[{\"type\":\"contourcarpet\",\"colorbar\":{\"outlinewidth\":0,\"ticks\":\"\"}}],\"contour\":[{\"type\":\"contour\",\"colorbar\":{\"outlinewidth\":0,\"ticks\":\"\"},\"colorscale\":[[0.0,\"#0d0887\"],[0.1111111111111111,\"#46039f\"],[0.2222222222222222,\"#7201a8\"],[0.3333333333333333,\"#9c179e\"],[0.4444444444444444,\"#bd3786\"],[0.5555555555555556,\"#d8576b\"],[0.6666666666666666,\"#ed7953\"],[0.7777777777777778,\"#fb9f3a\"],[0.8888888888888888,\"#fdca26\"],[1.0,\"#f0f921\"]]}],\"surface\":[{\"type\":\"surface\",\"colorbar\":{\"outlinewidth\":0,\"ticks\":\"\"},\"colorscale\":[[0.0,\"#0d0887\"],[0.1111111111111111,\"#46039f\"],[0.2222222222222222,\"#7201a8\"],[0.3333333333333333,\"#9c179e\"],[0.4444444444444444,\"#bd3786\"],[0.5555555555555556,\"#d8576b\"],[0.6666666666666666,\"#ed7953\"],[0.7777777777777778,\"#fb9f3a\"],[0.8888888888888888,\"#fdca26\"],[1.0,\"#f0f921\"]]}],\"mesh3d\":[{\"type\":\"mesh3d\",\"colorbar\":{\"outlinewidth\":0,\"ticks\":\"\"}}],\"scatter\":[{\"fillpattern\":{\"fillmode\":\"overlay\",\"size\":10,\"solidity\":0.2},\"type\":\"scatter\"}],\"parcoords\":[{\"type\":\"parcoords\",\"line\":{\"colorbar\":{\"outlinewidth\":0,\"ticks\":\"\"}}}],\"scatterpolargl\":[{\"type\":\"scatterpolargl\",\"marker\":{\"colorbar\":{\"outlinewidth\":0,\"ticks\":\"\"}}}],\"bar\":[{\"error_x\":{\"color\":\"#2a3f5f\"},\"error_y\":{\"color\":\"#2a3f5f\"},\"marker\":{\"line\":{\"color\":\"#E5ECF6\",\"width\":0.5},\"pattern\":{\"fillmode\":\"overlay\",\"size\":10,\"solidity\":0.2}},\"type\":\"bar\"}],\"scattergeo\":[{\"type\":\"scattergeo\",\"marker\":{\"colorbar\":{\"outlinewidth\":0,\"ticks\":\"\"}}}],\"scatterpolar\":[{\"type\":\"scatterpolar\",\"marker\":{\"colorbar\":{\"outlinewidth\":0,\"ticks\":\"\"}}}],\"histogram\":[{\"marker\":{\"pattern\":{\"fillmode\":\"overlay\",\"size\":10,\"solidity\":0.2}},\"type\":\"histogram\"}],\"scattergl\":[{\"type\":\"scattergl\",\"marker\":{\"colorbar\":{\"outlinewidth\":0,\"ticks\":\"\"}}}],\"scatter3d\":[{\"type\":\"scatter3d\",\"line\":{\"colorbar\":{\"outlinewidth\":0,\"ticks\":\"\"}},\"marker\":{\"colorbar\":{\"outlinewidth\":0,\"ticks\":\"\"}}}],\"scattermapbox\":[{\"type\":\"scattermapbox\",\"marker\":{\"colorbar\":{\"outlinewidth\":0,\"ticks\":\"\"}}}],\"scatterternary\":[{\"type\":\"scatterternary\",\"marker\":{\"colorbar\":{\"outlinewidth\":0,\"ticks\":\"\"}}}],\"scattercarpet\":[{\"type\":\"scattercarpet\",\"marker\":{\"colorbar\":{\"outlinewidth\":0,\"ticks\":\"\"}}}],\"carpet\":[{\"aaxis\":{\"endlinecolor\":\"#2a3f5f\",\"gridcolor\":\"white\",\"linecolor\":\"white\",\"minorgridcolor\":\"white\",\"startlinecolor\":\"#2a3f5f\"},\"baxis\":{\"endlinecolor\":\"#2a3f5f\",\"gridcolor\":\"white\",\"linecolor\":\"white\",\"minorgridcolor\":\"white\",\"startlinecolor\":\"#2a3f5f\"},\"type\":\"carpet\"}],\"table\":[{\"cells\":{\"fill\":{\"color\":\"#EBF0F8\"},\"line\":{\"color\":\"white\"}},\"header\":{\"fill\":{\"color\":\"#C8D4E3\"},\"line\":{\"color\":\"white\"}},\"type\":\"table\"}],\"barpolar\":[{\"marker\":{\"line\":{\"color\":\"#E5ECF6\",\"width\":0.5},\"pattern\":{\"fillmode\":\"overlay\",\"size\":10,\"solidity\":0.2}},\"type\":\"barpolar\"}],\"pie\":[{\"automargin\":true,\"type\":\"pie\"}]},\"layout\":{\"autotypenumbers\":\"strict\",\"colorway\":[\"#636efa\",\"#EF553B\",\"#00cc96\",\"#ab63fa\",\"#FFA15A\",\"#19d3f3\",\"#FF6692\",\"#B6E880\",\"#FF97FF\",\"#FECB52\"],\"font\":{\"color\":\"#2a3f5f\"},\"hovermode\":\"closest\",\"hoverlabel\":{\"align\":\"left\"},\"paper_bgcolor\":\"white\",\"plot_bgcolor\":\"#E5ECF6\",\"polar\":{\"bgcolor\":\"#E5ECF6\",\"angularaxis\":{\"gridcolor\":\"white\",\"linecolor\":\"white\",\"ticks\":\"\"},\"radialaxis\":{\"gridcolor\":\"white\",\"linecolor\":\"white\",\"ticks\":\"\"}},\"ternary\":{\"bgcolor\":\"#E5ECF6\",\"aaxis\":{\"gridcolor\":\"white\",\"linecolor\":\"white\",\"ticks\":\"\"},\"baxis\":{\"gridcolor\":\"white\",\"linecolor\":\"white\",\"ticks\":\"\"},\"caxis\":{\"gridcolor\":\"white\",\"linecolor\":\"white\",\"ticks\":\"\"}},\"coloraxis\":{\"colorbar\":{\"outlinewidth\":0,\"ticks\":\"\"}},\"colorscale\":{\"sequential\":[[0.0,\"#0d0887\"],[0.1111111111111111,\"#46039f\"],[0.2222222222222222,\"#7201a8\"],[0.3333333333333333,\"#9c179e\"],[0.4444444444444444,\"#bd3786\"],[0.5555555555555556,\"#d8576b\"],[0.6666666666666666,\"#ed7953\"],[0.7777777777777778,\"#fb9f3a\"],[0.8888888888888888,\"#fdca26\"],[1.0,\"#f0f921\"]],\"sequentialminus\":[[0.0,\"#0d0887\"],[0.1111111111111111,\"#46039f\"],[0.2222222222222222,\"#7201a8\"],[0.3333333333333333,\"#9c179e\"],[0.4444444444444444,\"#bd3786\"],[0.5555555555555556,\"#d8576b\"],[0.6666666666666666,\"#ed7953\"],[0.7777777777777778,\"#fb9f3a\"],[0.8888888888888888,\"#fdca26\"],[1.0,\"#f0f921\"]],\"diverging\":[[0,\"#8e0152\"],[0.1,\"#c51b7d\"],[0.2,\"#de77ae\"],[0.3,\"#f1b6da\"],[0.4,\"#fde0ef\"],[0.5,\"#f7f7f7\"],[0.6,\"#e6f5d0\"],[0.7,\"#b8e186\"],[0.8,\"#7fbc41\"],[0.9,\"#4d9221\"],[1,\"#276419\"]]},\"xaxis\":{\"gridcolor\":\"white\",\"linecolor\":\"white\",\"ticks\":\"\",\"title\":{\"standoff\":15},\"zerolinecolor\":\"white\",\"automargin\":true,\"zerolinewidth\":2},\"yaxis\":{\"gridcolor\":\"white\",\"linecolor\":\"white\",\"ticks\":\"\",\"title\":{\"standoff\":15},\"zerolinecolor\":\"white\",\"automargin\":true,\"zerolinewidth\":2},\"scene\":{\"xaxis\":{\"backgroundcolor\":\"#E5ECF6\",\"gridcolor\":\"white\",\"linecolor\":\"white\",\"showbackground\":true,\"ticks\":\"\",\"zerolinecolor\":\"white\",\"gridwidth\":2},\"yaxis\":{\"backgroundcolor\":\"#E5ECF6\",\"gridcolor\":\"white\",\"linecolor\":\"white\",\"showbackground\":true,\"ticks\":\"\",\"zerolinecolor\":\"white\",\"gridwidth\":2},\"zaxis\":{\"backgroundcolor\":\"#E5ECF6\",\"gridcolor\":\"white\",\"linecolor\":\"white\",\"showbackground\":true,\"ticks\":\"\",\"zerolinecolor\":\"white\",\"gridwidth\":2}},\"shapedefaults\":{\"line\":{\"color\":\"#2a3f5f\"}},\"annotationdefaults\":{\"arrowcolor\":\"#2a3f5f\",\"arrowhead\":0,\"arrowwidth\":1},\"geo\":{\"bgcolor\":\"white\",\"landcolor\":\"#E5ECF6\",\"subunitcolor\":\"white\",\"showland\":true,\"showlakes\":true,\"lakecolor\":\"white\"},\"title\":{\"x\":0.05},\"mapbox\":{\"style\":\"light\"}}},\"xaxis\":{\"anchor\":\"y\",\"domain\":[0.0,1.0],\"title\":{\"text\":\"x\"}},\"yaxis\":{\"anchor\":\"x\",\"domain\":[0.0,1.0],\"title\":{\"text\":\"y\"}},\"legend\":{\"tracegroupgap\":0},\"title\":{\"text\":\"Principal Components of the Layer 1 Pre Activation\"}},                        {\"responsive\": true}                    ).then(function(){\n",
              "                            \n",
              "var gd = document.getElementById('b7d8de64-8c74-4f6e-8317-ad588d8f93c9');\n",
              "var x = new MutationObserver(function (mutations, observer) {{\n",
              "        var display = window.getComputedStyle(gd).display;\n",
              "        if (!display || display === 'none') {{\n",
              "            console.log([gd, 'removed!']);\n",
              "            Plotly.purge(gd);\n",
              "            observer.disconnect();\n",
              "        }}\n",
              "}});\n",
              "\n",
              "// Listen for the removal of the full notebook cells\n",
              "var notebookContainer = gd.closest('#notebook-container');\n",
              "if (notebookContainer) {{\n",
              "    x.observe(notebookContainer, {childList: true});\n",
              "}}\n",
              "\n",
              "// Listen for the clearing of the current output cell\n",
              "var outputEl = gd.closest('.output');\n",
              "if (outputEl) {{\n",
              "    x.observe(outputEl, {childList: true});\n",
              "}}\n",
              "\n",
              "                        })                };                            </script>        </div>\n",
              "</body>\n",
              "</html>"
            ]
          },
          "metadata": {}
        },
        {
          "output_type": "display_data",
          "data": {
            "text/html": [
              "<html>\n",
              "<head><meta charset=\"utf-8\" /></head>\n",
              "<body>\n",
              "    <div>            <script src=\"https://cdnjs.cloudflare.com/ajax/libs/mathjax/2.7.5/MathJax.js?config=TeX-AMS-MML_SVG\"></script><script type=\"text/javascript\">if (window.MathJax && window.MathJax.Hub && window.MathJax.Hub.Config) {window.MathJax.Hub.Config({SVG: {font: \"STIX-Web\"}});}</script>                <script type=\"text/javascript\">window.PlotlyConfig = {MathJaxConfig: 'local'};</script>\n",
              "        <script charset=\"utf-8\" src=\"https://cdn.plot.ly/plotly-2.24.1.min.js\"></script>                <div id=\"55c04de6-bb9c-4733-b692-c640390575fe\" class=\"plotly-graph-div\" style=\"height:525px; width:100%;\"></div>            <script type=\"text/javascript\">                                    window.PLOTLYENV=window.PLOTLYENV || {};                                    if (document.getElementById(\"55c04de6-bb9c-4733-b692-c640390575fe\")) {                    Plotly.newPlot(                        \"55c04de6-bb9c-4733-b692-c640390575fe\",                        [{\"hovertemplate\":\"x=%{x}\\u003cbr\\u003ey=%{y}\\u003cextra\\u003e\\u003c\\u002fextra\\u003e\",\"legendgroup\":\"\",\"line\":{\"color\":\"#636efa\",\"dash\":\"solid\"},\"marker\":{\"symbol\":\"circle\"},\"mode\":\"lines\",\"name\":\"\",\"orientation\":\"v\",\"showlegend\":false,\"x\":[0,1,2,3,4,5,6,7,8,9,10,11,12,13,14,15,16,17,18,19,20,21,22,23,24,25,26,27,28,29,30,31,32,33,34,35,36,37,38,39,40,41,42,43,44,45,46,47,48,49,50,51,52,53,54,55,56,57,58,59,60,61,62,63,64,65,66,67,68,69,70,71,72,73,74,75,76,77,78,79,80,81,82,83,84,85,86,87,88,89,90,91,92,93,94,95,96,97,98,99,100,101,102,103,104,105,106,107,108,109,110,111,112,113,114,115,116,117,118,119,120,121,122,123,124,125,126,127,128,129,130,131,132,133,134,135,136,137,138,139,140,141,142,143,144,145,146,147,148,149,150,151,152,153,154,155,156,157,158,159,160,161,162,163,164,165,166,167,168,169,170,171,172,173,174,175,176,177,178,179,180,181,182,183,184,185,186,187,188,189,190,191,192,193,194,195,196,197,198,199,200,201,202,203,204,205,206,207,208,209,210,211,212,213,214,215,216,217,218,219,220,221,222,223,224,225,226,227,228,229,230,231,232,233,234,235,236,237,238,239,240,241,242,243,244,245,246,247,248,249,250,251,252,253,254,255,256,257,258,259,260,261,262,263,264,265,266,267,268,269,270,271,272,273,274,275,276,277,278,279,280,281,282,283,284,285,286,287,288,289,290,291,292,293,294,295,296,297,298,299,300,301,302,303,304,305,306,307,308,309,310,311,312,313,314,315,316,317,318,319,320,321,322,323,324,325,326,327,328,329,330,331,332,333,334,335,336,337,338,339,340,341,342,343,344,345,346,347,348,349,350,351,352,353,354,355,356,357,358,359,360,361,362,363,364,365,366,367,368,369,370,371,372,373,374,375,376,377,378,379,380,381,382,383,384,385,386,387,388,389,390,391,392,393,394,395,396,397,398,399,400,401,402,403,404,405,406,407,408,409,410,411,412,413,414,415,416,417,418,419,420,421,422,423,424,425,426,427,428,429,430,431,432,433,434,435,436,437,438,439,440,441,442,443,444,445,446,447,448,449,450,451,452,453,454,455,456,457,458,459,460,461,462,463,464,465,466,467,468,469,470,471,472,473,474,475,476,477,478,479,480,481,482,483,484,485,486,487,488,489,490,491,492,493,494,495,496,497,498,499,500,501,502,503,504,505,506,507,508,509,510,511,512,513,514,515,516,517,518,519,520,521,522,523,524,525,526,527,528,529,530,531,532,533,534,535,536,537,538,539,540,541,542,543,544,545,546,547,548,549,550,551,552,553,554,555,556,557,558,559,560,561,562,563,564,565,566,567,568,569,570,571,572,573,574,575,576,577,578,579,580,581,582,583,584,585,586,587,588,589,590,591,592,593,594,595,596,597,598,599,600,601,602,603,604,605,606,607,608,609,610,611,612,613,614,615,616,617,618,619,620,621,622,623,624,625,626,627,628,629,630,631,632,633,634,635,636,637,638,639,640,641,642,643,644,645,646,647,648,649,650,651,652,653,654,655,656,657,658,659,660,661,662,663,664,665,666,667,668,669,670,671,672,673,674,675,676,677,678,679,680,681,682,683,684,685,686,687,688,689,690,691,692,693,694,695,696,697,698,699,700,701,702,703,704,705,706,707,708,709,710,711,712,713,714,715,716,717,718,719,720,721,722,723,724,725,726,727,728,729,730,731,732,733,734,735,736,737,738,739,740,741,742,743,744,745,746,747,748,749,750,751,752,753,754,755,756,757,758,759,760,761,762,763,764,765,766,767,768,769,770,771,772,773,774,775,776,777,778,779,780,781,782,783,784,785,786,787,788,789,790,791,792,793,794,795,796,797,798,799,800,801,802,803,804,805,806,807,808,809,810,811,812,813,814,815,816,817,818,819,820,821,822,823,824,825,826,827,828,829,830,831,832,833,834,835,836,837,838,839,840,841,842,843,844,845,846,847,848,849,850,851,852,853,854,855,856,857,858,859,860,861,862,863,864,865,866,867,868,869,870,871,872,873,874,875,876,877,878,879,880,881,882,883,884,885,886,887,888,889,890,891,892,893,894,895,896,897,898,899,900,901,902,903,904,905,906,907,908,909,910,911,912,913,914,915,916,917,918,919,920,921,922,923,924,925,926,927,928,929,930,931,932,933,934,935,936,937,938,939,940,941,942,943,944,945,946,947,948,949,950,951,952,953,954,955,956,957,958,959,960,961,962,963,964,965,966,967,968,969,970,971,972,973,974,975,976,977,978,979,980,981,982,983,984,985,986,987,988,989,990,991,992,993,994,995,996,997,998,999],\"xaxis\":\"x\",\"y\":[255.32798767089844,78.6333236694336,64.50311279296875,57.29611587524414,53.846248626708984,48.81033706665039,41.26407241821289,11.406468391418457,10.212486267089844,9.92967700958252,9.614619255065918,9.36180305480957,9.015905380249023,8.94128131866455,8.529997825622559,8.378233909606934,8.24317741394043,8.200618743896484,8.052247047424316,8.005626678466797,7.933174133300781,7.827966690063477,7.7151689529418945,7.684738636016846,7.542473316192627,7.476071357727051,7.3692708015441895,7.323437213897705,7.229093074798584,7.184390544891357,7.072146415710449,7.004743576049805,6.910937786102295,6.857452869415283,6.802605152130127,6.765539646148682,6.740018367767334,6.681544780731201,6.647805690765381,6.583986759185791,6.544098377227783,6.487848281860352,6.437567710876465,6.412967205047607,6.352021217346191,6.317497730255127,6.271101951599121,6.23269510269165,6.19917631149292,6.132505893707275,6.125246524810791,6.092531681060791,6.038055419921875,5.999513149261475,5.973022937774658,5.955385208129883,5.925937652587891,5.889121055603027,5.836458206176758,5.807100772857666,5.797874927520752,5.754115581512451,5.728085994720459,5.674532890319824,5.651760101318359,5.628592014312744,5.617722511291504,5.579495429992676,5.549064636230469,5.526726722717285,5.483807563781738,5.468907833099365,5.424474716186523,5.400123596191406,5.397745609283447,5.337237358093262,5.309288501739502,5.298777103424072,5.2873430252075195,5.236271858215332,5.229938983917236,5.185699462890625,5.157534599304199,5.134627819061279,5.1275858879089355,5.123775959014893,5.103682994842529,5.053523540496826,5.009592533111572,5.007872581481934,4.97354793548584,4.956818103790283,4.922968864440918,4.913018703460693,4.899798393249512,4.874960899353027,4.844193458557129,4.822112560272217,4.811052322387695,4.785704135894775,4.750222206115723,4.7433977127075195,4.718551158905029,4.706801891326904,4.690042972564697,4.66899299621582,4.629096984863281,4.611888408660889,4.593491554260254,4.58499002456665,4.550539970397949,4.5445427894592285,4.516112327575684,4.50887393951416,4.485555648803711,4.480405330657959,4.461374282836914,4.459423542022705,4.430102348327637,4.405121326446533,4.4007415771484375,4.384296417236328,4.359901428222656,4.344174385070801,4.328419208526611,4.308042049407959,4.28534460067749,4.280308246612549,4.24898099899292,4.242015361785889,4.226914882659912,4.211729049682617,4.189894199371338,4.181036949157715,4.167402744293213,4.152651786804199,4.139261722564697,4.125094890594482,4.104615688323975,4.089624404907227,4.087006092071533,4.067127227783203,4.055654525756836,4.052515983581543,4.017440319061279,4.010954856872559,4.004212856292725,3.9864327907562256,3.974198579788208,3.9581875801086426,3.949794054031372,3.9262232780456543,3.899831533432007,3.8957254886627197,3.88903546333313,3.88204026222229,3.866603136062622,3.844062328338623,3.8298699855804443,3.8153724670410156,3.805062770843506,3.7934648990631104,3.7804136276245117,3.770961046218872,3.753173589706421,3.740358352661133,3.731915235519409,3.708958864212036,3.7065787315368652,3.695266008377075,3.6811327934265137,3.666125774383545,3.657879114151001,3.650040864944458,3.640915632247925,3.6368253231048584,3.622490882873535,3.6034975051879883,3.5950405597686768,3.571702003479004,3.5678722858428955,3.558292865753174,3.539177894592285,3.5297305583953857,3.5218658447265625,3.5131170749664307,3.4945693016052246,3.4920454025268555,3.4872288703918457,3.4680604934692383,3.4667346477508545,3.4533116817474365,3.4370555877685547,3.4272701740264893,3.4140501022338867,3.395609140396118,3.3888893127441406,3.3885960578918457,3.3850860595703125,3.3612775802612305,3.3500254154205322,3.340426206588745,3.3250620365142822,3.319074869155884,3.3081233501434326,3.297689437866211,3.279865026473999,3.274460792541504,3.27176833152771,3.248774528503418,3.23541522026062,3.233523368835449,3.2218315601348877,3.2161178588867188,3.1994619369506836,3.1936628818511963,3.1868810653686523,3.178313732147217,3.1669671535491943,3.1554722785949707,3.1518707275390625,3.141618490219116,3.1381702423095703,3.132413148880005,3.120978832244873,3.1066179275512695,3.1001222133636475,3.081590414047241,3.0753908157348633,3.0698695182800293,3.05676007270813,3.051264524459839,3.037379503250122,3.031269073486328,3.0230872631073,3.012045383453369,2.999154806137085,2.997697114944458,2.987135648727417,2.9754979610443115,2.973430633544922,2.9565422534942627,2.9535105228424072,2.948028326034546,2.939746141433716,2.9275388717651367,2.9146735668182373,2.9115138053894043,2.8968617916107178,2.8886053562164307,2.881228446960449,2.8752939701080322,2.870258331298828,2.853550672531128,2.8484556674957275,2.8331711292266846,2.8221323490142822,2.816633939743042,2.813023805618286,2.8046674728393555,2.7989590167999268,2.794215202331543,2.78328800201416,2.7681150436401367,2.763867139816284,2.762342929840088,2.757639169692993,2.746591091156006,2.7388973236083984,2.7197420597076416,2.7166547775268555,2.7091102600097656,2.7072577476501465,2.6988306045532227,2.693145990371704,2.6797726154327393,2.676102638244629,2.665234088897705,2.664924383163452,2.6576364040374756,2.647824764251709,2.636488914489746,2.6306605339050293,2.620866060256958,2.610196828842163,2.6065049171447754,2.5983479022979736,2.583395004272461,2.576341390609741,2.5737173557281494,2.5687921047210693,2.5589654445648193,2.5536746978759766,2.5476672649383545,2.536555767059326,2.533299684524536,2.5237298011779785,2.5208332538604736,2.5104851722717285,2.5028579235076904,2.492072105407715,2.488269567489624,2.485785484313965,2.4781923294067383,2.466484785079956,2.466089963912964,2.4572665691375732,2.451922655105591,2.4399726390838623,2.4339942932128906,2.4300999641418457,2.4262986183166504,2.4163711071014404,2.4041261672973633,2.3999829292297363,2.394871234893799,2.391153573989868,2.3869311809539795,2.3757920265197754,2.3719708919525146,2.3689138889312744,2.3618314266204834,2.3516178131103516,2.3486416339874268,2.334085464477539,2.332401990890503,2.3296260833740234,2.323514699935913,2.311375856399536,2.305727958679199,2.29831862449646,2.293023109436035,2.2816290855407715,2.2745513916015625,2.267030954360962,2.2629122734069824,2.2579197883605957,2.2569918632507324,2.24967360496521,2.238426685333252,2.2346584796905518,2.2320892810821533,2.226790428161621,2.2224984169006348,2.215263843536377,2.2119596004486084,2.208540201187134,2.20094633102417,2.1949048042297363,2.1837399005889893,2.175652265548706,2.1711435317993164,2.1657536029815674,2.160517454147339,2.158194065093994,2.1502459049224854,2.1418652534484863,2.136152982711792,2.1293132305145264,2.1191394329071045,2.118317127227783,2.1084136962890625,2.103830099105835,2.097888469696045,2.0920090675354004,2.089953899383545,2.0841312408447266,2.0820133686065674,2.070390224456787,2.0648353099823,2.0605366230010986,2.056577444076538,2.0527048110961914,2.045316457748413,2.04057240486145,2.0346364974975586,2.030839681625366,2.0245301723480225,2.0207531452178955,2.0132224559783936,2.00966215133667,2.0055582523345947,1.999496579170227,1.9940805435180664,1.9856256246566772,1.9831364154815674,1.9727966785430908,1.9718034267425537,1.9614936113357544,1.959871768951416,1.9518448114395142,1.9502767324447632,1.9449589252471924,1.941119909286499,1.9400808811187744,1.9258321523666382,1.9180400371551514,1.9154775142669678,1.9113637208938599,1.9015483856201172,1.8971420526504517,1.8941677808761597,1.890272617340088,1.8897936344146729,1.8772468566894531,1.8709359169006348,1.8687385320663452,1.86382257938385,1.8609029054641724,1.857251524925232,1.850588321685791,1.8470531702041626,1.8447281122207642,1.8404693603515625,1.8306362628936768,1.8252838850021362,1.8206396102905273,1.8167269229888916,1.8156936168670654,1.8109676837921143,1.8032349348068237,1.7988258600234985,1.793282389640808,1.7910923957824707,1.7865722179412842,1.7815544605255127,1.7743185758590698,1.7713104486465454,1.7652448415756226,1.7610793113708496,1.756016731262207,1.7534008026123047,1.7477500438690186,1.7441518306732178,1.7375454902648926,1.7330540418624878,1.7301348447799683,1.725534439086914,1.7230852842330933,1.7187957763671875,1.7132242918014526,1.7049469947814941,1.7040622234344482,1.6987582445144653,1.6951091289520264,1.6926182508468628,1.6848607063293457,1.678767204284668,1.6758453845977783,1.672500491142273,1.6637612581253052,1.6589672565460205,1.6550792455673218,1.6542080640792847,1.6456061601638794,1.6394680738449097,1.636497139930725,1.6270369291305542,1.6260132789611816,1.6223926544189453,1.6155636310577393,1.6124223470687866,1.6055392026901245,1.6026724576950073,1.6002957820892334,1.5958306789398193,1.5911039113998413,1.5869746208190918,1.5832451581954956,1.5790801048278809,1.57378351688385,1.5726414918899536,1.570357322692871,1.5654804706573486,1.563307523727417,1.5593315362930298,1.556190013885498,1.5539625883102417,1.546156883239746,1.5400019884109497,1.535920262336731,1.5327444076538086,1.5275828838348389,1.5246728658676147,1.5171736478805542,1.51408052444458,1.511946678161621,1.507604718208313,1.5019638538360596,1.497848391532898,1.495235800743103,1.4913198947906494,1.4871667623519897,1.4838286638259888,1.474065899848938,1.4718472957611084,1.4688923358917236,1.4641677141189575,1.459004282951355,1.4566959142684937,1.4552640914916992,1.4497199058532715,1.4465610980987549,1.445329189300537,1.4398257732391357,1.4327300786972046,1.4302494525909424,1.4291752576828003,1.4223393201828003,1.4179565906524658,1.4122856855392456,1.411495566368103,1.406363844871521,1.4026360511779785,1.3967747688293457,1.395365834236145,1.3879307508468628,1.3825099468231201,1.3794937133789062,1.3760703802108765,1.3701432943344116,1.3656870126724243,1.3632649183273315,1.3603577613830566,1.3569279909133911,1.3548847436904907,1.3518649339675903,1.3472864627838135,1.3444958925247192,1.3411790132522583,1.3398452997207642,1.3349947929382324,1.3334821462631226,1.328589677810669,1.3275271654129028,1.3235820531845093,1.3165929317474365,1.3077952861785889,1.3050386905670166,1.3040224313735962,1.3029236793518066,1.297738790512085,1.2947096824645996,1.2924482822418213,1.287321925163269,1.2836264371871948,1.2813068628311157,1.2799873352050781,1.2763209342956543,1.272286057472229,1.2680549621582031,1.2653982639312744,1.2606247663497925,1.258128046989441,1.2499364614486694,1.2483694553375244,1.2444552183151245,1.2402609586715698,1.2386136054992676,1.23524010181427,1.2318618297576904,1.2283756732940674,1.2258533239364624,1.2232131958007812,1.2188162803649902,1.2174311876296997,1.2120901346206665,1.2089178562164307,1.2058840990066528,1.2032265663146973,1.1991490125656128,1.195628046989441,1.19086492061615,1.1890521049499512,1.1829010248184204,1.1806305646896362,1.1769521236419678,1.1755472421646118,1.1711409091949463,1.1694575548171997,1.1643391847610474,1.1589943170547485,1.1569844484329224,1.153771996498108,1.150376558303833,1.1486932039260864,1.1463801860809326,1.1447627544403076,1.1410590410232544,1.1400601863861084,1.1357828378677368,1.1324599981307983,1.1311125755310059,1.127890706062317,1.1264739036560059,1.12016761302948,1.1185742616653442,1.111789584159851,1.1097575426101685,1.1068217754364014,1.105107307434082,1.0994372367858887,1.0934289693832397,1.0915496349334717,1.0890591144561768,1.0869320631027222,1.084115743637085,1.0816441774368286,1.0739890336990356,1.0731894969940186,1.0720514059066772,1.0677573680877686,1.0657546520233154,1.062687635421753,1.056609869003296,1.0529272556304932,1.0521851778030396,1.0466500520706177,1.0443040132522583,1.0418245792388916,1.0363709926605225,1.0344839096069336,1.0323399305343628,1.0294525623321533,1.02498459815979,1.0212228298187256,1.0182952880859375,1.0165822505950928,1.0145814418792725,1.0096039772033691,1.0087766647338867,1.0031720399856567,0.9986662268638611,0.9966561794281006,0.992519736289978,0.9917128086090088,0.9894914031028748,0.9860423803329468,0.9832025766372681,0.9823043346405029,0.9791932106018066,0.9759721159934998,0.9747443199157715,0.9700400829315186,0.9677336812019348,0.9638559818267822,0.9600218534469604,0.958010196685791,0.9543164968490601,0.9525588750839233,0.951296329498291,0.948100209236145,0.9445832371711731,0.94217449426651,0.9402990341186523,0.937299907207489,0.9370057582855225,0.9341781735420227,0.927486002445221,0.9243121147155762,0.9223560094833374,0.9207890033721924,0.9141354560852051,0.9134373664855957,0.9118538498878479,0.9084970951080322,0.9054275155067444,0.9016335010528564,0.8991506099700928,0.8973856568336487,0.8925729393959045,0.8906311392784119,0.889866054058075,0.8859440088272095,0.8844020962715149,0.8817043304443359,0.8785001039505005,0.8759288191795349,0.8735544085502625,0.8689191937446594,0.8675972819328308,0.8652942776679993,0.8617373108863831,0.8590865731239319,0.8565327525138855,0.8549491167068481,0.8515585660934448,0.8487762212753296,0.8477402925491333,0.8445160984992981,0.8436741828918457,0.8390048146247864,0.8360167145729065,0.8347080945968628,0.8327658176422119,0.8275012969970703,0.8225430846214294,0.8216734528541565,0.8207949995994568,0.8183087706565857,0.8172462582588196,0.8138562440872192,0.812296986579895,0.8080927729606628,0.8062942624092102,0.8050615191459656,0.8014903664588928,0.7984432578086853,0.795375406742096,0.7939664125442505,0.7909272909164429,0.7890190482139587,0.784252941608429,0.7826322913169861,0.7789854407310486,0.7773890495300293,0.7754351496696472,0.7722606062889099,0.7682322263717651,0.7670634984970093,0.7631064653396606,0.7616403698921204,0.761070728302002,0.7575318813323975,0.7562978863716125,0.7524318099021912,0.7489745020866394,0.7480307221412659,0.7465066909790039,0.7411242723464966,0.7398175001144409,0.7375636696815491,0.7357409000396729,0.7345818877220154,0.7319276928901672,0.7310285568237305,0.7258685231208801,0.7238742709159851,0.722955584526062,0.7198041677474976,0.7191233038902283,0.7156435251235962,0.7141980528831482,0.710739254951477,0.7096661329269409,0.7061418890953064,0.7030515074729919,0.702170729637146,0.6997315287590027,0.6986532211303711,0.6960434317588806,0.6929821372032166,0.6898122429847717,0.6874788403511047,0.684582531452179,0.6832948327064514,0.6824900507926941,0.6793739795684814,0.6778745651245117,0.6720980405807495,0.6706731915473938,0.6677934527397156,0.6649649739265442,0.6639091968536377,0.6618452668190002,0.6587583422660828,0.6549791693687439,0.6524572372436523,0.651652455329895,0.6485833525657654,0.6462892889976501,0.6457640528678894,0.644813597202301,0.6423434019088745,0.6372466087341309,0.6359210014343262,0.6332740187644958,0.6313740611076355,0.6297574043273926,0.6263832449913025,0.6248628497123718,0.6231321096420288,0.6187726855278015,0.6176420450210571,0.6125828623771667,0.6120006442070007,0.6091040372848511,0.6058437824249268,0.603624701499939,0.6018617749214172,0.6005063056945801,0.5988323092460632,0.5969276428222656,0.5952845811843872,0.5923230648040771,0.5915398001670837,0.5871825814247131,0.584122896194458,0.5818349123001099,0.5790951251983643,0.577183187007904,0.5752221345901489,0.5737180113792419,0.5715854167938232,0.5699008703231812,0.5661094188690186,0.5635871291160583,0.5599709749221802,0.5586639642715454,0.557991623878479,0.555596113204956,0.5531049966812134,0.5514973998069763,0.5506947636604309,0.5451634526252747,0.5430331826210022,0.5398347973823547,0.5385496020317078,0.5351849794387817,0.5344906449317932,0.5330681204795837,0.5305474996566772,0.5300083756446838,0.5284490585327148,0.5258421301841736,0.5243699550628662,0.523026168346405,0.5215919613838196,0.5186789035797119,0.5150168538093567,0.5131863951683044,0.509588360786438,0.5077493190765381,0.506099283695221,0.5044991970062256,0.503348171710968,0.5005013942718506,0.49876147508621216,0.49716493487358093,0.49402132630348206,0.4933141767978668,0.4900360703468323,0.48930928111076355,0.48640957474708557,0.4831150770187378,0.48141175508499146,0.4795389473438263,0.4780537784099579,0.47519248723983765,0.4718964993953705,0.47150591015815735,0.4676787853240967,0.4655876159667969,0.4637546241283417,0.46259555220603943,0.4616605341434479,0.4569472372531891,0.45480141043663025,0.4522031843662262,0.45067405700683594,0.44934722781181335,0.4475194215774536,0.4461049437522888,0.44483861327171326,0.44131913781166077,0.44091159105300903,0.4398528039455414,0.43816494941711426,0.43694180250167847,0.43379124999046326,0.4316859245300293,0.4281514286994934,0.4252602159976959,0.4230610132217407,0.4223707616329193,0.42045125365257263,0.4186214804649353,0.41443443298339844,0.4136568307876587,0.4118424654006958,0.4100287854671478,0.4086228013038635,0.4063165783882141,0.40424656867980957,0.40269970893859863,0.4016895592212677,0.39904963970184326,0.39853528141975403,0.3979577422142029,0.39369550347328186,0.3913094401359558,0.38979509472846985,0.3859524726867676,0.385223925113678,0.3829977810382843,0.38104262948036194,0.3793603777885437,0.3770606815814972,0.3757493495941162,0.3739584684371948,0.37164416909217834,0.36975595355033875,0.3688828647136688,0.3670291304588318,0.36423760652542114,0.3609771430492401,0.3578524887561798,0.35613352060317993,0.35223284363746643,0.3497742712497711,0.3477863371372223,0.34754830598831177,0.3464829623699188,0.34559205174446106,0.3423437178134918,0.33900007605552673,0.3367765545845032,0.33547791838645935,0.3338377773761749,0.33318066596984863,0.33123162388801575,0.32898980379104614,0.32725510001182556,0.3259694576263428,0.32355937361717224,0.32235270738601685,0.3213353753089905,0.3180297613143921,0.3140420913696289,0.3136864900588989,0.3097945749759674,0.30933886766433716,0.3077409565448761,0.30552127957344055,0.3040091395378113,0.301058292388916,0.30005916953086853,0.2992488741874695,0.2973000407218933,0.29407697916030884,0.29177358746528625,0.2908596396446228,0.28982013463974,0.2857515513896942,0.28233206272125244,0.28061774373054504,0.27873027324676514,0.277543306350708,0.27340787649154663,0.27205175161361694,0.2704533636569977,0.26939061284065247,0.2661172151565552,0.2636616826057434,0.2608989179134369,0.25924691557884216,0.25556594133377075,0.2551053464412689,0.253216952085495,0.25182846188545227,0.2507856786251068,0.2478746771812439,0.24544969201087952,0.24387376010417938,0.24201422929763794,0.23838567733764648,0.2363528460264206,0.23347267508506775,0.2325596809387207,0.23012477159500122,0.22728782892227173,0.2255217730998993,0.22323450446128845,0.2213607132434845,0.21797055006027222,0.21554502844810486,0.21339857578277588,0.21094323694705963,0.20943352580070496,0.20666037499904633,0.20500122010707855,0.20024146139621735,0.1965244859457016,0.19337522983551025,0.1899036020040512,0.18821090459823608,0.18477486073970795,0.18316784501075745,0.17781132459640503,0.1724744439125061,0.1679464429616928,0.16438360512256622,0.15962587296962738,0.15460820496082306,0.1484203338623047,0.14706525206565857,0.13471075892448425,0.09608536213636398,5.26301209902158e-06,5.439425194708747e-07],\"yaxis\":\"y\",\"type\":\"scatter\"}],                        {\"template\":{\"data\":{\"histogram2dcontour\":[{\"type\":\"histogram2dcontour\",\"colorbar\":{\"outlinewidth\":0,\"ticks\":\"\"},\"colorscale\":[[0.0,\"#0d0887\"],[0.1111111111111111,\"#46039f\"],[0.2222222222222222,\"#7201a8\"],[0.3333333333333333,\"#9c179e\"],[0.4444444444444444,\"#bd3786\"],[0.5555555555555556,\"#d8576b\"],[0.6666666666666666,\"#ed7953\"],[0.7777777777777778,\"#fb9f3a\"],[0.8888888888888888,\"#fdca26\"],[1.0,\"#f0f921\"]]}],\"choropleth\":[{\"type\":\"choropleth\",\"colorbar\":{\"outlinewidth\":0,\"ticks\":\"\"}}],\"histogram2d\":[{\"type\":\"histogram2d\",\"colorbar\":{\"outlinewidth\":0,\"ticks\":\"\"},\"colorscale\":[[0.0,\"#0d0887\"],[0.1111111111111111,\"#46039f\"],[0.2222222222222222,\"#7201a8\"],[0.3333333333333333,\"#9c179e\"],[0.4444444444444444,\"#bd3786\"],[0.5555555555555556,\"#d8576b\"],[0.6666666666666666,\"#ed7953\"],[0.7777777777777778,\"#fb9f3a\"],[0.8888888888888888,\"#fdca26\"],[1.0,\"#f0f921\"]]}],\"heatmap\":[{\"type\":\"heatmap\",\"colorbar\":{\"outlinewidth\":0,\"ticks\":\"\"},\"colorscale\":[[0.0,\"#0d0887\"],[0.1111111111111111,\"#46039f\"],[0.2222222222222222,\"#7201a8\"],[0.3333333333333333,\"#9c179e\"],[0.4444444444444444,\"#bd3786\"],[0.5555555555555556,\"#d8576b\"],[0.6666666666666666,\"#ed7953\"],[0.7777777777777778,\"#fb9f3a\"],[0.8888888888888888,\"#fdca26\"],[1.0,\"#f0f921\"]]}],\"heatmapgl\":[{\"type\":\"heatmapgl\",\"colorbar\":{\"outlinewidth\":0,\"ticks\":\"\"},\"colorscale\":[[0.0,\"#0d0887\"],[0.1111111111111111,\"#46039f\"],[0.2222222222222222,\"#7201a8\"],[0.3333333333333333,\"#9c179e\"],[0.4444444444444444,\"#bd3786\"],[0.5555555555555556,\"#d8576b\"],[0.6666666666666666,\"#ed7953\"],[0.7777777777777778,\"#fb9f3a\"],[0.8888888888888888,\"#fdca26\"],[1.0,\"#f0f921\"]]}],\"contourcarpet\":[{\"type\":\"contourcarpet\",\"colorbar\":{\"outlinewidth\":0,\"ticks\":\"\"}}],\"contour\":[{\"type\":\"contour\",\"colorbar\":{\"outlinewidth\":0,\"ticks\":\"\"},\"colorscale\":[[0.0,\"#0d0887\"],[0.1111111111111111,\"#46039f\"],[0.2222222222222222,\"#7201a8\"],[0.3333333333333333,\"#9c179e\"],[0.4444444444444444,\"#bd3786\"],[0.5555555555555556,\"#d8576b\"],[0.6666666666666666,\"#ed7953\"],[0.7777777777777778,\"#fb9f3a\"],[0.8888888888888888,\"#fdca26\"],[1.0,\"#f0f921\"]]}],\"surface\":[{\"type\":\"surface\",\"colorbar\":{\"outlinewidth\":0,\"ticks\":\"\"},\"colorscale\":[[0.0,\"#0d0887\"],[0.1111111111111111,\"#46039f\"],[0.2222222222222222,\"#7201a8\"],[0.3333333333333333,\"#9c179e\"],[0.4444444444444444,\"#bd3786\"],[0.5555555555555556,\"#d8576b\"],[0.6666666666666666,\"#ed7953\"],[0.7777777777777778,\"#fb9f3a\"],[0.8888888888888888,\"#fdca26\"],[1.0,\"#f0f921\"]]}],\"mesh3d\":[{\"type\":\"mesh3d\",\"colorbar\":{\"outlinewidth\":0,\"ticks\":\"\"}}],\"scatter\":[{\"fillpattern\":{\"fillmode\":\"overlay\",\"size\":10,\"solidity\":0.2},\"type\":\"scatter\"}],\"parcoords\":[{\"type\":\"parcoords\",\"line\":{\"colorbar\":{\"outlinewidth\":0,\"ticks\":\"\"}}}],\"scatterpolargl\":[{\"type\":\"scatterpolargl\",\"marker\":{\"colorbar\":{\"outlinewidth\":0,\"ticks\":\"\"}}}],\"bar\":[{\"error_x\":{\"color\":\"#2a3f5f\"},\"error_y\":{\"color\":\"#2a3f5f\"},\"marker\":{\"line\":{\"color\":\"#E5ECF6\",\"width\":0.5},\"pattern\":{\"fillmode\":\"overlay\",\"size\":10,\"solidity\":0.2}},\"type\":\"bar\"}],\"scattergeo\":[{\"type\":\"scattergeo\",\"marker\":{\"colorbar\":{\"outlinewidth\":0,\"ticks\":\"\"}}}],\"scatterpolar\":[{\"type\":\"scatterpolar\",\"marker\":{\"colorbar\":{\"outlinewidth\":0,\"ticks\":\"\"}}}],\"histogram\":[{\"marker\":{\"pattern\":{\"fillmode\":\"overlay\",\"size\":10,\"solidity\":0.2}},\"type\":\"histogram\"}],\"scattergl\":[{\"type\":\"scattergl\",\"marker\":{\"colorbar\":{\"outlinewidth\":0,\"ticks\":\"\"}}}],\"scatter3d\":[{\"type\":\"scatter3d\",\"line\":{\"colorbar\":{\"outlinewidth\":0,\"ticks\":\"\"}},\"marker\":{\"colorbar\":{\"outlinewidth\":0,\"ticks\":\"\"}}}],\"scattermapbox\":[{\"type\":\"scattermapbox\",\"marker\":{\"colorbar\":{\"outlinewidth\":0,\"ticks\":\"\"}}}],\"scatterternary\":[{\"type\":\"scatterternary\",\"marker\":{\"colorbar\":{\"outlinewidth\":0,\"ticks\":\"\"}}}],\"scattercarpet\":[{\"type\":\"scattercarpet\",\"marker\":{\"colorbar\":{\"outlinewidth\":0,\"ticks\":\"\"}}}],\"carpet\":[{\"aaxis\":{\"endlinecolor\":\"#2a3f5f\",\"gridcolor\":\"white\",\"linecolor\":\"white\",\"minorgridcolor\":\"white\",\"startlinecolor\":\"#2a3f5f\"},\"baxis\":{\"endlinecolor\":\"#2a3f5f\",\"gridcolor\":\"white\",\"linecolor\":\"white\",\"minorgridcolor\":\"white\",\"startlinecolor\":\"#2a3f5f\"},\"type\":\"carpet\"}],\"table\":[{\"cells\":{\"fill\":{\"color\":\"#EBF0F8\"},\"line\":{\"color\":\"white\"}},\"header\":{\"fill\":{\"color\":\"#C8D4E3\"},\"line\":{\"color\":\"white\"}},\"type\":\"table\"}],\"barpolar\":[{\"marker\":{\"line\":{\"color\":\"#E5ECF6\",\"width\":0.5},\"pattern\":{\"fillmode\":\"overlay\",\"size\":10,\"solidity\":0.2}},\"type\":\"barpolar\"}],\"pie\":[{\"automargin\":true,\"type\":\"pie\"}]},\"layout\":{\"autotypenumbers\":\"strict\",\"colorway\":[\"#636efa\",\"#EF553B\",\"#00cc96\",\"#ab63fa\",\"#FFA15A\",\"#19d3f3\",\"#FF6692\",\"#B6E880\",\"#FF97FF\",\"#FECB52\"],\"font\":{\"color\":\"#2a3f5f\"},\"hovermode\":\"closest\",\"hoverlabel\":{\"align\":\"left\"},\"paper_bgcolor\":\"white\",\"plot_bgcolor\":\"#E5ECF6\",\"polar\":{\"bgcolor\":\"#E5ECF6\",\"angularaxis\":{\"gridcolor\":\"white\",\"linecolor\":\"white\",\"ticks\":\"\"},\"radialaxis\":{\"gridcolor\":\"white\",\"linecolor\":\"white\",\"ticks\":\"\"}},\"ternary\":{\"bgcolor\":\"#E5ECF6\",\"aaxis\":{\"gridcolor\":\"white\",\"linecolor\":\"white\",\"ticks\":\"\"},\"baxis\":{\"gridcolor\":\"white\",\"linecolor\":\"white\",\"ticks\":\"\"},\"caxis\":{\"gridcolor\":\"white\",\"linecolor\":\"white\",\"ticks\":\"\"}},\"coloraxis\":{\"colorbar\":{\"outlinewidth\":0,\"ticks\":\"\"}},\"colorscale\":{\"sequential\":[[0.0,\"#0d0887\"],[0.1111111111111111,\"#46039f\"],[0.2222222222222222,\"#7201a8\"],[0.3333333333333333,\"#9c179e\"],[0.4444444444444444,\"#bd3786\"],[0.5555555555555556,\"#d8576b\"],[0.6666666666666666,\"#ed7953\"],[0.7777777777777778,\"#fb9f3a\"],[0.8888888888888888,\"#fdca26\"],[1.0,\"#f0f921\"]],\"sequentialminus\":[[0.0,\"#0d0887\"],[0.1111111111111111,\"#46039f\"],[0.2222222222222222,\"#7201a8\"],[0.3333333333333333,\"#9c179e\"],[0.4444444444444444,\"#bd3786\"],[0.5555555555555556,\"#d8576b\"],[0.6666666666666666,\"#ed7953\"],[0.7777777777777778,\"#fb9f3a\"],[0.8888888888888888,\"#fdca26\"],[1.0,\"#f0f921\"]],\"diverging\":[[0,\"#8e0152\"],[0.1,\"#c51b7d\"],[0.2,\"#de77ae\"],[0.3,\"#f1b6da\"],[0.4,\"#fde0ef\"],[0.5,\"#f7f7f7\"],[0.6,\"#e6f5d0\"],[0.7,\"#b8e186\"],[0.8,\"#7fbc41\"],[0.9,\"#4d9221\"],[1,\"#276419\"]]},\"xaxis\":{\"gridcolor\":\"white\",\"linecolor\":\"white\",\"ticks\":\"\",\"title\":{\"standoff\":15},\"zerolinecolor\":\"white\",\"automargin\":true,\"zerolinewidth\":2},\"yaxis\":{\"gridcolor\":\"white\",\"linecolor\":\"white\",\"ticks\":\"\",\"title\":{\"standoff\":15},\"zerolinecolor\":\"white\",\"automargin\":true,\"zerolinewidth\":2},\"scene\":{\"xaxis\":{\"backgroundcolor\":\"#E5ECF6\",\"gridcolor\":\"white\",\"linecolor\":\"white\",\"showbackground\":true,\"ticks\":\"\",\"zerolinecolor\":\"white\",\"gridwidth\":2},\"yaxis\":{\"backgroundcolor\":\"#E5ECF6\",\"gridcolor\":\"white\",\"linecolor\":\"white\",\"showbackground\":true,\"ticks\":\"\",\"zerolinecolor\":\"white\",\"gridwidth\":2},\"zaxis\":{\"backgroundcolor\":\"#E5ECF6\",\"gridcolor\":\"white\",\"linecolor\":\"white\",\"showbackground\":true,\"ticks\":\"\",\"zerolinecolor\":\"white\",\"gridwidth\":2}},\"shapedefaults\":{\"line\":{\"color\":\"#2a3f5f\"}},\"annotationdefaults\":{\"arrowcolor\":\"#2a3f5f\",\"arrowhead\":0,\"arrowwidth\":1},\"geo\":{\"bgcolor\":\"white\",\"landcolor\":\"#E5ECF6\",\"subunitcolor\":\"white\",\"showland\":true,\"showlakes\":true,\"lakecolor\":\"white\"},\"title\":{\"x\":0.05},\"mapbox\":{\"style\":\"light\"}}},\"xaxis\":{\"anchor\":\"y\",\"domain\":[0.0,1.0],\"title\":{\"text\":\"x\"}},\"yaxis\":{\"anchor\":\"x\",\"domain\":[0.0,1.0],\"title\":{\"text\":\"y\"}},\"legend\":{\"tracegroupgap\":0},\"title\":{\"text\":\"Principal Components of the Layer 1 Post Activation\"}},                        {\"responsive\": true}                    ).then(function(){\n",
              "                            \n",
              "var gd = document.getElementById('55c04de6-bb9c-4733-b692-c640390575fe');\n",
              "var x = new MutationObserver(function (mutations, observer) {{\n",
              "        var display = window.getComputedStyle(gd).display;\n",
              "        if (!display || display === 'none') {{\n",
              "            console.log([gd, 'removed!']);\n",
              "            Plotly.purge(gd);\n",
              "            observer.disconnect();\n",
              "        }}\n",
              "}});\n",
              "\n",
              "// Listen for the removal of the full notebook cells\n",
              "var notebookContainer = gd.closest('#notebook-container');\n",
              "if (notebookContainer) {{\n",
              "    x.observe(notebookContainer, {childList: true});\n",
              "}}\n",
              "\n",
              "// Listen for the clearing of the current output cell\n",
              "var outputEl = gd.closest('.output');\n",
              "if (outputEl) {{\n",
              "    x.observe(outputEl, {childList: true});\n",
              "}}\n",
              "\n",
              "                        })                };                            </script>        </div>\n",
              "</body>\n",
              "</html>"
            ]
          },
          "metadata": {}
        },
        {
          "output_type": "display_data",
          "data": {
            "text/html": [
              "<html>\n",
              "<head><meta charset=\"utf-8\" /></head>\n",
              "<body>\n",
              "    <div>            <script src=\"https://cdnjs.cloudflare.com/ajax/libs/mathjax/2.7.5/MathJax.js?config=TeX-AMS-MML_SVG\"></script><script type=\"text/javascript\">if (window.MathJax && window.MathJax.Hub && window.MathJax.Hub.Config) {window.MathJax.Hub.Config({SVG: {font: \"STIX-Web\"}});}</script>                <script type=\"text/javascript\">window.PlotlyConfig = {MathJaxConfig: 'local'};</script>\n",
              "        <script charset=\"utf-8\" src=\"https://cdn.plot.ly/plotly-2.24.1.min.js\"></script>                <div id=\"93d5758f-5a19-42d6-9b9d-5ff3e472da7b\" class=\"plotly-graph-div\" style=\"height:525px; width:100%;\"></div>            <script type=\"text/javascript\">                                    window.PLOTLYENV=window.PLOTLYENV || {};                                    if (document.getElementById(\"93d5758f-5a19-42d6-9b9d-5ff3e472da7b\")) {                    Plotly.newPlot(                        \"93d5758f-5a19-42d6-9b9d-5ff3e472da7b\",                        [{\"hovertemplate\":\"x=%{x}\\u003cbr\\u003ey=%{y}\\u003cextra\\u003e\\u003c\\u002fextra\\u003e\",\"legendgroup\":\"\",\"line\":{\"color\":\"#636efa\",\"dash\":\"solid\"},\"marker\":{\"symbol\":\"circle\"},\"mode\":\"lines\",\"name\":\"\",\"orientation\":\"v\",\"showlegend\":false,\"x\":[0,1,2,3,4,5,6],\"xaxis\":\"x\",\"y\":[196.77723693847656,132.09727478027344,112.47299194335938,105.42317962646484,87.60648345947266,77.56787872314453,37.118797302246094],\"yaxis\":\"y\",\"type\":\"scatter\"}],                        {\"template\":{\"data\":{\"histogram2dcontour\":[{\"type\":\"histogram2dcontour\",\"colorbar\":{\"outlinewidth\":0,\"ticks\":\"\"},\"colorscale\":[[0.0,\"#0d0887\"],[0.1111111111111111,\"#46039f\"],[0.2222222222222222,\"#7201a8\"],[0.3333333333333333,\"#9c179e\"],[0.4444444444444444,\"#bd3786\"],[0.5555555555555556,\"#d8576b\"],[0.6666666666666666,\"#ed7953\"],[0.7777777777777778,\"#fb9f3a\"],[0.8888888888888888,\"#fdca26\"],[1.0,\"#f0f921\"]]}],\"choropleth\":[{\"type\":\"choropleth\",\"colorbar\":{\"outlinewidth\":0,\"ticks\":\"\"}}],\"histogram2d\":[{\"type\":\"histogram2d\",\"colorbar\":{\"outlinewidth\":0,\"ticks\":\"\"},\"colorscale\":[[0.0,\"#0d0887\"],[0.1111111111111111,\"#46039f\"],[0.2222222222222222,\"#7201a8\"],[0.3333333333333333,\"#9c179e\"],[0.4444444444444444,\"#bd3786\"],[0.5555555555555556,\"#d8576b\"],[0.6666666666666666,\"#ed7953\"],[0.7777777777777778,\"#fb9f3a\"],[0.8888888888888888,\"#fdca26\"],[1.0,\"#f0f921\"]]}],\"heatmap\":[{\"type\":\"heatmap\",\"colorbar\":{\"outlinewidth\":0,\"ticks\":\"\"},\"colorscale\":[[0.0,\"#0d0887\"],[0.1111111111111111,\"#46039f\"],[0.2222222222222222,\"#7201a8\"],[0.3333333333333333,\"#9c179e\"],[0.4444444444444444,\"#bd3786\"],[0.5555555555555556,\"#d8576b\"],[0.6666666666666666,\"#ed7953\"],[0.7777777777777778,\"#fb9f3a\"],[0.8888888888888888,\"#fdca26\"],[1.0,\"#f0f921\"]]}],\"heatmapgl\":[{\"type\":\"heatmapgl\",\"colorbar\":{\"outlinewidth\":0,\"ticks\":\"\"},\"colorscale\":[[0.0,\"#0d0887\"],[0.1111111111111111,\"#46039f\"],[0.2222222222222222,\"#7201a8\"],[0.3333333333333333,\"#9c179e\"],[0.4444444444444444,\"#bd3786\"],[0.5555555555555556,\"#d8576b\"],[0.6666666666666666,\"#ed7953\"],[0.7777777777777778,\"#fb9f3a\"],[0.8888888888888888,\"#fdca26\"],[1.0,\"#f0f921\"]]}],\"contourcarpet\":[{\"type\":\"contourcarpet\",\"colorbar\":{\"outlinewidth\":0,\"ticks\":\"\"}}],\"contour\":[{\"type\":\"contour\",\"colorbar\":{\"outlinewidth\":0,\"ticks\":\"\"},\"colorscale\":[[0.0,\"#0d0887\"],[0.1111111111111111,\"#46039f\"],[0.2222222222222222,\"#7201a8\"],[0.3333333333333333,\"#9c179e\"],[0.4444444444444444,\"#bd3786\"],[0.5555555555555556,\"#d8576b\"],[0.6666666666666666,\"#ed7953\"],[0.7777777777777778,\"#fb9f3a\"],[0.8888888888888888,\"#fdca26\"],[1.0,\"#f0f921\"]]}],\"surface\":[{\"type\":\"surface\",\"colorbar\":{\"outlinewidth\":0,\"ticks\":\"\"},\"colorscale\":[[0.0,\"#0d0887\"],[0.1111111111111111,\"#46039f\"],[0.2222222222222222,\"#7201a8\"],[0.3333333333333333,\"#9c179e\"],[0.4444444444444444,\"#bd3786\"],[0.5555555555555556,\"#d8576b\"],[0.6666666666666666,\"#ed7953\"],[0.7777777777777778,\"#fb9f3a\"],[0.8888888888888888,\"#fdca26\"],[1.0,\"#f0f921\"]]}],\"mesh3d\":[{\"type\":\"mesh3d\",\"colorbar\":{\"outlinewidth\":0,\"ticks\":\"\"}}],\"scatter\":[{\"fillpattern\":{\"fillmode\":\"overlay\",\"size\":10,\"solidity\":0.2},\"type\":\"scatter\"}],\"parcoords\":[{\"type\":\"parcoords\",\"line\":{\"colorbar\":{\"outlinewidth\":0,\"ticks\":\"\"}}}],\"scatterpolargl\":[{\"type\":\"scatterpolargl\",\"marker\":{\"colorbar\":{\"outlinewidth\":0,\"ticks\":\"\"}}}],\"bar\":[{\"error_x\":{\"color\":\"#2a3f5f\"},\"error_y\":{\"color\":\"#2a3f5f\"},\"marker\":{\"line\":{\"color\":\"#E5ECF6\",\"width\":0.5},\"pattern\":{\"fillmode\":\"overlay\",\"size\":10,\"solidity\":0.2}},\"type\":\"bar\"}],\"scattergeo\":[{\"type\":\"scattergeo\",\"marker\":{\"colorbar\":{\"outlinewidth\":0,\"ticks\":\"\"}}}],\"scatterpolar\":[{\"type\":\"scatterpolar\",\"marker\":{\"colorbar\":{\"outlinewidth\":0,\"ticks\":\"\"}}}],\"histogram\":[{\"marker\":{\"pattern\":{\"fillmode\":\"overlay\",\"size\":10,\"solidity\":0.2}},\"type\":\"histogram\"}],\"scattergl\":[{\"type\":\"scattergl\",\"marker\":{\"colorbar\":{\"outlinewidth\":0,\"ticks\":\"\"}}}],\"scatter3d\":[{\"type\":\"scatter3d\",\"line\":{\"colorbar\":{\"outlinewidth\":0,\"ticks\":\"\"}},\"marker\":{\"colorbar\":{\"outlinewidth\":0,\"ticks\":\"\"}}}],\"scattermapbox\":[{\"type\":\"scattermapbox\",\"marker\":{\"colorbar\":{\"outlinewidth\":0,\"ticks\":\"\"}}}],\"scatterternary\":[{\"type\":\"scatterternary\",\"marker\":{\"colorbar\":{\"outlinewidth\":0,\"ticks\":\"\"}}}],\"scattercarpet\":[{\"type\":\"scattercarpet\",\"marker\":{\"colorbar\":{\"outlinewidth\":0,\"ticks\":\"\"}}}],\"carpet\":[{\"aaxis\":{\"endlinecolor\":\"#2a3f5f\",\"gridcolor\":\"white\",\"linecolor\":\"white\",\"minorgridcolor\":\"white\",\"startlinecolor\":\"#2a3f5f\"},\"baxis\":{\"endlinecolor\":\"#2a3f5f\",\"gridcolor\":\"white\",\"linecolor\":\"white\",\"minorgridcolor\":\"white\",\"startlinecolor\":\"#2a3f5f\"},\"type\":\"carpet\"}],\"table\":[{\"cells\":{\"fill\":{\"color\":\"#EBF0F8\"},\"line\":{\"color\":\"white\"}},\"header\":{\"fill\":{\"color\":\"#C8D4E3\"},\"line\":{\"color\":\"white\"}},\"type\":\"table\"}],\"barpolar\":[{\"marker\":{\"line\":{\"color\":\"#E5ECF6\",\"width\":0.5},\"pattern\":{\"fillmode\":\"overlay\",\"size\":10,\"solidity\":0.2}},\"type\":\"barpolar\"}],\"pie\":[{\"automargin\":true,\"type\":\"pie\"}]},\"layout\":{\"autotypenumbers\":\"strict\",\"colorway\":[\"#636efa\",\"#EF553B\",\"#00cc96\",\"#ab63fa\",\"#FFA15A\",\"#19d3f3\",\"#FF6692\",\"#B6E880\",\"#FF97FF\",\"#FECB52\"],\"font\":{\"color\":\"#2a3f5f\"},\"hovermode\":\"closest\",\"hoverlabel\":{\"align\":\"left\"},\"paper_bgcolor\":\"white\",\"plot_bgcolor\":\"#E5ECF6\",\"polar\":{\"bgcolor\":\"#E5ECF6\",\"angularaxis\":{\"gridcolor\":\"white\",\"linecolor\":\"white\",\"ticks\":\"\"},\"radialaxis\":{\"gridcolor\":\"white\",\"linecolor\":\"white\",\"ticks\":\"\"}},\"ternary\":{\"bgcolor\":\"#E5ECF6\",\"aaxis\":{\"gridcolor\":\"white\",\"linecolor\":\"white\",\"ticks\":\"\"},\"baxis\":{\"gridcolor\":\"white\",\"linecolor\":\"white\",\"ticks\":\"\"},\"caxis\":{\"gridcolor\":\"white\",\"linecolor\":\"white\",\"ticks\":\"\"}},\"coloraxis\":{\"colorbar\":{\"outlinewidth\":0,\"ticks\":\"\"}},\"colorscale\":{\"sequential\":[[0.0,\"#0d0887\"],[0.1111111111111111,\"#46039f\"],[0.2222222222222222,\"#7201a8\"],[0.3333333333333333,\"#9c179e\"],[0.4444444444444444,\"#bd3786\"],[0.5555555555555556,\"#d8576b\"],[0.6666666666666666,\"#ed7953\"],[0.7777777777777778,\"#fb9f3a\"],[0.8888888888888888,\"#fdca26\"],[1.0,\"#f0f921\"]],\"sequentialminus\":[[0.0,\"#0d0887\"],[0.1111111111111111,\"#46039f\"],[0.2222222222222222,\"#7201a8\"],[0.3333333333333333,\"#9c179e\"],[0.4444444444444444,\"#bd3786\"],[0.5555555555555556,\"#d8576b\"],[0.6666666666666666,\"#ed7953\"],[0.7777777777777778,\"#fb9f3a\"],[0.8888888888888888,\"#fdca26\"],[1.0,\"#f0f921\"]],\"diverging\":[[0,\"#8e0152\"],[0.1,\"#c51b7d\"],[0.2,\"#de77ae\"],[0.3,\"#f1b6da\"],[0.4,\"#fde0ef\"],[0.5,\"#f7f7f7\"],[0.6,\"#e6f5d0\"],[0.7,\"#b8e186\"],[0.8,\"#7fbc41\"],[0.9,\"#4d9221\"],[1,\"#276419\"]]},\"xaxis\":{\"gridcolor\":\"white\",\"linecolor\":\"white\",\"ticks\":\"\",\"title\":{\"standoff\":15},\"zerolinecolor\":\"white\",\"automargin\":true,\"zerolinewidth\":2},\"yaxis\":{\"gridcolor\":\"white\",\"linecolor\":\"white\",\"ticks\":\"\",\"title\":{\"standoff\":15},\"zerolinecolor\":\"white\",\"automargin\":true,\"zerolinewidth\":2},\"scene\":{\"xaxis\":{\"backgroundcolor\":\"#E5ECF6\",\"gridcolor\":\"white\",\"linecolor\":\"white\",\"showbackground\":true,\"ticks\":\"\",\"zerolinecolor\":\"white\",\"gridwidth\":2},\"yaxis\":{\"backgroundcolor\":\"#E5ECF6\",\"gridcolor\":\"white\",\"linecolor\":\"white\",\"showbackground\":true,\"ticks\":\"\",\"zerolinecolor\":\"white\",\"gridwidth\":2},\"zaxis\":{\"backgroundcolor\":\"#E5ECF6\",\"gridcolor\":\"white\",\"linecolor\":\"white\",\"showbackground\":true,\"ticks\":\"\",\"zerolinecolor\":\"white\",\"gridwidth\":2}},\"shapedefaults\":{\"line\":{\"color\":\"#2a3f5f\"}},\"annotationdefaults\":{\"arrowcolor\":\"#2a3f5f\",\"arrowhead\":0,\"arrowwidth\":1},\"geo\":{\"bgcolor\":\"white\",\"landcolor\":\"#E5ECF6\",\"subunitcolor\":\"white\",\"showland\":true,\"showlakes\":true,\"lakecolor\":\"white\"},\"title\":{\"x\":0.05},\"mapbox\":{\"style\":\"light\"}}},\"xaxis\":{\"anchor\":\"y\",\"domain\":[0.0,1.0],\"title\":{\"text\":\"x\"}},\"yaxis\":{\"anchor\":\"x\",\"domain\":[0.0,1.0],\"title\":{\"text\":\"y\"}},\"legend\":{\"tracegroupgap\":0},\"title\":{\"text\":\"Principal Components of the Layer 2 Activation\"}},                        {\"responsive\": true}                    ).then(function(){\n",
              "                            \n",
              "var gd = document.getElementById('93d5758f-5a19-42d6-9b9d-5ff3e472da7b');\n",
              "var x = new MutationObserver(function (mutations, observer) {{\n",
              "        var display = window.getComputedStyle(gd).display;\n",
              "        if (!display || display === 'none') {{\n",
              "            console.log([gd, 'removed!']);\n",
              "            Plotly.purge(gd);\n",
              "            observer.disconnect();\n",
              "        }}\n",
              "}});\n",
              "\n",
              "// Listen for the removal of the full notebook cells\n",
              "var notebookContainer = gd.closest('#notebook-container');\n",
              "if (notebookContainer) {{\n",
              "    x.observe(notebookContainer, {childList: true});\n",
              "}}\n",
              "\n",
              "// Listen for the clearing of the current output cell\n",
              "var outputEl = gd.closest('.output');\n",
              "if (outputEl) {{\n",
              "    x.observe(outputEl, {childList: true});\n",
              "}}\n",
              "\n",
              "                        })                };                            </script>        </div>\n",
              "</body>\n",
              "</html>"
            ]
          },
          "metadata": {}
        }
      ]
    },
    {
      "cell_type": "code",
      "source": [
        "### Code to convert to percentages\n",
        "# # Step 1: Square the singular values to get the eigenvalues\n",
        "# eigenvalues = torch.pow(S, 2)\n",
        "# # Step 2: Compute the total variation (sum of eigenvalues)\n",
        "# total_variation = torch.sum(eigenvalues)\n",
        "# # Step 3: Calculate the explained variation for each singular value\n",
        "# explained_variation = eigenvalues / total_variation\n",
        "# # Step 4: Convert to percentage\n",
        "# explained_variation_percentage = explained_variation * 100"
      ],
      "metadata": {
        "id": "OmZeQgDY8g4y"
      },
      "execution_count": 19,
      "outputs": []
    },
    {
      "cell_type": "markdown",
      "metadata": {
        "id": "ngIihap9B_mx"
      },
      "source": [
        "🔎 We should be getting final test accuracies of around 72% on Cora for an extremely simple MLP model. Not too bad!\n",
        "\n",
        "<font color='blue'> But are we using all the information/data available to us and can we do better with it? </font>\n",
        "\n",
        "---\n",
        "\n",
        "\n"
      ]
    },
    {
      "cell_type": "markdown",
      "metadata": {
        "id": "gdXltx7guY0J"
      },
      "source": [
        "# 👶 Our first GCN layer\n",
        "\n",
        "On our application of the MLP on Cora we have completely ignored the fact that Cora is a citation **network**!\n",
        "\n",
        "In Cora, citations form undirected edges between each of the nodes (papers) in this network. We think this additional information can be useful for categorising our papers, but how can we incorporate this structure in a neural network layer?\n",
        "\n",
        "In the course lectures, we were introduced to a general blue-print for creating GNN layers. We can build GNN layers $\\mathbf{F(X,A)}$ on graphs by applying a local permutation invariant operation $\\phi(\\mathbf{x_i}, \\mathbf{X}_{{N}_i})$. The various implementations of $\\phi$ are the subject of much research.\n",
        "\n",
        "For this practical, we will start by considering GNN layers with constant values for the convolution coefficients. Thus, we are interested in developing a Convolutional GNN layer that uses set parameters for the constant/coefficient $c_{i,j}$, for every edge $(i,j) \\in E$\n",
        "\n",
        "![](https://drive.google.com/uc?id=1Wdgdq606XW1MelvcU1nW5CxWe1rHsWt1)\n",
        "\n",
        "\n"
      ]
    },
    {
      "cell_type": "markdown",
      "metadata": {
        "id": "2EDBXcFuvWqj"
      },
      "source": [
        "\n",
        "The generic equation for a convolutional GNN looks as follows:\n",
        "\n",
        "$$\n",
        "\\mathbf{h_i} = \\phi \\big(\\mathbf{x_i}, \\oplus_{j \\in {N}_i} c_{i,j} \\psi (\\mathbf{x_j}) \\big)\n",
        "$$\n",
        "\n",
        "Getting more specific, let us look at the **GCN** from Kipf and Welling's [\"Semi-Supervised Classification with Graph Convolutional Networks\"](https://arxiv.org/abs/1609.02907). This employs a symmetric normalisation for the convolution coefficients with a re-normalisation to tackle exploding parameters.\n",
        "\n",
        "$$\n",
        "\\mathbf{H} = \\sigma \\big( \\mathbf{\\tilde{D}}^{-\\frac{1}{2}} \\mathbf{\\tilde{A}} \\mathbf{\\tilde{D}}^{-\\frac{1}{2}} \\mathbf{X} \\mathbf{W} \\big)\n",
        "$$\n",
        "\n",
        "Where $\\mathbf{\\tilde{A}} = \\mathbf{A} + \\mathbf{I}$ and $\\mathbf{\\tilde{D}}$ is the degree matrix of $\\mathbf{\\tilde{A}}$.\n",
        "\n",
        "Reformulating the above equation from a node-centric point of view corresponds to:\n",
        "\n",
        "- $c_{i,j}$ is a normalising coefficient corresponding to $\\frac{1}{\\sqrt{(deg(i)+1) (deg(j)+1)}}$,\n",
        "- $\\oplus_{j \\in {N}_i}$ is $\\sum_{j \\in {N}_i}$, i.e. the sum over neighbours,\n",
        "- $\\phi(\\mathbf{x}_i, \\mathbf{m}_i) = \\sigma(c_{i,i}\\psi(\\mathbf{x}_i) + \\mathbf{m}_i)$ with $\\mathbf{m}_i = \\sum_{j \\in {N}_i} c_{i,j} \\psi(\\mathbf{x}_j)$.\n",
        "\n",
        "The output node feature representation is the result of a weighted sum of itself and its neighbours, followed by a learnt affine transformation and non-linearity. The weights used for the weighted sum correspond to the connectivity/inverse of the degree of each node.\n"
      ]
    },
    {
      "cell_type": "markdown",
      "metadata": {
        "id": "vOwxWgomU3kw"
      },
      "source": [
        "### 💻**Task 1.1**  <font color=\"purple\"> Implement your first GNN layer based on the GCNLayer equations provided. (2.0 Marks) </font>"
      ]
    },
    {
      "cell_type": "markdown",
      "metadata": {
        "id": "Nop2qosNHzES"
      },
      "source": [
        "**Note:** In order to successfully pass the unit test, make sure you construct all of your linear layers using `torch.nn.Linear(in_features, out_features)`, _without_ adding any additional arguments to the constructor.\n",
        "\n",
        "**Note:** When dealing with large, sparse matrices, multiplying them using sparse format is much more efficient. We do not impose doing that in this exercise but if you want to try [torch.tensor.to_sparse()](https://pytorch.org/docs/stable/generated/torch.Tensor.to_sparse.html) convert a dense matrix into a sparse matrix, while to [torch.sparse.mm()](https://pytorch.org/docs/stable/generated/torch.sparse.mm.html) perform multiplication between a sparse matrix and a sparse/dense matrix."
      ]
    },
    {
      "cell_type": "code",
      "execution_count": 20,
      "metadata": {
        "cellView": "form",
        "id": "-BLISzysQkdA"
      },
      "outputs": [],
      "source": [
        "# @title [RUN] Hyperparameters for GCN\n",
        "\n",
        "NUM_EPOCHS =  100 #@param {type:\"integer\"}\n",
        "LR         = 0.01 #@param {type:\"number\"}\n",
        "\n",
        "#you can add more here if you need"
      ]
    },
    {
      "cell_type": "code",
      "execution_count": 21,
      "metadata": {
        "id": "fAfm307zEzBc"
      },
      "outputs": [],
      "source": [
        "# Fill in the initialisation and forward method the GCNLayer below\n",
        "\n",
        "class GCNLayer(Module):\n",
        "    \"\"\"Graph Convolutional Network layer from Kipf & Welling.\n",
        "\n",
        "    Args:\n",
        "        input_dim (int): Dimensionality of the input feature vectors\n",
        "        output_dim (int): Dimensionality of the output softmax distribution\n",
        "        A (torch.Tensor): 2-D adjacency matrix\n",
        "    \"\"\"\n",
        "    def __init__(self, input_dim, output_dim, A):\n",
        "        super(GCNLayer, self).__init__()\n",
        "        self.input_dim = input_dim\n",
        "        self.output_dim = output_dim\n",
        "        self.A = A\n",
        "\n",
        "        # ============ YOUR CODE HERE ==============\n",
        "        # Sample answer\n",
        "        # Compute symmetric norm\n",
        "        self.A_hat = A + torch.eye(A.size(0))                                 # A + I\n",
        "        D_hat = torch.diag(torch.pow(self.A_hat.sum(1), -0.5))                # D^(-1/2)\n",
        "        self.adj_norm = torch.matmul(torch.matmul(D_hat, self.A_hat), D_hat)  # D^(-1/2) A D^(-1/2)\n",
        "        # + Simple linear transformation and non-linear activation\n",
        "        self.linear = Linear(input_dim, output_dim)                           # W\n",
        "        # ===========================================\n",
        "\n",
        "    def forward(self, x):\n",
        "        \"\"\"Implements the forward pass for the layer\n",
        "\n",
        "        Args:\n",
        "            x (torch.Tensor): input node feature matrix\n",
        "        \"\"\"\n",
        "        # ============ YOUR CODE HERE ==============\n",
        "        x = torch.matmul(self.adj_norm, x)  # D^(-1/2) A D^(-1/2) X\n",
        "        x = self.linear(x)                  # D^(-1/2) A D^(-1/2) X W\n",
        "        # ===========================================\n",
        "        return x\n",
        "\n",
        "    def run_with_cache(self, x):\n",
        "        \"\"\"Implements the forward pass for the layer\n",
        "\n",
        "        Args:\n",
        "            x (torch.Tensor): input node feature matrix\n",
        "        \"\"\"\n",
        "        layer_cache = {}\n",
        "        # ============ YOUR CODE HERE ==============\n",
        "        x = torch.matmul(self.adj_norm, x)  # D^(-1/2) A D^(-1/2) X\n",
        "        layer_cache['Aggregation'] = x\n",
        "        x = self.linear(x)                  # D^(-1/2) A D^(-1/2) X W\n",
        "        layer_cache['Post Linear'] = x\n",
        "        # ===========================================\n",
        "        return x, layer_cache"
      ]
    },
    {
      "cell_type": "code",
      "execution_count": 22,
      "metadata": {
        "colab": {
          "base_uri": "https://localhost:8080/"
        },
        "id": "sG83uHmwbc-v",
        "outputId": "62eb2435-4683-4c1d-c185-69fd0c39ac16",
        "cellView": "form"
      },
      "outputs": [
        {
          "output_type": "stream",
          "name": "stdout",
          "text": [
            "✅ All seems good!!!\n"
          ]
        }
      ],
      "source": [
        "# @title ✅ [RUN] **Please run this unit test to validate your code. The output would be used to mark your practical.**\n",
        "def testing_gcn():\n",
        "  torch.random.manual_seed(0)\n",
        "  np.random.seed(0)\n",
        "  A,x,y = get_dummy_data_transductive()\n",
        "\n",
        "  input_dim = x.shape[-1]\n",
        "  output_dim = y.shape[-1]\n",
        "\n",
        "  torch.random.manual_seed(0)\n",
        "  model = GCNLayer(input_dim, output_dim, A)\n",
        "  out = model(x)\n",
        "\n",
        "  assert(out.shape == (A.shape[0], output_dim)), \"Oops! 🤭 Output shape is wrong\"\n",
        "\n",
        "  perm = np.random.permutation(x.shape[0])\n",
        "  perm_x = x[perm]\n",
        "  perm_out = out[perm]\n",
        "  A_perm = A[perm, :][:, perm]\n",
        "\n",
        "  torch.random.manual_seed(0)\n",
        "  model_perm = GCNLayer(input_dim, output_dim, A_perm)\n",
        "\n",
        "  out_model_perm = model_perm(perm_x)\n",
        "  assert (torch.allclose(perm_out, out_model_perm, atol=1e-6)), \"🤔 Something is wrong in the model! The output is not permutation equivariant anymore 🥺\"\n",
        "\n",
        "  assert (torch.allclose(out, y, atol=1e-6)), \"🤔 Something is wrong in the model! The output is wrong.\"\n",
        "  print(\"✅ All seems good!!!\")\n",
        "\n",
        "\n",
        "# run unit test function\n",
        "testing_gcn()"
      ]
    },
    {
      "cell_type": "markdown",
      "metadata": {
        "id": "rJTiyZYs3cnY"
      },
      "source": [
        "---\n",
        "\n",
        "# **⚖ Semi-supervised learning on graphs:** Transductive vs Inductive\n",
        "\n",
        "Notice that we use the entire adjacency and node feature matrix each time we call the GCNLayer as opposed to the specific subsets of the train/validation/test samples that we did earlier with the MLP. This is because nodes from the different splits share edges with those from the other splits and building our representation via the GCN requires these.\n",
        "\n",
        "Hence, the learning performed with our GCNLayer is an instance of **transductive semi-supervised learning** as the model gets to see all of the observations in the dataset (even if it only has access to the labels from the training split).\n",
        "\n",
        "This is different to the **inductive learning** performed on the MLP where the model only sees the train observations during training and only sees validation/test observations for prediction.\n",
        "\n",
        "\n"
      ]
    },
    {
      "cell_type": "code",
      "execution_count": 23,
      "metadata": {
        "cellView": "form",
        "id": "5FzQsYwlUUuj"
      },
      "outputs": [],
      "source": [
        "# @title [RUN] Helper functions for managing experiments, training, and evaluating models\n",
        "\n",
        "def train_gnn_cora(X, y, mask, model, optimiser):\n",
        "    model.train()\n",
        "    optimiser.zero_grad()\n",
        "    y_hat = model(X)[mask]\n",
        "    loss = F.cross_entropy(y_hat, y)\n",
        "    loss.backward()\n",
        "    optimiser.step()\n",
        "    return loss.data\n",
        "\n",
        "\n",
        "def evaluate_gnn_cora(X, y, mask, model):\n",
        "    model.eval()\n",
        "    y_hat = model(X)[mask]\n",
        "    y_hat = y_hat.data.max(1)[1]\n",
        "    num_correct = y_hat.eq(y.data).sum()\n",
        "    num_total = len(y)\n",
        "    accuracy = 100.0 * (num_correct/num_total)\n",
        "    return accuracy\n",
        "\n",
        "\n",
        "# Training loop\n",
        "def train_eval_loop_gnn_cora(model, train_x, train_y, train_mask,\n",
        "                        valid_x, valid_y, valid_mask,\n",
        "                        test_x, test_y, test_mask\n",
        "                    ):\n",
        "    optimiser = Adam(model.parameters(), lr=LR)\n",
        "    training_stats = None\n",
        "    # Training loop\n",
        "    for epoch in range(NUM_EPOCHS):\n",
        "        train_loss = train_gnn_cora(train_x, train_y, train_mask, model, optimiser)\n",
        "        train_acc = evaluate_gnn_cora(train_x, train_y, train_mask, model)\n",
        "        valid_acc = evaluate_gnn_cora(valid_x, valid_y, valid_mask, model)\n",
        "        if epoch % 10 == 0:\n",
        "            print(f\"Epoch {epoch} with train loss: {train_loss:.3f} train accuracy: {train_acc:.3f} validation accuracy: {valid_acc:.3f}\")\n",
        "        # store the loss and the accuracy for the final plot\n",
        "        epoch_stats = {'train_acc': train_acc, 'val_acc': valid_acc, 'epoch':epoch}\n",
        "        training_stats = update_stats(training_stats, epoch_stats)\n",
        "    # Lets look at our final test performance\n",
        "    test_acc = evaluate_gnn_cora(test_x, test_y, test_mask, model)\n",
        "    print(f\"Our final test accuracy for the SimpleGNN is: {test_acc:.3f}\")\n",
        "    return training_stats"
      ]
    },
    {
      "cell_type": "code",
      "execution_count": 24,
      "metadata": {
        "id": "uJ_shXwaE4fl"
      },
      "outputs": [],
      "source": [
        "# Lets see the GCNLayer in action!\n",
        "\n",
        "class SimpleGNN(Module):\n",
        "    \"\"\"A Simple GNN model using the GCNLayer for node classification\n",
        "\n",
        "    Args:\n",
        "        input_dim (int): Dimensionality of the input feature vectors\n",
        "        output_dim (int): Dimensionality of the output softmax distribution\n",
        "        A (torch.Tensor): 2-D adjacency matrix\n",
        "    \"\"\"\n",
        "    def __init__(self, input_dim, hidden_dim, output_dim, num_gcn_layers, A):\n",
        "        super(SimpleGNN, self).__init__()\n",
        "        self.input_dim = input_dim\n",
        "        self.output_dim = output_dim\n",
        "        self.A = A\n",
        "\n",
        "        # Note: if a single layer is used hidden_dim should be the same as input_dim\n",
        "        if num_gcn_layers > 1:\n",
        "          self.gcn_layers = [GCNLayer(input_dim, hidden_dim, A)]\n",
        "          self.gcn_layers += [GCNLayer(hidden_dim, hidden_dim, A) for i in range(num_gcn_layers-2)]\n",
        "          self.gcn_layers += [GCNLayer(hidden_dim, output_dim, A)]\n",
        "        else:\n",
        "          self.gcn_layers = [GCNLayer(input_dim, output_dim, A)]\n",
        "\n",
        "        self.gcn_layers = ModuleList(self.gcn_layers)\n",
        "        self.num_gcn_layers = num_gcn_layers\n",
        "\n",
        "    def forward(self, x):\n",
        "        \"\"\"Forward pass through SimpleGNN on input x\n",
        "\n",
        "        Args:\n",
        "            x (torch.Tensor): input node features\n",
        "        \"\"\"\n",
        "        for j in range(self.num_gcn_layers-1):\n",
        "          x = self.gcn_layers[j](x)\n",
        "          x = F.relu(x)\n",
        "\n",
        "        x = self.gcn_layers[-1](x)\n",
        "\n",
        "        y_hat = x\n",
        "        return y_hat\n",
        "\n",
        "    def run_with_cache(self, x):\n",
        "        \"\"\"Forward pass through SimpleGNN on input x\n",
        "\n",
        "        Args:\n",
        "            x (torch.Tensor): input node features\n",
        "        \"\"\"\n",
        "        cache = {}\n",
        "        for j in range(self.num_gcn_layers-1):\n",
        "          x, cache_curr = self.gcn_layers[j].run_with_cache(x)\n",
        "          cache[f\"Layer {j} Pre Activation\"] = cache_curr\n",
        "          x = F.relu(x)\n",
        "          cache[f\"Layer {j} Post Activation\"] = x\n",
        "        x, cache_curr = self.gcn_layers[-1].run_with_cache(x)\n",
        "        cache[f\"Layer -1 Activation\"] = cache_curr\n",
        "        y_hat = x\n",
        "        return cache, self.state_dict()"
      ]
    },
    {
      "cell_type": "code",
      "execution_count": 25,
      "metadata": {
        "colab": {
          "base_uri": "https://localhost:8080/",
          "height": 678
        },
        "id": "Rl6KVverQy7C",
        "outputId": "d353aa02-e76c-4a74-9cf4-1307e856502b"
      },
      "outputs": [
        {
          "output_type": "stream",
          "name": "stdout",
          "text": [
            "Epoch 0 with train loss: 1.941 train accuracy: 39.818 validation accuracy: 39.000\n",
            "Epoch 10 with train loss: 1.117 train accuracy: 82.616 validation accuracy: 73.600\n",
            "Epoch 20 with train loss: 0.678 train accuracy: 91.970 validation accuracy: 85.600\n",
            "Epoch 30 with train loss: 0.463 train accuracy: 94.454 validation accuracy: 86.800\n",
            "Epoch 40 with train loss: 0.346 train accuracy: 95.778 validation accuracy: 86.600\n",
            "Epoch 50 with train loss: 0.274 train accuracy: 97.185 validation accuracy: 86.400\n",
            "Epoch 60 with train loss: 0.226 train accuracy: 97.682 validation accuracy: 85.800\n",
            "Epoch 70 with train loss: 0.191 train accuracy: 98.179 validation accuracy: 86.000\n",
            "Epoch 80 with train loss: 0.164 train accuracy: 98.593 validation accuracy: 85.600\n",
            "Epoch 90 with train loss: 0.144 train accuracy: 99.007 validation accuracy: 85.600\n",
            "Our final test accuracy for the SimpleGNN is: 83.600\n"
          ]
        },
        {
          "output_type": "display_data",
          "data": {
            "text/plain": [
              "<Figure size 500x500 with 1 Axes>"
            ],
            "image/png": "[encoded data removed]"
          },
          "metadata": {}
        }
      ],
      "source": [
        "# Instantiate our model and optimiser\n",
        "A = cora_data.get_adjacency_matrix()\n",
        "X = cora_data.get_fullx()\n",
        "model = SimpleGNN(input_dim=train_x.shape[-1], output_dim=7, A=A, hidden_dim=train_x.shape[-1], num_gcn_layers=1)\n",
        "train_mask = cora_data.train_mask\n",
        "valid_mask = cora_data.valid_mask\n",
        "test_mask = cora_data.test_mask\n",
        "\n",
        "# Run training loop\n",
        "train_stats_gnn_cora = train_eval_loop_gnn_cora(model, X, train_y, train_mask,\n",
        "                                          X, valid_y, valid_mask,\n",
        "                                          X, test_y, test_mask\n",
        "                                       )\n",
        "plot_stats(train_stats_gnn_cora, name=\"GNN_Cora\")"
      ]
    },
    {
      "cell_type": "code",
      "source": [
        "cache, state_dict = model.run_with_cache(X)"
      ],
      "metadata": {
        "id": "gRT04DxBCgtM"
      },
      "execution_count": 26,
      "outputs": []
    },
    {
      "cell_type": "code",
      "source": [
        "X.shape, cache['Layer -1 Activation']['Aggregation'].shape, cache['Layer -1 Activation']['Post Linear'].shape"
      ],
      "metadata": {
        "colab": {
          "base_uri": "https://localhost:8080/"
        },
        "id": "wyZv2yAkEKej",
        "outputId": "dca45819-9135-465f-cbd8-c7854e9b0a91"
      },
      "execution_count": 27,
      "outputs": [
        {
          "output_type": "execute_result",
          "data": {
            "text/plain": [
              "(torch.Size([2708, 1433]), torch.Size([2708, 1433]), torch.Size([2708, 7]))"
            ]
          },
          "metadata": {},
          "execution_count": 27
        }
      ]
    },
    {
      "cell_type": "code",
      "source": [
        "U, S, Vh = torch.linalg.svd(X)\n",
        "line(S, title=\"Principal Components of the Input Graph Node Features\")\n",
        "\n",
        "U, S, Vh = torch.linalg.svd(cache['Layer -1 Activation']['Aggregation'])\n",
        "line(S, title=\"Principal Components of the Layer 1 Pre Activation\")"
      ],
      "metadata": {
        "colab": {
          "base_uri": "https://localhost:8080/",
          "height": 1000
        },
        "id": "jWXSgV75DNIC",
        "outputId": "963b0222-28ea-4c0b-c763-7af508e0ab2e"
      },
      "execution_count": 28,
      "outputs": [
        {
          "output_type": "display_data",
          "data": {
            "text/html": [
              "<html>\n",
              "<head><meta charset=\"utf-8\" /></head>\n",
              "<body>\n",
              "    <div>            <script src=\"https://cdnjs.cloudflare.com/ajax/libs/mathjax/2.7.5/MathJax.js?config=TeX-AMS-MML_SVG\"></script><script type=\"text/javascript\">if (window.MathJax && window.MathJax.Hub && window.MathJax.Hub.Config) {window.MathJax.Hub.Config({SVG: {font: \"STIX-Web\"}});}</script>                <script type=\"text/javascript\">window.PlotlyConfig = {MathJaxConfig: 'local'};</script>\n",
              "        <script charset=\"utf-8\" src=\"https://cdn.plot.ly/plotly-2.24.1.min.js\"></script>                <div id=\"968391de-7a17-4fad-b6de-e006a0245638\" class=\"plotly-graph-div\" style=\"height:525px; width:100%;\"></div>            <script type=\"text/javascript\">                                    window.PLOTLYENV=window.PLOTLYENV || {};                                    if (document.getElementById(\"968391de-7a17-4fad-b6de-e006a0245638\")) {                    Plotly.newPlot(                        \"968391de-7a17-4fad-b6de-e006a0245638\",                        [{\"hovertemplate\":\"x=%{x}\\u003cbr\\u003ey=%{y}\\u003cextra\\u003e\\u003c\\u002fextra\\u003e\",\"legendgroup\":\"\",\"line\":{\"color\":\"#636efa\",\"dash\":\"solid\"},\"marker\":{\"symbol\":\"circle\"},\"mode\":\"lines\",\"name\":\"\",\"showlegend\":false,\"x\":[0,1,2,3,4,5,6,7,8,9,10,11,12,13,14,15,16,17,18,19,20,21,22,23,24,25,26,27,28,29,30,31,32,33,34,35,36,37,38,39,40,41,42,43,44,45,46,47,48,49,50,51,52,53,54,55,56,57,58,59,60,61,62,63,64,65,66,67,68,69,70,71,72,73,74,75,76,77,78,79,80,81,82,83,84,85,86,87,88,89,90,91,92,93,94,95,96,97,98,99,100,101,102,103,104,105,106,107,108,109,110,111,112,113,114,115,116,117,118,119,120,121,122,123,124,125,126,127,128,129,130,131,132,133,134,135,136,137,138,139,140,141,142,143,144,145,146,147,148,149,150,151,152,153,154,155,156,157,158,159,160,161,162,163,164,165,166,167,168,169,170,171,172,173,174,175,176,177,178,179,180,181,182,183,184,185,186,187,188,189,190,191,192,193,194,195,196,197,198,199,200,201,202,203,204,205,206,207,208,209,210,211,212,213,214,215,216,217,218,219,220,221,222,223,224,225,226,227,228,229,230,231,232,233,234,235,236,237,238,239,240,241,242,243,244,245,246,247,248,249,250,251,252,253,254,255,256,257,258,259,260,261,262,263,264,265,266,267,268,269,270,271,272,273,274,275,276,277,278,279,280,281,282,283,284,285,286,287,288,289,290,291,292,293,294,295,296,297,298,299,300,301,302,303,304,305,306,307,308,309,310,311,312,313,314,315,316,317,318,319,320,321,322,323,324,325,326,327,328,329,330,331,332,333,334,335,336,337,338,339,340,341,342,343,344,345,346,347,348,349,350,351,352,353,354,355,356,357,358,359,360,361,362,363,364,365,366,367,368,369,370,371,372,373,374,375,376,377,378,379,380,381,382,383,384,385,386,387,388,389,390,391,392,393,394,395,396,397,398,399,400,401,402,403,404,405,406,407,408,409,410,411,412,413,414,415,416,417,418,419,420,421,422,423,424,425,426,427,428,429,430,431,432,433,434,435,436,437,438,439,440,441,442,443,444,445,446,447,448,449,450,451,452,453,454,455,456,457,458,459,460,461,462,463,464,465,466,467,468,469,470,471,472,473,474,475,476,477,478,479,480,481,482,483,484,485,486,487,488,489,490,491,492,493,494,495,496,497,498,499,500,501,502,503,504,505,506,507,508,509,510,511,512,513,514,515,516,517,518,519,520,521,522,523,524,525,526,527,528,529,530,531,532,533,534,535,536,537,538,539,540,541,542,543,544,545,546,547,548,549,550,551,552,553,554,555,556,557,558,559,560,561,562,563,564,565,566,567,568,569,570,571,572,573,574,575,576,577,578,579,580,581,582,583,584,585,586,587,588,589,590,591,592,593,594,595,596,597,598,599,600,601,602,603,604,605,606,607,608,609,610,611,612,613,614,615,616,617,618,619,620,621,622,623,624,625,626,627,628,629,630,631,632,633,634,635,636,637,638,639,640,641,642,643,644,645,646,647,648,649,650,651,652,653,654,655,656,657,658,659,660,661,662,663,664,665,666,667,668,669,670,671,672,673,674,675,676,677,678,679,680,681,682,683,684,685,686,687,688,689,690,691,692,693,694,695,696,697,698,699,700,701,702,703,704,705,706,707,708,709,710,711,712,713,714,715,716,717,718,719,720,721,722,723,724,725,726,727,728,729,730,731,732,733,734,735,736,737,738,739,740,741,742,743,744,745,746,747,748,749,750,751,752,753,754,755,756,757,758,759,760,761,762,763,764,765,766,767,768,769,770,771,772,773,774,775,776,777,778,779,780,781,782,783,784,785,786,787,788,789,790,791,792,793,794,795,796,797,798,799,800,801,802,803,804,805,806,807,808,809,810,811,812,813,814,815,816,817,818,819,820,821,822,823,824,825,826,827,828,829,830,831,832,833,834,835,836,837,838,839,840,841,842,843,844,845,846,847,848,849,850,851,852,853,854,855,856,857,858,859,860,861,862,863,864,865,866,867,868,869,870,871,872,873,874,875,876,877,878,879,880,881,882,883,884,885,886,887,888,889,890,891,892,893,894,895,896,897,898,899,900,901,902,903,904,905,906,907,908,909,910,911,912,913,914,915,916,917,918,919,920,921,922,923,924,925,926,927,928,929,930,931,932,933,934,935,936,937,938,939,940,941,942,943,944,945,946,947,948,949,950,951,952,953,954,955,956,957,958,959,960,961,962,963,964,965,966,967,968,969,970,971,972,973,974,975,976,977,978,979,980,981,982,983,984,985,986,987,988,989,990,991,992,993,994,995,996,997,998,999,1000,1001,1002,1003,1004,1005,1006,1007,1008,1009,1010,1011,1012,1013,1014,1015,1016,1017,1018,1019,1020,1021,1022,1023,1024,1025,1026,1027,1028,1029,1030,1031,1032,1033,1034,1035,1036,1037,1038,1039,1040,1041,1042,1043,1044,1045,1046,1047,1048,1049,1050,1051,1052,1053,1054,1055,1056,1057,1058,1059,1060,1061,1062,1063,1064,1065,1066,1067,1068,1069,1070,1071,1072,1073,1074,1075,1076,1077,1078,1079,1080,1081,1082,1083,1084,1085,1086,1087,1088,1089,1090,1091,1092,1093,1094,1095,1096,1097,1098,1099,1100,1101,1102,1103,1104,1105,1106,1107,1108,1109,1110,1111,1112,1113,1114,1115,1116,1117,1118,1119,1120,1121,1122,1123,1124,1125,1126,1127,1128,1129,1130,1131,1132,1133,1134,1135,1136,1137,1138,1139,1140,1141,1142,1143,1144,1145,1146,1147,1148,1149,1150,1151,1152,1153,1154,1155,1156,1157,1158,1159,1160,1161,1162,1163,1164,1165,1166,1167,1168,1169,1170,1171,1172,1173,1174,1175,1176,1177,1178,1179,1180,1181,1182,1183,1184,1185,1186,1187,1188,1189,1190,1191,1192,1193,1194,1195,1196,1197,1198,1199,1200,1201,1202,1203,1204,1205,1206,1207,1208,1209,1210,1211,1212,1213,1214,1215,1216,1217,1218,1219,1220,1221,1222,1223,1224,1225,1226,1227,1228,1229,1230,1231,1232,1233,1234,1235,1236,1237,1238,1239,1240,1241,1242,1243,1244,1245,1246,1247,1248,1249,1250,1251,1252,1253,1254,1255,1256,1257,1258,1259,1260,1261,1262,1263,1264,1265,1266,1267,1268,1269,1270,1271,1272,1273,1274,1275,1276,1277,1278,1279,1280,1281,1282,1283,1284,1285,1286,1287,1288,1289,1290,1291,1292,1293,1294,1295,1296,1297,1298,1299,1300,1301,1302,1303,1304,1305,1306,1307,1308,1309,1310,1311,1312,1313,1314,1315,1316,1317,1318,1319,1320,1321,1322,1323,1324,1325,1326,1327,1328,1329,1330,1331,1332,1333,1334,1335,1336,1337,1338,1339,1340,1341,1342,1343,1344,1345,1346,1347,1348,1349,1350,1351,1352,1353,1354,1355,1356,1357,1358,1359,1360,1361,1362,1363,1364,1365,1366,1367,1368,1369,1370,1371,1372,1373,1374,1375,1376,1377,1378,1379,1380,1381,1382,1383,1384,1385,1386,1387,1388,1389,1390,1391,1392,1393,1394,1395,1396,1397,1398,1399,1400,1401,1402,1403,1404,1405,1406,1407,1408,1409,1410,1411,1412,1413,1414,1415,1416,1417,1418,1419,1420,1421,1422,1423,1424,1425,1426,1427,1428,1429,1430,1431,1432],\"xaxis\":\"x\",\"y\":[57.98905563354492,28.061450958251953,26.383642196655273,25.242389678955078,23.838611602783203,22.140352249145508,21.063941955566406,19.41421127319336,18.987878799438477,18.355846405029297,18.101835250854492,17.888687133789062,17.605615615844727,17.105195999145508,16.93334197998047,16.80635643005371,16.692354202270508,16.3028564453125,15.893877983093262,15.829075813293457,15.76656723022461,15.554810523986816,15.4039888381958,15.28761100769043,15.162200927734375,15.048062324523926,14.89627456665039,14.71463394165039,14.536441802978516,14.482319831848145,14.417651176452637,14.21069622039795,14.099180221557617,14.01428508758545,13.967788696289062,13.892426490783691,13.800471305847168,13.714690208435059,13.645502090454102,13.546337127685547,13.52741813659668,13.457427978515625,13.323911666870117,13.213964462280273,13.174519538879395,13.148426055908203,13.098770141601562,13.006464958190918,12.901904106140137,12.812750816345215,12.774286270141602,12.704314231872559,12.59638500213623,12.56332015991211,12.525188446044922,12.448360443115234,12.418105125427246,12.368813514709473,12.210966110229492,12.158020973205566,12.132874488830566,12.064436912536621,12.02935791015625,11.936371803283691,11.859254837036133,11.848339080810547,11.819974899291992,11.776226043701172,11.692402839660645,11.642247200012207,11.618160247802734,11.604840278625488,11.492240905761719,11.435416221618652,11.383349418640137,11.355849266052246,11.301770210266113,11.280991554260254,11.21115779876709,11.13897705078125,11.124354362487793,11.106252670288086,11.053570747375488,10.982086181640625,10.94505500793457,10.90775203704834,10.890615463256836,10.843107223510742,10.835196495056152,10.775208473205566,10.76056957244873,10.72122859954834,10.690812110900879,10.65716552734375,10.631695747375488,10.561873435974121,10.524369239807129,10.494329452514648,10.455209732055664,10.417229652404785,10.407155990600586,10.38105297088623,10.349217414855957,10.29649543762207,10.27803897857666,10.239723205566406,10.205818176269531,10.179801940917969,10.14041805267334,10.078445434570312,10.031497955322266,9.99935531616211,9.976978302001953,9.950014114379883,9.876968383789062,9.853854179382324,9.842403411865234,9.822846412658691,9.80055046081543,9.77973461151123,9.732353210449219,9.714325904846191,9.67880916595459,9.667716979980469,9.58947467803955,9.562431335449219,9.515725135803223,9.497133255004883,9.466800689697266,9.452383041381836,9.442632675170898,9.395524978637695,9.366011619567871,9.347580909729004,9.309552192687988,9.286198616027832,9.280472755432129,9.251245498657227,9.236006736755371,9.189921379089355,9.166933059692383,9.158836364746094,9.09228229522705,9.072748184204102,9.050104141235352,9.03590202331543,9.021042823791504,8.990700721740723,8.973583221435547,8.949076652526855,8.94003963470459,8.91479778289795,8.87165355682373,8.854338645935059,8.8355712890625,8.808365821838379,8.798553466796875,8.775490760803223,8.735029220581055,8.724581718444824,8.69201374053955,8.679222106933594,8.65689754486084,8.650221824645996,8.589177131652832,8.579184532165527,8.539151191711426,8.534001350402832,8.524375915527344,8.481099128723145,8.467864036560059,8.441091537475586,8.404459953308105,8.386286735534668,8.3799467086792,8.353996276855469,8.34449291229248,8.334123611450195,8.312911987304688,8.291890144348145,8.27653980255127,8.263055801391602,8.242461204528809,8.233612060546875,8.19708251953125,8.166707992553711,8.156729698181152,8.139456748962402,8.135313987731934,8.097671508789062,8.094501495361328,8.063947677612305,8.038213729858398,8.033474922180176,8.016682624816895,7.995355129241943,7.96508264541626,7.954612731933594,7.930246829986572,7.908066749572754,7.907132625579834,7.872217178344727,7.846644401550293,7.842334747314453,7.819807529449463,7.791949272155762,7.789735317230225,7.773808479309082,7.741514682769775,7.724360942840576,7.713685512542725,7.687536239624023,7.666478157043457,7.650959014892578,7.635415077209473,7.608935832977295,7.604193687438965,7.597197532653809,7.580802917480469,7.572985649108887,7.555190086364746,7.528343677520752,7.514744281768799,7.503259181976318,7.4756293296813965,7.469978332519531,7.443704605102539,7.435202598571777,7.426762104034424,7.416773796081543,7.411262035369873,7.379100322723389,7.354519844055176,7.336060047149658,7.327517509460449,7.313483238220215,7.297767639160156,7.289434909820557,7.2711052894592285,7.2581095695495605,7.236075401306152,7.223631858825684,7.211021900177002,7.199392318725586,7.18898868560791,7.178408622741699,7.151134490966797,7.138205051422119,7.131219863891602,7.11817741394043,7.109915733337402,7.085421562194824,7.063571929931641,7.045276641845703,7.037734508514404,7.029080867767334,7.006626129150391,6.98614501953125,6.973142147064209,6.963934898376465,6.954753875732422,6.948916912078857,6.931210041046143,6.9208903312683105,6.911619186401367,6.898670673370361,6.884890556335449,6.877237319946289,6.866418361663818,6.850435733795166,6.838810443878174,6.816954612731934,6.811755657196045,6.799160480499268,6.785616397857666,6.767302513122559,6.763647556304932,6.75198221206665,6.731263637542725,6.7224321365356445,6.706736087799072,6.696725845336914,6.688560962677002,6.670206069946289,6.65634298324585,6.639118194580078,6.621574401855469,6.618154525756836,6.596009731292725,6.582067489624023,6.5765862464904785,6.554815292358398,6.54006290435791,6.5311503410339355,6.523135185241699,6.5194315910339355,6.506165027618408,6.492112636566162,6.476260662078857,6.465095520019531,6.453838348388672,6.450821399688721,6.444243907928467,6.430001735687256,6.412108421325684,6.403130054473877,6.386782169342041,6.371208190917969,6.355792999267578,6.343123435974121,6.329900741577148,6.315891742706299,6.312970161437988,6.3000688552856445,6.281203269958496,6.2717976570129395,6.260028839111328,6.252239227294922,6.241594314575195,6.235760688781738,6.219120025634766,6.209208011627197,6.189671993255615,6.181483268737793,6.178663730621338,6.170235633850098,6.158295631408691,6.1406378746032715,6.133774280548096,6.114591121673584,6.098036289215088,6.088321685791016,6.0852766036987305,6.070439338684082,6.063105583190918,6.049345016479492,6.044240951538086,6.026471138000488,6.010746002197266,5.999795913696289,5.996063232421875,5.978608131408691,5.973073959350586,5.9563517570495605,5.935154914855957,5.932291030883789,5.924280643463135,5.922053337097168,5.91336727142334,5.904235363006592,5.885918617248535,5.879271507263184,5.8616108894348145,5.8467183113098145,5.835366725921631,5.826243877410889,5.8175740242004395,5.807885646820068,5.804737567901611,5.786007881164551,5.774731636047363,5.766249179840088,5.754277229309082,5.750881671905518,5.743223190307617,5.735612869262695,5.72380256652832,5.714330673217773,5.702652454376221,5.693603992462158,5.681325435638428,5.670177459716797,5.664254188537598,5.6494011878967285,5.643425941467285,5.640716552734375,5.629031658172607,5.627364158630371,5.608319282531738,5.597074031829834,5.586743354797363,5.566920280456543,5.5581231117248535,5.554019927978516,5.542912483215332,5.53878116607666,5.521798610687256,5.505153179168701,5.5007476806640625,5.4930315017700195,5.4874958992004395,5.484450340270996,5.469768047332764,5.459202766418457,5.444240570068359,5.44195032119751,5.429147720336914,5.419676303863525,5.398745536804199,5.395537853240967,5.384270191192627,5.379058361053467,5.36552619934082,5.357303142547607,5.350673198699951,5.346923828125,5.335565567016602,5.32790470123291,5.3224310874938965,5.307521820068359,5.30064058303833,5.289836406707764,5.284751892089844,5.2709879875183105,5.264906406402588,5.2613067626953125,5.246519088745117,5.239214897155762,5.231963157653809,5.225539207458496,5.222312927246094,5.204512596130371,5.200998783111572,5.192203998565674,5.183797836303711,5.1767897605896,5.170380592346191,5.161619186401367,5.156984806060791,5.142977714538574,5.138180732727051,5.124391078948975,5.121378421783447,5.107104301452637,5.102402687072754,5.088374614715576,5.08275842666626,5.076661109924316,5.068305492401123,5.059422492980957,5.053110599517822,5.041510105133057,5.033214092254639,5.025542736053467,5.021374225616455,5.011850833892822,4.999846458435059,4.995869159698486,4.99448299407959,4.9755635261535645,4.964820861816406,4.960191249847412,4.953201770782471,4.948160171508789,4.932055473327637,4.927308559417725,4.92021369934082,4.91837215423584,4.908955097198486,4.894622325897217,4.888845443725586,4.883760929107666,4.874038219451904,4.867185592651367,4.852871894836426,4.842874526977539,4.8419904708862305,4.826202392578125,4.820605278015137,4.816183090209961,4.806746482849121,4.8021955490112305,4.785305976867676,4.783317565917969,4.778888702392578,4.771200180053711,4.752274513244629,4.749968528747559,4.736810207366943,4.730269908905029,4.724348068237305,4.7222371101379395,4.712404251098633,4.7047576904296875,4.697336673736572,4.686516761779785,4.684397220611572,4.681277275085449,4.6643571853637695,4.65899658203125,4.65262508392334,4.647526741027832,4.6391754150390625,4.634171962738037,4.627519607543945,4.6169328689575195,4.609248161315918,4.603805065155029,4.592951774597168,4.587539196014404,4.581088066101074,4.577534198760986,4.573390483856201,4.567737102508545,4.564457416534424,4.551367282867432,4.546774864196777,4.5389299392700195,4.53018856048584,4.521849155426025,4.511844158172607,4.509306907653809,4.498020648956299,4.4919047355651855,4.484342098236084,4.482855796813965,4.475279808044434,4.466737270355225,4.464103698730469,4.452648162841797,4.443881034851074,4.441830158233643,4.427450656890869,4.42542839050293,4.424086570739746,4.400250434875488,4.3977274894714355,4.392913818359375,4.385798931121826,4.384432792663574,4.377872943878174,4.369205951690674,4.364051342010498,4.362827301025391,4.356496810913086,4.34719181060791,4.34467077255249,4.337435245513916,4.325807571411133,4.321224212646484,4.3135552406311035,4.311063289642334,4.303116798400879,4.296825408935547,4.295068740844727,4.281407356262207,4.275439262390137,4.273998737335205,4.262989521026611,4.2586669921875,4.2519612312316895,4.243756294250488,4.238115310668945,4.233783721923828,4.223767280578613,4.221007347106934,4.213679313659668,4.204310894012451,4.195950508117676,4.19099235534668,4.183372974395752,4.178975582122803,4.1729936599731445,4.164847373962402,4.160825729370117,4.1461358070373535,4.14393949508667,4.142838954925537,4.132636070251465,4.128850936889648,4.120357990264893,4.117011070251465,4.112666606903076,4.103902816772461,4.095522403717041,4.088771820068359,4.079792499542236,4.075646877288818,4.069036960601807,4.062417507171631,4.060190677642822,4.053317070007324,4.044931411743164,4.038496494293213,4.037564754486084,4.03511905670166,4.0163373947143555,4.014650344848633,4.009886264801025,4.004430294036865,3.9984495639801025,3.9881041049957275,3.984260320663452,3.9801692962646484,3.978614091873169,3.972327947616577,3.9628007411956787,3.9529054164886475,3.949882745742798,3.9440324306488037,3.934166193008423,3.929126501083374,3.925691843032837,3.921342611312866,3.911442518234253,3.904850482940674,3.9033727645874023,3.89524245262146,3.8939168453216553,3.8925247192382812,3.8829381465911865,3.874433994293213,3.865928888320923,3.862560749053955,3.8543801307678223,3.8531768321990967,3.849888563156128,3.8454442024230957,3.837651491165161,3.835261106491089,3.8269948959350586,3.820979118347168,3.8127942085266113,3.803907632827759,3.802447557449341,3.800581932067871,3.7908499240875244,3.78814959526062,3.7798006534576416,3.775148391723633,3.772495746612549,3.7678802013397217,3.758967161178589,3.7507410049438477,3.746957540512085,3.7396342754364014,3.73417329788208,3.73140025138855,3.726498603820801,3.7226924896240234,3.716697931289673,3.710728406906128,3.7077600955963135,3.703601837158203,3.6977341175079346,3.693208694458008,3.688666582107544,3.685342311859131,3.678903102874756,3.6768524646759033,3.668382167816162,3.6617844104766846,3.6579642295837402,3.6520509719848633,3.642773151397705,3.641533613204956,3.6355884075164795,3.627257823944092,3.6198432445526123,3.6150739192962646,3.6082394123077393,3.5989224910736084,3.5979080200195312,3.5946829319000244,3.589578866958618,3.585174322128296,3.5789480209350586,3.572549343109131,3.5673534870147705,3.566009044647217,3.5523056983947754,3.5505335330963135,3.546949863433838,3.543779134750366,3.5409512519836426,3.5358822345733643,3.529646873474121,3.5249712467193604,3.51955246925354,3.5102083683013916,3.504708766937256,3.499234676361084,3.495236873626709,3.493544816970825,3.4835407733917236,3.479607582092285,3.478192090988159,3.471055507659912,3.4676132202148438,3.459451198577881,3.454227924346924,3.4498403072357178,3.4483184814453125,3.4458024501800537,3.4360225200653076,3.426004409790039,3.4230124950408936,3.4215872287750244,3.4177989959716797,3.4130125045776367,3.404247522354126,3.4012484550476074,3.400094985961914,3.394134044647217,3.388937473297119,3.3812592029571533,3.3782410621643066,3.3745596408843994,3.3674001693725586,3.3643226623535156,3.359713554382324,3.356153964996338,3.34861421585083,3.3430354595184326,3.328380584716797,3.328094244003296,3.324920892715454,3.3240292072296143,3.3187124729156494,3.3147518634796143,3.310122489929199,3.309431791305542,3.302612066268921,3.2977936267852783,3.2939202785491943,3.283656120300293,3.2800567150115967,3.2785887718200684,3.273793935775757,3.26973032951355,3.2644879817962646,3.262350082397461,3.2584409713745117,3.247713327407837,3.2464747428894043,3.2375965118408203,3.2307634353637695,3.2239770889282227,3.220824718475342,3.2179768085479736,3.2155489921569824,3.2133584022521973,3.208649158477783,3.2010390758514404,3.197432041168213,3.1961636543273926,3.1904802322387695,3.1845715045928955,3.1819653511047363,3.1780035495758057,3.1683661937713623,3.1625475883483887,3.1606361865997314,3.151289701461792,3.1507115364074707,3.144850492477417,3.1427929401397705,3.1384177207946777,3.133601188659668,3.128126382827759,3.12497615814209,3.120393991470337,3.118741512298584,3.1111602783203125,3.110036611557007,3.1069588661193848,3.100409507751465,3.0945496559143066,3.0914952754974365,3.0886363983154297,3.08657169342041,3.0793509483337402,3.0738465785980225,3.071253776550293,3.0665502548217773,3.0626332759857178,3.0582847595214844,3.055572509765625,3.0521275997161865,3.044628143310547,3.0437419414520264,3.0381271839141846,3.030543804168701,3.024113893508911,3.0216288566589355,3.018561363220215,3.011152505874634,3.007281541824341,3.0059258937835693,3.001652717590332,2.995882511138916,2.992342472076416,2.989609479904175,2.9864461421966553,2.979633092880249,2.976264715194702,2.97263503074646,2.9711575508117676,2.9659459590911865,2.9588897228240967,2.95235538482666,2.951073408126831,2.9483885765075684,2.945810079574585,2.9378249645233154,2.9350831508636475,2.9307000637054443,2.9284212589263916,2.9227497577667236,2.9198312759399414,2.914386749267578,2.905585765838623,2.9026002883911133,2.8989124298095703,2.8965156078338623,2.8885815143585205,2.8844571113586426,2.883279323577881,2.882215738296509,2.874607801437378,2.8724634647369385,2.869049549102783,2.8649239540100098,2.8603904247283936,2.8556768894195557,2.851677417755127,2.8494300842285156,2.8452515602111816,2.841961145401001,2.8394792079925537,2.83260440826416,2.830515146255493,2.8257088661193848,2.8225109577178955,2.813735008239746,2.8094680309295654,2.8074722290039062,2.8041672706604004,2.798156976699829,2.7946205139160156,2.790862560272217,2.7839386463165283,2.780991315841675,2.777265787124634,2.773129463195801,2.7687625885009766,2.7645106315612793,2.7589712142944336,2.7584521770477295,2.7527318000793457,2.748913049697876,2.7428057193756104,2.738532781600952,2.734753370285034,2.731668472290039,2.725144863128662,2.7237181663513184,2.719991445541382,2.7186357975006104,2.7125484943389893,2.7099530696868896,2.7068991661071777,2.705108642578125,2.6988041400909424,2.697510242462158,2.6942086219787598,2.6896133422851562,2.6861696243286133,2.679227828979492,2.6770427227020264,2.67492413520813,2.670225143432617,2.66619610786438,2.657038450241089,2.655015707015991,2.6540629863739014,2.6501972675323486,2.647106647491455,2.64430570602417,2.6428608894348145,2.63626766204834,2.6299948692321777,2.622637987136841,2.619950294494629,2.618985652923584,2.6157026290893555,2.608410358428955,2.6036226749420166,2.5987088680267334,2.596601724624634,2.5942084789276123,2.5901377201080322,2.584718704223633,2.5813231468200684,2.577611207962036,2.569805860519409,2.5683908462524414,2.565239667892456,2.5623600482940674,2.55812406539917,2.5519282817840576,2.5479047298431396,2.5460641384124756,2.5407087802886963,2.5399692058563232,2.5343353748321533,2.5290915966033936,2.5269036293029785,2.526386260986328,2.5156915187835693,2.514169454574585,2.5119082927703857,2.507946252822876,2.5033483505249023,2.5000853538513184,2.494108200073242,2.4917075634002686,2.4857311248779297,2.485060214996338,2.480485439300537,2.478285074234009,2.475011110305786,2.4714853763580322,2.471041202545166,2.46276593208313,2.4605278968811035,2.458505153656006,2.455932855606079,2.4507806301116943,2.44724178314209,2.4425714015960693,2.43682599067688,2.435129404067993,2.433306932449341,2.430119276046753,2.428565263748169,2.424102783203125,2.418416738510132,2.4152839183807373,2.41178822517395,2.401564598083496,2.4012258052825928,2.3970818519592285,2.3958144187927246,2.392911911010742,2.389681577682495,2.3874735832214355,2.377794027328491,2.377483367919922,2.3755061626434326,2.3679304122924805,2.3645269870758057,2.362776517868042,2.3545167446136475,2.3516528606414795,2.3478453159332275,2.34306263923645,2.3399407863616943,2.3380110263824463,2.33298397064209,2.3307976722717285,2.3244307041168213,2.3219828605651855,2.3169262409210205,2.315577507019043,2.3101537227630615,2.309464931488037,2.306562662124634,2.305291175842285,2.3001368045806885,2.2996513843536377,2.293245792388916,2.2888123989105225,2.2867326736450195,2.2802886962890625,2.272501230239868,2.2692487239837646,2.2674312591552734,2.266017198562622,2.2635700702667236,2.2608718872070312,2.2572498321533203,2.2525038719177246,2.2480080127716064,2.2451610565185547,2.242216110229492,2.2411491870880127,2.233137607574463,2.2312545776367188,2.227020502090454,2.2250401973724365,2.221696376800537,2.217627763748169,2.2139687538146973,2.2090346813201904,2.2071311473846436,2.2033722400665283,2.2017104625701904,2.2004027366638184,2.1941592693328857,2.1924867630004883,2.185961961746216,2.183717966079712,2.180656671524048,2.1775503158569336,2.1738407611846924,2.1671555042266846,2.165914297103882,2.1607961654663086,2.158182144165039,2.153761863708496,2.153597354888916,2.1508657932281494,2.14663028717041,2.143488883972168,2.141993522644043,2.1321847438812256,2.1285603046417236,2.1283645629882812,2.1220498085021973,2.1205596923828125,2.1187453269958496,2.114546537399292,2.112441062927246,2.107684850692749,2.1070404052734375,2.1057043075561523,2.098747730255127,2.0957283973693848,2.091984510421753,2.088745594024658,2.0851030349731445,2.0780625343322754,2.075357675552368,2.073774576187134,2.0702145099639893,2.0650084018707275,2.0609939098358154,2.05692458152771,2.0526299476623535,2.0504283905029297,2.0479369163513184,2.0452075004577637,2.040208101272583,2.0375139713287354,2.03694486618042,2.032114028930664,2.0267865657806396,2.026143789291382,2.024169683456421,2.0229384899139404,2.01517391204834,2.0110630989074707,2.005793333053589,2.0024728775024414,1.999048113822937,1.9980614185333252,1.995252013206482,1.9913172721862793,1.9870500564575195,1.9863990545272827,1.9781056642532349,1.976529598236084,1.9755111932754517,1.9699965715408325,1.9669170379638672,1.9604291915893555,1.9581868648529053,1.9567846059799194,1.9528363943099976,1.9458746910095215,1.9456429481506348,1.9414043426513672,1.9401500225067139,1.9348952770233154,1.9335933923721313,1.931428074836731,1.9283678531646729,1.9228113889694214,1.922271490097046,1.9182178974151611,1.9128119945526123,1.9100009202957153,1.9098689556121826,1.9021130800247192,1.899213433265686,1.8965964317321777,1.8917670249938965,1.8890812397003174,1.88600754737854,1.8835043907165527,1.8792322874069214,1.877702236175537,1.873390555381775,1.8696976900100708,1.8682812452316284,1.8658188581466675,1.8613066673278809,1.8603744506835938,1.8537129163742065,1.8476237058639526,1.8463939428329468,1.8419965505599976,1.8405005931854248,1.839473009109497,1.8327770233154297,1.831023097038269,1.8283116817474365,1.8253843784332275,1.8221555948257446,1.8184685707092285,1.8149994611740112,1.8113903999328613,1.8051809072494507,1.804673194885254,1.800304889678955,1.7987618446350098,1.7935144901275635,1.7925407886505127,1.7905147075653076,1.7853424549102783,1.7831052541732788,1.7796270847320557,1.7780548334121704,1.776928424835205,1.7727020978927612,1.7658737897872925,1.7629948854446411,1.7603899240493774,1.7577555179595947,1.7524412870407104,1.7499148845672607,1.7483857870101929,1.7457647323608398,1.7407596111297607,1.7396842241287231,1.7374975681304932,1.7330478429794312,1.7313097715377808,1.7262967824935913,1.7235615253448486,1.7195854187011719,1.7142871618270874,1.7107778787612915,1.7061119079589844,1.7044484615325928,1.6977959871292114,1.696743130683899,1.6941282749176025,1.6933338642120361,1.6909724473953247,1.6860936880111694,1.6840394735336304,1.6808189153671265,1.675097107887268,1.670780062675476,1.6681393384933472,1.6660279035568237,1.6627143621444702,1.658695936203003,1.6547751426696777,1.654097080230713,1.6490352153778076,1.6445846557617188,1.6418850421905518,1.6385972499847412,1.6365015506744385,1.635475754737854,1.632663369178772,1.6291981935501099,1.6274065971374512,1.6249628067016602,1.6234643459320068,1.6180928945541382,1.6134719848632812,1.6107814311981201,1.6096863746643066,1.6043813228607178,1.5995501279830933,1.5975909233093262,1.596483588218689,1.5892382860183716,1.5864475965499878,1.5856075286865234,1.580984115600586,1.579545259475708,1.5767120122909546,1.5753352642059326,1.5718140602111816,1.5657665729522705,1.5645079612731934,1.5630983114242554,1.5595685243606567,1.557694911956787,1.5546393394470215,1.5512404441833496,1.5506137609481812,1.5460448265075684,1.5416221618652344,1.5366075038909912,1.5352485179901123,1.5314288139343262,1.5253349542617798,1.5196524858474731,1.5169758796691895,1.5131886005401611,1.5103429555892944,1.5071402788162231,1.503041386604309,1.4977502822875977,1.494091272354126,1.490771770477295,1.4877358675003052,1.4863944053649902,1.481766700744629,1.4797574281692505,1.4759268760681152,1.4731295108795166,1.4694504737854004,1.4676129817962646,1.4658476114273071,1.4608596563339233,1.4591997861862183,1.453765869140625,1.4513548612594604,1.4481709003448486,1.445507287979126,1.4407358169555664,1.4387797117233276,1.435042142868042,1.4331934452056885,1.428210973739624,1.4262804985046387,1.4229013919830322,1.4175662994384766,1.414336919784546,1.412658452987671,1.4107861518859863,1.4077173471450806,1.4046950340270996,1.3986276388168335,1.3958714008331299,1.392183542251587,1.3913731575012207,1.388718843460083,1.3862122297286987,1.3833987712860107,1.380542278289795,1.3761078119277954,1.3736423254013062,1.3693935871124268,1.3642240762710571,1.3613704442977905,1.3586829900741577,1.3583484888076782,1.3517107963562012,1.3510713577270508,1.3485608100891113,1.3421789407730103,1.3398945331573486,1.339531660079956,1.3343380689620972,1.3297804594039917,1.3257887363433838,1.3231056928634644,1.318241834640503,1.3169550895690918,1.3141244649887085,1.3123211860656738,1.3099311590194702,1.3055965900421143,1.3044747114181519,1.3013204336166382,1.299587368965149,1.295693278312683,1.2891188859939575,1.2876402139663696,1.28593111038208,1.2822176218032837,1.2767540216445923,1.2747806310653687,1.2710179090499878,1.270215392112732,1.267643690109253,1.2668339014053345,1.2585639953613281,1.2567335367202759,1.2525936365127563,1.2498198747634888,1.2462048530578613,1.242019772529602,1.2378876209259033,1.2354365587234497,1.2336349487304688,1.2264056205749512,1.2248936891555786,1.2219669818878174,1.218040108680725,1.215706467628479,1.212689757347107,1.2085634469985962,1.2071596384048462,1.19963800907135,1.1980481147766113,1.1972321271896362,1.1930116415023804,1.1907942295074463,1.1865441799163818,1.1844691038131714,1.183337926864624,1.17587149143219,1.171407699584961,1.1681036949157715,1.1660242080688477,1.1645809412002563,1.161823034286499,1.1603585481643677,1.1555044651031494,1.153380036354065,1.1494256258010864,1.1463255882263184,1.143282413482666,1.135826826095581,1.1327437162399292,1.1303354501724243,1.1271922588348389,1.122593879699707,1.119942545890808,1.1182465553283691,1.1122560501098633,1.1071739196777344,1.1034784317016602,1.0985783338546753,1.0933876037597656,1.0914913415908813,1.0892866849899292,1.0891820192337036,1.0815762281417847,1.0785754919052124,1.0751510858535767,1.0711027383804321,1.0694912672042847,1.0652178525924683,1.0633177757263184,1.0573252439498901,1.0516525506973267,1.050146460533142,1.047127366065979,1.044985055923462,1.0428962707519531,1.037898302078247,1.0341510772705078,1.0320898294448853,1.0255459547042847,1.020847201347351,1.0191763639450073,1.0145714282989502,1.0129908323287964,1.0106399059295654,1.0010377168655396,1.0005024671554565,0.995515763759613,0.9937530755996704,0.9871092438697815,0.9854394197463989,0.9813017249107361,0.9759804606437683,0.9713253378868103,0.9689300656318665,0.966402530670166,0.9613500833511353,0.9590298533439636,0.9561349153518677,0.9516108632087708,0.9463456869125366,0.9440513849258423,0.9393712878227234,0.9382884502410889,0.9311412572860718,0.9290122985839844,0.9234919548034668,0.9168773293495178,0.9125246405601501,0.910251796245575,0.9068552851676941,0.9038003087043762,0.8989142775535583,0.8931962251663208,0.8873935341835022,0.8860106468200684,0.8839691281318665,0.8790370225906372,0.8731369972229004,0.867582380771637,0.8653993010520935,0.8610521554946899,0.8574399352073669,0.8533025979995728,0.8435047268867493,0.8389735221862793,0.8366835117340088,0.8334634304046631,0.8245710134506226,0.8220539093017578,0.8135444521903992,0.8088499307632446,0.8030924797058105,0.8006561398506165,0.7967122197151184,0.7894452810287476,0.7804158329963684,0.7795827984809875,0.7633922100067139,0.7578563094139099,0.7500267028808594,0.7427071928977966,0.7344822883605957,0.7259528040885925,0.7216072082519531,0.7025406956672668,0.7004009485244751,0.6991318464279175,0.6820021867752075,0.6778566837310791,0.669093668460846,0.6505945920944214,0.6336727142333984,0.5828086733818054,0.5717745423316956,0.41309255361557007,0.37005358934402466,4.269506007403834e-06,6.23573797042809e-08],\"yaxis\":\"y\",\"type\":\"scattergl\"}],                        {\"template\":{\"data\":{\"histogram2dcontour\":[{\"type\":\"histogram2dcontour\",\"colorbar\":{\"outlinewidth\":0,\"ticks\":\"\"},\"colorscale\":[[0.0,\"#0d0887\"],[0.1111111111111111,\"#46039f\"],[0.2222222222222222,\"#7201a8\"],[0.3333333333333333,\"#9c179e\"],[0.4444444444444444,\"#bd3786\"],[0.5555555555555556,\"#d8576b\"],[0.6666666666666666,\"#ed7953\"],[0.7777777777777778,\"#fb9f3a\"],[0.8888888888888888,\"#fdca26\"],[1.0,\"#f0f921\"]]}],\"choropleth\":[{\"type\":\"choropleth\",\"colorbar\":{\"outlinewidth\":0,\"ticks\":\"\"}}],\"histogram2d\":[{\"type\":\"histogram2d\",\"colorbar\":{\"outlinewidth\":0,\"ticks\":\"\"},\"colorscale\":[[0.0,\"#0d0887\"],[0.1111111111111111,\"#46039f\"],[0.2222222222222222,\"#7201a8\"],[0.3333333333333333,\"#9c179e\"],[0.4444444444444444,\"#bd3786\"],[0.5555555555555556,\"#d8576b\"],[0.6666666666666666,\"#ed7953\"],[0.7777777777777778,\"#fb9f3a\"],[0.8888888888888888,\"#fdca26\"],[1.0,\"#f0f921\"]]}],\"heatmap\":[{\"type\":\"heatmap\",\"colorbar\":{\"outlinewidth\":0,\"ticks\":\"\"},\"colorscale\":[[0.0,\"#0d0887\"],[0.1111111111111111,\"#46039f\"],[0.2222222222222222,\"#7201a8\"],[0.3333333333333333,\"#9c179e\"],[0.4444444444444444,\"#bd3786\"],[0.5555555555555556,\"#d8576b\"],[0.6666666666666666,\"#ed7953\"],[0.7777777777777778,\"#fb9f3a\"],[0.8888888888888888,\"#fdca26\"],[1.0,\"#f0f921\"]]}],\"heatmapgl\":[{\"type\":\"heatmapgl\",\"colorbar\":{\"outlinewidth\":0,\"ticks\":\"\"},\"colorscale\":[[0.0,\"#0d0887\"],[0.1111111111111111,\"#46039f\"],[0.2222222222222222,\"#7201a8\"],[0.3333333333333333,\"#9c179e\"],[0.4444444444444444,\"#bd3786\"],[0.5555555555555556,\"#d8576b\"],[0.6666666666666666,\"#ed7953\"],[0.7777777777777778,\"#fb9f3a\"],[0.8888888888888888,\"#fdca26\"],[1.0,\"#f0f921\"]]}],\"contourcarpet\":[{\"type\":\"contourcarpet\",\"colorbar\":{\"outlinewidth\":0,\"ticks\":\"\"}}],\"contour\":[{\"type\":\"contour\",\"colorbar\":{\"outlinewidth\":0,\"ticks\":\"\"},\"colorscale\":[[0.0,\"#0d0887\"],[0.1111111111111111,\"#46039f\"],[0.2222222222222222,\"#7201a8\"],[0.3333333333333333,\"#9c179e\"],[0.4444444444444444,\"#bd3786\"],[0.5555555555555556,\"#d8576b\"],[0.6666666666666666,\"#ed7953\"],[0.7777777777777778,\"#fb9f3a\"],[0.8888888888888888,\"#fdca26\"],[1.0,\"#f0f921\"]]}],\"surface\":[{\"type\":\"surface\",\"colorbar\":{\"outlinewidth\":0,\"ticks\":\"\"},\"colorscale\":[[0.0,\"#0d0887\"],[0.1111111111111111,\"#46039f\"],[0.2222222222222222,\"#7201a8\"],[0.3333333333333333,\"#9c179e\"],[0.4444444444444444,\"#bd3786\"],[0.5555555555555556,\"#d8576b\"],[0.6666666666666666,\"#ed7953\"],[0.7777777777777778,\"#fb9f3a\"],[0.8888888888888888,\"#fdca26\"],[1.0,\"#f0f921\"]]}],\"mesh3d\":[{\"type\":\"mesh3d\",\"colorbar\":{\"outlinewidth\":0,\"ticks\":\"\"}}],\"scatter\":[{\"fillpattern\":{\"fillmode\":\"overlay\",\"size\":10,\"solidity\":0.2},\"type\":\"scatter\"}],\"parcoords\":[{\"type\":\"parcoords\",\"line\":{\"colorbar\":{\"outlinewidth\":0,\"ticks\":\"\"}}}],\"scatterpolargl\":[{\"type\":\"scatterpolargl\",\"marker\":{\"colorbar\":{\"outlinewidth\":0,\"ticks\":\"\"}}}],\"bar\":[{\"error_x\":{\"color\":\"#2a3f5f\"},\"error_y\":{\"color\":\"#2a3f5f\"},\"marker\":{\"line\":{\"color\":\"#E5ECF6\",\"width\":0.5},\"pattern\":{\"fillmode\":\"overlay\",\"size\":10,\"solidity\":0.2}},\"type\":\"bar\"}],\"scattergeo\":[{\"type\":\"scattergeo\",\"marker\":{\"colorbar\":{\"outlinewidth\":0,\"ticks\":\"\"}}}],\"scatterpolar\":[{\"type\":\"scatterpolar\",\"marker\":{\"colorbar\":{\"outlinewidth\":0,\"ticks\":\"\"}}}],\"histogram\":[{\"marker\":{\"pattern\":{\"fillmode\":\"overlay\",\"size\":10,\"solidity\":0.2}},\"type\":\"histogram\"}],\"scattergl\":[{\"type\":\"scattergl\",\"marker\":{\"colorbar\":{\"outlinewidth\":0,\"ticks\":\"\"}}}],\"scatter3d\":[{\"type\":\"scatter3d\",\"line\":{\"colorbar\":{\"outlinewidth\":0,\"ticks\":\"\"}},\"marker\":{\"colorbar\":{\"outlinewidth\":0,\"ticks\":\"\"}}}],\"scattermapbox\":[{\"type\":\"scattermapbox\",\"marker\":{\"colorbar\":{\"outlinewidth\":0,\"ticks\":\"\"}}}],\"scatterternary\":[{\"type\":\"scatterternary\",\"marker\":{\"colorbar\":{\"outlinewidth\":0,\"ticks\":\"\"}}}],\"scattercarpet\":[{\"type\":\"scattercarpet\",\"marker\":{\"colorbar\":{\"outlinewidth\":0,\"ticks\":\"\"}}}],\"carpet\":[{\"aaxis\":{\"endlinecolor\":\"#2a3f5f\",\"gridcolor\":\"white\",\"linecolor\":\"white\",\"minorgridcolor\":\"white\",\"startlinecolor\":\"#2a3f5f\"},\"baxis\":{\"endlinecolor\":\"#2a3f5f\",\"gridcolor\":\"white\",\"linecolor\":\"white\",\"minorgridcolor\":\"white\",\"startlinecolor\":\"#2a3f5f\"},\"type\":\"carpet\"}],\"table\":[{\"cells\":{\"fill\":{\"color\":\"#EBF0F8\"},\"line\":{\"color\":\"white\"}},\"header\":{\"fill\":{\"color\":\"#C8D4E3\"},\"line\":{\"color\":\"white\"}},\"type\":\"table\"}],\"barpolar\":[{\"marker\":{\"line\":{\"color\":\"#E5ECF6\",\"width\":0.5},\"pattern\":{\"fillmode\":\"overlay\",\"size\":10,\"solidity\":0.2}},\"type\":\"barpolar\"}],\"pie\":[{\"automargin\":true,\"type\":\"pie\"}]},\"layout\":{\"autotypenumbers\":\"strict\",\"colorway\":[\"#636efa\",\"#EF553B\",\"#00cc96\",\"#ab63fa\",\"#FFA15A\",\"#19d3f3\",\"#FF6692\",\"#B6E880\",\"#FF97FF\",\"#FECB52\"],\"font\":{\"color\":\"#2a3f5f\"},\"hovermode\":\"closest\",\"hoverlabel\":{\"align\":\"left\"},\"paper_bgcolor\":\"white\",\"plot_bgcolor\":\"#E5ECF6\",\"polar\":{\"bgcolor\":\"#E5ECF6\",\"angularaxis\":{\"gridcolor\":\"white\",\"linecolor\":\"white\",\"ticks\":\"\"},\"radialaxis\":{\"gridcolor\":\"white\",\"linecolor\":\"white\",\"ticks\":\"\"}},\"ternary\":{\"bgcolor\":\"#E5ECF6\",\"aaxis\":{\"gridcolor\":\"white\",\"linecolor\":\"white\",\"ticks\":\"\"},\"baxis\":{\"gridcolor\":\"white\",\"linecolor\":\"white\",\"ticks\":\"\"},\"caxis\":{\"gridcolor\":\"white\",\"linecolor\":\"white\",\"ticks\":\"\"}},\"coloraxis\":{\"colorbar\":{\"outlinewidth\":0,\"ticks\":\"\"}},\"colorscale\":{\"sequential\":[[0.0,\"#0d0887\"],[0.1111111111111111,\"#46039f\"],[0.2222222222222222,\"#7201a8\"],[0.3333333333333333,\"#9c179e\"],[0.4444444444444444,\"#bd3786\"],[0.5555555555555556,\"#d8576b\"],[0.6666666666666666,\"#ed7953\"],[0.7777777777777778,\"#fb9f3a\"],[0.8888888888888888,\"#fdca26\"],[1.0,\"#f0f921\"]],\"sequentialminus\":[[0.0,\"#0d0887\"],[0.1111111111111111,\"#46039f\"],[0.2222222222222222,\"#7201a8\"],[0.3333333333333333,\"#9c179e\"],[0.4444444444444444,\"#bd3786\"],[0.5555555555555556,\"#d8576b\"],[0.6666666666666666,\"#ed7953\"],[0.7777777777777778,\"#fb9f3a\"],[0.8888888888888888,\"#fdca26\"],[1.0,\"#f0f921\"]],\"diverging\":[[0,\"#8e0152\"],[0.1,\"#c51b7d\"],[0.2,\"#de77ae\"],[0.3,\"#f1b6da\"],[0.4,\"#fde0ef\"],[0.5,\"#f7f7f7\"],[0.6,\"#e6f5d0\"],[0.7,\"#b8e186\"],[0.8,\"#7fbc41\"],[0.9,\"#4d9221\"],[1,\"#276419\"]]},\"xaxis\":{\"gridcolor\":\"white\",\"linecolor\":\"white\",\"ticks\":\"\",\"title\":{\"standoff\":15},\"zerolinecolor\":\"white\",\"automargin\":true,\"zerolinewidth\":2},\"yaxis\":{\"gridcolor\":\"white\",\"linecolor\":\"white\",\"ticks\":\"\",\"title\":{\"standoff\":15},\"zerolinecolor\":\"white\",\"automargin\":true,\"zerolinewidth\":2},\"scene\":{\"xaxis\":{\"backgroundcolor\":\"#E5ECF6\",\"gridcolor\":\"white\",\"linecolor\":\"white\",\"showbackground\":true,\"ticks\":\"\",\"zerolinecolor\":\"white\",\"gridwidth\":2},\"yaxis\":{\"backgroundcolor\":\"#E5ECF6\",\"gridcolor\":\"white\",\"linecolor\":\"white\",\"showbackground\":true,\"ticks\":\"\",\"zerolinecolor\":\"white\",\"gridwidth\":2},\"zaxis\":{\"backgroundcolor\":\"#E5ECF6\",\"gridcolor\":\"white\",\"linecolor\":\"white\",\"showbackground\":true,\"ticks\":\"\",\"zerolinecolor\":\"white\",\"gridwidth\":2}},\"shapedefaults\":{\"line\":{\"color\":\"#2a3f5f\"}},\"annotationdefaults\":{\"arrowcolor\":\"#2a3f5f\",\"arrowhead\":0,\"arrowwidth\":1},\"geo\":{\"bgcolor\":\"white\",\"landcolor\":\"#E5ECF6\",\"subunitcolor\":\"white\",\"showland\":true,\"showlakes\":true,\"lakecolor\":\"white\"},\"title\":{\"x\":0.05},\"mapbox\":{\"style\":\"light\"}}},\"xaxis\":{\"anchor\":\"y\",\"domain\":[0.0,1.0],\"title\":{\"text\":\"x\"}},\"yaxis\":{\"anchor\":\"x\",\"domain\":[0.0,1.0],\"title\":{\"text\":\"y\"}},\"legend\":{\"tracegroupgap\":0},\"title\":{\"text\":\"Principal Components of the Input Graph Node Features\"}},                        {\"responsive\": true}                    ).then(function(){\n",
              "                            \n",
              "var gd = document.getElementById('968391de-7a17-4fad-b6de-e006a0245638');\n",
              "var x = new MutationObserver(function (mutations, observer) {{\n",
              "        var display = window.getComputedStyle(gd).display;\n",
              "        if (!display || display === 'none') {{\n",
              "            console.log([gd, 'removed!']);\n",
              "            Plotly.purge(gd);\n",
              "            observer.disconnect();\n",
              "        }}\n",
              "}});\n",
              "\n",
              "// Listen for the removal of the full notebook cells\n",
              "var notebookContainer = gd.closest('#notebook-container');\n",
              "if (notebookContainer) {{\n",
              "    x.observe(notebookContainer, {childList: true});\n",
              "}}\n",
              "\n",
              "// Listen for the clearing of the current output cell\n",
              "var outputEl = gd.closest('.output');\n",
              "if (outputEl) {{\n",
              "    x.observe(outputEl, {childList: true});\n",
              "}}\n",
              "\n",
              "                        })                };                            </script>        </div>\n",
              "</body>\n",
              "</html>"
            ]
          },
          "metadata": {}
        },
        {
          "output_type": "display_data",
          "data": {
            "text/html": [
              "<html>\n",
              "<head><meta charset=\"utf-8\" /></head>\n",
              "<body>\n",
              "    <div>            <script src=\"https://cdnjs.cloudflare.com/ajax/libs/mathjax/2.7.5/MathJax.js?config=TeX-AMS-MML_SVG\"></script><script type=\"text/javascript\">if (window.MathJax && window.MathJax.Hub && window.MathJax.Hub.Config) {window.MathJax.Hub.Config({SVG: {font: \"STIX-Web\"}});}</script>                <script type=\"text/javascript\">window.PlotlyConfig = {MathJaxConfig: 'local'};</script>\n",
              "        <script charset=\"utf-8\" src=\"https://cdn.plot.ly/plotly-2.24.1.min.js\"></script>                <div id=\"68de31f7-0f06-43ce-b5f2-6d3391ba72d4\" class=\"plotly-graph-div\" style=\"height:525px; width:100%;\"></div>            <script type=\"text/javascript\">                                    window.PLOTLYENV=window.PLOTLYENV || {};                                    if (document.getElementById(\"68de31f7-0f06-43ce-b5f2-6d3391ba72d4\")) {                    Plotly.newPlot(                        \"68de31f7-0f06-43ce-b5f2-6d3391ba72d4\",                        [{\"hovertemplate\":\"x=%{x}\\u003cbr\\u003ey=%{y}\\u003cextra\\u003e\\u003c\\u002fextra\\u003e\",\"legendgroup\":\"\",\"line\":{\"color\":\"#636efa\",\"dash\":\"solid\"},\"marker\":{\"symbol\":\"circle\"},\"mode\":\"lines\",\"name\":\"\",\"showlegend\":false,\"x\":[0,1,2,3,4,5,6,7,8,9,10,11,12,13,14,15,16,17,18,19,20,21,22,23,24,25,26,27,28,29,30,31,32,33,34,35,36,37,38,39,40,41,42,43,44,45,46,47,48,49,50,51,52,53,54,55,56,57,58,59,60,61,62,63,64,65,66,67,68,69,70,71,72,73,74,75,76,77,78,79,80,81,82,83,84,85,86,87,88,89,90,91,92,93,94,95,96,97,98,99,100,101,102,103,104,105,106,107,108,109,110,111,112,113,114,115,116,117,118,119,120,121,122,123,124,125,126,127,128,129,130,131,132,133,134,135,136,137,138,139,140,141,142,143,144,145,146,147,148,149,150,151,152,153,154,155,156,157,158,159,160,161,162,163,164,165,166,167,168,169,170,171,172,173,174,175,176,177,178,179,180,181,182,183,184,185,186,187,188,189,190,191,192,193,194,195,196,197,198,199,200,201,202,203,204,205,206,207,208,209,210,211,212,213,214,215,216,217,218,219,220,221,222,223,224,225,226,227,228,229,230,231,232,233,234,235,236,237,238,239,240,241,242,243,244,245,246,247,248,249,250,251,252,253,254,255,256,257,258,259,260,261,262,263,264,265,266,267,268,269,270,271,272,273,274,275,276,277,278,279,280,281,282,283,284,285,286,287,288,289,290,291,292,293,294,295,296,297,298,299,300,301,302,303,304,305,306,307,308,309,310,311,312,313,314,315,316,317,318,319,320,321,322,323,324,325,326,327,328,329,330,331,332,333,334,335,336,337,338,339,340,341,342,343,344,345,346,347,348,349,350,351,352,353,354,355,356,357,358,359,360,361,362,363,364,365,366,367,368,369,370,371,372,373,374,375,376,377,378,379,380,381,382,383,384,385,386,387,388,389,390,391,392,393,394,395,396,397,398,399,400,401,402,403,404,405,406,407,408,409,410,411,412,413,414,415,416,417,418,419,420,421,422,423,424,425,426,427,428,429,430,431,432,433,434,435,436,437,438,439,440,441,442,443,444,445,446,447,448,449,450,451,452,453,454,455,456,457,458,459,460,461,462,463,464,465,466,467,468,469,470,471,472,473,474,475,476,477,478,479,480,481,482,483,484,485,486,487,488,489,490,491,492,493,494,495,496,497,498,499,500,501,502,503,504,505,506,507,508,509,510,511,512,513,514,515,516,517,518,519,520,521,522,523,524,525,526,527,528,529,530,531,532,533,534,535,536,537,538,539,540,541,542,543,544,545,546,547,548,549,550,551,552,553,554,555,556,557,558,559,560,561,562,563,564,565,566,567,568,569,570,571,572,573,574,575,576,577,578,579,580,581,582,583,584,585,586,587,588,589,590,591,592,593,594,595,596,597,598,599,600,601,602,603,604,605,606,607,608,609,610,611,612,613,614,615,616,617,618,619,620,621,622,623,624,625,626,627,628,629,630,631,632,633,634,635,636,637,638,639,640,641,642,643,644,645,646,647,648,649,650,651,652,653,654,655,656,657,658,659,660,661,662,663,664,665,666,667,668,669,670,671,672,673,674,675,676,677,678,679,680,681,682,683,684,685,686,687,688,689,690,691,692,693,694,695,696,697,698,699,700,701,702,703,704,705,706,707,708,709,710,711,712,713,714,715,716,717,718,719,720,721,722,723,724,725,726,727,728,729,730,731,732,733,734,735,736,737,738,739,740,741,742,743,744,745,746,747,748,749,750,751,752,753,754,755,756,757,758,759,760,761,762,763,764,765,766,767,768,769,770,771,772,773,774,775,776,777,778,779,780,781,782,783,784,785,786,787,788,789,790,791,792,793,794,795,796,797,798,799,800,801,802,803,804,805,806,807,808,809,810,811,812,813,814,815,816,817,818,819,820,821,822,823,824,825,826,827,828,829,830,831,832,833,834,835,836,837,838,839,840,841,842,843,844,845,846,847,848,849,850,851,852,853,854,855,856,857,858,859,860,861,862,863,864,865,866,867,868,869,870,871,872,873,874,875,876,877,878,879,880,881,882,883,884,885,886,887,888,889,890,891,892,893,894,895,896,897,898,899,900,901,902,903,904,905,906,907,908,909,910,911,912,913,914,915,916,917,918,919,920,921,922,923,924,925,926,927,928,929,930,931,932,933,934,935,936,937,938,939,940,941,942,943,944,945,946,947,948,949,950,951,952,953,954,955,956,957,958,959,960,961,962,963,964,965,966,967,968,969,970,971,972,973,974,975,976,977,978,979,980,981,982,983,984,985,986,987,988,989,990,991,992,993,994,995,996,997,998,999,1000,1001,1002,1003,1004,1005,1006,1007,1008,1009,1010,1011,1012,1013,1014,1015,1016,1017,1018,1019,1020,1021,1022,1023,1024,1025,1026,1027,1028,1029,1030,1031,1032,1033,1034,1035,1036,1037,1038,1039,1040,1041,1042,1043,1044,1045,1046,1047,1048,1049,1050,1051,1052,1053,1054,1055,1056,1057,1058,1059,1060,1061,1062,1063,1064,1065,1066,1067,1068,1069,1070,1071,1072,1073,1074,1075,1076,1077,1078,1079,1080,1081,1082,1083,1084,1085,1086,1087,1088,1089,1090,1091,1092,1093,1094,1095,1096,1097,1098,1099,1100,1101,1102,1103,1104,1105,1106,1107,1108,1109,1110,1111,1112,1113,1114,1115,1116,1117,1118,1119,1120,1121,1122,1123,1124,1125,1126,1127,1128,1129,1130,1131,1132,1133,1134,1135,1136,1137,1138,1139,1140,1141,1142,1143,1144,1145,1146,1147,1148,1149,1150,1151,1152,1153,1154,1155,1156,1157,1158,1159,1160,1161,1162,1163,1164,1165,1166,1167,1168,1169,1170,1171,1172,1173,1174,1175,1176,1177,1178,1179,1180,1181,1182,1183,1184,1185,1186,1187,1188,1189,1190,1191,1192,1193,1194,1195,1196,1197,1198,1199,1200,1201,1202,1203,1204,1205,1206,1207,1208,1209,1210,1211,1212,1213,1214,1215,1216,1217,1218,1219,1220,1221,1222,1223,1224,1225,1226,1227,1228,1229,1230,1231,1232,1233,1234,1235,1236,1237,1238,1239,1240,1241,1242,1243,1244,1245,1246,1247,1248,1249,1250,1251,1252,1253,1254,1255,1256,1257,1258,1259,1260,1261,1262,1263,1264,1265,1266,1267,1268,1269,1270,1271,1272,1273,1274,1275,1276,1277,1278,1279,1280,1281,1282,1283,1284,1285,1286,1287,1288,1289,1290,1291,1292,1293,1294,1295,1296,1297,1298,1299,1300,1301,1302,1303,1304,1305,1306,1307,1308,1309,1310,1311,1312,1313,1314,1315,1316,1317,1318,1319,1320,1321,1322,1323,1324,1325,1326,1327,1328,1329,1330,1331,1332,1333,1334,1335,1336,1337,1338,1339,1340,1341,1342,1343,1344,1345,1346,1347,1348,1349,1350,1351,1352,1353,1354,1355,1356,1357,1358,1359,1360,1361,1362,1363,1364,1365,1366,1367,1368,1369,1370,1371,1372,1373,1374,1375,1376,1377,1378,1379,1380,1381,1382,1383,1384,1385,1386,1387,1388,1389,1390,1391,1392,1393,1394,1395,1396,1397,1398,1399,1400,1401,1402,1403,1404,1405,1406,1407,1408,1409,1410,1411,1412,1413,1414,1415,1416,1417,1418,1419,1420,1421,1422,1423,1424,1425,1426,1427,1428,1429,1430,1431,1432],\"xaxis\":\"x\",\"y\":[53.3530158996582,21.277074813842773,19.143484115600586,18.325714111328125,17.471542358398438,14.47126293182373,13.26726245880127,13.170133590698242,12.8167142868042,12.463431358337402,11.753193855285645,11.544259071350098,11.313202857971191,11.120625495910645,11.089324951171875,10.650089263916016,10.165233612060547,9.961526870727539,9.898350715637207,9.777002334594727,9.440662384033203,9.310383796691895,9.243904113769531,9.185400009155273,8.981475830078125,8.887191772460938,8.806011199951172,8.734070777893066,8.670639038085938,8.624488830566406,8.509968757629395,8.478294372558594,8.412612915039062,8.318771362304688,8.192092895507812,8.186625480651855,8.13178825378418,8.072919845581055,7.949442386627197,7.909796237945557,7.849452018737793,7.806539058685303,7.776519298553467,7.697790145874023,7.641039848327637,7.593114376068115,7.5851664543151855,7.53570032119751,7.453306198120117,7.418091297149658,7.362811088562012,7.303245544433594,7.251124382019043,7.248227596282959,7.214004039764404,7.160125255584717,7.129202842712402,7.097006320953369,7.053215503692627,7.0361127853393555,6.969570636749268,6.925225257873535,6.89606237411499,6.8508524894714355,6.802719593048096,6.798645973205566,6.77392053604126,6.748476028442383,6.724910736083984,6.678225517272949,6.636565685272217,6.599102973937988,6.58441686630249,6.52206563949585,6.489090442657471,6.449961185455322,6.4293670654296875,6.403404712677002,6.354700088500977,6.331941604614258,6.304058074951172,6.291646480560303,6.242062568664551,6.211243629455566,6.193914890289307,6.163068771362305,6.144100189208984,6.119389057159424,6.110024929046631,6.071139335632324,6.059412479400635,6.044554710388184,6.001558780670166,5.939106464385986,5.935540199279785,5.912256717681885,5.881863594055176,5.859138488769531,5.8491339683532715,5.802957057952881,5.7849812507629395,5.762983798980713,5.740608215332031,5.730715274810791,5.71587610244751,5.6852707862854,5.6619038581848145,5.638368129730225,5.625672340393066,5.603259086608887,5.584272384643555,5.551387786865234,5.539377212524414,5.525179862976074,5.493626594543457,5.480432510375977,5.462076663970947,5.441110610961914,5.415648460388184,5.394106388092041,5.381162166595459,5.373142242431641,5.3466339111328125,5.335993766784668,5.306615352630615,5.284880638122559,5.272848129272461,5.250537872314453,5.23725700378418,5.200597763061523,5.178454875946045,5.165165901184082,5.154731273651123,5.152092933654785,5.111827850341797,5.101682662963867,5.0927734375,5.086054801940918,5.073874473571777,5.047926425933838,5.035965919494629,5.012867450714111,4.997424602508545,4.980645179748535,4.954764366149902,4.943807601928711,4.936075687408447,4.911989212036133,4.897841453552246,4.879687309265137,4.875515460968018,4.856964111328125,4.8342108726501465,4.823666572570801,4.785811901092529,4.774651527404785,4.762750148773193,4.75239372253418,4.733791828155518,4.704719066619873,4.6992106437683105,4.689111232757568,4.6818623542785645,4.6686601638793945,4.65817928314209,4.6103715896606445,4.5995402336120605,4.594594955444336,4.5874924659729,4.576200008392334,4.558651447296143,4.548887729644775,4.545694351196289,4.51065731048584,4.501430988311768,4.486161231994629,4.480291366577148,4.475517272949219,4.446940898895264,4.445456504821777,4.435723781585693,4.425151348114014,4.409986972808838,4.399168014526367,4.387404918670654,4.372276306152344,4.360444068908691,4.349752902984619,4.332983016967773,4.3172807693481445,4.310616970062256,4.296660900115967,4.284877300262451,4.278478145599365,4.257872104644775,4.245606899261475,4.225804805755615,4.218807697296143,4.208003044128418,4.2027387619018555,4.186593532562256,4.172115325927734,4.168949127197266,4.157837867736816,4.134056091308594,4.124675273895264,4.110662937164307,4.0927510261535645,4.088196277618408,4.080597400665283,4.070305347442627,4.051765441894531,4.040713310241699,4.035699844360352,4.012121200561523,4.009483337402344,4.004114627838135,3.999042510986328,3.9865341186523438,3.9755237102508545,3.967759370803833,3.9541096687316895,3.9299983978271484,3.9183318614959717,3.912450075149536,3.894866466522217,3.881547212600708,3.8797948360443115,3.871453285217285,3.869377374649048,3.8495588302612305,3.842223882675171,3.834773063659668,3.8188438415527344,3.8070411682128906,3.8052072525024414,3.791456937789917,3.780790328979492,3.7677152156829834,3.7590367794036865,3.7546370029449463,3.742077112197876,3.7290103435516357,3.724421739578247,3.713498830795288,3.7117817401885986,3.7057182788848877,3.6932592391967773,3.679312229156494,3.665898323059082,3.6545004844665527,3.65303897857666,3.636575937271118,3.6287100315093994,3.619014024734497,3.604259967803955,3.5989389419555664,3.592811346054077,3.5811736583709717,3.571934461593628,3.565234661102295,3.5603737831115723,3.5576634407043457,3.5317883491516113,3.5298287868499756,3.5234954357147217,3.514214277267456,3.5023298263549805,3.495069742202759,3.4849853515625,3.4730687141418457,3.4655323028564453,3.4619028568267822,3.449963331222534,3.442974805831909,3.441580057144165,3.431924819946289,3.430443286895752,3.412442684173584,3.3941917419433594,3.384242057800293,3.3792855739593506,3.368518352508545,3.364555835723877,3.3575403690338135,3.342655658721924,3.3381736278533936,3.333188533782959,3.3271031379699707,3.3220956325531006,3.312190294265747,3.304579257965088,3.299060106277466,3.286515712738037,3.2835700511932373,3.2683472633361816,3.263073205947876,3.2549312114715576,3.2484025955200195,3.2444939613342285,3.2337846755981445,3.216334104537964,3.2144827842712402,3.201199769973755,3.198655843734741,3.1927459239959717,3.1840548515319824,3.1804230213165283,3.169421434402466,3.16792893409729,3.1627326011657715,3.152712821960449,3.1396963596343994,3.13639235496521,3.134549140930176,3.1296002864837646,3.1152710914611816,3.105499267578125,3.0993263721466064,3.0876238346099854,3.0823445320129395,3.074450969696045,3.0719645023345947,3.0646321773529053,3.054910898208618,3.0532031059265137,3.0463900566101074,3.0326919555664062,3.024561882019043,3.0187249183654785,3.012850522994995,3.0065524578094482,2.998722553253174,2.994246244430542,2.9904022216796875,2.985036849975586,2.967532157897949,2.9589147567749023,2.951430559158325,2.9403679370880127,2.9360055923461914,2.934969425201416,2.9300014972686768,2.919391393661499,2.9187827110290527,2.9093017578125,2.899033308029175,2.892545223236084,2.8905484676361084,2.8846044540405273,2.877545118331909,2.864628791809082,2.8545451164245605,2.849552631378174,2.842660903930664,2.836413621902466,2.8262650966644287,2.8178253173828125,2.816124200820923,2.8118767738342285,2.802668809890747,2.792776584625244,2.787166118621826,2.783088207244873,2.780919313430786,2.7644033432006836,2.759927272796631,2.7539570331573486,2.753398895263672,2.745527505874634,2.741225481033325,2.7346370220184326,2.725459337234497,2.717606544494629,2.7112207412719727,2.7096304893493652,2.704167366027832,2.6975553035736084,2.6947169303894043,2.6867151260375977,2.680887460708618,2.677792549133301,2.6633667945861816,2.658479690551758,2.65201473236084,2.6492841243743896,2.641662836074829,2.6351735591888428,2.632643461227417,2.6283833980560303,2.621204376220703,2.6097073554992676,2.6077656745910645,2.6044836044311523,2.6004090309143066,2.590637445449829,2.589076042175293,2.582578420639038,2.5763211250305176,2.5721030235290527,2.558742046356201,2.555100679397583,2.550544500350952,2.543532133102417,2.5388777256011963,2.528506278991699,2.5247607231140137,2.523101806640625,2.5196757316589355,2.510598659515381,2.50923228263855,2.503985643386841,2.498972177505493,2.4943127632141113,2.487583637237549,2.4840643405914307,2.4774181842803955,2.4744513034820557,2.4658820629119873,2.4584991931915283,2.4535505771636963,2.448546886444092,2.4389281272888184,2.433605670928955,2.430079460144043,2.42291522026062,2.4215915203094482,2.415074348449707,2.4080605506896973,2.39905047416687,2.3987700939178467,2.3937361240386963,2.38763165473938,2.385007381439209,2.378354072570801,2.36997389793396,2.3652114868164062,2.364483594894409,2.3519301414489746,2.349595546722412,2.3434221744537354,2.3362157344818115,2.330857753753662,2.325834035873413,2.3254432678222656,2.3160085678100586,2.3129358291625977,2.3079023361206055,2.3000965118408203,2.2933189868927,2.2888638973236084,2.2860400676727295,2.282362699508667,2.275585889816284,2.274454355239868,2.2689883708953857,2.2646474838256836,2.256803035736084,2.2475502490997314,2.246946334838867,2.2441885471343994,2.2386317253112793,2.2333879470825195,2.2276546955108643,2.2275428771972656,2.217741012573242,2.2144341468811035,2.208845376968384,2.2079219818115234,2.197537899017334,2.1950809955596924,2.193363904953003,2.188640832901001,2.185499906539917,2.1742823123931885,2.1715328693389893,2.1639935970306396,2.1595466136932373,2.1553475856781006,2.1490478515625,2.146716356277466,2.1430585384368896,2.139768123626709,2.1373062133789062,2.1325252056121826,2.1258702278137207,2.117696762084961,2.1143760681152344,2.1094071865081787,2.1044771671295166,2.100257158279419,2.097339630126953,2.093144655227661,2.0894596576690674,2.083461046218872,2.0775907039642334,2.0752508640289307,2.07346773147583,2.066908359527588,2.063580274581909,2.05654239654541,2.0521700382232666,2.050276756286621,2.0457241535186768,2.04010009765625,2.038395404815674,2.032653331756592,2.031581401824951,2.0257363319396973,2.020205020904541,2.018268585205078,2.0129053592681885,2.006223440170288,2.0019497871398926,2.0015082359313965,1.9952871799468994,1.9929150342941284,1.987778902053833,1.9816066026687622,1.9732975959777832,1.9708263874053955,1.9680252075195312,1.9661154747009277,1.9595143795013428,1.9549543857574463,1.9541001319885254,1.9485220909118652,1.9431862831115723,1.9373440742492676,1.936272382736206,1.9299204349517822,1.9277362823486328,1.9232349395751953,1.9220247268676758,1.912630319595337,1.9093017578125,1.90732741355896,1.906184434890747,1.8976722955703735,1.8924822807312012,1.891396403312683,1.8900952339172363,1.886052131652832,1.8766435384750366,1.8734118938446045,1.8721709251403809,1.8696622848510742,1.8647847175598145,1.8606562614440918,1.8569800853729248,1.8561079502105713,1.8506215810775757,1.8455944061279297,1.83930504322052,1.8376201391220093,1.8348312377929688,1.8277722597122192,1.8238351345062256,1.822481393814087,1.8164396286010742,1.8092578649520874,1.8085606098175049,1.8031023740768433,1.8016983270645142,1.7956897020339966,1.7934975624084473,1.7897645235061646,1.7823760509490967,1.7805838584899902,1.7786967754364014,1.7723503112792969,1.767861247062683,1.7628730535507202,1.7611610889434814,1.759468913078308,1.7548880577087402,1.7540160417556763,1.7524043321609497,1.7467681169509888,1.743672490119934,1.7423269748687744,1.7361208200454712,1.7317469120025635,1.7287083864212036,1.7283467054367065,1.7195969820022583,1.715041160583496,1.7125260829925537,1.7119909524917603,1.7098606824874878,1.7077906131744385,1.703418254852295,1.7000432014465332,1.6966147422790527,1.6950671672821045,1.688231348991394,1.6864968538284302,1.6833125352859497,1.6788636445999146,1.6760988235473633,1.671022891998291,1.6675388813018799,1.66474449634552,1.6567333936691284,1.653001308441162,1.6506716012954712,1.645248532295227,1.642210841178894,1.6397243738174438,1.6359663009643555,1.6335097551345825,1.6290936470031738,1.6277822256088257,1.624725580215454,1.6205285787582397,1.6175079345703125,1.6139963865280151,1.608481526374817,1.6057745218276978,1.600377082824707,1.597306489944458,1.5918166637420654,1.5892436504364014,1.5851739645004272,1.5836431980133057,1.5782437324523926,1.576122522354126,1.5745763778686523,1.5717377662658691,1.5667524337768555,1.5655560493469238,1.56155264377594,1.5599141120910645,1.5579713582992554,1.5540961027145386,1.5526202917099,1.5510036945343018,1.5464569330215454,1.5432815551757812,1.5393890142440796,1.5385876893997192,1.531860113143921,1.5276890993118286,1.5244947671890259,1.5222878456115723,1.516798496246338,1.5159327983856201,1.5145347118377686,1.5141021013259888,1.5077277421951294,1.5036981105804443,1.5013560056686401,1.4995979070663452,1.4971261024475098,1.4936928749084473,1.4874597787857056,1.4849512577056885,1.4830751419067383,1.481329083442688,1.4766314029693604,1.4752248525619507,1.469353437423706,1.4682706594467163,1.4626115560531616,1.4612467288970947,1.4593154191970825,1.4561545848846436,1.4533894062042236,1.4517581462860107,1.4513447284698486,1.4424548149108887,1.4399012327194214,1.4356400966644287,1.4338139295578003,1.4285012483596802,1.4281362295150757,1.4241340160369873,1.420397400856018,1.4170206785202026,1.4152913093566895,1.4127652645111084,1.4088972806930542,1.4029169082641602,1.4016392230987549,1.399052619934082,1.3984079360961914,1.396667242050171,1.393704891204834,1.3931005001068115,1.3846988677978516,1.382986068725586,1.380039930343628,1.378203272819519,1.3733004331588745,1.3715919256210327,1.3660913705825806,1.364416480064392,1.3620915412902832,1.3608161211013794,1.3565276861190796,1.355208396911621,1.3495346307754517,1.3484147787094116,1.3426513671875,1.3405976295471191,1.3374286890029907,1.3346807956695557,1.3326404094696045,1.3311582803726196,1.330564022064209,1.3281328678131104,1.3247992992401123,1.321752667427063,1.3205790519714355,1.3196240663528442,1.3166043758392334,1.3104336261749268,1.3076905012130737,1.3051011562347412,1.3046183586120605,1.2995014190673828,1.2980707883834839,1.2962876558303833,1.2928920984268188,1.2908390760421753,1.2882928848266602,1.2850722074508667,1.2830580472946167,1.278791904449463,1.276742696762085,1.2748239040374756,1.2714029550552368,1.269496202468872,1.2657859325408936,1.2638601064682007,1.2611013650894165,1.2601642608642578,1.2584927082061768,1.257008671760559,1.2528555393218994,1.251769781112671,1.2508330345153809,1.245240569114685,1.241478681564331,1.240014672279358,1.2335602045059204,1.2301222085952759,1.2296217679977417,1.225149154663086,1.222459077835083,1.2204276323318481,1.2148547172546387,1.2140741348266602,1.2133991718292236,1.212714672088623,1.208105444908142,1.2077592611312866,1.2020227909088135,1.2014882564544678,1.1980092525482178,1.1955145597457886,1.1933038234710693,1.192367434501648,1.188321590423584,1.186107873916626,1.1841363906860352,1.1793829202651978,1.1783713102340698,1.1777399778366089,1.1755132675170898,1.1748136281967163,1.1706477403640747,1.1660091876983643,1.1654865741729736,1.1626811027526855,1.1586661338806152,1.1569327116012573,1.1529868841171265,1.1503039598464966,1.1484929323196411,1.1477566957473755,1.1447898149490356,1.1423808336257935,1.1402482986450195,1.136467695236206,1.1346616744995117,1.1321617364883423,1.1286250352859497,1.127367377281189,1.1260313987731934,1.1237788200378418,1.1224358081817627,1.1203737258911133,1.1149039268493652,1.1148003339767456,1.1136692762374878,1.1103997230529785,1.106713056564331,1.1060972213745117,1.1031110286712646,1.0993207693099976,1.098159670829773,1.0969905853271484,1.0936756134033203,1.090368390083313,1.08977472782135,1.0884267091751099,1.0834264755249023,1.081660270690918,1.080734133720398,1.0793263912200928,1.0765650272369385,1.0732176303863525,1.071718692779541,1.0684505701065063,1.06546151638031,1.0642266273498535,1.0628468990325928,1.0597684383392334,1.0578439235687256,1.0568493604660034,1.0538817644119263,1.0522568225860596,1.048821210861206,1.0486871004104614,1.0479899644851685,1.0421663522720337,1.0419946908950806,1.0400866270065308,1.037380576133728,1.0349793434143066,1.032821536064148,1.0315849781036377,1.0282686948776245,1.0255111455917358,1.0244739055633545,1.0216054916381836,1.019881248474121,1.0192822217941284,1.0162712335586548,1.0127549171447754,1.0108234882354736,1.0092318058013916,1.007766842842102,1.0069738626480103,1.0046688318252563,1.0015296936035156,1.0002756118774414,0.9973458051681519,0.9951083660125732,0.9907976984977722,0.9889816641807556,0.9867016673088074,0.9860843420028687,0.9830849766731262,0.9827961325645447,0.9799546003341675,0.9764310717582703,0.9739735126495361,0.9727358222007751,0.9710433483123779,0.9705203175544739,0.9687574505805969,0.9671404361724854,0.9627799987792969,0.9611001014709473,0.9580996036529541,0.9577684998512268,0.9546071290969849,0.9534351825714111,0.951828122138977,0.9512346386909485,0.9487646818161011,0.9477508068084717,0.9445636868476868,0.9417310953140259,0.9401342868804932,0.9387005567550659,0.937221109867096,0.9340875744819641,0.9297946691513062,0.9295620918273926,0.9278901219367981,0.925908625125885,0.9243370294570923,0.9228696227073669,0.9225193858146667,0.9203315377235413,0.9181578755378723,0.9161521196365356,0.9142797589302063,0.911226212978363,0.9096419215202332,0.9086705446243286,0.9059016108512878,0.9026489853858948,0.9017653465270996,0.8982890248298645,0.8969214558601379,0.8910914063453674,0.8907271027565002,0.8896380662918091,0.8877079486846924,0.8865609169006348,0.8854221701622009,0.8810842037200928,0.8789066076278687,0.8777174949645996,0.8769083619117737,0.8743689060211182,0.8724215626716614,0.870281457901001,0.8701704144477844,0.8663651347160339,0.8631844520568848,0.8617615103721619,0.8606880307197571,0.8584153056144714,0.8583145141601562,0.856535017490387,0.8504860401153564,0.8495355248451233,0.8495020270347595,0.8474797606468201,0.8467281460762024,0.8437362313270569,0.8434556126594543,0.840499222278595,0.8396157622337341,0.8367379903793335,0.8342514038085938,0.8328038454055786,0.8314270973205566,0.8301585912704468,0.8294161558151245,0.8269354104995728,0.8251709938049316,0.8245953321456909,0.8210960626602173,0.8190267086029053,0.8178948760032654,0.81438809633255,0.8140922784805298,0.8135725259780884,0.8102866411209106,0.8095365166664124,0.8090459704399109,0.8046975135803223,0.8045533299446106,0.8024413585662842,0.8008418679237366,0.8000359535217285,0.7987459301948547,0.7979623079299927,0.7936842441558838,0.792953372001648,0.7896882891654968,0.7885361313819885,0.7877237796783447,0.7842833399772644,0.7822932600975037,0.781981885433197,0.7799467444419861,0.7796849012374878,0.777216911315918,0.7756999135017395,0.7725683450698853,0.7714896202087402,0.7682602405548096,0.7677581310272217,0.7654997706413269,0.7644289135932922,0.7613937854766846,0.7602801322937012,0.7585744857788086,0.757540762424469,0.7554750442504883,0.7540134191513062,0.7524732351303101,0.7503006458282471,0.749334454536438,0.7481670379638672,0.7457585334777832,0.744766891002655,0.7433030605316162,0.7410864233970642,0.7380859851837158,0.7377384305000305,0.7366459965705872,0.7345695495605469,0.7317925095558167,0.7312318086624146,0.7289663553237915,0.7284685373306274,0.7264692187309265,0.7242763042449951,0.7215387225151062,0.720530092716217,0.7191267609596252,0.717412531375885,0.7145813703536987,0.7138745784759521,0.7130139470100403,0.7122417688369751,0.7104009985923767,0.7093948721885681,0.7071571350097656,0.7043753862380981,0.7028058767318726,0.7009644508361816,0.7007566094398499,0.6982941627502441,0.6975361108779907,0.6971089839935303,0.6949629783630371,0.6923074722290039,0.6918505430221558,0.6910877823829651,0.6884801387786865,0.6851636171340942,0.6832907199859619,0.6820999383926392,0.681098461151123,0.6787246465682983,0.6773838400840759,0.6766614317893982,0.6738660931587219,0.6734628081321716,0.6728535890579224,0.6704570055007935,0.6687909364700317,0.6670575141906738,0.6636973023414612,0.663083553314209,0.6615820527076721,0.6609758734703064,0.6602653861045837,0.6572715640068054,0.6555871367454529,0.6542976498603821,0.6520818471908569,0.650681734085083,0.648771345615387,0.6478350162506104,0.6459211707115173,0.6439911127090454,0.6423450708389282,0.6407361030578613,0.6388936042785645,0.6380383372306824,0.6369947195053101,0.6343169212341309,0.6328036785125732,0.6312911510467529,0.6308995485305786,0.6291830539703369,0.6268171668052673,0.6251111626625061,0.6235654354095459,0.6229877471923828,0.621532142162323,0.61858069896698,0.6177430748939514,0.6169478297233582,0.6155564188957214,0.6137306690216064,0.6123478412628174,0.6115118265151978,0.6095277667045593,0.6082412004470825,0.606810986995697,0.6060292720794678,0.6053445339202881,0.6025921702384949,0.6019701957702637,0.5997853875160217,0.5986526012420654,0.5980032086372375,0.5966106653213501,0.595630943775177,0.5935302376747131,0.5924973487854004,0.5920474529266357,0.5882849097251892,0.587243914604187,0.585365891456604,0.5842599272727966,0.5834580063819885,0.5820921063423157,0.5812361836433411,0.5804838538169861,0.5791828036308289,0.5778689384460449,0.577315092086792,0.5756081342697144,0.5745227336883545,0.5713571906089783,0.5700393915176392,0.5685223340988159,0.5671560764312744,0.5651498436927795,0.5636165738105774,0.5628460049629211,0.5607283711433411,0.560112476348877,0.5575393438339233,0.5570447444915771,0.5555164813995361,0.5526573657989502,0.5517996549606323,0.5507386326789856,0.5491198897361755,0.5486575365066528,0.5474612712860107,0.5460137128829956,0.544013500213623,0.5423640012741089,0.5394694805145264,0.5384308695793152,0.5378381013870239,0.5361664295196533,0.5348860025405884,0.5336207747459412,0.5325744152069092,0.5314338207244873,0.5287118554115295,0.528207004070282,0.5267712473869324,0.5262748003005981,0.5250702500343323,0.5233498215675354,0.5220199823379517,0.5207988619804382,0.5196413397789001,0.5166177749633789,0.5150537490844727,0.5138469338417053,0.5135052800178528,0.5117142200469971,0.5107764005661011,0.5085471868515015,0.5073868036270142,0.5065605640411377,0.5057450532913208,0.5039365291595459,0.5025935173034668,0.5019856691360474,0.5014698505401611,0.49963292479515076,0.49866724014282227,0.4965193569660187,0.49611198902130127,0.4955798387527466,0.49172261357307434,0.4914925992488861,0.4894968271255493,0.48680952191352844,0.486686646938324,0.4860350489616394,0.48434677720069885,0.48270174860954285,0.48206838965415955,0.4792245328426361,0.47869229316711426,0.47848793864250183,0.4766507148742676,0.47580835223197937,0.4745021164417267,0.4723769426345825,0.4708414375782013,0.46974971890449524,0.46888020634651184,0.4677310287952423,0.4657409191131592,0.46492162346839905,0.46321114897727966,0.4624935984611511,0.4613063335418701,0.46100157499313354,0.45958638191223145,0.4585815668106079,0.45592623949050903,0.45420682430267334,0.45223671197891235,0.4519115090370178,0.450939804315567,0.44905516505241394,0.4483087658882141,0.4469791352748871,0.4456324279308319,0.4437713325023651,0.4432854652404785,0.44078755378723145,0.43874216079711914,0.4380934238433838,0.43689411878585815,0.43497100472450256,0.4345100522041321,0.43362095952033997,0.4324028789997101,0.43057680130004883,0.4288463890552521,0.42754048109054565,0.42703622579574585,0.42575809359550476,0.4245341718196869,0.4238172769546509,0.4233992397785187,0.42100048065185547,0.42038050293922424,0.4193752706050873,0.4168485701084137,0.4158415198326111,0.41512158513069153,0.414589524269104,0.41303688287734985,0.4120160639286041,0.4114641845226288,0.41023537516593933,0.40831103920936584,0.40708497166633606,0.40562689304351807,0.40393632650375366,0.4024711847305298,0.4012341797351837,0.3996475040912628,0.39842355251312256,0.39730051159858704,0.395756334066391,0.3954685628414154,0.39423248171806335,0.3940701186656952,0.3929629921913147,0.3904270529747009,0.38967910408973694,0.38929057121276855,0.38744521141052246,0.3855479657649994,0.3843340575695038,0.38406774401664734,0.3827550709247589,0.38057681918144226,0.38046011328697205,0.3789466619491577,0.37675872445106506,0.37621456384658813,0.37494388222694397,0.37325024604797363,0.37217381596565247,0.37100473046302795,0.3698239028453827,0.36923232674598694,0.3673873245716095,0.36652740836143494,0.364651083946228,0.3626006245613098,0.3621632158756256,0.3619198799133301,0.3600584864616394,0.3594353497028351,0.3577420711517334,0.3563655912876129,0.3557208776473999,0.35468795895576477,0.3536485433578491,0.3534533679485321,0.3527793288230896,0.3498334288597107,0.34905940294265747,0.3479333519935608,0.34727048873901367,0.3457232117652893,0.3441217243671417,0.34290045499801636,0.3423318862915039,0.3416050374507904,0.33974742889404297,0.3386480510234833,0.3375145494937897,0.3360231816768646,0.335126131772995,0.33442461490631104,0.3321724832057953,0.3310074508190155,0.3301678001880646,0.32961606979370117,0.3285943865776062,0.3272445797920227,0.3249862492084503,0.32321062684059143,0.32243508100509644,0.3220422565937042,0.32079240679740906,0.32033324241638184,0.31891459226608276,0.31830376386642456,0.31710025668144226,0.31623563170433044,0.31515035033226013,0.31411662697792053,0.3129640817642212,0.31152209639549255,0.31052032113075256,0.3102054297924042,0.3080345690250397,0.307010680437088,0.3056391477584839,0.3047298789024353,0.30377429723739624,0.30288469791412354,0.3010609447956085,0.29973676800727844,0.2979508340358734,0.29688775539398193,0.2954566776752472,0.29530206322669983,0.2931599020957947,0.29211175441741943,0.29067033529281616,0.2905804216861725,0.28963860869407654,0.2875274419784546,0.28686419129371643,0.28637778759002686,0.2847774624824524,0.2837070822715759,0.28242257237434387,0.28164422512054443,0.2801237404346466,0.27854689955711365,0.2779843807220459,0.27713093161582947,0.2754666805267334,0.27426308393478394,0.27263471484184265,0.2707020938396454,0.2703147530555725,0.2685631215572357,0.26804107427597046,0.2676514983177185,0.26591095328330994,0.26430875062942505,0.2633158564567566,0.26266995072364807,0.26160815358161926,0.2605040371417999,0.25939759612083435,0.257994145154953,0.2570686340332031,0.25567927956581116,0.2549722492694855,0.2535752058029175,0.25299543142318726,0.251407653093338,0.24985815584659576,0.2490476667881012,0.2477443367242813,0.24629861116409302,0.245486781001091,0.2449978142976761,0.24417369067668915,0.24188368022441864,0.24127675592899323,0.23989801108837128,0.23832491040229797,0.23770904541015625,0.23756834864616394,0.23627635836601257,0.23457422852516174,0.23390883207321167,0.2324453890323639,0.23155733942985535,0.23136232793331146,0.22971506416797638,0.2265366017818451,0.22500818967819214,0.22332574427127838,0.2227342128753662,0.22130067646503448,0.22051025927066803,0.21780098974704742,0.21694302558898926,0.21607846021652222,0.21349036693572998,0.2121906578540802,0.21147282421588898,0.21048377454280853,0.20921160280704498,0.20799487829208374,0.2068464756011963,0.20633336901664734,0.20537732541561127,0.20335868000984192,0.2028006762266159,0.20244762301445007,0.1999690681695938,0.19909986853599548,0.19714124500751495,0.1967143565416336,0.19609399139881134,0.1936107724905014,0.19240030646324158,0.19010724127292633,0.18909281492233276,0.18727800250053406,0.18669810891151428,0.18401435017585754,0.1830642968416214,0.1821768581867218,0.181364968419075,0.18053416907787323,0.1785709112882614,0.17523066699504852,0.17422282695770264,0.17267166078090668,0.17154017090797424,0.1691719889640808,0.16862130165100098,0.16650740802288055,0.16378752887248993,0.16229772567749023,0.1612003594636917,0.15757372975349426,0.15472282469272614,0.1543525904417038,0.1526130884885788,0.14946348965168,0.14178450405597687,0.1242309957742691,0.1063285619020462,0.09735313057899475,7.481881766580045e-06,9.286065250080355e-09],\"yaxis\":\"y\",\"type\":\"scattergl\"}],                        {\"template\":{\"data\":{\"histogram2dcontour\":[{\"type\":\"histogram2dcontour\",\"colorbar\":{\"outlinewidth\":0,\"ticks\":\"\"},\"colorscale\":[[0.0,\"#0d0887\"],[0.1111111111111111,\"#46039f\"],[0.2222222222222222,\"#7201a8\"],[0.3333333333333333,\"#9c179e\"],[0.4444444444444444,\"#bd3786\"],[0.5555555555555556,\"#d8576b\"],[0.6666666666666666,\"#ed7953\"],[0.7777777777777778,\"#fb9f3a\"],[0.8888888888888888,\"#fdca26\"],[1.0,\"#f0f921\"]]}],\"choropleth\":[{\"type\":\"choropleth\",\"colorbar\":{\"outlinewidth\":0,\"ticks\":\"\"}}],\"histogram2d\":[{\"type\":\"histogram2d\",\"colorbar\":{\"outlinewidth\":0,\"ticks\":\"\"},\"colorscale\":[[0.0,\"#0d0887\"],[0.1111111111111111,\"#46039f\"],[0.2222222222222222,\"#7201a8\"],[0.3333333333333333,\"#9c179e\"],[0.4444444444444444,\"#bd3786\"],[0.5555555555555556,\"#d8576b\"],[0.6666666666666666,\"#ed7953\"],[0.7777777777777778,\"#fb9f3a\"],[0.8888888888888888,\"#fdca26\"],[1.0,\"#f0f921\"]]}],\"heatmap\":[{\"type\":\"heatmap\",\"colorbar\":{\"outlinewidth\":0,\"ticks\":\"\"},\"colorscale\":[[0.0,\"#0d0887\"],[0.1111111111111111,\"#46039f\"],[0.2222222222222222,\"#7201a8\"],[0.3333333333333333,\"#9c179e\"],[0.4444444444444444,\"#bd3786\"],[0.5555555555555556,\"#d8576b\"],[0.6666666666666666,\"#ed7953\"],[0.7777777777777778,\"#fb9f3a\"],[0.8888888888888888,\"#fdca26\"],[1.0,\"#f0f921\"]]}],\"heatmapgl\":[{\"type\":\"heatmapgl\",\"colorbar\":{\"outlinewidth\":0,\"ticks\":\"\"},\"colorscale\":[[0.0,\"#0d0887\"],[0.1111111111111111,\"#46039f\"],[0.2222222222222222,\"#7201a8\"],[0.3333333333333333,\"#9c179e\"],[0.4444444444444444,\"#bd3786\"],[0.5555555555555556,\"#d8576b\"],[0.6666666666666666,\"#ed7953\"],[0.7777777777777778,\"#fb9f3a\"],[0.8888888888888888,\"#fdca26\"],[1.0,\"#f0f921\"]]}],\"contourcarpet\":[{\"type\":\"contourcarpet\",\"colorbar\":{\"outlinewidth\":0,\"ticks\":\"\"}}],\"contour\":[{\"type\":\"contour\",\"colorbar\":{\"outlinewidth\":0,\"ticks\":\"\"},\"colorscale\":[[0.0,\"#0d0887\"],[0.1111111111111111,\"#46039f\"],[0.2222222222222222,\"#7201a8\"],[0.3333333333333333,\"#9c179e\"],[0.4444444444444444,\"#bd3786\"],[0.5555555555555556,\"#d8576b\"],[0.6666666666666666,\"#ed7953\"],[0.7777777777777778,\"#fb9f3a\"],[0.8888888888888888,\"#fdca26\"],[1.0,\"#f0f921\"]]}],\"surface\":[{\"type\":\"surface\",\"colorbar\":{\"outlinewidth\":0,\"ticks\":\"\"},\"colorscale\":[[0.0,\"#0d0887\"],[0.1111111111111111,\"#46039f\"],[0.2222222222222222,\"#7201a8\"],[0.3333333333333333,\"#9c179e\"],[0.4444444444444444,\"#bd3786\"],[0.5555555555555556,\"#d8576b\"],[0.6666666666666666,\"#ed7953\"],[0.7777777777777778,\"#fb9f3a\"],[0.8888888888888888,\"#fdca26\"],[1.0,\"#f0f921\"]]}],\"mesh3d\":[{\"type\":\"mesh3d\",\"colorbar\":{\"outlinewidth\":0,\"ticks\":\"\"}}],\"scatter\":[{\"fillpattern\":{\"fillmode\":\"overlay\",\"size\":10,\"solidity\":0.2},\"type\":\"scatter\"}],\"parcoords\":[{\"type\":\"parcoords\",\"line\":{\"colorbar\":{\"outlinewidth\":0,\"ticks\":\"\"}}}],\"scatterpolargl\":[{\"type\":\"scatterpolargl\",\"marker\":{\"colorbar\":{\"outlinewidth\":0,\"ticks\":\"\"}}}],\"bar\":[{\"error_x\":{\"color\":\"#2a3f5f\"},\"error_y\":{\"color\":\"#2a3f5f\"},\"marker\":{\"line\":{\"color\":\"#E5ECF6\",\"width\":0.5},\"pattern\":{\"fillmode\":\"overlay\",\"size\":10,\"solidity\":0.2}},\"type\":\"bar\"}],\"scattergeo\":[{\"type\":\"scattergeo\",\"marker\":{\"colorbar\":{\"outlinewidth\":0,\"ticks\":\"\"}}}],\"scatterpolar\":[{\"type\":\"scatterpolar\",\"marker\":{\"colorbar\":{\"outlinewidth\":0,\"ticks\":\"\"}}}],\"histogram\":[{\"marker\":{\"pattern\":{\"fillmode\":\"overlay\",\"size\":10,\"solidity\":0.2}},\"type\":\"histogram\"}],\"scattergl\":[{\"type\":\"scattergl\",\"marker\":{\"colorbar\":{\"outlinewidth\":0,\"ticks\":\"\"}}}],\"scatter3d\":[{\"type\":\"scatter3d\",\"line\":{\"colorbar\":{\"outlinewidth\":0,\"ticks\":\"\"}},\"marker\":{\"colorbar\":{\"outlinewidth\":0,\"ticks\":\"\"}}}],\"scattermapbox\":[{\"type\":\"scattermapbox\",\"marker\":{\"colorbar\":{\"outlinewidth\":0,\"ticks\":\"\"}}}],\"scatterternary\":[{\"type\":\"scatterternary\",\"marker\":{\"colorbar\":{\"outlinewidth\":0,\"ticks\":\"\"}}}],\"scattercarpet\":[{\"type\":\"scattercarpet\",\"marker\":{\"colorbar\":{\"outlinewidth\":0,\"ticks\":\"\"}}}],\"carpet\":[{\"aaxis\":{\"endlinecolor\":\"#2a3f5f\",\"gridcolor\":\"white\",\"linecolor\":\"white\",\"minorgridcolor\":\"white\",\"startlinecolor\":\"#2a3f5f\"},\"baxis\":{\"endlinecolor\":\"#2a3f5f\",\"gridcolor\":\"white\",\"linecolor\":\"white\",\"minorgridcolor\":\"white\",\"startlinecolor\":\"#2a3f5f\"},\"type\":\"carpet\"}],\"table\":[{\"cells\":{\"fill\":{\"color\":\"#EBF0F8\"},\"line\":{\"color\":\"white\"}},\"header\":{\"fill\":{\"color\":\"#C8D4E3\"},\"line\":{\"color\":\"white\"}},\"type\":\"table\"}],\"barpolar\":[{\"marker\":{\"line\":{\"color\":\"#E5ECF6\",\"width\":0.5},\"pattern\":{\"fillmode\":\"overlay\",\"size\":10,\"solidity\":0.2}},\"type\":\"barpolar\"}],\"pie\":[{\"automargin\":true,\"type\":\"pie\"}]},\"layout\":{\"autotypenumbers\":\"strict\",\"colorway\":[\"#636efa\",\"#EF553B\",\"#00cc96\",\"#ab63fa\",\"#FFA15A\",\"#19d3f3\",\"#FF6692\",\"#B6E880\",\"#FF97FF\",\"#FECB52\"],\"font\":{\"color\":\"#2a3f5f\"},\"hovermode\":\"closest\",\"hoverlabel\":{\"align\":\"left\"},\"paper_bgcolor\":\"white\",\"plot_bgcolor\":\"#E5ECF6\",\"polar\":{\"bgcolor\":\"#E5ECF6\",\"angularaxis\":{\"gridcolor\":\"white\",\"linecolor\":\"white\",\"ticks\":\"\"},\"radialaxis\":{\"gridcolor\":\"white\",\"linecolor\":\"white\",\"ticks\":\"\"}},\"ternary\":{\"bgcolor\":\"#E5ECF6\",\"aaxis\":{\"gridcolor\":\"white\",\"linecolor\":\"white\",\"ticks\":\"\"},\"baxis\":{\"gridcolor\":\"white\",\"linecolor\":\"white\",\"ticks\":\"\"},\"caxis\":{\"gridcolor\":\"white\",\"linecolor\":\"white\",\"ticks\":\"\"}},\"coloraxis\":{\"colorbar\":{\"outlinewidth\":0,\"ticks\":\"\"}},\"colorscale\":{\"sequential\":[[0.0,\"#0d0887\"],[0.1111111111111111,\"#46039f\"],[0.2222222222222222,\"#7201a8\"],[0.3333333333333333,\"#9c179e\"],[0.4444444444444444,\"#bd3786\"],[0.5555555555555556,\"#d8576b\"],[0.6666666666666666,\"#ed7953\"],[0.7777777777777778,\"#fb9f3a\"],[0.8888888888888888,\"#fdca26\"],[1.0,\"#f0f921\"]],\"sequentialminus\":[[0.0,\"#0d0887\"],[0.1111111111111111,\"#46039f\"],[0.2222222222222222,\"#7201a8\"],[0.3333333333333333,\"#9c179e\"],[0.4444444444444444,\"#bd3786\"],[0.5555555555555556,\"#d8576b\"],[0.6666666666666666,\"#ed7953\"],[0.7777777777777778,\"#fb9f3a\"],[0.8888888888888888,\"#fdca26\"],[1.0,\"#f0f921\"]],\"diverging\":[[0,\"#8e0152\"],[0.1,\"#c51b7d\"],[0.2,\"#de77ae\"],[0.3,\"#f1b6da\"],[0.4,\"#fde0ef\"],[0.5,\"#f7f7f7\"],[0.6,\"#e6f5d0\"],[0.7,\"#b8e186\"],[0.8,\"#7fbc41\"],[0.9,\"#4d9221\"],[1,\"#276419\"]]},\"xaxis\":{\"gridcolor\":\"white\",\"linecolor\":\"white\",\"ticks\":\"\",\"title\":{\"standoff\":15},\"zerolinecolor\":\"white\",\"automargin\":true,\"zerolinewidth\":2},\"yaxis\":{\"gridcolor\":\"white\",\"linecolor\":\"white\",\"ticks\":\"\",\"title\":{\"standoff\":15},\"zerolinecolor\":\"white\",\"automargin\":true,\"zerolinewidth\":2},\"scene\":{\"xaxis\":{\"backgroundcolor\":\"#E5ECF6\",\"gridcolor\":\"white\",\"linecolor\":\"white\",\"showbackground\":true,\"ticks\":\"\",\"zerolinecolor\":\"white\",\"gridwidth\":2},\"yaxis\":{\"backgroundcolor\":\"#E5ECF6\",\"gridcolor\":\"white\",\"linecolor\":\"white\",\"showbackground\":true,\"ticks\":\"\",\"zerolinecolor\":\"white\",\"gridwidth\":2},\"zaxis\":{\"backgroundcolor\":\"#E5ECF6\",\"gridcolor\":\"white\",\"linecolor\":\"white\",\"showbackground\":true,\"ticks\":\"\",\"zerolinecolor\":\"white\",\"gridwidth\":2}},\"shapedefaults\":{\"line\":{\"color\":\"#2a3f5f\"}},\"annotationdefaults\":{\"arrowcolor\":\"#2a3f5f\",\"arrowhead\":0,\"arrowwidth\":1},\"geo\":{\"bgcolor\":\"white\",\"landcolor\":\"#E5ECF6\",\"subunitcolor\":\"white\",\"showland\":true,\"showlakes\":true,\"lakecolor\":\"white\"},\"title\":{\"x\":0.05},\"mapbox\":{\"style\":\"light\"}}},\"xaxis\":{\"anchor\":\"y\",\"domain\":[0.0,1.0],\"title\":{\"text\":\"x\"}},\"yaxis\":{\"anchor\":\"x\",\"domain\":[0.0,1.0],\"title\":{\"text\":\"y\"}},\"legend\":{\"tracegroupgap\":0},\"title\":{\"text\":\"Principal Components of the Layer 1 Pre Activation\"}},                        {\"responsive\": true}                    ).then(function(){\n",
              "                            \n",
              "var gd = document.getElementById('68de31f7-0f06-43ce-b5f2-6d3391ba72d4');\n",
              "var x = new MutationObserver(function (mutations, observer) {{\n",
              "        var display = window.getComputedStyle(gd).display;\n",
              "        if (!display || display === 'none') {{\n",
              "            console.log([gd, 'removed!']);\n",
              "            Plotly.purge(gd);\n",
              "            observer.disconnect();\n",
              "        }}\n",
              "}});\n",
              "\n",
              "// Listen for the removal of the full notebook cells\n",
              "var notebookContainer = gd.closest('#notebook-container');\n",
              "if (notebookContainer) {{\n",
              "    x.observe(notebookContainer, {childList: true});\n",
              "}}\n",
              "\n",
              "// Listen for the clearing of the current output cell\n",
              "var outputEl = gd.closest('.output');\n",
              "if (outputEl) {{\n",
              "    x.observe(outputEl, {childList: true});\n",
              "}}\n",
              "\n",
              "                        })                };                            </script>        </div>\n",
              "</body>\n",
              "</html>"
            ]
          },
          "metadata": {}
        }
      ]
    },
    {
      "cell_type": "markdown",
      "metadata": {
        "id": "QA7iMu59vWyo"
      },
      "source": [
        "> 🔎 Alright! We got quite the boost here, seeing final test performances of about 84% despite no change to the number of trainable parameters being used. Neat! 👌\n",
        "\n",
        "Note the use of the `train_mask`, `valid_mask`, and `test_mask` which we need to utilise as the model is able to see the entire dataset at all times. They are masking the outputs of the model to the observations corresponding to the dataset indices in each of the splits. For training this ensures that we compute the loss only over the training observations and ensure we don't have an information leak.\n",
        "\n",
        "### 💻 <font color=\"purple\">  Explore enlarging the receptive field visible to the computation of $\\mathbf{H}$. First, how can this be done? Does this help? Try seeing this in action by changing the value of `num_gcn_layers` below and observing the effect of increasing the receptive field of your GNN on performance. </font>"
      ]
    },
    {
      "cell_type": "code",
      "execution_count": 29,
      "metadata": {
        "id": "M0_-NokM9c5n"
      },
      "outputs": [],
      "source": [
        "# @title [RUN] Size of receptive field\n",
        "num_gcn_layers = 2 #@param {type:\"integer\"}"
      ]
    },
    {
      "cell_type": "code",
      "execution_count": 30,
      "metadata": {
        "colab": {
          "base_uri": "https://localhost:8080/",
          "height": 678
        },
        "id": "Pf3l7oo6M3Nm",
        "outputId": "2c0a3fd3-8bfe-46e8-a7ed-1dbabcd3b728"
      },
      "outputs": [
        {
          "output_type": "stream",
          "name": "stdout",
          "text": [
            "Epoch 0 with train loss: 1.946 train accuracy: 28.477 validation accuracy: 31.800\n",
            "Epoch 10 with train loss: 0.121 train accuracy: 96.689 validation accuracy: 87.400\n",
            "Epoch 20 with train loss: 0.027 train accuracy: 99.338 validation accuracy: 85.800\n",
            "Epoch 30 with train loss: 0.009 train accuracy: 99.669 validation accuracy: 86.000\n",
            "Epoch 40 with train loss: 0.005 train accuracy: 99.834 validation accuracy: 84.600\n",
            "Epoch 50 with train loss: 0.003 train accuracy: 99.917 validation accuracy: 84.400\n",
            "Epoch 60 with train loss: 0.002 train accuracy: 99.917 validation accuracy: 84.600\n",
            "Epoch 70 with train loss: 0.002 train accuracy: 99.917 validation accuracy: 84.600\n",
            "Epoch 80 with train loss: 0.002 train accuracy: 99.917 validation accuracy: 84.600\n",
            "Epoch 90 with train loss: 0.002 train accuracy: 99.917 validation accuracy: 83.800\n",
            "Our final test accuracy for the SimpleGNN is: 81.300\n"
          ]
        },
        {
          "output_type": "display_data",
          "data": {
            "text/plain": [
              "<Figure size 500x500 with 1 Axes>"
            ],
            "image/png": "[encoded data removed]"
          },
          "metadata": {}
        }
      ],
      "source": [
        "# ============ YOUR MODIFICATION HERE =============\n",
        "# TASK: What do you need to change in this line to enlarge the receptive field?\n",
        "model = SimpleGNN(input_dim=train_x.shape[-1], output_dim=7, A=A, hidden_dim=train_x.shape[-1], num_gcn_layers=num_gcn_layers)\n",
        "\n",
        "\n",
        "# Run training loop\n",
        "train_stats_gnn_cora_rf = train_eval_loop_gnn_cora(model, X, train_y, train_mask,\n",
        "                                          X, valid_y, valid_mask,\n",
        "                                          X, test_y, test_mask\n",
        "                                       )\n",
        "plot_stats(train_stats_gnn_cora_rf, name=\"GNN_Cora_Receptive_Field\")"
      ]
    },
    {
      "cell_type": "markdown",
      "metadata": {
        "id": "74pk764NVvlQ"
      },
      "source": [
        "\n",
        "> ⏭ Great you've covered the basics of GNN layer development and studying node level prediction.\n",
        "\n",
        "> Now lets look at **graph level prediction**. Consider the differences: we are no longer looking at each observation being a node (typically represented by an associated feature vector) but now each observation is an entire graph! As we do so, we run into our first challenge: *how do we batch graphs that can come in different sizes?* 🤔\n",
        "\n",
        "---"
      ]
    },
    {
      "cell_type": "markdown",
      "metadata": {
        "id": "Vaukihsc7CGy"
      },
      "source": [
        "#  🧬 **Supervised learning on graphs: Graph-level prediction**\n",
        "\n",
        "Molecules are a great example of an object from nature that can easily be represented as a graph of atoms (nodes) connected by bonds (edges).\n",
        "A popular application of GNNs in chemistry is the task of **Molecular Property Prediction**. The goal is to train a GNN model from historical experimental data that can predict useful properties of drug-like molecules. The model's predictions can then be used to guide the drug design process.\n",
        "\n",
        "![](https://drive.google.com/uc?id=1Hs6fMSZ6a0WdjKqzbmBME0RYoSwxMaYQ)\n",
        "\n",
        "One famous example of GNNs being used in molecular property prediction is in the world of **antibiotic discovery**, an area with a potentially massive impact on humanity and infamously little innovation. A GNN trained to predict how much a molecule would inhibit a bacteria was able identify the previously overlooked compound [**Halicin**](https://www.wikiwand.com/en/Halicin) (below) during virtual screening. Not only did halicin show powerful results during *in vitro* (in cell) testing but it also had a completely novel mechanism of action that no bacteria has developed resistance to (yet).\n",
        "\n",
        "<img src=\"https://upload.wikimedia.org/wikipedia/commons/thumb/3/3a/Halicin.svg/440px-Halicin.svg.png\" width=\"30%\">\n",
        "\n",
        "In the following, we will explore molecular property prediction on the QM9 (Quantum Mechanics dataset 9) dataset. The dataset consists of about **130,000 small molecules** with 19 regression targets. Since being used by [MoleculeNet](https://arxiv.org/abs/1703.00564), it has become a popular dataset to benchmark new architectures for molecular property prediction.\n",
        "\n",
        "Specifically, we will be predicting the [electric dipole moment](https://en.wikipedia.org/wiki/Electric_dipole_moment) of drug-like molecules. According to Wikipedia:\n",
        "> \"The electric dipole moment is a measure of the separation of positive and negative electrical charges within a system, that is, a measure of the system's overall polarity.\"\n",
        "\n",
        "We can visualize this concept via the water molecule H<sub>2</sub>0, which forms a dipole due to its slightly different distribution of negative (blue) and postive (red) charge.\n",
        "\n",
        "<img src=\"https://upload.wikimedia.org/wikipedia/commons/thumb/1/15/Water-elpot-transparent-3D-balls.png/500px-Water-elpot-transparent-3D-balls.png\" width=\"25%\">\n",
        "\n",
        "You do not need to worry about the exact physical and chemical principles that underpin dipole moments. As you might imagine, writing the equations from first priciples to predict a property like this, espeically for complex molecules (e.g. proteins), is very difficult. All you need know is that these molecules can be represented as graphs with node and edge features as well as **spatial information** that we can use to train a GNN model using the ground truth labels.\n",
        "\n",
        "Now let us load the QM9 dataset and explore how molecular graphs are represented. We will be using the PyTorch Geometric library to do so. (The dataset may take about 5min to download.)\n",
        "\n",
        "**What is [PyTorch Geometric](https://pytorch-geometric.readthedocs.io/en/latest/)?** PyG is a library for graph representation learning research and development:\n",
        "> PyTorch Geometric (PyG) consists of various methods for deep learning on graphs and other irregular structures, also known as Geometric Deep Learning, from a variety of published papers. In addition, it provides easy-to-use mini-batch loaders for operating on many small and single giant graphs, multi GPU-support, distributed graph learning, a large number of common benchmark datasets, and helpful transforms, both for learning on arbitrary graphs as well as on 3D meshes or point clouds.\n",
        "\n",
        "We will introduce PyG in detail subsequently."
      ]
    },
    {
      "cell_type": "code",
      "execution_count": 31,
      "metadata": {
        "id": "fuoCxO7zqY1I"
      },
      "outputs": [],
      "source": [
        "if 'IS_GRADESCOPE_ENV' not in os.environ:\n",
        "    path = './qm9'\n",
        "    target = 0\n",
        "\n",
        "    # Transforms which are applied during data loading:\n",
        "    # Select the target/label\n",
        "    transform = T.Compose([SetTarget()])\n",
        "\n",
        "    # Load the QM9 dataset with the transforms defined\n",
        "    dataset = QM9(path, transform=transform)\n",
        "\n",
        "    # Normalize targets per data sample to mean = 0 and std = 1.\n",
        "    mean = dataset.data.y.mean(dim=0, keepdim=True)\n",
        "    std = dataset.data.y.std(dim=0, keepdim=True)\n",
        "    dataset.data.y = (dataset.data.y - mean) / std\n",
        "    mean, std = mean[:, target].item(), std[:, target].item()"
      ]
    },
    {
      "cell_type": "markdown",
      "metadata": {
        "id": "W25xS1H0-1uR"
      },
      "source": [
        "## Data Preparation and Splitting\n",
        "\n",
        "The QM9 dataset has over **130,000** molecular graphs!\n",
        "\n",
        "Let us create a more tractable sub-set of **3,000** molecular graphs for the purposes of this practical and separate it into training, validation, and test sets. We shall use 1,000 graphs each for training, validation, and testing.\n",
        "\n",
        "Feel free to experiment with the full/larger sub-sets of the QM9 dataset, too."
      ]
    },
    {
      "cell_type": "code",
      "execution_count": 32,
      "metadata": {
        "colab": {
          "base_uri": "https://localhost:8080/"
        },
        "id": "Ufdp5NsGqfty",
        "outputId": "a4dde72d-c071-41e4-a415-55b545135355"
      },
      "outputs": [
        {
          "output_type": "stream",
          "name": "stdout",
          "text": [
            "Total number of samples: 130831.\n",
            "Created dataset splits with 1000 training, 1000 validation, 1000 test samples.\n"
          ]
        }
      ],
      "source": [
        "print(f\"Total number of samples: {len(dataset)}.\")\n",
        "\n",
        "# Split datasets (in case of using the full dataset)\n",
        "# test_dataset = dataset[:10000]\n",
        "# val_dataset = dataset[10000:20000]\n",
        "# train_dataset = dataset[20000:]\n",
        "\n",
        "# Split datasets (our 3K subset)\n",
        "train_pyg_dataset = dataset[:1000]\n",
        "val_pyg_dataset = dataset[1000:2000]\n",
        "test_pyg_dataset = dataset[2000:3000]\n",
        "print(f\"Created dataset splits with {len(train_pyg_dataset)} training, {len(val_pyg_dataset)} validation, {len(test_pyg_dataset)} test samples.\")"
      ]
    },
    {
      "cell_type": "markdown",
      "metadata": {
        "id": "4NbF7Dqt-56O"
      },
      "source": [
        "## Visualising Molecular Graphs\n",
        "\n",
        "To get a better understanding of how the QM9 molecular graphs look like, let's visualise a few samples from the training set along with their corresponding target (their dipole moment).\n",
        "\n",
        "In the following plot we visualise the associated graph structure, where edges represent physical connections (i.e. bonds).\n",
        "\n",
        "**❗️Note:** we have implemented some code for you to convert a QM9 graph into a Molecule object that can be used by RDKit, a python package for chemistry and visualing molecules. It is not important for you to understand RDKit beyond visualisation purposes."
      ]
    },
    {
      "cell_type": "code",
      "execution_count": 33,
      "metadata": {
        "colab": {
          "base_uri": "https://localhost:8080/",
          "height": 417
        },
        "id": "aT62vhimuOb_",
        "outputId": "d392e61a-39cc-44b4-9a7a-888a3c2ab763"
      },
      "outputs": [
        {
          "output_type": "execute_result",
          "data": {
            "image/png": "[encoded data removed]",
            "text/plain": [
              "<IPython.core.display.Image object>"
            ]
          },
          "metadata": {},
          "execution_count": 33
        }
      ],
      "source": [
        "# @title [RUN] Visualise molecules from QM9\n",
        "\n",
        "NUM_VIZ = 10 #@param {type:\"integer\"}\n",
        "\n",
        "mols = [to_rdkit(train_pyg_dataset[i]) for i in range(NUM_VIZ)]\n",
        "values = [str(round(float(train_pyg_dataset[i].y), 3)) for i in range(NUM_VIZ)]\n",
        "\n",
        "Chem.Draw.MolsToGridImage(mols, legends=[f\"y = {value}\" for value in values], molsPerRow=5)"
      ]
    },
    {
      "cell_type": "markdown",
      "metadata": {
        "id": "RWLvgFErBlJa"
      },
      "source": [
        "The loaded dataset is an instance of `torch_geometric.dataset`. Within an instance of a `Data` object, individual `Torch.Tensor` attributes (or any other variable type) can be easily dot accessed within a neural network layer. The graphs from PyG come with a number of pre-computed features which we describe below (do not worry if you are unfamiliar with the chemistry terms here):\n",
        "\n",
        "**Atom features (`data.x`)** - $\\mathbb{R}^{|V| \\times 11}$\n",
        "- 1st-5th features: Atom type (one-hot: H, C, N, O, F)\n",
        "- 6th feature (also `data.z`): Atomic number (number of protons).\n",
        "- 7th feature: Aromatic (binary)\n",
        "- 8th-10th features: Electron orbital hybridization (one-hot: sp, sp2, sp3)\n",
        "- 11th feature: Number of hydrogens\n",
        "\n",
        "**Edge Index (`data.edge_index`)** - $\\mathbb{R}^{2×|E|}$\n",
        "- A tensor of dimensions 2 x `num_edges` that describe the edge connectivity of the graph\n",
        "\n",
        "**Edge features (`data.edge_attr`)** - $\\mathbb{R}^{|E|\\times 4}$\n",
        "- 1st-4th features: bond type (one-hot: single, double, triple, aromatic)\n",
        "\n",
        "**Atom positions (`data.pos`)** - $\\mathbb{R}^{|V|\\times 3}$\n",
        "- 3D coordinates of each atom . (We will talk about their importance later in the practical.)\n",
        "\n",
        "**Target (`data.y`)** - $\\mathbb{R}^{1}$\n",
        "- A scalar value corresponding to the molecules electric dipole moment\n",
        "\n",
        "\n",
        "For now, we will only use information regardin the features (`data.x`), structure (`data.edge_index`) and target(`data.y`), ignoring the edge attributes and the position of each atom.\n",
        "\n",
        "In order to understand the internals of building GNNs in PyG, we will not (yet) directly use these original `torch_geometric` objects. Instead we will create a PyTorch wrapper class called ` Graph`. This class will store only the information needed for this task and will help us understand how PyG works under the hood.\n",
        "\n",
        "**❗️Note:** Instead of storing an entire adjacency matrix to describe the graph structure (as in the previous section), we will store it in a  more efficient way as a list of edge indices of shape `[2, num_edges]`. Concretly, for each edge we store the indices of the source and destination node.\n",
        "\n"
      ]
    },
    {
      "cell_type": "code",
      "execution_count": 34,
      "metadata": {
        "id": "yTnHMRJUueVi"
      },
      "outputs": [],
      "source": [
        "class Graph(object):\n",
        "    def __init__(self, edge_index, x, y):\n",
        "        \"\"\"\n",
        "        Minimal implementation of a Graph structure data object\n",
        "        for a mini-batch of graphs. We will store a big (sparse)\n",
        "        graph representing the entire batch.\n",
        "\n",
        "        Args:\n",
        "            x: node features  [num_nodes x num_feats]\n",
        "            y: graph labels   [num_graphs]\n",
        "            edge_index: list of edges [2 x num_edges]\n",
        "        \"\"\"\n",
        "        self.edge_index = edge_index\n",
        "        self.x = x.to(torch.float32)\n",
        "        self.y = y\n",
        "        self.num_nodes = self.x.shape[0]\n",
        "\n",
        "    #ignore this for now, it will be useful for batching\n",
        "    def set_batch(self, batch):\n",
        "        \"\"\"\n",
        "        list of ints that maps each node to the graph it belongs to\n",
        "        e.g. for batch = [0,0,0,1,1,1,1]: the first 3 nodes belong to graph_0\n",
        "        while the last 4 belong to graph_1\n",
        "        \"\"\"\n",
        "        self.batch = batch\n",
        "\n",
        "    # this function returns a sparse tensor\n",
        "    def get_adjacency_matrix(self):\n",
        "        \"\"\"\n",
        "        from the list of edges create a\n",
        "        num_nodes x num_nodes sparse adjacency matrix\n",
        "        \"\"\"\n",
        "        return torch.sparse.LongTensor(\n",
        "            self.edge_index,\n",
        "            # we work with a binary adj containing 1 if an edge exist\n",
        "            torch.ones((self.edge_index.shape[1])),\n",
        "            torch.Size((self.num_nodes, self.num_nodes))\n",
        "        )\n",
        "\n",
        "    def __repr__(self):\n",
        "        return f\"{self.__class__.__name__}(num_nodes:{self.num_nodes} x:{self.x.shape} y:{self.y.shape} edge_index:{self.edge_index.shape})\""
      ]
    },
    {
      "cell_type": "code",
      "execution_count": 35,
      "metadata": {
        "colab": {
          "base_uri": "https://localhost:8080/"
        },
        "id": "Fk-k5TUN0Ofe",
        "outputId": "57a4fd38-3698-43e7-a8d7-512229f82454"
      },
      "outputs": [
        {
          "output_type": "stream",
          "name": "stdout",
          "text": [
            "First graph contains 5 nodes, with 11 features each.\n",
            "Graph labels have shape: 1\n"
          ]
        }
      ],
      "source": [
        "# @title [RUN] Convert PyG graphs to our new Graph class objects\n",
        "\n",
        "def convert_dataset(pyg_dataset):\n",
        "    dataset = []\n",
        "    for graph in pyg_dataset:\n",
        "        dataset.append(\n",
        "            Graph(graph.edge_index, graph.x, graph.y)\n",
        "        )\n",
        "    return dataset\n",
        "\n",
        "# Convert the dataset from list(Data) -> list(Graph)\n",
        "train_dataset = convert_dataset(train_pyg_dataset)\n",
        "val_dataset = convert_dataset(val_pyg_dataset)\n",
        "test_dataset = convert_dataset(test_pyg_dataset)\n",
        "\n",
        "# Check what the object contains\n",
        "one_graph = train_dataset[0]\n",
        "print(f\"First graph contains {one_graph.x.shape[0]} nodes, with {one_graph.x.shape[1]} features each.\")\n",
        "print(f\"Graph labels have shape: {one_graph.y.size(0)}\")"
      ]
    },
    {
      "cell_type": "markdown",
      "metadata": {
        "id": "_4T0NiLCN1E5"
      },
      "source": [
        "Note that, for efficiency, the adjacency matrix (`self.get_adjacency_matrix()`) is stored as a sparse matrix (using `torch.sparse.LongTensor()`). This means that, instead of the entire matrix, we will only store the indexes of the vertices and the value (weight) corresponding to each edge. This saves lots of memory in storing the tensors for which the majority of elements are zeros.\n",
        "\n",
        "If you need to convert a sparse tensor `x` into a dense one you can use `x.to_dense()`. Moreover, many operations are directly supported for sparse tensors via [`torch.sparse`](https://pytorch.org/docs/stable/sparse.html) (e.g. `torch.sparse.mm()` that multiplies a sparse matrix with a sparse/dense matrix).\n",
        "\n",
        "---"
      ]
    },
    {
      "cell_type": "markdown",
      "metadata": {
        "id": "H5QHpx1KMGLi"
      },
      "source": [
        "# 🔠 Mini-batching for graph data\n",
        "\n",
        "Since we are now dealing with **multiple graphs**, we need to figure out how to store them in **mini-batches**, to be able to make the computation as efficient as possible. For some types of data, stacking samples in mini-batches is a trivial task. For example, images of $32\\times32$ pixels are easy to batch because they have the same dimension (obtaining a tensor of dimension $batch\\_{size}\\times32\\times32$). On the other hand, graphs come in different sizes with adjacency matrices of different shapes:"
      ]
    },
    {
      "cell_type": "code",
      "execution_count": 36,
      "metadata": {
        "colab": {
          "base_uri": "https://localhost:8080/"
        },
        "id": "KgEw_0yeMyL9",
        "outputId": "2319211e-1d63-4004-b534-31af9d2bff99"
      },
      "outputs": [
        {
          "output_type": "stream",
          "name": "stdout",
          "text": [
            "First graph : torch.Size([5, 11]) with adjacency (5, 5)\n",
            "Second graph: torch.Size([4, 11]) with adjacency (4, 4)\n",
            "Third graph : torch.Size([3, 11]) with adjacency (3, 3)\n"
          ]
        }
      ],
      "source": [
        "print(f'First graph : {train_dataset[0].x.shape} with adjacency {(train_dataset[0].num_nodes, train_dataset[0].num_nodes)}')\n",
        "print(f'Second graph: {train_dataset[1].x.shape} with adjacency {(train_dataset[1].num_nodes, train_dataset[1].num_nodes)}')\n",
        "print(f'Third graph : {train_dataset[2].x.shape} with adjacency {(train_dataset[2].num_nodes, train_dataset[2].num_nodes)}')\n"
      ]
    },
    {
      "cell_type": "markdown",
      "metadata": {
        "id": "rIpnDzA0OhVo"
      },
      "source": [
        "One solution for this is to create a single *sparse* graph as the union of all the graphs in the mini-batch as follow:\n",
        "\n",
        "1. stack the features $x$ for all the nodes in all the graphs\n",
        "2. stack the labels $y$ for all the nodes in all the graphs\n",
        "3. stack all the adjacency matrices $A_i$ as diagonal blocks in the new adjacency matrix\n",
        "\n",
        "This way, we will obtain a new graph containing $\\sum_{i=1}^{B}|V_i|$ nodes, where $B$ is the batch_size and by $|V_i|$ we denote the number of nodes in graph $i$. Note that since **no** edges connect nodes from different graphs,  the  information propagation will not be affected by the way we store it.  \n",
        "\n",
        "<center>\n",
        "<img src=\"https://drive.google.com/uc?export=view&id=1RwI0CYA57S0OgLxgHgV6PBFNG9tnGvGR\" width=\"500\">\n",
        "</center>\n",
        "\n",
        "<center>\n",
        "<img src=\"https://drive.google.com/uc?export=view&id=1Ux65wTJLXCfJ4TI4Up4mCHkaSja8NgrJ\" width=\"500\">\n",
        "</center>\n",
        "\n",
        "As you can see, the resulting matrix contains many zeros (sparse), thus our choice of storing the adjacency matrix as a sparse tensor can indeed bring us efficiency."
      ]
    },
    {
      "cell_type": "markdown",
      "metadata": {
        "id": "SOrDII9ZRH1L"
      },
      "source": [
        "---\n",
        "\n",
        "Until now, we have a way to store the graphs in a mini-batch such that they could be efficiently processed.\n",
        "\n",
        "However, we need to also be able to extract information from this structure, to recover the graphs that it contains. For this, we need to remember what initial graph each node belongs to.\n",
        "\n",
        "We will do this by storing a list of indices `(self.batch)`, which map each node in the batch-graph to the initial graph it belong to. For example `batch=[0,0,0,1,1,2,2,2]` indicates that first 3 nodes belong to $G_0$, the next 2 nodes belong to $G_1$ and the last 3 nodes belong to $G_2$.\n",
        "\n",
        "### 💻 **Task 1.2:** <font color=\"purple\">Implement a mini-batching function for graph data which builds a single sparse graph from a batch of graphs (2.0 Marks) </font>\n"
      ]
    },
    {
      "cell_type": "code",
      "execution_count": 37,
      "metadata": {
        "id": "2cUts094jmZ4"
      },
      "outputs": [],
      "source": [
        "def create_mini_batch(graph_list: List[Graph]) -> Graph:\n",
        "    \"\"\"\n",
        "    Function for built a single sparse graph from a batch of graphs.\n",
        "\n",
        "    Args:\n",
        "        graph_list: list of Graph objects in a batch\n",
        "    Returns:\n",
        "        a big (sparse) Graph representing the entire batch\n",
        "    \"\"\"\n",
        "    # insert first graph into the structure\n",
        "    batch_edge_index = graph_list[0].edge_index\n",
        "    batch_x = graph_list[0].x\n",
        "    batch_y = graph_list[0].y\n",
        "    batch_batch = torch.zeros((graph_list[0].num_nodes), dtype=torch.int64)\n",
        "\n",
        "    # ============ YOUR CODE HERE =============\n",
        "    # define any additional variables you may need\n",
        "    cum_num_nodes = graph_list[0].num_nodes  # cumulative number of nodes\n",
        "    # ==========================================\n",
        "\n",
        "    # append the rest of the graphs to the structure\n",
        "    for idx, graph in enumerate(graph_list[1:]):\n",
        "\n",
        "        # ============ YOUR CODE HERE =============\n",
        "        # concat the features\n",
        "        batch_x = torch.cat([batch_x, graph.x], dim=0)\n",
        "        # concat the labels\n",
        "        batch_y = torch.cat([batch_y, graph.y], dim=0)\n",
        "        # concat the adjacency matrix as a block diagonal matrix\n",
        "        edge_index_shifted = graph.edge_index + cum_num_nodes\n",
        "        batch_edge_index = torch.cat([batch_edge_index, edge_index_shifted], dim=1)\n",
        "        # ==========================================\n",
        "\n",
        "        # ============ YOUR CODE HERE =============\n",
        "        # create the array of indexes mapping nodes in the\n",
        "        # batch-graph to the graph they belong to\n",
        "        # specify the mapping between the new nodes and the graph they belong to (idx+1)\n",
        "        graph_map = torch.full((graph.num_nodes,), idx+1, dtype=torch.int64)\n",
        "        batch_batch = torch.cat([batch_batch, graph_map], dim=0)\n",
        "        cum_num_nodes += graph.num_nodes\n",
        "        # ==========================================\n",
        "\n",
        "    # create the big sparse graph\n",
        "    batch_graph = Graph(batch_edge_index, batch_x, batch_y)\n",
        "\n",
        "    # attach the index array to the Graph structure\n",
        "    batch_graph.set_batch(batch_batch)\n",
        "\n",
        "    return batch_graph"
      ]
    },
    {
      "cell_type": "code",
      "execution_count": 38,
      "metadata": {
        "colab": {
          "base_uri": "https://localhost:8080/",
          "height": 647
        },
        "id": "G6ZG23di3PRd",
        "outputId": "d312422a-07dd-4136-87b4-7ecfe2601f25"
      },
      "outputs": [
        {
          "output_type": "stream",
          "name": "stdout",
          "text": [
            "Batch number_of_nodes: 12\n",
            "Batch features shape: torch.Size([12, 32])\n",
            "Batch labels shape: torch.Size([3])\n",
            "Batch adjacency: \n",
            "\u001b[31m1\u001b[0m \u001b[31m1\u001b[0m \u001b[31m1\u001b[0m \u001b[30m0\u001b[0m \u001b[30m0\u001b[0m \u001b[30m0\u001b[0m \u001b[30m0\u001b[0m \u001b[30m0\u001b[0m \u001b[30m0\u001b[0m \u001b[30m0\u001b[0m \u001b[30m0\u001b[0m \u001b[30m0\u001b[0m\n",
            "\u001b[31m1\u001b[0m \u001b[31m1\u001b[0m \u001b[31m1\u001b[0m \u001b[30m0\u001b[0m \u001b[30m0\u001b[0m \u001b[30m0\u001b[0m \u001b[30m0\u001b[0m \u001b[30m0\u001b[0m \u001b[30m0\u001b[0m \u001b[30m0\u001b[0m \u001b[30m0\u001b[0m \u001b[30m0\u001b[0m\n",
            "\u001b[31m1\u001b[0m \u001b[31m1\u001b[0m \u001b[31m1\u001b[0m \u001b[30m0\u001b[0m \u001b[30m0\u001b[0m \u001b[30m0\u001b[0m \u001b[30m0\u001b[0m \u001b[30m0\u001b[0m \u001b[30m0\u001b[0m \u001b[30m0\u001b[0m \u001b[30m0\u001b[0m \u001b[30m0\u001b[0m\n",
            "\u001b[30m0\u001b[0m \u001b[30m0\u001b[0m \u001b[30m0\u001b[0m \u001b[32m1\u001b[0m \u001b[32m1\u001b[0m \u001b[32m1\u001b[0m \u001b[32m1\u001b[0m \u001b[32m1\u001b[0m \u001b[30m0\u001b[0m \u001b[30m0\u001b[0m \u001b[30m0\u001b[0m \u001b[30m0\u001b[0m\n",
            "\u001b[30m0\u001b[0m \u001b[30m0\u001b[0m \u001b[30m0\u001b[0m \u001b[32m1\u001b[0m \u001b[32m0\u001b[0m \u001b[32m1\u001b[0m \u001b[32m1\u001b[0m \u001b[32m1\u001b[0m \u001b[30m0\u001b[0m \u001b[30m0\u001b[0m \u001b[30m0\u001b[0m \u001b[30m0\u001b[0m\n",
            "\u001b[30m0\u001b[0m \u001b[30m0\u001b[0m \u001b[30m0\u001b[0m \u001b[32m1\u001b[0m \u001b[32m0\u001b[0m \u001b[32m0\u001b[0m \u001b[32m0\u001b[0m \u001b[32m1\u001b[0m \u001b[30m0\u001b[0m \u001b[30m0\u001b[0m \u001b[30m0\u001b[0m \u001b[30m0\u001b[0m\n",
            "\u001b[30m0\u001b[0m \u001b[30m0\u001b[0m \u001b[30m0\u001b[0m \u001b[32m1\u001b[0m \u001b[32m0\u001b[0m \u001b[32m0\u001b[0m \u001b[32m0\u001b[0m \u001b[32m0\u001b[0m \u001b[30m0\u001b[0m \u001b[30m0\u001b[0m \u001b[30m0\u001b[0m \u001b[30m0\u001b[0m\n",
            "\u001b[30m0\u001b[0m \u001b[30m0\u001b[0m \u001b[30m0\u001b[0m \u001b[32m1\u001b[0m \u001b[32m0\u001b[0m \u001b[32m0\u001b[0m \u001b[32m0\u001b[0m \u001b[32m0\u001b[0m \u001b[30m0\u001b[0m \u001b[30m0\u001b[0m \u001b[30m0\u001b[0m \u001b[30m0\u001b[0m\n",
            "\u001b[30m0\u001b[0m \u001b[30m0\u001b[0m \u001b[30m0\u001b[0m \u001b[30m0\u001b[0m \u001b[30m0\u001b[0m \u001b[30m0\u001b[0m \u001b[30m0\u001b[0m \u001b[30m0\u001b[0m \u001b[33m0\u001b[0m \u001b[33m1\u001b[0m \u001b[33m0\u001b[0m \u001b[33m0\u001b[0m\n",
            "\u001b[30m0\u001b[0m \u001b[30m0\u001b[0m \u001b[30m0\u001b[0m \u001b[30m0\u001b[0m \u001b[30m0\u001b[0m \u001b[30m0\u001b[0m \u001b[30m0\u001b[0m \u001b[30m0\u001b[0m \u001b[33m0\u001b[0m \u001b[33m0\u001b[0m \u001b[33m1\u001b[0m \u001b[33m0\u001b[0m\n",
            "\u001b[30m0\u001b[0m \u001b[30m0\u001b[0m \u001b[30m0\u001b[0m \u001b[30m0\u001b[0m \u001b[30m0\u001b[0m \u001b[30m0\u001b[0m \u001b[30m0\u001b[0m \u001b[30m0\u001b[0m \u001b[33m0\u001b[0m \u001b[33m0\u001b[0m \u001b[33m0\u001b[0m \u001b[33m1\u001b[0m\n",
            "\u001b[30m0\u001b[0m \u001b[30m0\u001b[0m \u001b[30m0\u001b[0m \u001b[30m0\u001b[0m \u001b[30m0\u001b[0m \u001b[30m0\u001b[0m \u001b[30m0\u001b[0m \u001b[30m0\u001b[0m \u001b[33m1\u001b[0m \u001b[33m0\u001b[0m \u001b[33m0\u001b[0m \u001b[33m0\u001b[0m\n"
          ]
        },
        {
          "output_type": "display_data",
          "data": {
            "text/plain": [
              "<Figure size 2000x600 with 4 Axes>"
            ],
            "image/png": "[encoded data removed]"
          },
          "metadata": {}
        }
      ],
      "source": [
        "#@title Visualize the mini-batching for a small list of batch_size=3 graphs\n",
        "\n",
        "# 3 random custom-designed graphs for visualisations\n",
        "graph1 = Graph(x=torch.rand((3,32)),\n",
        "               y=torch.rand((1)),\n",
        "               edge_index=torch.tensor([[0,0,0,1,1,1,2,2,2],[0,1,2,0,1,2,0,1,2]]))\n",
        "graph2 = Graph(x=torch.rand((5,32)),\n",
        "               y=torch.rand((1)),\n",
        "               edge_index=torch.tensor([[0,0,0,0,0,1,1,1,2,1,2,3,4], [0,1,2,3,4,2,3,4,4,0,0,0,0]]))\n",
        "graph3 = Graph(x=torch.rand((4,32)),\n",
        "               y=torch.rand((1)),\n",
        "              edge_index=torch.tensor([[0,1,2,3],[1,2,3,0]]))\n",
        "list_graphs = [graph1, graph2, graph3]\n",
        "\n",
        "# create a mini-batch from these 3 graphs\n",
        "batch_sample = create_mini_batch(list_graphs)\n",
        "# show statistics about the new graph built from this batch of graphs\n",
        "print(f\"Batch number_of_nodes: {batch_sample.num_nodes}\")\n",
        "print(f\"Batch features shape: {batch_sample.x.shape}\")\n",
        "print(f\"Batch labels shape: {batch_sample.y.shape}\")\n",
        "\n",
        "print(f\"Batch adjacency: \")\n",
        "print_color_numpy(batch_sample.get_adjacency_matrix().to_dense().numpy(), list_graphs)\n",
        "\n",
        "gallery([graph1, graph2, graph3, batch_sample], max_fig_size=(20,6), special_color=True)\n",
        "print(f\"And we also have access to which graph each node belongs to: {batch_sample.batch}\\n\")\n"
      ]
    },
    {
      "cell_type": "code",
      "execution_count": 39,
      "metadata": {
        "colab": {
          "base_uri": "https://localhost:8080/"
        },
        "id": "ZsWpBF-U7UPx",
        "outputId": "e380383d-8cd6-40b1-aacf-ea2a9cb417f6"
      },
      "outputs": [
        {
          "output_type": "stream",
          "name": "stdout",
          "text": [
            "And we also have access to which graph each node belongs to: tensor([0, 0, 0, 1, 1, 1, 1, 1, 2, 2, 2, 2])\n",
            "\n",
            "✅ All seems good!!!\n"
          ]
        }
      ],
      "source": [
        "# @title ✅ [RUN] **Please run this unit test to validate your code. The output would be used to mark your practical.**\n",
        "\n",
        "def unit_test_mini_batch(batch):\n",
        "\n",
        "  # create mini-batch using the function from task 1.2\n",
        "  graph_batch = create_mini_batch(batch)\n",
        "\n",
        "  # manually loop through samples to create lists used for asserts\n",
        "  adj_list = []\n",
        "  x_list = []\n",
        "  y_list = []\n",
        "  out_list = []\n",
        "  for i in range(len(batch)):\n",
        "    batch_i = create_mini_batch([batch[i]])\n",
        "    batch_i_adj = batch_i.get_adjacency_matrix().to_dense()\n",
        "    adj_list.append(batch_i_adj)\n",
        "    x_list.append(batch_i.x)\n",
        "    y_list.append(batch_i.y)\n",
        "\n",
        "  adj_list_big = torch.block_diag(*adj_list)\n",
        "  adj_batch = graph_batch.get_adjacency_matrix().to_dense()\n",
        "  assert(torch.allclose(adj_batch, adj_list_big, atol=1e-6)), \"The adjacency matrices are wrongly combined\"\n",
        "\n",
        "  x_list_big = torch.concat(x_list)\n",
        "  assert(torch.allclose(x_list_big, graph_batch.x, atol=1e-6)), \"The node features are wrongly combined\"\n",
        "\n",
        "  y_list_big = torch.concat(y_list)\n",
        "  assert(torch.allclose(y_list_big, graph_batch.y, atol=1e-6)), \"The node labels are wrongly combined\"\n",
        "\n",
        "  assert(torch.allclose(graph_batch.batch, torch.tensor([0, 0, 0, 1, 1, 1, 1, 1, 2, 2, 2, 2]), atol=1e-6)), \"The batch indexes are wrongly combined\"\n",
        "  print(\"✅ All seems good!!!\")\n",
        "\n",
        "\n",
        "# run unit test function\n",
        "unit_test_mini_batch(list_graphs)"
      ]
    },
    {
      "cell_type": "markdown",
      "metadata": {
        "id": "d-s_ClR5Twrn"
      },
      "source": [
        "---\n",
        "\n",
        "## The Scatter function for aggregating information\n",
        "\n",
        "As you learned in the course, a simple way of aggregating information from node-level representation to obtain graph-level predictions is by (max/mean/sum) pooling. This can be efficiently obtained using the [`torch_scatter`](https://pytorch-scatter.readthedocs.io/en/1.3.0/functions/mean.html) library containing operations such as `scatter_mean`, `scatter_max`, `scatter_sum`.\n",
        "\n",
        "`scatter_*` receives as input a tensor and an array of indices and pools the information in the tensor stored at the indices specified in the array.\n",
        "\n",
        "Here's what `scatter_sum(array, index)` looks like, visually:\n",
        "\n",
        "<img src=\"https://drive.google.com/uc?export=view&id=16E9Nyd-mPdYBWm923joWKJx4JR8c8pCz\" width=\"400\">"
      ]
    },
    {
      "cell_type": "markdown",
      "metadata": {
        "id": "vkr_eSQoZxO5"
      },
      "source": [
        "### 💻 **Task 1.3:** <font color=\"purple\"> Having access to all the nodes embedings in a batch, use `scatter_*` to create graph embedings for each graph in the batch. (0.5 Marks) </font>"
      ]
    },
    {
      "cell_type": "code",
      "execution_count": 40,
      "metadata": {
        "colab": {
          "base_uri": "https://localhost:8080/"
        },
        "id": "GuT1FhZH32jN",
        "outputId": "f863be05-e96d-4316-d20d-7b2f4182a9dc"
      },
      "outputs": [
        {
          "output_type": "stream",
          "name": "stdout",
          "text": [
            "Let's inspect what different scatter functions compute: \n",
            "- sum aggregation output: tensor([40, 26, 11])\n",
            "- mean aggregation output: tensor([13,  8, 11])\n",
            "- max aggregation output: tensor([20, 21, 11])\n",
            "\n",
            "torch.Size([12, 11])\n",
            "torch.Size([3, 11])\n"
          ]
        }
      ],
      "source": [
        "array = torch.tensor([13, 21, 3, 7, 11, 20, 2])\n",
        "index = torch.tensor([0,1,1,0,2,0,1])\n",
        "\n",
        "aggregate_sum = scatter_sum(array, index, dim=0)\n",
        "aggregate_mean = scatter_mean(array, index, dim=0)\n",
        "aggregate_max, aggregate_argmax = scatter_max(array, index, dim=0)\n",
        "\n",
        "print(\"Let's inspect what different scatter functions compute: \")\n",
        "print(f\"- sum aggregation output: {aggregate_sum}\")\n",
        "print(f\"- mean aggregation output: {aggregate_mean}\")\n",
        "print(f\"- max aggregation output: {aggregate_max}\\n\")\n",
        "\n",
        "batch_qm9 = create_mini_batch(train_dataset[:3])\n",
        "# ============ YOUR CODE HERE =============\n",
        "# Given the nodes features for a batch of graphs (batch_qm9.x)\n",
        "# and the list of indices indicating what graph each node belongs to\n",
        "# apply scatter_* to obtain a graph embedings for each graph in the batch\n",
        "# You can play with all of them (scatter_mean/scatter_max/scatter_sum)\n",
        "\n",
        "node_emb = batch_qm9.x\n",
        "node_batch = batch_qm9.batch\n",
        "graph_emb = scatter_sum(node_emb, node_batch, dim=0)\n",
        "# graph_emb = scatter_mean(node_emb, node_batch, dim=0)\n",
        "# graph_emb, _ = scatter_max(node_emb, node_batch, dim=0)\n",
        "print(node_emb.shape)\n",
        "print(graph_emb.shape)\n",
        "# =========================================="
      ]
    },
    {
      "cell_type": "code",
      "execution_count": 41,
      "metadata": {
        "colab": {
          "base_uri": "https://localhost:8080/"
        },
        "id": "jW0zxO4klfGz",
        "outputId": "26270bd4-99c8-469f-e41e-42ed2c79ba9c"
      },
      "outputs": [
        {
          "output_type": "stream",
          "name": "stdout",
          "text": [
            "✅ All seems good!!!\n"
          ]
        }
      ],
      "source": [
        "# @title ✅ [RUN] **Please run this unit test to validate your code. The output would be used to mark your practical.**\n",
        "\n",
        "def unit_test_scatter():\n",
        "\n",
        "  num_edges = len(set(batch_qm9.batch.numpy()))\n",
        "\n",
        "  assert graph_emb.shape == (num_edges, batch_qm9.x.shape[-1]), \"Output shape is unexpected.\"\n",
        "\n",
        "  print(\"✅ All seems good!!!\")\n",
        "\n",
        "# run unit test function\n",
        "unit_test_scatter()"
      ]
    },
    {
      "cell_type": "markdown",
      "metadata": {
        "id": "oub6anZdnXjJ"
      },
      "source": [
        "So far, we've learned:\n",
        "1. how to store a batch of graphs in an efficient way,\n",
        "2. how scatter operations work and how to use it to extract graph-level representations from node-level representations.\n",
        "\n",
        "Let's integrate what we've learned so far in a Graph Neural Network model.\n",
        "\n",
        "---"
      ]
    },
    {
      "cell_type": "markdown",
      "metadata": {
        "id": "xPd6vIxLT6Cp"
      },
      "source": [
        "# 🔅 A simple Graph Neural Network for graph-level regression\n",
        "\n",
        "We will now design a Graph Neural Network model, similar to the GCN used on Cora, with the following modifications:\n",
        "* We are now working on graph-level prediction for molecular graphs from QM9, instead of node-level prediction on Cora.\n",
        "* The task is regression instead of classification.\n",
        "* We will use a simple sum aggregation instead of the symmetric normalised degree-based aggregation.\n",
        "\n",
        "Concretly, the non-normalised GCN we will use for molecular property prediction can be express as:\n",
        "\n",
        "\\begin{equation}\n",
        "\\mathbf{X^{k+1}= \\text{MLP}_k\\big(AX^k + X^k\\big)},\n",
        "\\end{equation}\n",
        "where the MLP at the $k$th layer, $\\text{MLP}_k$ is a multi-layer perceptron sequentially applies a Linear layer projecting the features from the input dimension to a hidden dimension, a ReLU activation, and another Linear projection from the hidden dimension to the output dimension.\n"
      ]
    },
    {
      "cell_type": "code",
      "execution_count": 42,
      "metadata": {
        "id": "x0qJSFf13SkK"
      },
      "outputs": [],
      "source": [
        "# @title [RUN] Hyperparameters for molecular GCN\n",
        "\n",
        "BATCH_SIZE =  128  #@param {type:\"integer\"}\n",
        "NUM_EPOCHS =   30  #@param {type:\"integer\"}\n",
        "HIDDEN_DIM =   64  #@param {type:\"integer\"}\n",
        "LR         = 0.001 #@param {type:\"number\"}\n",
        "\n",
        "#you can add more here if you need"
      ]
    },
    {
      "cell_type": "markdown",
      "metadata": {
        "id": "5Mhc4VbQ69a_"
      },
      "source": [
        "### 💻 **Task 1.4:** <font color=purple> Implement a simple GNN for molecular property prediction on QM9. Most of the code is provided to you, but you have to fill in the missing part that implements the core message passing equation shown above. (1.0 Mark) </font>\n",
        "\n",
        "**❗️Note:** A slight modification compared to the GCNLayer used in the Cora dataset is in the way we provide the adjacency matrix to the model. In the Cora setup, we provide the adjacency matrix in the `__init__` function,  while for QM9 we are giving it as argument in the `forward` function. This is due to the different nature of tasks we are tackling. While the Cora dataset is a transductive problem, where the entire dataset is a single graph, for the QM9 we have a lists of graphs, so we need to be able to provide a subset of them at each iteration.  \n",
        "\n",
        "**❗️Note:** The MLP needs to be a 2-layer one as follow: Linear - ReLU - Linear"
      ]
    },
    {
      "cell_type": "code",
      "execution_count": 43,
      "metadata": {
        "id": "93sKHVmsK_-6"
      },
      "outputs": [],
      "source": [
        "class GCNLayer(Module):\n",
        "    \"\"\"\n",
        "    A single GCN layer, implementing MLP(AX + X)\n",
        "\n",
        "    Args:\n",
        "        in_feats (int): Dimensionality of input features\n",
        "        out_feats (int): Dimensionality of output features\n",
        "        hidden_dim (int): Dimensionality of hidden layers\n",
        "    \"\"\"\n",
        "\n",
        "    def __init__(self, in_feats: int, out_feats: int, hidden_dim: int):\n",
        "        super(GCNLayer, self).__init__()\n",
        "        self.in_feats = in_feats\n",
        "        self.out_feats = out_feats\n",
        "\n",
        "        self.linear1 = Linear(self.in_feats, hidden_dim)\n",
        "        self.linear2 = Linear(hidden_dim, self.out_feats)\n",
        "\n",
        "    def forward(self, x, adj_sparse):\n",
        "        \"\"\"Forward pass through the GCNLayer given the input\n",
        "        node features and the adjacency matrix\n",
        "\n",
        "        Args:\n",
        "            x (torch.Tensor): input node features\n",
        "            adj_sparse (torch.sparse.LongTensor): adjacency matrix using sparse\n",
        "                format\n",
        "        \"\"\"\n",
        "        # ============ YOUR CODE HERE =============\n",
        "        # aggregate the neighbours as in GCN: (AX + X)\n",
        "        x = torch.sparse.mm(adj_sparse, x) + x # ask about this\n",
        "\n",
        "        # project the features (MLP_k)\n",
        "        x = self.linear1(x)\n",
        "        x = F.relu(x)\n",
        "        out = self.linear2(x)\n",
        "        # =========================================\n",
        "        return out\n",
        "\n",
        "    def run_with_cache(self, x, adj_sparse):\n",
        "        \"\"\"Implements the forward pass for the layer\n",
        "\n",
        "        Args:\n",
        "            x (torch.Tensor): input node feature matrix\n",
        "        \"\"\"\n",
        "        layer_cache = {}\n",
        "        # ============ YOUR CODE HERE =============\n",
        "        # aggregate the neighbours as in GCN: (AX + X)\n",
        "        x = torch.sparse.mm(adj_sparse, x) + x # ask about this, there is a residual connection\n",
        "        layer_cache['adj_sparse_out'] = x\n",
        "        # project the features (MLP_k)\n",
        "        x = self.linear1(x)\n",
        "        layer_cache['linear1 pre act'] = x\n",
        "        x = F.relu(x)\n",
        "        layer_cache['linear1 post act'] = x\n",
        "        out = self.linear2(x)\n",
        "        layer_cache['linear2'] = out\n",
        "        # =========================================\n",
        "        return out, layer_cache"
      ]
    },
    {
      "cell_type": "code",
      "execution_count": 44,
      "metadata": {
        "colab": {
          "base_uri": "https://localhost:8080/"
        },
        "id": "5YofxCV_qNTj",
        "outputId": "9b92cef8-4a92-4467-ffc4-de80c030d43b"
      },
      "outputs": [
        {
          "output_type": "stream",
          "name": "stdout",
          "text": [
            "✅ All seems good!!!\n"
          ]
        }
      ],
      "source": [
        "# @title ✅ [RUN] **Please run this unit test to validate your code. The output would be used to mark your practical.**\n",
        "\n",
        "def unit_test_gcn():\n",
        "  torch.random.manual_seed(0)\n",
        "  np.random.seed(0)\n",
        "  A,x,y = get_dummy_data_inductive_layer()\n",
        "\n",
        "  input_dim = x.shape[-1]\n",
        "  output_dim = y.shape[-1]\n",
        "\n",
        "  torch.random.manual_seed(0)\n",
        "  model = GCNLayer(in_feats=input_dim, out_feats=output_dim, hidden_dim=32)\n",
        "\n",
        "  A_sparse = A.float().to_sparse_csr()\n",
        "  out = model(x, A_sparse)\n",
        "\n",
        "  assert(out.shape == (A.shape[0], output_dim)), \"Something is wrong with your output shape\"\n",
        "\n",
        "  perm = np.random.permutation(x.shape[0])\n",
        "  perm_x = x[perm]\n",
        "  perm_out = out[perm]\n",
        "  A_perm = A[perm, :][:, perm]\n",
        "  A_perm_sparse = A_perm.float().to_sparse_csr()\n",
        "\n",
        "  out_model_perm = model(perm_x, A_perm_sparse)\n",
        "\n",
        "  assert (torch.allclose(perm_out, out_model_perm, atol=1e-6)), \"Oops, something is wrong in the GCN implementation. You are not permutation equivariant anymore 🥺.\"\n",
        "\n",
        "  assert (torch.allclose(out, y, atol=1e-6)), \"🤔 Something is wrong in the model! The output is wrong.\"\n",
        "\n",
        "  print(\"✅ All seems good!!!\")\n",
        "\n",
        "# run unit test function\n",
        "unit_test_gcn()"
      ]
    },
    {
      "cell_type": "markdown",
      "metadata": {
        "id": "hOCawKw08CT2"
      },
      "source": [
        "Using the above GCN Layer, let's design a neural network with `num_layers` GCNLayers, to solve the graph-regression task on QM9.\n",
        "\n",
        "\n",
        "### 💻 **Task 1.5:** <font color=purple> Most of the code for a `SimpleGCN` model for  is provided. All you have to do is to fill-in the code that creates graph-representations from node-representations using the `scatter_sum` function you just learnt about (0.5 Mark) </font>"
      ]
    },
    {
      "cell_type": "code",
      "execution_count": 45,
      "metadata": {
        "id": "XxxzXYeZHQah"
      },
      "outputs": [],
      "source": [
        "class SimpleGCN(Module):\n",
        "    \"\"\"\n",
        "    A Graph Neural Network containing GCN layers for graph-level prediction\n",
        "\n",
        "    The readout function used to obtain pooled graph-level representations\n",
        "    is just the sum of the node features in the graph\n",
        "\n",
        "    Args:\n",
        "        input_dim (int): Dimensionality of the input feature vectors\n",
        "        output_dim (int): Dimensionality of the output softmax distribution\n",
        "        hidden_dim (int): Dimensionality of the hidden layers\n",
        "        num_layers (int): Number of layers\n",
        "    \"\"\"\n",
        "    def __init__(self, input_dim, output_dim, hidden_dim, num_layers=2):\n",
        "        super(SimpleGCN, self).__init__()\n",
        "        self.num_layers = num_layers # please select num_layers>=2\n",
        "        # a linear layer to create embedding representations\n",
        "        # based on each atom's input features\n",
        "        self.embed_x = Linear(input_dim, hidden_dim)\n",
        "\n",
        "        # instead of nn.Linear as in SimpleMLP model,\n",
        "        # now we have (num_layers) GCNLayer(s), each with different parameters\n",
        "        self.layers = [GCNLayer(hidden_dim, hidden_dim, hidden_dim) for _ in range(num_layers-1)]\n",
        "        self.layers += [GCNLayer(hidden_dim, output_dim, hidden_dim)]\n",
        "        self.layers = ModuleList(self.layers)\n",
        "\n",
        "    def forward(self, graph):\n",
        "        \"\"\"Forward pass through the SimpleGCN given a (mini-batch of) graph.\n",
        "\n",
        "        Args:\n",
        "            graph (Graph): a graph object which contains one or more graphs and\n",
        "                their attributes\n",
        "        \"\"\"\n",
        "        adj_sparse = graph.get_adjacency_matrix()\n",
        "        x = self.embed_x(graph.x)\n",
        "\n",
        "        # sequentially apply GNN layers\n",
        "        for i in range(self.num_layers-1):\n",
        "          x = self.layers[i](x, adj_sparse)\n",
        "          x = F.relu(x)\n",
        "        x = self.layers[-1](x, adj_sparse)\n",
        "\n",
        "        # ============ YOUR CODE HERE =============\n",
        "        # graph-level representations are obtained by pooling info from the nodes using sum\n",
        "        y_hat = scatter_sum(x, graph.batch, dim=0)\n",
        "        # =========================================\n",
        "\n",
        "        y_hat = y_hat.squeeze(-1)\n",
        "        # also return the final node embeddings (for visualisations)\n",
        "        return y_hat, x\n",
        "\n",
        "\n",
        "    def run_with_cache(self, graph):\n",
        "        \"\"\"Forward pass through SimpleGNN on input x\n",
        "\n",
        "        Args:\n",
        "            x (torch.Tensor): input node features\n",
        "        \"\"\"\n",
        "        cache = {}\n",
        "        adj_sparse = graph.get_adjacency_matrix()\n",
        "        cache['adj_sparse'] = adj_sparse\n",
        "        x = self.embed_x(graph.x)\n",
        "        cache['embed'] = x\n",
        "        # sequentially apply GNN layers\n",
        "        for i in range(self.num_layers-1):\n",
        "          x , cache_curr = self.layers[i].run_with_cache(x, adj_sparse)\n",
        "          cache[f\"Layer {i} pre act\"] = cache_curr\n",
        "          x = F.relu(x)\n",
        "          cache[f\"Layer {i} post act\"] = x\n",
        "        x, cache_curr = self.layers[-1].run_with_cache(x, adj_sparse)\n",
        "        cache[f\"Layer -1 pre act\"] = cache_curr\n",
        "\n",
        "        # ============ YOUR CODE HERE =============\n",
        "        # graph-level representations are obtained by pooling info from the nodes using sum\n",
        "        y_hat = scatter_sum(x, graph.batch, dim=0)\n",
        "        # =========================================\n",
        "        cache['scatter sum'] = y_hat\n",
        "        y_hat = y_hat.squeeze(-1)\n",
        "        # also return the final node embeddings (for visualisations)\n",
        "        return cache, model.state_dict()"
      ]
    },
    {
      "cell_type": "code",
      "execution_count": 46,
      "metadata": {
        "cellView": "form",
        "id": "eoA03MZK39ym"
      },
      "outputs": [],
      "source": [
        "# @title [RUN] Helper functions for managing experiments, training, and evaluating models\n",
        "\n",
        "def train(dataset, model, optimiser, epoch, loss_fct, metric_fct, print_every):\n",
        "    \"\"\" Train model for one epoch\n",
        "    \"\"\"\n",
        "    model.train()\n",
        "    num_iter = int(len(dataset)/BATCH_SIZE)\n",
        "    for i in range(num_iter):\n",
        "        batch_list = dataset[i*BATCH_SIZE:(i+1)*BATCH_SIZE]\n",
        "        batch = create_mini_batch(batch_list)\n",
        "        optimiser.zero_grad()\n",
        "        y_hat, _ = model(batch)\n",
        "        loss = loss_fct(y_hat, batch.y)\n",
        "        metric = metric_fct(y_hat, batch.y)\n",
        "        loss.backward()\n",
        "        optimiser.step()\n",
        "        if (i+1) % print_every == 0:\n",
        "          print(f\"Epoch {epoch} Iter {i}/{num_iter}\",\n",
        "                    f\"Loss train {loss.data}; Metric train {metric.data}\")\n",
        "    return loss.data, metric.data\n",
        "\n",
        "\n",
        "def evaluate(dataset, model, loss_fct, metrics_fct):\n",
        "    \"\"\" Evaluate model on dataset\n",
        "    \"\"\"\n",
        "    model.eval()\n",
        "    # be careful in practice, as doing this way we will lose some\n",
        "    # examples from the validation split, when len(dataset)%BATCH_SIZE != 0\n",
        "    # think about how can you fix this!\n",
        "    num_iter = int(len(dataset)/BATCH_SIZE)\n",
        "    metrics_eval = 0\n",
        "    loss_eval = 0\n",
        "    for i in range(num_iter):\n",
        "        batch_list = dataset[i*BATCH_SIZE:(i+1)*BATCH_SIZE]\n",
        "        batch = create_mini_batch(batch_list)\n",
        "        y_hat, _ = model(batch)\n",
        "        metrics = metrics_fct(y_hat, batch.y)\n",
        "        loss = loss_fct(y_hat, batch.y)\n",
        "\n",
        "        metrics_eval += metrics.data\n",
        "        loss_eval += loss.data\n",
        "    metrics_eval /= num_iter\n",
        "    loss_eval /= num_iter\n",
        "    return loss_eval, metrics_eval\n",
        "\n",
        "\n",
        "def train_eval(model, train_dataset, val_dataset, test_dataset,\n",
        "               loss_fct, metric_fct, print_every=1):\n",
        "    \"\"\" Train the model for NUM_EPOCHS epochs\n",
        "    \"\"\"\n",
        "    #Instantiatie our optimiser\n",
        "    optimiser = Adam(model.parameters(), lr=LR)\n",
        "    training_stats = None\n",
        "\n",
        "    #initial evaluation (before training)\n",
        "    val_loss, val_metric = evaluate(val_dataset, model, loss_fct, metric_fct)\n",
        "    train_loss, train_metric = evaluate(train_dataset[:BATCH_SIZE], model,\n",
        "                                        loss_fct, metric_fct)\n",
        "    epoch_stats = {'train_loss': train_loss, 'val_loss': val_loss,\n",
        "                      'train_metric': train_metric, 'val_metric': val_metric,\n",
        "                      'epoch':0}\n",
        "    training_stats = update_stats(training_stats, epoch_stats)\n",
        "\n",
        "    for epoch in range(NUM_EPOCHS):\n",
        "        if isinstance(train_dataset, list):\n",
        "            random.shuffle(train_dataset)\n",
        "        else:\n",
        "            train_dataset.shuffle()\n",
        "        train_loss, train_metric = train(train_dataset, model, optimiser, epoch,\n",
        "                                        loss_fct, metric_fct, print_every)\n",
        "        val_loss, val_metric = evaluate(val_dataset, model, loss_fct, metric_fct)\n",
        "        print(f\"[Epoch {epoch+1}]\",\n",
        "                    f\"train loss: {train_loss:.3f} val loss: {val_loss:.3f}\",\n",
        "                    f\"train metric: {train_metric:.3f} val metric: {val_metric:.3f}\"\n",
        "              )\n",
        "        # store the loss and the computed metric for the final plot\n",
        "        epoch_stats = {'train_loss': train_loss, 'val_loss': val_loss,\n",
        "                      'train_metric': train_metric, 'val_metric': val_metric,\n",
        "                      'epoch':epoch+1}\n",
        "        training_stats = update_stats(training_stats, epoch_stats)\n",
        "\n",
        "    test_loss, test_metric = evaluate(test_dataset, model,  loss_fct, metric_fct)\n",
        "    print(f\"Test metric: {test_metric:.3f}\")\n",
        "    return training_stats"
      ]
    },
    {
      "cell_type": "markdown",
      "metadata": {
        "id": "Gh5irkVH8lOp"
      },
      "source": [
        "Now it's finally time to train our model and see the results."
      ]
    },
    {
      "cell_type": "code",
      "execution_count": 47,
      "metadata": {
        "colab": {
          "base_uri": "https://localhost:8080/"
        },
        "id": "eWBtK14LN0TY",
        "outputId": "8df7f554-23f3-43df-9cac-a4ccbd85d6ea"
      },
      "outputs": [
        {
          "output_type": "stream",
          "name": "stdout",
          "text": [
            "[0.34515026 0.26007044 0.20361838]\n"
          ]
        }
      ],
      "source": [
        "# Instantiate our GCN model\n",
        "model_simple_gcn = SimpleGCN(input_dim=batch_qm9.x.size()[-1], output_dim=1, hidden_dim=HIDDEN_DIM, num_layers=4)\n",
        "\n",
        "# forward pass on dummy input\n",
        "out, _ = model_simple_gcn(batch_qm9)\n",
        "print(out.detach().numpy())"
      ]
    },
    {
      "cell_type": "code",
      "execution_count": 48,
      "metadata": {
        "colab": {
          "base_uri": "https://localhost:8080/"
        },
        "id": "Ykgm3D0gqocp",
        "outputId": "87a0ca01-c973-4788-ff29-d50a44bdf6b8"
      },
      "outputs": [
        {
          "output_type": "stream",
          "name": "stdout",
          "text": [
            "✅ All seems good!!!\n"
          ]
        }
      ],
      "source": [
        "# @title ✅ [RUN] **Please run this unit test to validate your code. The output would be used to mark your practical.**\n",
        "def testing_simple_gcn():\n",
        "  torch.random.manual_seed(0)\n",
        "  np.random.seed(0)\n",
        "  A,x,y = get_dummy_data_inductive_model()\n",
        "\n",
        "  input_dim = x.shape[-1]\n",
        "  output_dim = y.shape[-1]\n",
        "\n",
        "  torch.random.manual_seed(0)\n",
        "  model = SimpleGCN(input_dim=input_dim, output_dim=output_dim, hidden_dim=32)\n",
        "\n",
        "  A_sparse = A.to_sparse().indices()\n",
        "  graph = create_mini_batch([Graph(x=x, y=y, edge_index=A_sparse)])\n",
        "  out, _ = model(graph)\n",
        "\n",
        "  assert (torch.allclose(out, y, atol=1e-6)), \"🤔 Oops, something is wrong in the SimpleGCN implementation! The output is wrong.\"\n",
        "  print(\"✅ All seems good!!!\")\n",
        "\n",
        "# run unit test function\n",
        "testing_simple_gcn()"
      ]
    },
    {
      "cell_type": "code",
      "execution_count": 49,
      "metadata": {
        "colab": {
          "base_uri": "https://localhost:8080/",
          "height": 1000
        },
        "id": "5DueMpa54X27",
        "outputId": "31aac34e-385b-4254-8f8c-26626f2337e0"
      },
      "outputs": [
        {
          "output_type": "stream",
          "name": "stdout",
          "text": [
            "[Epoch 1] train loss: 1.993 val loss: 2.321 train metric: 1.993 val metric: 2.321\n",
            "[Epoch 2] train loss: 0.755 val loss: 1.347 train metric: 0.755 val metric: 1.347\n",
            "[Epoch 3] train loss: 1.007 val loss: 0.991 train metric: 1.007 val metric: 0.991\n",
            "[Epoch 4] train loss: 0.664 val loss: 0.948 train metric: 0.664 val metric: 0.948\n",
            "[Epoch 5] train loss: 0.718 val loss: 0.934 train metric: 0.718 val metric: 0.934\n",
            "[Epoch 6] train loss: 0.804 val loss: 0.946 train metric: 0.804 val metric: 0.946\n",
            "[Epoch 7] train loss: 0.738 val loss: 1.049 train metric: 0.738 val metric: 1.049\n",
            "[Epoch 8] train loss: 0.790 val loss: 0.874 train metric: 0.790 val metric: 0.874\n",
            "[Epoch 9] train loss: 0.797 val loss: 0.964 train metric: 0.797 val metric: 0.964\n",
            "[Epoch 10] train loss: 0.766 val loss: 1.029 train metric: 0.766 val metric: 1.029\n",
            "[Epoch 11] train loss: 0.877 val loss: 1.097 train metric: 0.877 val metric: 1.097\n",
            "[Epoch 12] train loss: 0.745 val loss: 1.093 train metric: 0.745 val metric: 1.093\n",
            "[Epoch 13] train loss: 1.285 val loss: 0.970 train metric: 1.285 val metric: 0.970\n",
            "[Epoch 14] train loss: 1.183 val loss: 1.015 train metric: 1.183 val metric: 1.015\n",
            "[Epoch 15] train loss: 0.674 val loss: 1.101 train metric: 0.674 val metric: 1.101\n",
            "[Epoch 16] train loss: 0.597 val loss: 1.223 train metric: 0.597 val metric: 1.223\n",
            "[Epoch 17] train loss: 0.760 val loss: 1.302 train metric: 0.760 val metric: 1.302\n",
            "[Epoch 18] train loss: 0.805 val loss: 1.155 train metric: 0.805 val metric: 1.155\n",
            "[Epoch 19] train loss: 0.663 val loss: 1.400 train metric: 0.663 val metric: 1.400\n",
            "[Epoch 20] train loss: 0.756 val loss: 1.011 train metric: 0.756 val metric: 1.011\n",
            "[Epoch 21] train loss: 0.657 val loss: 1.152 train metric: 0.657 val metric: 1.152\n",
            "[Epoch 22] train loss: 0.662 val loss: 1.164 train metric: 0.662 val metric: 1.164\n",
            "[Epoch 23] train loss: 1.305 val loss: 1.169 train metric: 1.305 val metric: 1.169\n",
            "[Epoch 24] train loss: 0.763 val loss: 1.096 train metric: 0.763 val metric: 1.096\n",
            "[Epoch 25] train loss: 0.612 val loss: 1.346 train metric: 0.612 val metric: 1.346\n",
            "[Epoch 26] train loss: 0.598 val loss: 1.058 train metric: 0.598 val metric: 1.058\n",
            "[Epoch 27] train loss: 0.768 val loss: 1.108 train metric: 0.768 val metric: 1.108\n",
            "[Epoch 28] train loss: 0.586 val loss: 0.963 train metric: 0.586 val metric: 0.963\n",
            "[Epoch 29] train loss: 0.692 val loss: 0.839 train metric: 0.692 val metric: 0.839\n",
            "[Epoch 30] train loss: 1.129 val loss: 0.835 train metric: 1.129 val metric: 0.835\n",
            "Test metric: 0.604\n"
          ]
        },
        {
          "output_type": "display_data",
          "data": {
            "text/plain": [
              "<Figure size 500x1000 with 2 Axes>"
            ],
            "image/png": "[encoded data removed]"
          },
          "metadata": {}
        }
      ],
      "source": [
        "#Train GCN model:\n",
        "train_stats_simple_gcn_qm9 = train_eval(model_simple_gcn, train_dataset, val_dataset,\n",
        "                                        test_dataset, loss_fct=F.mse_loss,\n",
        "                                        metric_fct=F.mse_loss, print_every=150)\n",
        "plot_stats(train_stats_simple_gcn_qm9, name='Simple_GCN_QM9', figsize=(5, 10))"
      ]
    },
    {
      "cell_type": "code",
      "source": [
        "\n",
        "def get_cache(dataset, model):\n",
        "    \"\"\" Evaluate model on dataset\n",
        "    \"\"\"\n",
        "    model.eval()\n",
        "    # be careful in practice, as doing this way we will lose some\n",
        "    # examples from the validation split, when len(dataset)%BATCH_SIZE != 0\n",
        "    # think about how can you fix this!\n",
        "    BATCH_SIZE = len(dataset)\n",
        "\n",
        "    num_iter = 1\n",
        "    metrics_eval = 0\n",
        "    loss_eval = 0\n",
        "    for i in range(num_iter):\n",
        "        batch_list = dataset[i*BATCH_SIZE:(i+1)*BATCH_SIZE]\n",
        "        batch = create_mini_batch(batch_list)\n",
        "        cache, model_state = model.run_with_cache(batch)\n",
        "    return cache, model_state\n",
        "\n",
        "cache, model_state = get_cache(test_dataset, model_simple_gcn)"
      ],
      "metadata": {
        "id": "3mmr4rxUX8wH"
      },
      "execution_count": 50,
      "outputs": []
    },
    {
      "cell_type": "code",
      "source": [
        "cache['Layer -1 pre act']['linear1 pre act']"
      ],
      "metadata": {
        "colab": {
          "base_uri": "https://localhost:8080/"
        },
        "id": "GoSt44F8YKPY",
        "outputId": "844619e2-ff71-4896-a1d1-11e7933ae1a3"
      },
      "execution_count": 51,
      "outputs": [
        {
          "output_type": "execute_result",
          "data": {
            "text/plain": [
              "tensor([[ 0.3418, -0.2054,  0.3096,  ...,  0.2472, -0.2406, -0.2415],\n",
              "        [ 0.6265, -0.4960,  0.5426,  ...,  0.6633, -0.5800, -0.4960],\n",
              "        [ 0.6310, -0.5698,  0.6066,  ...,  0.7481, -0.6842, -0.5941],\n",
              "        ...,\n",
              "        [ 0.3471, -0.2089,  0.3172,  ...,  0.2618, -0.2561, -0.2433],\n",
              "        [ 0.3471, -0.2089,  0.3172,  ...,  0.2618, -0.2561, -0.2433],\n",
              "        [ 0.3448, -0.1930,  0.3073,  ...,  0.2437, -0.2353, -0.2249]],\n",
              "       grad_fn=<AddmmBackward0>)"
            ]
          },
          "metadata": {},
          "execution_count": 51
        }
      ]
    },
    {
      "cell_type": "markdown",
      "metadata": {
        "id": "D1K3smLkDWTP"
      },
      "source": [
        "---\n",
        "\n",
        "# 🚀 Part 2: Going Geometric -- from vanilla PyTorch to PyG\n",
        "\n",
        "Up until now you have implemented several graph neural networks for both substructure- and graph-level learning mostly on vanilla PyTorch. This was for pedagogic reasons and for you to appreciate the notorious difficulty of implementing these ''from scratch''.\n",
        "\n",
        "For the remainder of this practical, we will make extensive use of **PyTorch Geometric**. If you have never worked with PyG before, do not worry, we will provide you with some examples and guide you through all the fundamentals in a detailed manner. We also highly recommend [this self-contained official tutorial](https://pytorch-geometric.readthedocs.io/en/latest/notes/introduction.html), which will help you get started. Among other things, you will learn how to implement state-of-the-art GNN layers via the generic PyG [Message Passing](https://pytorch-geometric.readthedocs.io/en/latest/notes/create_gnn.html) class (more on this later).\n",
        "\n",
        "**❗️Note:** We will be using **sparse graphs** (where an edge between two atoms is present only when there exists a physical connection between them). At the end of the practical, we will share some code to study the advantages/downsides of fully-connected adjacency matrices versus sparse adjacency matrices.\n",
        "\n",
        "---\n"
      ]
    },
    {
      "cell_type": "markdown",
      "metadata": {
        "id": "kwU6kwHObiIn"
      },
      "source": [
        "# 🧪 [Intro] Molecular Property Prediction with PyG\n",
        "\n",
        "Let us now look at the attributes of the PyG data objects that we initially loaded using the `QM9` dataset provided by PyG."
      ]
    },
    {
      "cell_type": "code",
      "execution_count": 52,
      "metadata": {
        "colab": {
          "base_uri": "https://localhost:8080/"
        },
        "id": "uIW69jB1i1P-",
        "outputId": "92ef7e5d-61cf-420f-e9c1-5daa580c4fce"
      },
      "outputs": [
        {
          "output_type": "stream",
          "name": "stdout",
          "text": [
            "\n",
            "This molecule has 5 atoms, and 8 edges.\n",
            "\n",
            "For each atom, we are given a feature vector with 11 entries (described above).\n",
            "\n",
            "For each edge, we are given a feature vector with 4 entries (also described above).\n",
            "\n",
            "In the next section, we will learn how to build a GNN in the Message Passing flavor to \n",
            "process the node and edge features of molecular graphs and predict their properties.\n",
            "\n",
            "Each atom also has a 3-dimensional coordinate associated with it. \n",
            "We will talk about their importance later in the practical.\n",
            "\n",
            "Finally, we have 1 regression target for the entire molecule.\n"
          ]
        }
      ],
      "source": [
        "data = train_pyg_dataset[0]\n",
        "\n",
        "print(f\"\\nThis molecule has {data.x.shape[0]} atoms, and {data.edge_attr.shape[0]} edges.\")\n",
        "\n",
        "print(f\"\\nFor each atom, we are given a feature vector with {data.x.shape[1]} entries (described above).\")\n",
        "\n",
        "print(f\"\\nFor each edge, we are given a feature vector with {data.edge_attr.shape[1]} entries (also described above).\")\n",
        "\n",
        "print(f\"\\nIn the next section, we will learn how to build a GNN in the Message Passing flavor to \\n\\\n",
        "process the node and edge features of molecular graphs and predict their properties.\")\n",
        "\n",
        "print(f\"\\nEach atom also has a {data.pos.shape[1]}-dimensional coordinate associated with it. \\n\\\n",
        "We will talk about their importance later in the practical.\")\n",
        "\n",
        "print(f\"\\nFinally, we have {data.y.shape[0]} regression target for the entire molecule.\")"
      ]
    },
    {
      "cell_type": "markdown",
      "metadata": {
        "id": "nDnWN7YvnaYs"
      },
      "source": [
        "## Using PyG for batching\n",
        "\n",
        "As you might remember from the previous practical, **batching graphs** can be quite a tedious and fiddly process. Thankfully, using PyG makes this super simple! Given a list of `Data` objects, we can easily batch this into a PyG `Batch` object as well as unbatch back into a list of graphs. Furthermore, in simple cases like ours, the PyG `DataLoader` object (different from the vanilla PyTorch one) handles all of the batching under the hood for us!\n",
        "\n",
        "Remember we have created sub-sets of molecular graphs (train, test, validation splits) from the QM9 dataset. Let us now load the datasets into the PyG `DataLoader`."
      ]
    },
    {
      "cell_type": "code",
      "execution_count": 53,
      "metadata": {
        "id": "79-EDckhEbjv"
      },
      "outputs": [],
      "source": [
        "# Create dataloaders with batch size = 32\n",
        "train_loader = DataLoader(train_pyg_dataset, batch_size=32, shuffle=True)\n",
        "val_loader = DataLoader(val_pyg_dataset, batch_size=32, shuffle=False)\n",
        "test_loader = DataLoader(test_pyg_dataset, batch_size=32, shuffle=False)"
      ]
    },
    {
      "cell_type": "markdown",
      "metadata": {
        "id": "BCilSuF9Eddu"
      },
      "source": [
        "Lets quickly batch and unbatch some graphs as a demonstration:"
      ]
    },
    {
      "cell_type": "code",
      "execution_count": 54,
      "metadata": {
        "id": "Xd3Yn7jOgNbY"
      },
      "outputs": [],
      "source": [
        "# Toy graph 1\n",
        "edge_index_1 = torch.tensor(\n",
        "    [[0, 1, 1, 2], [1, 0, 2, 1]],\n",
        "    dtype=torch.long\n",
        ")\n",
        "x_1 = torch.tensor([[-1], [0], [1]], dtype=torch.float)\n",
        "\n",
        "data_1 = Data(x=x_1, edge_index=edge_index_1)\n",
        "\n",
        "# Toy graph 2\n",
        "edge_index_2 = torch.tensor(\n",
        "    [[0, 2, 1, 0], [2, 0, 0, 1]],\n",
        "    dtype=torch.long\n",
        ")\n",
        "x_2 = torch.tensor([[1], [0], [-1]], dtype=torch.float)\n",
        "\n",
        "data_2 = Data(x=x_2, edge_index=edge_index_2)\n",
        "\n",
        "# Create batch from toy graphs\n",
        "data_list = [data_1, data_2]\n",
        "batch = Batch.from_data_list(data_list)\n",
        "\n",
        "assert (batch[0].x == data_1.x).all() and (batch[1].x == data_2.x).all()\n",
        "\n",
        "# Create DataLoader\n",
        "loader = DataLoader(data_list, batch_size=1, shuffle=False)\n",
        "it = iter(loader)\n",
        "batch_1 = next(it)\n",
        "batch_2 = next(it)\n",
        "\n",
        "assert (batch_1.x == data_1.x).all() and (batch_2.x == data_2.x).all()"
      ]
    },
    {
      "cell_type": "markdown",
      "metadata": {
        "id": "Zuv-ofkecJgU"
      },
      "source": [
        "Awesome! So far, we have downloaded and prepared the QM9 dataset, visualised some samples, understood the attributes associated with each molecular graph, developed GNNs in pure PyTorch, and reviewed how batching works in PyG. Now, we are ready to understand how we can develop GNNs in PyG for molecular property prediction.\n",
        "\n",
        "---"
      ]
    },
    {
      "cell_type": "markdown",
      "metadata": {
        "id": "563IbrHKihGQ"
      },
      "source": [
        "# 📩 [Intro] Introduction to Message Passing Neural Networks in PyTorch Geometric\n",
        "\n",
        "As a gentle introduction to PyTorch Geometric, we will walk you through the first steps of developing a GNN in the **Message Passing** flavor.\n",
        "\n",
        "![](https://drive.google.com/uc?id=1Wdgdq606XW1MelvcU1nW5CxWe1rHsWt1)"
      ]
    },
    {
      "cell_type": "markdown",
      "metadata": {
        "id": "TAwoHyWs452X"
      },
      "source": [
        "## Formalism\n",
        "\n",
        "Firstly, let us formalise our molecular property prediction pipeline. (Our notation will mostly follow what has been introduced in the lectures, but we do make some different choices for variable names.)\n",
        "\n",
        "### Graph\n",
        "Consider a molecular graph $G = \\left( V, {E} \\right)$, where ${V}$ is a set of $n$ nodes, and ${E}$ is a set of edges associated with the nodes. For each node $i \\in {V}$, we are given a $d_n$-dimensional initial feature vector $h_i \\in \\mathbb{R}^{d_n}$.\n",
        "For each edge $(i, j) \\in {E}$, we are given a $d_e$-dimensional initial feature vector $e_{ij} \\in \\mathbb{R}^{d_e}$. For QM9 graphs, $d_n = 11, d_e = 4$.\n",
        "\n",
        "### Label/target\n",
        "Associated with each graph ${G}$ is a scalar target or label $y \\in \\mathbb{R}^{1}$, which we would like to predict.\n",
        "\n",
        "We will design a Message Passing Neural Network for graph property prediction to do this. Our MPNN will consist of several layers of message passing, followed by a global pooling and prediction head.\n",
        "\n",
        "### MPNN Layer\n",
        "The Message Passing operation iteratively updates node features $h_i^{\\ell} \\in \\mathbb{R}^d$ from layer $\\ell$ to layer $\\ell+1$ via the following equation:\n",
        "$$\n",
        "h_i^{\\ell+1} = \\phi \\Bigg( h_i^{\\ell}, \\oplus_{j \\in {N}_i} \\Big( \\psi \\left( h_i^{\\ell}, h_j^{\\ell}, e_{ij} \\right) \\Big) \\Bigg),\n",
        "$$\n",
        "where $\\psi, \\phi$ are Multi-Layer Perceptrons (MLPs), and $\\oplus$ is a permutation-invariant local neighborhood aggregation function such as summation, maximization, or averaging.\n",
        "\n",
        "Let us break down the MPNN layer into three pedagogical steps:\n",
        "- **Step (1): Message.** For each pair of linked nodes $i, j$, the network first computes a message $m_{ij} =  \\psi \\left( h_i^{\\ell}, h_j^{\\ell}, e_{ij} \\right)$. The MLP $\\psi: \\mathbb{R}^{2d + d_e} → \\mathbb{R}^d$ takes as input the concatenation of the feature vectors from the source node, destination node, and edge.\n",
        "    - Note that for the first layer $\\ell=0$, $h_i^{\\ell=0} = W_{in} \\left( h_i \\right)$, where $W_{in} \\in \\mathbb{R}^{d_n}  \\rightarrow \\mathbb{R}^{d}$ is a simple linear projection (`torch.nn.Linear`) for the initial node features to hidden dimension $d$.\n",
        "- **Step (2): Aggregate.** At each node $i$, the incoming messages from all its neighbors are then aggregated as $m_{i} = \\oplus_{{j \\in {N}_i}} \\left( m_{ij} \\right)$, where $\\oplus$ is a permutation-invariant function. We will use summation, i.e. $\\oplus_{{j \\in {N}_i}} = \\sum_{{j \\in {N}_i}}$.\n",
        "- **Step (3): Update.** Finally, the network updates the node feature vector $h_i^{\\ell+1} = \\phi \\left( h_i^{\\ell}, m_i \\right)$, by concatenating the aggregated message $m_i$ and the previous node feature vector $h_i^{\\ell}$, and passing them through an MLP $\\phi: \\mathbb{R}^{2d} → \\mathbb{R}^{d}$.\n",
        "\n",
        "### Global Pooling and Prediction Head\n",
        "After $L$ layers of message passing, we obtain the final node features $h_i^{\\ell=L}$. As we have a single target $y$ per graph, we must pool all node features into a single graph feature or graph embedding $h_G \\in \\mathbb{R}^d$ via another permutation-invariant function $R$, sometimes called the 'readout' function, as follows:\n",
        "$$\n",
        "h_G = R_{i \\in {V}} \\left( h_i^{\\ell=L} \\right).\n",
        "$$\n",
        "We will use global average pooling over all node features, i.e.\n",
        "$$\n",
        "h_G = \\frac{1}{|{V}|} \\sum_{i \\in {V}} h_i^{\\ell=L}.\n",
        "$$\n",
        "\n",
        "The graph embedding $h_G$ is passed through a linear prediction head $W_{pred} \\in \\mathbb{R}^{d} \\rightarrow \\mathbb{R}^1$ to obtain the overall prediction $\\hat y \\in \\mathbb{R}^1$:\n",
        "$$\n",
        "\\hat{y} = W_{pred} \\left( h_G \\right).\n",
        "$$\n",
        "\n",
        "### Loss Function\n",
        "Our MPNN graph property prediction model can be trained end-to-end via minimizing the standard mean-squared error loss for regression:\n",
        "$$\n",
        "{L}_{MSE} = \\lVert y - \\hat y \\rVert^2_2.\n",
        "$$"
      ]
    },
    {
      "cell_type": "markdown",
      "metadata": {
        "id": "2xcV8Yb148Kq"
      },
      "source": [
        "## Coding the basic Message Passing Neural Network Layer\n",
        "\n",
        "We are now ready to define a basic MPNN layer which implements what we have described above. In particular, we will code up the **MPNN Layer** first. (We will code up the other parts subsequently.)\n",
        "\n",
        "To do so, we will inherit from the `MessagePassing` base class, which automatically takes care of message propagation and is extremely useful to develop advanced GNN models. To implement a custom MPNN, the user only needs to define the behaviour of the `message` (i.e. $\\psi$), the `aggregate`(i.e. $\\oplus$), and `update` (i.e. $\\phi$) functions. You may also refer to the [PyG documentation](https://pytorch-geometric.readthedocs.io/en/latest/notes/create_gnn.html) for implementing custom message passing layers.\n",
        "\n",
        "Below, we provide the implementation of a standard MPNN layer as an example, with extensive inline comments to help you figure out what is going on."
      ]
    },
    {
      "cell_type": "code",
      "source": [
        "!pip install torch_geometric==2.5.0"
      ],
      "metadata": {
        "colab": {
          "base_uri": "https://localhost:8080/"
        },
        "id": "fewX-oIUquyI",
        "outputId": "7323918c-a14a-4541-816a-22b3460f84f0"
      },
      "execution_count": 65,
      "outputs": [
        {
          "output_type": "stream",
          "name": "stdout",
          "text": [
            "Collecting torch_geometric==2.5.0\n",
            "  Downloading torch_geometric-2.5.0-py3-none-any.whl (1.1 MB)\n",
            "\u001b[?25l     \u001b[90m━━━━━━━━━━━━━━━━━━━━━━━━━━━━━━━━━━━━━━━━\u001b[0m \u001b[32m0.0/1.1 MB\u001b[0m \u001b[31m?\u001b[0m eta \u001b[36m-:--:--\u001b[0m\r\u001b[2K     \u001b[91m━━━━━━━━━━━━━━━━━━━━━━━━━━━━\u001b[0m\u001b[91m╸\u001b[0m\u001b[90m━━━━━━━━━━━\u001b[0m \u001b[32m0.8/1.1 MB\u001b[0m \u001b[31m23.4 MB/s\u001b[0m eta \u001b[36m0:00:01\u001b[0m\r\u001b[2K     \u001b[90m━━━━━━━━━━━━━━━━━━━━━━━━━━━━━━━━━━━━━━━━\u001b[0m \u001b[32m1.1/1.1 MB\u001b[0m \u001b[31m23.7 MB/s\u001b[0m eta \u001b[36m0:00:00\u001b[0m\n",
            "\u001b[?25hRequirement already satisfied: tqdm in /usr/local/lib/python3.10/dist-packages (from torch_geometric==2.5.0) (4.66.2)\n",
            "Requirement already satisfied: numpy in /usr/local/lib/python3.10/dist-packages (from torch_geometric==2.5.0) (1.25.2)\n",
            "Requirement already satisfied: scipy in /usr/local/lib/python3.10/dist-packages (from torch_geometric==2.5.0) (1.11.4)\n",
            "Requirement already satisfied: fsspec in /usr/local/lib/python3.10/dist-packages (from torch_geometric==2.5.0) (2023.6.0)\n",
            "Requirement already satisfied: jinja2 in /usr/local/lib/python3.10/dist-packages (from torch_geometric==2.5.0) (3.1.3)\n",
            "Requirement already satisfied: aiohttp in /usr/local/lib/python3.10/dist-packages (from torch_geometric==2.5.0) (3.9.3)\n",
            "Requirement already satisfied: requests in /usr/local/lib/python3.10/dist-packages (from torch_geometric==2.5.0) (2.31.0)\n",
            "Requirement already satisfied: pyparsing in /usr/local/lib/python3.10/dist-packages (from torch_geometric==2.5.0) (3.1.2)\n",
            "Requirement already satisfied: scikit-learn in /usr/local/lib/python3.10/dist-packages (from torch_geometric==2.5.0) (1.2.2)\n",
            "Requirement already satisfied: psutil>=5.8.0 in /usr/local/lib/python3.10/dist-packages (from torch_geometric==2.5.0) (5.9.5)\n",
            "Requirement already satisfied: aiosignal>=1.1.2 in /usr/local/lib/python3.10/dist-packages (from aiohttp->torch_geometric==2.5.0) (1.3.1)\n",
            "Requirement already satisfied: attrs>=17.3.0 in /usr/local/lib/python3.10/dist-packages (from aiohttp->torch_geometric==2.5.0) (23.2.0)\n",
            "Requirement already satisfied: frozenlist>=1.1.1 in /usr/local/lib/python3.10/dist-packages (from aiohttp->torch_geometric==2.5.0) (1.4.1)\n",
            "Requirement already satisfied: multidict<7.0,>=4.5 in /usr/local/lib/python3.10/dist-packages (from aiohttp->torch_geometric==2.5.0) (6.0.5)\n",
            "Requirement already satisfied: yarl<2.0,>=1.0 in /usr/local/lib/python3.10/dist-packages (from aiohttp->torch_geometric==2.5.0) (1.9.4)\n",
            "Requirement already satisfied: async-timeout<5.0,>=4.0 in /usr/local/lib/python3.10/dist-packages (from aiohttp->torch_geometric==2.5.0) (4.0.3)\n",
            "Requirement already satisfied: MarkupSafe>=2.0 in /usr/local/lib/python3.10/dist-packages (from jinja2->torch_geometric==2.5.0) (2.1.5)\n",
            "Requirement already satisfied: charset-normalizer<4,>=2 in /usr/local/lib/python3.10/dist-packages (from requests->torch_geometric==2.5.0) (3.3.2)\n",
            "Requirement already satisfied: idna<4,>=2.5 in /usr/local/lib/python3.10/dist-packages (from requests->torch_geometric==2.5.0) (3.6)\n",
            "Requirement already satisfied: urllib3<3,>=1.21.1 in /usr/local/lib/python3.10/dist-packages (from requests->torch_geometric==2.5.0) (2.0.7)\n",
            "Requirement already satisfied: certifi>=2017.4.17 in /usr/local/lib/python3.10/dist-packages (from requests->torch_geometric==2.5.0) (2024.2.2)\n",
            "Requirement already satisfied: joblib>=1.1.1 in /usr/local/lib/python3.10/dist-packages (from scikit-learn->torch_geometric==2.5.0) (1.3.2)\n",
            "Requirement already satisfied: threadpoolctl>=2.0.0 in /usr/local/lib/python3.10/dist-packages (from scikit-learn->torch_geometric==2.5.0) (3.3.0)\n",
            "Installing collected packages: torch_geometric\n",
            "  Attempting uninstall: torch_geometric\n",
            "    Found existing installation: torch_geometric 2.5.1\n",
            "    Uninstalling torch_geometric-2.5.1:\n",
            "      Successfully uninstalled torch_geometric-2.5.1\n",
            "Successfully installed torch_geometric-2.5.0\n"
          ]
        }
      ]
    },
    {
      "cell_type": "code",
      "execution_count": 66,
      "metadata": {
        "id": "wO5GskvZnZ1j"
      },
      "outputs": [],
      "source": [
        "from torch_geometric.nn import MessagePassing\n",
        "\n",
        "class MPNNLayer(MessagePassing):\n",
        "    def __init__(self, emb_dim=64, edge_dim=4, aggr='add'):\n",
        "        \"\"\"Message Passing Neural Network Layer\n",
        "\n",
        "        Args:\n",
        "            emb_dim: (int) - hidden dimension `d`\n",
        "            edge_dim: (int) - edge feature dimension `d_e`\n",
        "            aggr: (str) - aggregation function `\\oplus` (sum/mean/max)\n",
        "        \"\"\"\n",
        "        # Set the aggregation function\n",
        "        super().__init__(aggr=aggr)\n",
        "\n",
        "        self.emb_dim = emb_dim\n",
        "        self.edge_dim = edge_dim\n",
        "\n",
        "        # self.activations = {}  # Initialize a dictionary to store activations\n",
        "\n",
        "        # MLP `\\psi` for computing messages `m_ij`\n",
        "        # Implemented as a stack of Linear->BN->ReLU->Linear->BN->ReLU\n",
        "        # dims: (2d + d_e) -> d\n",
        "        self.mlp_msg = Sequential(\n",
        "            Linear(2*emb_dim + edge_dim, emb_dim), BatchNorm1d(emb_dim), ReLU(),\n",
        "            Linear(emb_dim, emb_dim), BatchNorm1d(emb_dim), ReLU()\n",
        "          )\n",
        "\n",
        "        # MLP `\\phi` for computing updated node features `h_i^{l+1}`\n",
        "        # Implemented as a stack of Linear->BN->ReLU->Linear->BN->ReLU\n",
        "        # dims: 2d -> d\n",
        "        self.mlp_upd = Sequential(\n",
        "            Linear(2*emb_dim, emb_dim), BatchNorm1d(emb_dim), ReLU(),\n",
        "            Linear(emb_dim, emb_dim), BatchNorm1d(emb_dim), ReLU()\n",
        "          )\n",
        "\n",
        "    def forward(self, h, edge_index, edge_attr):\n",
        "        \"\"\"\n",
        "        The forward pass updates node features `h` via one round of message passing.\n",
        "\n",
        "        As our MPNNLayer class inherits from the PyG MessagePassing parent class,\n",
        "        we simply need to call the `propagate()` function which starts the\n",
        "        message passing procedure: `message()` -> `aggregate()` -> `update()`.\n",
        "\n",
        "        The MessagePassing class handles most of the logic for the implementation.\n",
        "        To build custom GNNs, we only need to define our own `message()`,\n",
        "        `aggregate()`, and `update()` functions (defined subsequently).\n",
        "\n",
        "        Args:\n",
        "            h: (n, d) - initial node features\n",
        "            edge_index: (e, 2) - pairs of edges (i, j)\n",
        "            edge_attr: (e, d_e) - edge features\n",
        "\n",
        "        Returns:\n",
        "            out: (n, d) - updated node features\n",
        "        \"\"\"\n",
        "        # self.activations['input_h'] = h\n",
        "        # self.activations['input_edge_attr'] = edge_attr\n",
        "        out = self.propagate(edge_index, h=h, edge_attr=edge_attr)\n",
        "        # self.activations['output'] = out\n",
        "        return out\n",
        "\n",
        "    def message(self, h_i, h_j, edge_attr):\n",
        "        \"\"\"Step (1) Message\n",
        "\n",
        "        The `message()` function constructs messages from source nodes j\n",
        "        to destination nodes i for each edge (j, i) in `edge_index`.\n",
        "\n",
        "        The arguments can be a bit tricky to understand: `message()` can take\n",
        "        any arguments that were initially passed to `propagate`. Additionally,\n",
        "        we can differentiate destination nodes and source nodes by appending\n",
        "        `_i` or `_j` to the variable name, e.g. for the node features `h`, we\n",
        "        can use `h_i` and `h_j`.\n",
        "\n",
        "        This part is critical to understand as the `message()` function\n",
        "        constructs messages for each edge in the graph. The indexing of the\n",
        "        original node features `h` (or other node variables) is handled under\n",
        "        the hood by PyG.\n",
        "\n",
        "        Args:\n",
        "            h_i: (e, d) - destination node features, essentially h[edge_index[1]]\n",
        "            h_j: (e, d) - source node features, essentially h[edge_index[0]]\n",
        "            edge_attr: (e, d_e) - edge features\n",
        "\n",
        "        Returns:\n",
        "            msg: (e, d) - messages `m_ji` passed through MLP `\\psi`\n",
        "        \"\"\"\n",
        "        msg = torch.cat([h_i, h_j, edge_attr], dim=-1)\n",
        "        message = self.mlp_msg(msg)\n",
        "        # self.activations['message'] = message\n",
        "        return message\n",
        "    def aggregate(self, inputs, index):\n",
        "        \"\"\"Step (2) Aggregate\n",
        "\n",
        "        The `aggregate` function aggregates the messages from neighboring nodes,\n",
        "        according to the chosen aggregation function ('sum' by default).\n",
        "\n",
        "        Args:\n",
        "            inputs: (e, d) - messages `m_ji` from source to destination nodes\n",
        "            index: (e, 1) - list of destination nodes for each edge/message in `input`\n",
        "\n",
        "        Returns:\n",
        "            aggr_out: (n, d) - aggregated messages `m_i`\n",
        "        \"\"\"\n",
        "        aggregated = scatter(inputs, index, dim=self.node_dim, reduce=self.aggr)\n",
        "        # self.activations['aggregate'] = aggregated\n",
        "        return aggregated\n",
        "\n",
        "    def update(self, aggr_out, h):\n",
        "        \"\"\"\n",
        "        Step (3) Update\n",
        "\n",
        "        The `update()` function computes the final node features by combining the\n",
        "        aggregated messages with the initial node features.\n",
        "\n",
        "        `update()` takes the first argument `aggr_out`, the result of `aggregate()`,\n",
        "        as well as any optional arguments that were initially passed to\n",
        "        `propagate()`. E.g. in this case, we additionally pass `h`.\n",
        "\n",
        "        Args:\n",
        "            aggr_out: (n, d) - aggregated messages `m_i`\n",
        "            h: (n, d) - initial node features\n",
        "\n",
        "        Returns:\n",
        "            upd_out: (n, d) - updated node features passed through MLP `\\phi`\n",
        "        \"\"\"\n",
        "        upd_out = torch.cat([h, aggr_out], dim=-1)\n",
        "        updated = self.mlp_upd(upd_out)\n",
        "        # self.activations['update'] = updated\n",
        "        return updated\n",
        "\n",
        "    def __repr__(self) -> str:\n",
        "        return (f'{self.__class__.__name__}(emb_dim={self.emb_dim}, aggr={self.aggr})')"
      ]
    },
    {
      "cell_type": "markdown",
      "metadata": {
        "id": "OPB24QlmU_46"
      },
      "source": [
        "Great! We have defined a **Message Passing layer** following the equation we had introduced previously. Let us use this layer to code up the full **MPNN graph property prediction model**. This model will take as input molecular graphs, process them via multiple MPNN layers, and predict a single property for each of them."
      ]
    },
    {
      "cell_type": "code",
      "execution_count": 67,
      "metadata": {
        "id": "Q0vqS1NAU_ZN"
      },
      "outputs": [],
      "source": [
        "class MPNNModel(Module):\n",
        "    def __init__(self, num_layers=4, emb_dim=64, in_dim=11, edge_dim=4, out_dim=1):\n",
        "        \"\"\"Message Passing Neural Network model for graph property prediction\n",
        "\n",
        "        Args:\n",
        "            num_layers: (int) - number of message passing layers `L`\n",
        "            emb_dim: (int) - hidden dimension `d`\n",
        "            in_dim: (int) - initial node feature dimension `d_n`\n",
        "            edge_dim: (int) - edge feature dimension `d_e`\n",
        "            out_dim: (int) - output dimension (fixed to 1)\n",
        "        \"\"\"\n",
        "        super().__init__()\n",
        "\n",
        "        self.activations = {}\n",
        "\n",
        "\n",
        "        # Linear projection for initial node features\n",
        "        # dim: d_n -> d\n",
        "        self.lin_in = Linear(in_dim, emb_dim)\n",
        "        # Stack of MPNN layers\n",
        "        self.convs = torch.nn.ModuleList()\n",
        "        for layer in range(num_layers):\n",
        "            self.convs.append(MPNNLayer(emb_dim, edge_dim, aggr='add'))\n",
        "\n",
        "        # Global pooling/readout function `R` (mean pooling)\n",
        "        # PyG handles the underlying logic via `global_mean_pool()`\n",
        "        self.pool = global_mean_pool\n",
        "\n",
        "        # Linear prediction head\n",
        "        # dim: d -> out_dim\n",
        "        self.lin_pred = Linear(emb_dim, out_dim)\n",
        "\n",
        "    def forward(self, data):\n",
        "        \"\"\"\n",
        "        Args:\n",
        "            data: (PyG.Data) - batch of PyG graphs\n",
        "\n",
        "        Returns:\n",
        "            out: (batch_size, out_dim) - prediction for each graph\n",
        "        \"\"\"\n",
        "        h = self.lin_in(data.x) # (n, d_n) -> (n, d)\n",
        "\n",
        "        for convidx, conv in enumerate(self.convs):\n",
        "            hc = conv(h, data.edge_index, data.edge_attr) # (n, d) -> (n, d)\n",
        "            h = h + hc\n",
        "            self.activations[f'Layer {convidx} activations'] = conv.activations\n",
        "            self.activations[f'Layer {convidx} pre res'] = hc\n",
        "            self.activations[f'Layer {convidx} post res'] = h\n",
        "\n",
        "            # Note that we add a residual connection after each MPNN layer\n",
        "\n",
        "\n",
        "        h_graph = self.pool(h, data.batch) # (n, d) -> (batch_size, d)\n",
        "        self.activations[f'h_graph'] = h_graph\n",
        "        out = self.lin_pred(h_graph) # (batch_size, d) -> (batch_size, 1)\n",
        "        self.activations[f'out'] = out\n",
        "        return out.view(-1)"
      ]
    },
    {
      "cell_type": "markdown",
      "metadata": {
        "id": "W4xlvC8bZEv_"
      },
      "source": [
        "Awesome! We are done defining our first MPNN model for graph property prediction.\n",
        "\n",
        "But wait! Before we dive into training and evaluation this model, let us write some sanity checks for a **fundamental property** of the model and the layer.\n",
        "\n",
        "## Unit tests for Permutation Invariance and Equivariance\n",
        "\n",
        "The lectures have repeatedly stressed on certain fundamental properties for machine learning on graphs:\n",
        "- A **GNN <ins>layer**</ins> is **equivariant** to permutations of the set of nodes in the graph; i.e. as we permute the nodes, the node features produced by the GNN must permute accordingly.\n",
        "- A **GNN <ins>model**</ins> for graph-level property prediction is **invariant** to the permutations of the set of nodes in the graph; i.e. as we permute the nodes, the graph-level properly remains unchanged.\n",
        "\n",
        "(But wait...**What is a permutation?** Essentially, it is an **ordering of the nodes** in a graph. In general, there is **no canonical way** of assigning an ordering of the nodes, unlike textual or image data. However, graphs need to be stored and processed on computers in order to perform machine learning on them (which is what this course is about!). Thus, we need to ensure that our models are able to principally handle this **lack of canonical ordering** or permutation of graph nodes. This is what the above statements are trying to say.)\n",
        "\n",
        "### Formalism\n",
        "\n",
        "Let us try to formalise these notions of permutation invariance and equivariance via matrix notation (it is easier that way).\n",
        "\n",
        "- Let $\\mathbf{H} \\in \\mathbb{R}^{n \\times d}$ be a matrix of node features for a given molecular graph, where $n$ is the number of nodes/atoms and each row $h_i$ is the $d$-dimensional feature for node $i$.\n",
        "- Let $\\mathbf{A} \\in \\mathbb{R}^{n \\times n}$ be the adjacency matrix where each entry denotes $a_{ij}$ the presence or absence of an edge between nodes $i$ and $j$.\n",
        "- Let $\\mathbf{F}(\\mathbf{H}, \\mathbf{A}): \\mathbb{R}^{n \\times d} \\times \\mathbb{R}^{n \\times n} \\rightarrow \\mathbb{R}^{n \\times d}$ be a **GNN <ins>layer**</ins> that takes as input the node features and adjacency matrix, and returns the **updated node features**.\n",
        "- Let $f(\\mathbf{H}, \\mathbf{A}): \\mathbb{R}^{n \\times d} \\times \\mathbb{R}^{n \\times n} \\rightarrow \\mathbb{R}$ be a **GNN <ins>model**</ins> that takes as input the node features and adjacency matrix, and returns the **predicted graph-level property**.\n",
        "- Let $\\mathbf{P} \\in \\mathbb{R}^{n \\times n}$ be a **[permutation matrix](https://en.wikipedia.org/wiki/Permutation_matrix)** which has exactly one 1 in every row and column, and 0s elsewhere. Left-multiplying $\\mathbf{P}$ with a matrix changes the ordering of the rows of the matrix.\n",
        "\n",
        "### Permutation Equivariance\n",
        "\n",
        "The GNN <ins>layer</ins> $\\mathbf{F}$ is **permutation equivariant** as follows:\n",
        "$$\n",
        "\\mathbf{F}(\\mathbf{PH}, \\mathbf{PAP^T}) = \\mathbf{P} \\ \\mathbf{F}(\\mathbf{H}, \\mathbf{A}).\n",
        "$$\n",
        "\n",
        "Another way to formulate the above could be: (1) Consider the updated node features $\\mathbf{H'} = \\mathbf{F}(\\mathbf{H}, \\mathbf{A})$. (2) Applying any permutation matrix $\\mathbf{P}$ to the input of the GNN layer $\\mathbf{F}$ should produce the same result as applying the same permutation on $\\mathbf{H'}$:\n",
        "$$\n",
        "\\mathbf{F}(\\mathbf{PH}, \\mathbf{PAP^T}) = \\mathbf{P} \\ \\mathbf{H'}\n",
        "$$\n",
        "\n",
        "### Permutation Invariance\n",
        "\n",
        "The GNN <ins>model</ins> $f$ for graph-level prediction is **permutation invariant** as follows:\n",
        "$$\n",
        "f(\\mathbf{PH}, \\mathbf{PAP^T}) = f(\\mathbf{H}, \\mathbf{A}).\n",
        "$$\n",
        "\n",
        "Another way to formulate the above could be: (1) Consider the predicted molecular property $\\mathbf{\\hat y} = f(\\mathbf{H}, \\mathbf{A})$. (2) Applying any permutation matrix $\\mathbf{P}$ to the input of the GNN model $f$ should produce the same result as not applying it:\n",
        "$$\n",
        "f(\\mathbf{PH}, \\mathbf{PAP^T}) = \\mathbf{\\hat y}.\n",
        "$$\n",
        "\n",
        "With that formalism out of the way, let us write some unit tests to confirm that our `MPNNModel` and `MPNNLayer` are indeed permutation invariant and equivariant, respectively. (We have provided this for you)."
      ]
    },
    {
      "cell_type": "code",
      "execution_count": 68,
      "metadata": {
        "id": "vXuzZIqpZVqS"
      },
      "outputs": [],
      "source": [
        "def permute_graph(data, perm):\n",
        "    \"\"\"Helper function for permuting PyG Data object attributes consistently.\n",
        "    \"\"\"\n",
        "    # Permute the node attribute ordering\n",
        "    data.x = data.x[perm]\n",
        "    data.pos = data.pos[perm]\n",
        "    data.z = data.z[perm]\n",
        "    data.batch = data.batch[perm]\n",
        "\n",
        "    # Permute the edge index\n",
        "    adj = to_dense_adj(data.edge_index)\n",
        "    adj = adj[:, perm, :]\n",
        "    adj = adj[:, :, perm]\n",
        "    data.edge_index = dense_to_sparse(adj)[0]\n",
        "\n",
        "    # Note:\n",
        "    # (1) While we originally defined the permutation matrix P as only having\n",
        "    #     entries 0 and 1, its implementation via `perm` uses indexing into\n",
        "    #     torch tensors, instead.\n",
        "    # (2) It is cumbersome to permute the edge_attr, so we set it to constant\n",
        "    #     dummy values For any experiments beyond unit testing, all GNN models\n",
        "    #     use the original edge_attr.\n",
        "\n",
        "    return data\n",
        "\n",
        "def permutation_invariance_unit_test(module, dataloader):\n",
        "    \"\"\"Unit test for checking whether a module (GNN model) is\n",
        "    permutation invariant.\n",
        "    \"\"\"\n",
        "    it = iter(dataloader)\n",
        "    data = next(it)\n",
        "\n",
        "    # Set edge_attr to dummy values (for simplicity)\n",
        "    data.edge_attr = torch.zeros(data.edge_attr.shape)\n",
        "\n",
        "    # Forward pass on original example\n",
        "    out_1 = module(data)\n",
        "\n",
        "    # Create random permutation\n",
        "    perm = torch.randperm(data.x.shape[0])\n",
        "    data = permute_graph(data, perm)\n",
        "\n",
        "    # Forward pass on permuted example\n",
        "    out_2 = module(data)\n",
        "\n",
        "    # Check whether output varies after applying transformations\n",
        "    return torch.allclose(out_1, out_2, atol=1e-04)\n",
        "\n",
        "\n",
        "def permutation_equivariance_unit_test(module, dataloader, with_pos=False):\n",
        "    \"\"\"Unit test for checking whether a module (GNN layer) is\n",
        "    permutation equivariant.\n",
        "    \"\"\"\n",
        "    it = iter(dataloader)\n",
        "    data = next(it)\n",
        "\n",
        "    # Set edge_attr to dummy values (for simplicity)\n",
        "    data.edge_attr = torch.zeros(data.edge_attr.shape)\n",
        "\n",
        "    # Forward pass on original example\n",
        "    if with_pos:\n",
        "        out_1 = module(data.x, data.pos, data.edge_index, data.edge_attr)\n",
        "    else:\n",
        "        out_1 = module(data.x, data.edge_index, data.edge_attr)\n",
        "\n",
        "    # Create random permutation\n",
        "    perm = torch.randperm(data.x.shape[0])\n",
        "    data = permute_graph(data, perm)\n",
        "\n",
        "    # Forward pass on permuted example\n",
        "    if with_pos:\n",
        "        out_2 = module(data.x, data.pos, data.edge_index, data.edge_attr)\n",
        "    else:\n",
        "        out_2 = module(data.x, data.edge_index, data.edge_attr)\n",
        "\n",
        "    # Check whether output varies after applying transformations\n",
        "    return torch.allclose(out_1[perm], out_2, atol=1e-04)"
      ]
    },
    {
      "cell_type": "markdown",
      "metadata": {
        "id": "kj_EER0Mg5YQ"
      },
      "source": [
        "Now that we have defined the unit tests for permutation invariance (for the full MPNN model) and permutation equivariance (for the MPNN layer), let us perform the sanity check:"
      ]
    },
    {
      "cell_type": "code",
      "execution_count": 69,
      "metadata": {
        "colab": {
          "base_uri": "https://localhost:8080/",
          "height": 356
        },
        "id": "sNAxOxMQkDwf",
        "outputId": "3cbe303a-1063-4444-ff6d-7e95e950b44c"
      },
      "outputs": [
        {
          "output_type": "error",
          "ename": "TypeError",
          "evalue": "propagate() got an unexpected keyword argument 'h'",
          "traceback": [
            "\u001b[0;31m---------------------------------------------------------------------------\u001b[0m",
            "\u001b[0;31mTypeError\u001b[0m                                 Traceback (most recent call last)",
            "\u001b[0;32m<ipython-input-69-c7c8d90afad0>\u001b[0m in \u001b[0;36m<cell line: 7>\u001b[0;34m()\u001b[0m\n\u001b[1;32m      5\u001b[0m \u001b[0;34m\u001b[0m\u001b[0m\n\u001b[1;32m      6\u001b[0m \u001b[0;31m# Permutation invariance unit test for MPNN model\u001b[0m\u001b[0;34m\u001b[0m\u001b[0;34m\u001b[0m\u001b[0m\n\u001b[0;32m----> 7\u001b[0;31m \u001b[0mprint\u001b[0m\u001b[0;34m(\u001b[0m\u001b[0;34mf\"Is {type(model).__name__} permutation invariant? --> {permutation_invariance_unit_test(model, dataloader)}!\"\u001b[0m\u001b[0;34m)\u001b[0m\u001b[0;34m\u001b[0m\u001b[0;34m\u001b[0m\u001b[0m\n\u001b[0m\u001b[1;32m      8\u001b[0m \u001b[0;34m\u001b[0m\u001b[0m\n\u001b[1;32m      9\u001b[0m \u001b[0;31m# Permutation equivariance unit for MPNN layer\u001b[0m\u001b[0;34m\u001b[0m\u001b[0;34m\u001b[0m\u001b[0m\n",
            "\u001b[0;32m<ipython-input-68-22cf753239fe>\u001b[0m in \u001b[0;36mpermutation_invariance_unit_test\u001b[0;34m(module, dataloader)\u001b[0m\n\u001b[1;32m     35\u001b[0m \u001b[0;34m\u001b[0m\u001b[0m\n\u001b[1;32m     36\u001b[0m     \u001b[0;31m# Forward pass on original example\u001b[0m\u001b[0;34m\u001b[0m\u001b[0;34m\u001b[0m\u001b[0m\n\u001b[0;32m---> 37\u001b[0;31m     \u001b[0mout_1\u001b[0m \u001b[0;34m=\u001b[0m \u001b[0mmodule\u001b[0m\u001b[0;34m(\u001b[0m\u001b[0mdata\u001b[0m\u001b[0;34m)\u001b[0m\u001b[0;34m\u001b[0m\u001b[0;34m\u001b[0m\u001b[0m\n\u001b[0m\u001b[1;32m     38\u001b[0m \u001b[0;34m\u001b[0m\u001b[0m\n\u001b[1;32m     39\u001b[0m     \u001b[0;31m# Create random permutation\u001b[0m\u001b[0;34m\u001b[0m\u001b[0;34m\u001b[0m\u001b[0m\n",
            "\u001b[0;32m/usr/local/lib/python3.10/dist-packages/torch/nn/modules/module.py\u001b[0m in \u001b[0;36m_wrapped_call_impl\u001b[0;34m(self, *args, **kwargs)\u001b[0m\n\u001b[1;32m   1516\u001b[0m             \u001b[0;32mreturn\u001b[0m \u001b[0mself\u001b[0m\u001b[0;34m.\u001b[0m\u001b[0m_compiled_call_impl\u001b[0m\u001b[0;34m(\u001b[0m\u001b[0;34m*\u001b[0m\u001b[0margs\u001b[0m\u001b[0;34m,\u001b[0m \u001b[0;34m**\u001b[0m\u001b[0mkwargs\u001b[0m\u001b[0;34m)\u001b[0m  \u001b[0;31m# type: ignore[misc]\u001b[0m\u001b[0;34m\u001b[0m\u001b[0;34m\u001b[0m\u001b[0m\n\u001b[1;32m   1517\u001b[0m         \u001b[0;32melse\u001b[0m\u001b[0;34m:\u001b[0m\u001b[0;34m\u001b[0m\u001b[0;34m\u001b[0m\u001b[0m\n\u001b[0;32m-> 1518\u001b[0;31m             \u001b[0;32mreturn\u001b[0m \u001b[0mself\u001b[0m\u001b[0;34m.\u001b[0m\u001b[0m_call_impl\u001b[0m\u001b[0;34m(\u001b[0m\u001b[0;34m*\u001b[0m\u001b[0margs\u001b[0m\u001b[0;34m,\u001b[0m \u001b[0;34m**\u001b[0m\u001b[0mkwargs\u001b[0m\u001b[0;34m)\u001b[0m\u001b[0;34m\u001b[0m\u001b[0;34m\u001b[0m\u001b[0m\n\u001b[0m\u001b[1;32m   1519\u001b[0m \u001b[0;34m\u001b[0m\u001b[0m\n\u001b[1;32m   1520\u001b[0m     \u001b[0;32mdef\u001b[0m \u001b[0m_call_impl\u001b[0m\u001b[0;34m(\u001b[0m\u001b[0mself\u001b[0m\u001b[0;34m,\u001b[0m \u001b[0;34m*\u001b[0m\u001b[0margs\u001b[0m\u001b[0;34m,\u001b[0m \u001b[0;34m**\u001b[0m\u001b[0mkwargs\u001b[0m\u001b[0;34m)\u001b[0m\u001b[0;34m:\u001b[0m\u001b[0;34m\u001b[0m\u001b[0;34m\u001b[0m\u001b[0m\n",
            "\u001b[0;32m/usr/local/lib/python3.10/dist-packages/torch/nn/modules/module.py\u001b[0m in \u001b[0;36m_call_impl\u001b[0;34m(self, *args, **kwargs)\u001b[0m\n\u001b[1;32m   1525\u001b[0m                 \u001b[0;32mor\u001b[0m \u001b[0m_global_backward_pre_hooks\u001b[0m \u001b[0;32mor\u001b[0m \u001b[0m_global_backward_hooks\u001b[0m\u001b[0;34m\u001b[0m\u001b[0;34m\u001b[0m\u001b[0m\n\u001b[1;32m   1526\u001b[0m                 or _global_forward_hooks or _global_forward_pre_hooks):\n\u001b[0;32m-> 1527\u001b[0;31m             \u001b[0;32mreturn\u001b[0m \u001b[0mforward_call\u001b[0m\u001b[0;34m(\u001b[0m\u001b[0;34m*\u001b[0m\u001b[0margs\u001b[0m\u001b[0;34m,\u001b[0m \u001b[0;34m**\u001b[0m\u001b[0mkwargs\u001b[0m\u001b[0;34m)\u001b[0m\u001b[0;34m\u001b[0m\u001b[0;34m\u001b[0m\u001b[0m\n\u001b[0m\u001b[1;32m   1528\u001b[0m \u001b[0;34m\u001b[0m\u001b[0m\n\u001b[1;32m   1529\u001b[0m         \u001b[0;32mtry\u001b[0m\u001b[0;34m:\u001b[0m\u001b[0;34m\u001b[0m\u001b[0;34m\u001b[0m\u001b[0m\n",
            "\u001b[0;32m<ipython-input-67-d4c8afaa3307>\u001b[0m in \u001b[0;36mforward\u001b[0;34m(self, data)\u001b[0m\n\u001b[1;32m     42\u001b[0m \u001b[0;34m\u001b[0m\u001b[0m\n\u001b[1;32m     43\u001b[0m         \u001b[0;32mfor\u001b[0m \u001b[0mconvidx\u001b[0m\u001b[0;34m,\u001b[0m \u001b[0mconv\u001b[0m \u001b[0;32min\u001b[0m \u001b[0menumerate\u001b[0m\u001b[0;34m(\u001b[0m\u001b[0mself\u001b[0m\u001b[0;34m.\u001b[0m\u001b[0mconvs\u001b[0m\u001b[0;34m)\u001b[0m\u001b[0;34m:\u001b[0m\u001b[0;34m\u001b[0m\u001b[0;34m\u001b[0m\u001b[0m\n\u001b[0;32m---> 44\u001b[0;31m             \u001b[0mhc\u001b[0m \u001b[0;34m=\u001b[0m \u001b[0mconv\u001b[0m\u001b[0;34m(\u001b[0m\u001b[0mh\u001b[0m\u001b[0;34m,\u001b[0m \u001b[0mdata\u001b[0m\u001b[0;34m.\u001b[0m\u001b[0medge_index\u001b[0m\u001b[0;34m,\u001b[0m \u001b[0mdata\u001b[0m\u001b[0;34m.\u001b[0m\u001b[0medge_attr\u001b[0m\u001b[0;34m)\u001b[0m \u001b[0;31m# (n, d) -> (n, d)\u001b[0m\u001b[0;34m\u001b[0m\u001b[0;34m\u001b[0m\u001b[0m\n\u001b[0m\u001b[1;32m     45\u001b[0m             \u001b[0mh\u001b[0m \u001b[0;34m=\u001b[0m \u001b[0mh\u001b[0m \u001b[0;34m+\u001b[0m \u001b[0mhc\u001b[0m\u001b[0;34m\u001b[0m\u001b[0;34m\u001b[0m\u001b[0m\n\u001b[1;32m     46\u001b[0m             \u001b[0mself\u001b[0m\u001b[0;34m.\u001b[0m\u001b[0mactivations\u001b[0m\u001b[0;34m[\u001b[0m\u001b[0;34mf'Layer {convidx} activations'\u001b[0m\u001b[0;34m]\u001b[0m \u001b[0;34m=\u001b[0m \u001b[0mconv\u001b[0m\u001b[0;34m.\u001b[0m\u001b[0mactivations\u001b[0m\u001b[0;34m\u001b[0m\u001b[0;34m\u001b[0m\u001b[0m\n",
            "\u001b[0;32m/usr/local/lib/python3.10/dist-packages/torch/nn/modules/module.py\u001b[0m in \u001b[0;36m_wrapped_call_impl\u001b[0;34m(self, *args, **kwargs)\u001b[0m\n\u001b[1;32m   1516\u001b[0m             \u001b[0;32mreturn\u001b[0m \u001b[0mself\u001b[0m\u001b[0;34m.\u001b[0m\u001b[0m_compiled_call_impl\u001b[0m\u001b[0;34m(\u001b[0m\u001b[0;34m*\u001b[0m\u001b[0margs\u001b[0m\u001b[0;34m,\u001b[0m \u001b[0;34m**\u001b[0m\u001b[0mkwargs\u001b[0m\u001b[0;34m)\u001b[0m  \u001b[0;31m# type: ignore[misc]\u001b[0m\u001b[0;34m\u001b[0m\u001b[0;34m\u001b[0m\u001b[0m\n\u001b[1;32m   1517\u001b[0m         \u001b[0;32melse\u001b[0m\u001b[0;34m:\u001b[0m\u001b[0;34m\u001b[0m\u001b[0;34m\u001b[0m\u001b[0m\n\u001b[0;32m-> 1518\u001b[0;31m             \u001b[0;32mreturn\u001b[0m \u001b[0mself\u001b[0m\u001b[0;34m.\u001b[0m\u001b[0m_call_impl\u001b[0m\u001b[0;34m(\u001b[0m\u001b[0;34m*\u001b[0m\u001b[0margs\u001b[0m\u001b[0;34m,\u001b[0m \u001b[0;34m**\u001b[0m\u001b[0mkwargs\u001b[0m\u001b[0;34m)\u001b[0m\u001b[0;34m\u001b[0m\u001b[0;34m\u001b[0m\u001b[0m\n\u001b[0m\u001b[1;32m   1519\u001b[0m \u001b[0;34m\u001b[0m\u001b[0m\n\u001b[1;32m   1520\u001b[0m     \u001b[0;32mdef\u001b[0m \u001b[0m_call_impl\u001b[0m\u001b[0;34m(\u001b[0m\u001b[0mself\u001b[0m\u001b[0;34m,\u001b[0m \u001b[0;34m*\u001b[0m\u001b[0margs\u001b[0m\u001b[0;34m,\u001b[0m \u001b[0;34m**\u001b[0m\u001b[0mkwargs\u001b[0m\u001b[0;34m)\u001b[0m\u001b[0;34m:\u001b[0m\u001b[0;34m\u001b[0m\u001b[0;34m\u001b[0m\u001b[0m\n",
            "\u001b[0;32m/usr/local/lib/python3.10/dist-packages/torch/nn/modules/module.py\u001b[0m in \u001b[0;36m_call_impl\u001b[0;34m(self, *args, **kwargs)\u001b[0m\n\u001b[1;32m   1525\u001b[0m                 \u001b[0;32mor\u001b[0m \u001b[0m_global_backward_pre_hooks\u001b[0m \u001b[0;32mor\u001b[0m \u001b[0m_global_backward_hooks\u001b[0m\u001b[0;34m\u001b[0m\u001b[0;34m\u001b[0m\u001b[0m\n\u001b[1;32m   1526\u001b[0m                 or _global_forward_hooks or _global_forward_pre_hooks):\n\u001b[0;32m-> 1527\u001b[0;31m             \u001b[0;32mreturn\u001b[0m \u001b[0mforward_call\u001b[0m\u001b[0;34m(\u001b[0m\u001b[0;34m*\u001b[0m\u001b[0margs\u001b[0m\u001b[0;34m,\u001b[0m \u001b[0;34m**\u001b[0m\u001b[0mkwargs\u001b[0m\u001b[0;34m)\u001b[0m\u001b[0;34m\u001b[0m\u001b[0;34m\u001b[0m\u001b[0m\n\u001b[0m\u001b[1;32m   1528\u001b[0m \u001b[0;34m\u001b[0m\u001b[0m\n\u001b[1;32m   1529\u001b[0m         \u001b[0;32mtry\u001b[0m\u001b[0;34m:\u001b[0m\u001b[0;34m\u001b[0m\u001b[0;34m\u001b[0m\u001b[0m\n",
            "\u001b[0;32m<ipython-input-66-55f89121f99c>\u001b[0m in \u001b[0;36mforward\u001b[0;34m(self, h, edge_index, edge_attr)\u001b[0m\n\u001b[1;32m     56\u001b[0m         \u001b[0;31m# self.activations['input_h'] = h\u001b[0m\u001b[0;34m\u001b[0m\u001b[0;34m\u001b[0m\u001b[0m\n\u001b[1;32m     57\u001b[0m         \u001b[0;31m# self.activations['input_edge_attr'] = edge_attr\u001b[0m\u001b[0;34m\u001b[0m\u001b[0;34m\u001b[0m\u001b[0m\n\u001b[0;32m---> 58\u001b[0;31m         \u001b[0mout\u001b[0m \u001b[0;34m=\u001b[0m \u001b[0mself\u001b[0m\u001b[0;34m.\u001b[0m\u001b[0mpropagate\u001b[0m\u001b[0;34m(\u001b[0m\u001b[0medge_index\u001b[0m\u001b[0;34m,\u001b[0m \u001b[0mh\u001b[0m\u001b[0;34m=\u001b[0m\u001b[0mh\u001b[0m\u001b[0;34m,\u001b[0m \u001b[0medge_attr\u001b[0m\u001b[0;34m=\u001b[0m\u001b[0medge_attr\u001b[0m\u001b[0;34m)\u001b[0m\u001b[0;34m\u001b[0m\u001b[0;34m\u001b[0m\u001b[0m\n\u001b[0m\u001b[1;32m     59\u001b[0m         \u001b[0;31m# self.activations['output'] = out\u001b[0m\u001b[0;34m\u001b[0m\u001b[0;34m\u001b[0m\u001b[0m\n\u001b[1;32m     60\u001b[0m         \u001b[0;32mreturn\u001b[0m \u001b[0mout\u001b[0m\u001b[0;34m\u001b[0m\u001b[0;34m\u001b[0m\u001b[0m\n",
            "\u001b[0;31mTypeError\u001b[0m: propagate() got an unexpected keyword argument 'h'"
          ]
        }
      ],
      "source": [
        "# Instantiate temporary model, layer, and dataloader for unit testing\n",
        "layer = MPNNLayer(emb_dim=11, edge_dim=4)\n",
        "model = MPNNModel(num_layers=4, emb_dim=64, in_dim=11, edge_dim=4, out_dim=1)\n",
        "dataloader = DataLoader(train_pyg_dataset, batch_size=1, shuffle=True)\n",
        "\n",
        "# Permutation invariance unit test for MPNN model\n",
        "print(f\"Is {type(model).__name__} permutation invariant? --> {permutation_invariance_unit_test(model, dataloader)}!\")\n",
        "\n",
        "# Permutation equivariance unit for MPNN layer\n",
        "print(f\"Is {type(layer).__name__} permutation equivariant? --> {permutation_equivariance_unit_test(layer, dataloader)}!\")"
      ]
    },
    {
      "cell_type": "markdown",
      "metadata": {
        "id": "g-cmASemh0wA"
      },
      "source": [
        "## Training and Evaluating Models\n",
        "\n",
        "Great! We are finally ready to train and evaluate our model on QM9. We have provided a **basic experiment loop** which takes as input the model and dataloaders, performs training, and returns the final performance on the **validation** and **test set**.\n",
        "\n",
        "We will be training a `MPNNModel` consisting of 4 layers of message passing with a hidden dimension of 64."
      ]
    },
    {
      "cell_type": "code",
      "execution_count": null,
      "metadata": {
        "cellView": "form",
        "id": "FrYb8xr5iZQM"
      },
      "outputs": [],
      "source": [
        "#@title [RUN] Helper functions for managing experiments, training, and evaluating models.\n",
        "\n",
        "def train(model, train_loader, optimizer, device):\n",
        "    model.train()\n",
        "    loss_all = 0\n",
        "\n",
        "    for data in train_loader:\n",
        "        data = data.to(device)\n",
        "        optimizer.zero_grad()\n",
        "        y_pred = model(data)\n",
        "        loss = F.mse_loss(y_pred, data.y)\n",
        "        loss.backward()\n",
        "        loss_all += loss.item() * data.num_graphs\n",
        "        optimizer.step()\n",
        "    return loss_all / len(train_loader.dataset)\n",
        "\n",
        "\n",
        "def eval(model, loader, device):\n",
        "    model.eval()\n",
        "    error = 0\n",
        "\n",
        "    for data in loader:\n",
        "        data = data.to(device)\n",
        "        with torch.no_grad():\n",
        "            y_pred = model(data)\n",
        "            # Mean Absolute Error using std (computed when preparing data)\n",
        "            error += (y_pred * std - data.y * std).abs().sum().item()\n",
        "    return error / len(loader.dataset)\n",
        "\n",
        "\n",
        "def run_experiment(model, model_name, train_loader, val_loader, test_loader, n_epochs=100):\n",
        "\n",
        "    print(f\"Running experiment for {model_name}, training on {len(train_loader.dataset)} samples for {n_epochs} epochs.\")\n",
        "\n",
        "    device = torch.device('cuda' if torch.cuda.is_available() else 'cpu')\n",
        "\n",
        "    print(\"\\nModel architecture:\")\n",
        "    print(model)\n",
        "    total_param = 0\n",
        "    for param in model.parameters():\n",
        "        total_param += np.prod(list(param.data.size()))\n",
        "    print(f'Total parameters: {total_param}')\n",
        "    model = model.to(device)\n",
        "\n",
        "    # Adam optimizer with LR 1e-3\n",
        "    optimizer = torch.optim.Adam(model.parameters(), lr=0.001)\n",
        "\n",
        "    # LR scheduler which decays LR when validation metric doesn't improve\n",
        "    scheduler = torch.optim.lr_scheduler.ReduceLROnPlateau(\n",
        "        optimizer, mode='min', factor=0.9, patience=5, min_lr=0.00001)\n",
        "\n",
        "    print(\"\\nStart training:\")\n",
        "    best_val_error = None\n",
        "    perf_per_epoch = [] # Track Test/Val MAE vs. epoch (for plotting)\n",
        "    t = time.time()\n",
        "    for epoch in range(1, n_epochs+1):\n",
        "        # Call LR scheduler at start of each epoch\n",
        "        lr = scheduler.optimizer.param_groups[0]['lr']\n",
        "\n",
        "        # Train model for one epoch, return avg. training loss\n",
        "        loss = train(model, train_loader, optimizer, device)\n",
        "\n",
        "        # Evaluate model on validation set\n",
        "        val_error = eval(model, val_loader, device)\n",
        "\n",
        "        if best_val_error is None or val_error <= best_val_error:\n",
        "            # Evaluate model on test set if validation metric improves\n",
        "            test_error = eval(model, test_loader, device)\n",
        "            best_val_error = val_error\n",
        "\n",
        "        if epoch % 10 == 0:\n",
        "            # Print and track stats every 10 epochs\n",
        "            print(f'Epoch: {epoch:03d}, LR: {lr:5f}, Loss: {loss:.7f}, '\n",
        "                  f'Val MAE: {val_error:.7f}, Test MAE: {test_error:.7f}')\n",
        "\n",
        "        scheduler.step(val_error)\n",
        "        perf_per_epoch.append((test_error, val_error, epoch, model_name))\n",
        "\n",
        "    t = time.time() - t\n",
        "    train_time = t/60\n",
        "    print(f\"\\nDone! Training took {train_time:.2f} mins. Best validation MAE: {best_val_error:.7f}, corresponding test MAE: {test_error:.7f}.\")\n",
        "\n",
        "    return best_val_error, test_error, train_time, perf_per_epoch"
      ]
    },
    {
      "cell_type": "code",
      "execution_count": 63,
      "metadata": {
        "colab": {
          "base_uri": "https://localhost:8080/",
          "height": 211
        },
        "id": "JsGM5LWmiZQM",
        "outputId": "d66176d8-4fcf-4180-a3fd-9ee5011f4d45"
      },
      "outputs": [
        {
          "output_type": "error",
          "ename": "NameError",
          "evalue": "name 'run_experiment' is not defined",
          "traceback": [
            "\u001b[0;31m---------------------------------------------------------------------------\u001b[0m",
            "\u001b[0;31mNameError\u001b[0m                                 Traceback (most recent call last)",
            "\u001b[0;32m<ipython-input-63-f81bf302b007>\u001b[0m in \u001b[0;36m<cell line: 3>\u001b[0;34m()\u001b[0m\n\u001b[1;32m      1\u001b[0m \u001b[0mmodel\u001b[0m \u001b[0;34m=\u001b[0m \u001b[0mMPNNModel\u001b[0m\u001b[0;34m(\u001b[0m\u001b[0mnum_layers\u001b[0m\u001b[0;34m=\u001b[0m\u001b[0;36m4\u001b[0m\u001b[0;34m,\u001b[0m \u001b[0memb_dim\u001b[0m\u001b[0;34m=\u001b[0m\u001b[0;36m64\u001b[0m\u001b[0;34m,\u001b[0m \u001b[0min_dim\u001b[0m\u001b[0;34m=\u001b[0m\u001b[0;36m11\u001b[0m\u001b[0;34m,\u001b[0m \u001b[0medge_dim\u001b[0m\u001b[0;34m=\u001b[0m\u001b[0;36m4\u001b[0m\u001b[0;34m,\u001b[0m \u001b[0mout_dim\u001b[0m\u001b[0;34m=\u001b[0m\u001b[0;36m1\u001b[0m\u001b[0;34m)\u001b[0m\u001b[0;34m\u001b[0m\u001b[0;34m\u001b[0m\u001b[0m\n\u001b[1;32m      2\u001b[0m \u001b[0mmodel_name\u001b[0m \u001b[0;34m=\u001b[0m \u001b[0mtype\u001b[0m\u001b[0;34m(\u001b[0m\u001b[0mmodel\u001b[0m\u001b[0;34m)\u001b[0m\u001b[0;34m.\u001b[0m\u001b[0m__name__\u001b[0m\u001b[0;34m\u001b[0m\u001b[0;34m\u001b[0m\u001b[0m\n\u001b[0;32m----> 3\u001b[0;31m best_val_error, test_error, train_time, perf_per_epoch = run_experiment(\n\u001b[0m\u001b[1;32m      4\u001b[0m     \u001b[0mmodel\u001b[0m\u001b[0;34m,\u001b[0m\u001b[0;34m\u001b[0m\u001b[0;34m\u001b[0m\u001b[0m\n\u001b[1;32m      5\u001b[0m     \u001b[0mmodel_name\u001b[0m\u001b[0;34m,\u001b[0m\u001b[0;34m\u001b[0m\u001b[0;34m\u001b[0m\u001b[0m\n",
            "\u001b[0;31mNameError\u001b[0m: name 'run_experiment' is not defined"
          ]
        }
      ],
      "source": [
        "model = MPNNModel(num_layers=4, emb_dim=64, in_dim=11, edge_dim=4, out_dim=1)\n",
        "model_name = type(model).__name__\n",
        "best_val_error, test_error, train_time, perf_per_epoch = run_experiment(\n",
        "    model,\n",
        "    model_name,\n",
        "    train_loader,\n",
        "    val_loader,\n",
        "    test_loader,\n",
        "    n_epochs=100\n",
        ")\n",
        "RESULTS[model_name] = (best_val_error, test_error, train_time)\n",
        "df_temp = pd.DataFrame(perf_per_epoch, columns=[\"Test MAE\", \"Val MAE\", \"Epoch\", \"Model\"])\n",
        "DF_RESULTS = DF_RESULTS.append(df_temp, ignore_index=True)"
      ]
    },
    {
      "cell_type": "code",
      "execution_count": null,
      "metadata": {
        "id": "e4NWM5CbptmE"
      },
      "outputs": [],
      "source": [
        "RESULTS"
      ]
    },
    {
      "cell_type": "code",
      "execution_count": null,
      "metadata": {
        "id": "v7rtvD0zvmpF"
      },
      "outputs": [],
      "source": [
        "p = sns.lineplot(x=\"Epoch\", y=\"Val MAE\", hue=\"Model\", data=DF_RESULTS)\n",
        "p.set(ylim=(0, 2));"
      ]
    },
    {
      "cell_type": "code",
      "execution_count": null,
      "metadata": {
        "id": "r1pjr7brqKCz"
      },
      "outputs": [],
      "source": [
        "p = sns.lineplot(x=\"Epoch\", y=\"Test MAE\", hue=\"Model\", data=DF_RESULTS)\n",
        "p.set(ylim=(0, 1));"
      ]
    },
    {
      "cell_type": "markdown",
      "metadata": {
        "id": "SQjp21t7Z2UF"
      },
      "source": [
        "Super! Everything up to this point has already been covered in the lectures, and we hope that the practical so far has been a useful recap along with the accompanying code.\n",
        "\n",
        "Now for the fun part, where you will be required to think what you have studied so far!\n",
        "\n",
        "---"
      ]
    },
    {
      "cell_type": "markdown",
      "metadata": {
        "id": "bReLCZx9teYT"
      },
      "source": [
        "#<font color=lightblue>  🧊 Geometric Graphs and Message Passing with 3D Coordinates\n",
        "\n",
        "Remember that we were given **3D coordinates** with each atom in our molecular graph?\n",
        "\n",
        "Molecular graphs, and other structured data occurring in nature, do not simply exist on flat planes. Instead, molecules have an **inherent 3D structure** that influences their properties and functions.\n",
        "\n",
        "Let us visualize a molecule from QM9 in all of its 3D glory!\n",
        "\n",
        "Go ahead and try move this molecule with your mouse cursor!"
      ]
    },
    {
      "cell_type": "code",
      "execution_count": null,
      "metadata": {
        "id": "9yFToebQcxo4"
      },
      "outputs": [],
      "source": [
        "MolTo3DView(smi2conf(Chem.MolToSmiles(to_rdkit(train_pyg_dataset[48]))))"
      ]
    },
    {
      "cell_type": "markdown",
      "metadata": {
        "id": "bzDu7IH2H3qI"
      },
      "source": [
        "## 💻 <font color=purple> **Task 2.1:** Develop a Message Passing Neural Network `CoordMPNNModel` that incorporates the atom coordinates as node features. **(1.0 Marks)**.\n",
        "\n",
        "\n",
        "The `MPNNModel` we provided in the introduction above ignores the atom coordinates and only uses the node features to perform message passing. This means that the model is **not** leveraging useful **3D structural information** to predict the target property.\n",
        "\n",
        "Your first task is to modify the original `MPNNModel` to incorporate **atom coordinates** into the **node features**.\n",
        "\n",
        "We have defined most of the new `CoordMPNNModel` class for you, and you have to fill in the `YOUR CODE HERE` sections.\n",
        "\n",
        "🤔 *Hint: As reminder, the 3D atom positions are stored in `data.pos`. You don't have to do something very smart right now (that will come later). A **simple** solution is okay to get started, e.g. concatenation or summation.*\n"
      ]
    },
    {
      "cell_type": "code",
      "execution_count": null,
      "metadata": {
        "id": "kRiMjgVSC7sD"
      },
      "outputs": [],
      "source": [
        "class CoordMPNNModel(MPNNModel):\n",
        "    def __init__(self, num_layers=4, emb_dim=64, in_dim=11, edge_dim=4, out_dim=1):\n",
        "        \"\"\"Message Passing Neural Network model for graph property prediction\n",
        "\n",
        "        This model uses both node features and coordinates as inputs.\n",
        "\n",
        "        Args:\n",
        "            num_layers: (int) - number of message passing layers `L`\n",
        "            emb_dim: (int) - hidden dimension `d`\n",
        "            in_dim: (int) - initial node feature dimension `d_n`\n",
        "            edge_dim: (int) - edge feature dimension `d_e`\n",
        "            out_dim: (int) - output dimension (fixed to 1)\n",
        "        \"\"\"\n",
        "        super().__init__()\n",
        "\n",
        "        # ============ YOUR CODE HERE ==============\n",
        "        # Adapt the input linear layer or add new input layers\n",
        "        # to account for the atom positions.\n",
        "        #\n",
        "        # Linear projection for initial node features and coordinates\n",
        "        # dim: ??? -> d\n",
        "        self.lin_in = Linear(in_dim + 3, emb_dim)\n",
        "        # ==========================================\n",
        "\n",
        "        # Stack of MPNN layers\n",
        "        self.convs = torch.nn.ModuleList()\n",
        "        for layer in range(num_layers):\n",
        "            self.convs.append(MPNNLayer(emb_dim, edge_dim, aggr='add'))\n",
        "\n",
        "        # Global pooling/readout function `R` (mean pooling)\n",
        "        # PyG handles the underlying logic via `global_mean_pool()`\n",
        "        self.pool = global_mean_pool\n",
        "\n",
        "        # Linear prediction head\n",
        "        # dim: d -> out_dim\n",
        "        self.lin_pred = Linear(emb_dim, out_dim)\n",
        "\n",
        "    def forward(self, data):\n",
        "        \"\"\"\n",
        "        Args:\n",
        "            data: (PyG.Data) - batch of PyG graphs\n",
        "\n",
        "        Returns:\n",
        "            out: (batch_size, out_dim) - prediction for each graph\n",
        "        \"\"\"\n",
        "        # ============ YOUR CODE HERE ==============\n",
        "        # Incorporate the atom positions along with the features.\n",
        "        #\n",
        "        h = self.lin_in(torch.cat([data.x, data.pos], dim=1))\n",
        "        # ==========================================\n",
        "\n",
        "        for conv in self.convs:\n",
        "            h = h + conv(h, data.edge_index, data.edge_attr) # (n, d) -> (n, d)\n",
        "            # Note that we add a residual connection after each MPNN layer\n",
        "\n",
        "        h_graph = self.pool(h, data.batch) # (n, d) -> (batch_size, d)\n",
        "\n",
        "        out = self.lin_pred(h_graph) # (batch_size, d) -> (batch_size, 1)\n",
        "\n",
        "        return out.view(-1)"
      ]
    },
    {
      "cell_type": "markdown",
      "metadata": {
        "id": "2GjBznG2x96s"
      },
      "source": [
        "Before we go on to evaluating the new MPNN, let us once again run the permutation sanity checks again to make sure the model and layer have the desired properties that constitute every basic GNN:\n",
        "- The `MPNNLayer` should be permutation equivariant.\n",
        "- The `CoordMPNNModel` should be permutation invariant."
      ]
    },
    {
      "cell_type": "code",
      "execution_count": null,
      "metadata": {
        "id": "34Besg_qKo7A"
      },
      "outputs": [],
      "source": [
        "# @title ✅ [RUN] **Please run this unit test to validate your code. The output would be used to mark your practical.**\n",
        "layer = MPNNLayer(emb_dim=11, edge_dim=4)\n",
        "model = CoordMPNNModel(num_layers=4, emb_dim=64, in_dim=11, edge_dim=4, out_dim=1)\n",
        "\n",
        "dataloader = DataLoader(train_pyg_dataset, batch_size=1, shuffle=True)\n",
        "\n",
        "# Permutation invariance unit test for MPNN model\n",
        "is_permutation_invariant = permutation_invariance_unit_test(model, dataloader)\n",
        "assert is_permutation_invariant, \"🤔 Something is wrong in the model! Your CoordMPN is not permutation invariant 🥺\"\n",
        "\n",
        "# Permutation equivariance unit for MPNN layer\n",
        "is_permutation_equivariant = permutation_equivariance_unit_test(layer, dataloader)\n",
        "assert is_permutation_equivariant, \"🤔 Something is wrong in the model! Your MPNN Layer is not permutation equivariant 🥺\"\n",
        "\n",
        "model = CoordMPNNModel(num_layers=1, emb_dim=1, in_dim=1, edge_dim=1, out_dim=1)\n",
        "\n",
        "outs = torch.concatenate([model(dummy_data) for dummy_data in get_dummy_data()])\n",
        "are_all_equal = torch.all(outs == outs[0])\n",
        "\n",
        "assert not are_all_equal, \"🤔 Something is wrong in the model! Your CoordMPN is not using the positional information 🥺\"\n",
        "\n",
        "print(\"✅ All seems good!!!\")"
      ]
    },
    {
      "cell_type": "code",
      "execution_count": null,
      "metadata": {
        "id": "SZNSwwhuh_5D"
      },
      "outputs": [],
      "source": [
        "print(f\"Is {type(model).__name__} permutation invariant? --> {is_permutation_invariant}!\")\n",
        "print(f\"Is {type(layer).__name__} permutation equivariant? --> {is_permutation_equivariant}!\")"
      ]
    },
    {
      "cell_type": "markdown",
      "metadata": {
        "id": "TtVdT-uoP5cn"
      },
      "source": [
        "## <font color = blue> 💻 [OPTIONAL] Train and evaluate your `CoordMPNNModel` with node features and coordinates on QM9.\n",
        "\n",
        "Awesome! You are now ready to train and evaluate our new MPNN with node features and coordinates on QM9.\n",
        "\n",
        "Re-use the experiment loop we have provided and fill in the `YOUR CODE HERE` sections to run the experiment.\n",
        "\n",
        "You will be training a `CoordMPNNModel` consisting of 4 layers of message passing with a hidden dimension of 64, in order to compare your result fairly to the previous vanilla `MPNNModel`."
      ]
    },
    {
      "cell_type": "code",
      "execution_count": null,
      "metadata": {
        "id": "4NCZinUVPozM"
      },
      "outputs": [],
      "source": [
        "# ============ YOUR CODE HERE ==============\n",
        "# Instantiate your CoordMPNNModel with the appropriate arguments.\n",
        "#\n",
        "model = CoordMPNNModel(num_layers=4, emb_dim=64, in_dim=11, edge_dim=4, out_dim=1)\n",
        "# ==========================================\n",
        "\n",
        "model_name = type(model).__name__\n",
        "best_val_error, test_error, train_time, perf_per_epoch = run_experiment(\n",
        "    model,\n",
        "    model_name, # \"MPNN w/ Features and Coordinates\",\n",
        "    train_loader,\n",
        "    val_loader,\n",
        "    test_loader,\n",
        "    n_epochs=100\n",
        ")\n",
        "\n",
        "RESULTS[model_name] = (best_val_error, test_error, train_time)\n",
        "df_temp = pd.DataFrame(perf_per_epoch, columns=[\"Test MAE\", \"Val MAE\", \"Epoch\", \"Model\"])\n",
        "DF_RESULTS = DF_RESULTS.append(df_temp, ignore_index=True)"
      ]
    },
    {
      "cell_type": "code",
      "execution_count": null,
      "metadata": {
        "id": "jNU5ISpKsHOR"
      },
      "outputs": [],
      "source": [
        "RESULTS"
      ]
    },
    {
      "cell_type": "code",
      "execution_count": null,
      "metadata": {
        "id": "rbTC_wWPr_qW"
      },
      "outputs": [],
      "source": [
        "p = sns.lineplot(x=\"Epoch\", y=\"Val MAE\", hue=\"Model\", data=DF_RESULTS)\n",
        "p.set(ylim=(0, 2));"
      ]
    },
    {
      "cell_type": "code",
      "execution_count": null,
      "metadata": {
        "id": "PC5Cd0FKwxoD"
      },
      "outputs": [],
      "source": [
        "p = sns.lineplot(x=\"Epoch\", y=\"Test MAE\", hue=\"Model\", data=DF_RESULTS)\n",
        "p.set(ylim=(0, 1));"
      ]
    },
    {
      "cell_type": "markdown",
      "metadata": {
        "id": "f_2h-Ki6RKSX"
      },
      "source": [
        "Hmm... If you've implemented the `CoordMPNNModel` correctly up till now, you may see a very curious result -- the performance of `CoordMPNNModel` is about equal or marginally worse than the vanilla `MPNNModel`!\n",
        "\n",
        "This is because the `CoordMPNNModel` may not be using 3D structural information in the most principled manner.</font>\n",
        "\n",
        "The next sections will help us formalise and understand why this is happening.\n",
        "\n",
        "---"
      ]
    },
    {
      "cell_type": "markdown",
      "metadata": {
        "id": "89EPWJ8fGwHe"
      },
      "source": [
        "## 🔄 Invariance to 3D Symmetries: Rotation and Translation\n",
        "\n",
        "We saw that the performance of `CoordMPNNModel` is unexpectedly mediocre compared to `MPNNModel` despite using both node features and coordinates. (But please do not panic if your results say otherwise.) In order to determine why, we must understand the concept of **3D symmetries**.\n",
        "\n",
        "### Geometric Invariance\n",
        "\n",
        "Recall that molecular graphs have 3D coordinates for each atom. A key detail which we have purposely withheld from you up till this point (😈) is that these 3D coordinates are **not  inherently fixed** or **permanent**. Instead, they were **experimentally determined** relative to a **frame of reference**.\n",
        "\n",
        "\n",
        "The atoms' 3D coordinates might be given in various different reference frames which are rotated or translated with respect to each other. However, the **properties** of this molecule will always remain the same no matter how we rotate or translate it. In other words, the molecule's properties are **invariant** to 3D rotations and translations.\n",
        "\n",
        "In this block we will study how to design GNN layers and models that respect these regularities.\n",
        "\n",
        "### Formalism\n",
        "\n",
        "Let us formalise the notion of invariance to 3D rotations and translations in GNNs via matrix notation.\n",
        "\n",
        "- Let $\\mathbf{H} \\in \\mathbb{R}^{n \\times d}$ be a matrix of node features for a given molecular graph, where $n$ is the number of nodes/atoms and each row $h_i$ is the $d$-dimensional feature for node $i$.\n",
        "- Let $\\mathbf{X} \\in \\mathbb{R}^{n \\times 3}$ be a matrix of node coordinates for a given molecular graph, where $n$ is the number of nodes/atoms and each row $x_i$ is the 3D coordinate for node $i$.\n",
        "- Let $\\mathbf{A} \\in \\mathbb{R}^{n \\times n}$ be the adjacency matrix where each entry denotes $a_{ij}$ the presence or absence of an edge between nodes $i$ and $j$.\n",
        "- Let $\\mathbf{F}(\\mathbf{H}, \\mathbf{X}, \\mathbf{A}): \\mathbb{R}^{n \\times d} \\times \\mathbb{R}^{n \\times 3} \\times \\mathbb{R}^{n \\times n} \\rightarrow \\mathbb{R}^{n \\times d}$ be a **GNN <ins>layer**</ins> that takes as input the node features, node coordinates, and adjacency matrix, and returns the **updated node features**.\n",
        "- Let $f(\\mathbf{H}, \\mathbf{X}, \\mathbf{A}): \\mathbb{R}^{n \\times d} \\times \\mathbb{R}^{n \\times 3} \\times \\mathbb{R}^{n \\times n} \\rightarrow \\mathbb{R}$ be a **GNN <ins>model**</ins> that takes as input the node features, node coordinates, and adjacency matrix, and returns the **predicted graph-level property**.\n",
        "\n",
        "(Notice that we have updated the notation for the GNN layer $\\mathbf{F}$ and GNN model $\\mathbf{f}$ to include the matrix of node coordinates $\\mathbf{X}$ as an additional input.)"
      ]
    },
    {
      "cell_type": "markdown",
      "metadata": {
        "id": "xcWgYnZ9ymse"
      },
      "source": [
        "\n",
        "What does it mean for the GNN <ins>model</ins> $f$ and the GNN <ins>layer</ins> $\\mathbf{F}$ to be invariant to 3D rotations and translations? Let's express this mathematically using the definitions above.\n",
        "\n",
        "Let us define an orthogonal [**rotation matrix**](https://en.wikipedia.org/wiki/Rotation_matrix) $\\mathbf{Q} \\in \\mathbb{R}^{3 \\times 3}$ and [**translation vector**](https://en.wikipedia.org/wiki/Translation_(geometry)) $\\mathbf{t} \\in \\mathbb{R}^3$ that operate on the matrix of node coordinates $\\mathbf{X} \\in \\mathbb{R}^{n \\times 3}$.\n",
        "The GNN <ins>layer</ins> $\\mathbf{F}$ is **rotation** and **translation invariant** as follows:\n",
        "$$\n",
        "\\mathbf{F}(\\mathbf{H}, \\mathbf{X} \\ \\mathbf{Q} + \\mathbf{t}, \\mathbf{A}) = \\mathbf{F}(\\mathbf{H}, \\mathbf{X}, \\mathbf{A}).\n",
        "$$\n",
        "\n",
        "The GNN <ins>model</ins> $f$ for graph-level prediction is **rotation** and **translation invariant** as follows:\n",
        "$$\n",
        "f(\\mathbf{H}, \\mathbf{X} \\ \\mathbf{Q} + \\mathbf{t}, \\mathbf{A}) = f(\\mathbf{H}, \\mathbf{X}, \\mathbf{A}).\n",
        "$$\n",
        "</font>"
      ]
    },
    {
      "cell_type": "markdown",
      "metadata": {
        "id": "yfOU10W1O729"
      },
      "source": [
        "## 💻**Task 2.2:** Write the unit test to check your `CoordMPNNModel` for 3D rotation and translation invariance. **(1.0 Mark)**\n",
        "\n",
        "\n",
        "🤔 *Hint: Show that the output of the model varies when:*\n",
        "1. All the atom coordinates in `data.pos` are multiplied by any random _orthogonal_ rotation matrix $Q \\in \\mathbb{R}^{3 \\times 3}$. (We have provided a helper function for creating rotation matrices.)\n",
        "2. All the atom coordinates in `data.pos` are displaced by any random translation vector $\\mathbf{t} \\in \\mathbb{R}^3$."
      ]
    },
    {
      "cell_type": "code",
      "execution_count": null,
      "metadata": {
        "id": "C017NYCReaRy"
      },
      "outputs": [],
      "source": [
        "def random_orthogonal_matrix(dim=3):\n",
        "  \"\"\"Helper function to build a random orthogonal matrix of shape (dim, dim)\n",
        "  \"\"\"\n",
        "  Q = torch.tensor(ortho_group.rvs(dim=dim)).float()\n",
        "  return Q\n",
        "\n",
        "\n",
        "def rot_trans_invariance_unit_test(module, dataloader):\n",
        "    \"\"\"Unit test for checking whether a module (GNN model/layer) is\n",
        "    rotation and translation invariant.\n",
        "    \"\"\"\n",
        "    it = iter(dataloader)\n",
        "    data = next(it)\n",
        "\n",
        "    # Forward pass on original example\n",
        "    # Note: We have written a conditional forward pass so that the same unit\n",
        "    #       test can be used for both the GNN model as well as the layer.\n",
        "    #       The functionality for layers will be useful subsequently.\n",
        "    if isinstance(module, MPNNModel):\n",
        "        out_1 = module(data)\n",
        "    else: # if isinstance(module, MessagePassing):\n",
        "        out_1 = module(data.x, data.pos, data.edge_index, data.edge_attr)\n",
        "\n",
        "    Q = random_orthogonal_matrix(dim=3)\n",
        "    t = torch.rand(3)\n",
        "    # ============ YOUR CODE HERE ==============\n",
        "    # Perform random rotation + translation on data.\n",
        "    data.pos = torch.mm(data.pos, Q) + t\n",
        "    # ==========================================\n",
        "\n",
        "    # Forward pass on rotated + translated example\n",
        "    if isinstance(module, MPNNModel):\n",
        "        out_2 = module(data)\n",
        "    else: # if isinstance(module, MessagePassing):\n",
        "        out_2 = module(data.x, data.pos, data.edge_index, data.edge_attr)\n",
        "\n",
        "    # ============ YOUR CODE HERE ==============\n",
        "    # Check whether output varies after applying transformations.\n",
        "    return torch.allclose(out_1, out_2, atol=1e-04)\n",
        "    # =========================================="
      ]
    },
    {
      "cell_type": "code",
      "execution_count": null,
      "metadata": {
        "id": "vBzfG3Kqh_5G"
      },
      "outputs": [],
      "source": [
        "# @title ✅ [RUN] **Please run this unit test to validate your code. The output would be used to mark your practical.**\n",
        "dataloader = DataLoader(train_pyg_dataset, batch_size=1, shuffle=True)\n",
        "\n",
        "# Non-invariant unit test\n",
        "is_3D_invariant = rot_trans_invariance_unit_test(dummy_not_invariant, dataloader)\n",
        "assert not is_3D_invariant, \"🤔 Something is wrong in your unit test! It gave a false positive 🥺\"\n",
        "\n",
        "# Only Translational Invariant unit test\n",
        "is_3D_invariant = rot_trans_invariance_unit_test(dummy_only_trans_invariant, dataloader)\n",
        "assert not is_3D_invariant, \"🤔 Something is wrong in your unit test! Maybe you did not code a check for rotational invariance? 🥺\"\n",
        "\n",
        "# Only Rotational Invariant unit test\n",
        "is_3D_invariant = rot_trans_invariance_unit_test(dummy_only_rot_invariant, dataloader)\n",
        "assert not is_3D_invariant, \"🤔 Something is wrong in your unit test! Maybe you did not code a check for translational invariance? 🥺\"\n",
        "\n",
        "# Invariant unit test\n",
        "is_3D_invariant = rot_trans_invariance_unit_test(dummy_invariant, dataloader)\n",
        "assert is_3D_invariant, \"🤔 Something is wrong in your unit test! It gave a false negative 🥺\"\n",
        "\n",
        "print(\"✅ All seems good!!!\")"
      ]
    },
    {
      "cell_type": "markdown",
      "metadata": {
        "id": "hxVHYY_ahxrX"
      },
      "source": [
        "Now that you have defined the unit tests for rotation and translation invariance, perform the sanity check on your `CoordMPNNModel`. Before you run it, pause a moment to think - what result would you expect?"
      ]
    },
    {
      "cell_type": "code",
      "execution_count": null,
      "metadata": {
        "id": "U2Gv4m3ahcya"
      },
      "outputs": [],
      "source": [
        "# Instantiate temporary model, layer, and dataloader for unit testing\n",
        "model = CoordMPNNModel(num_layers=4, emb_dim=64, in_dim=11, edge_dim=4, out_dim=1)\n",
        "dataloader = DataLoader(train_pyg_dataset, batch_size=1, shuffle=True)\n",
        "\n",
        "# Rotation and translation invariance unit test for MPNN model\n",
        "print(f\"Is {type(model).__name__} rotation and translation invariant? --> {rot_trans_invariance_unit_test(model, dataloader)}!\")"
      ]
    },
    {
      "cell_type": "markdown",
      "metadata": {
        "id": "lYqLfZpFj0Pf"
      },
      "source": [
        "(<font color = red> 🔴 Spoiler alert: the unit test should return `False` for the `CoordMPNNModel`.)\n",
        "\n",
        "In this part, you have formalised how a GNN can be 3D rotation and translation invariant, thought about why this is desirable for molecular property prediction, and shown that the `CoordMPNNModel` was not rotation and translation invariant.\n",
        "\n",
        "At this point, you should have a concrete understanding of why the performance of `CoordMPNNModel` is equal or worse than the vanilla `MPNNModel`, and what we meant by our initial statement before we began this part:\n",
        ">\"The `CoordMPNNModel` may not be using 3D structural information in the most principled manner\"\n",
        "\n",
        "Let us try fixing this in the next part!\n",
        "\n",
        "---"
      ]
    },
    {
      "cell_type": "markdown",
      "metadata": {
        "id": "byXbNG9lGizB"
      },
      "source": [
        "## ✈️ Upgrading message Passing with Invariance to 3D Rotations and Translations\n",
        "\n",
        "This section will dive into how we may design GNN models which operate on graphs with 3D coordinates in a more theoretically sound way."
      ]
    },
    {
      "cell_type": "markdown",
      "metadata": {
        "id": "BWceJ74iH7lV"
      },
      "source": [
        "## <font color = purple> 💻 **Task 2.3:** Design a new Message Passing Layer as well as the accompanying MPNN Model that are both <ins>invariant</ins> to 3D rotations and translations. Verify this using the unit test you coded. **(3 Marks)**\n",
        "\n",
        "**❗️ Note:** There are multiple ways to arrive at invariance, so there is no single correct answer to this question.\n",
        "\n",
        "Our initial **'vanilla' MPNN** `MPNNModel` and `MPNNLayer` ignored the atom coordinates and only uses the node features to perform message passing. This means that the model was **not** leveraging **3D structural information** to predict the target property.\n",
        "\n",
        "Our second **'naive' coordinate MPNN** `CoordMPNNModel` used the node features along with the atom coordinates in an unprincipled manner, resulting in the model not being invariant to 3D rotations and translations of the coordinates (which was a desirable property, as we saw in the previous part).\n",
        "\n",
        "Your task is to define a new `InvariantMPNNLayer` which utilise both **atom coordinates** and **node features**.\n",
        "\n",
        "We have defined most of the new `InvariantMPNNLayer`, and you have to fill in the `YOUR CODE HERE` sections. We have also already defined the `InvariantMPNNModel` that instantiates your new layer to compose the model. You only need to define the new layer.\n",
        "\n",
        "🤔 *Hint 1: Unlike the previous `CoordMPNNModel`, we would suggest using the coordinate information to construct the messages as opposed to incorporating it into the node features. In particular, we would like to urge you to think about **how** we can use the coordinates in a principled manner to construct the messages: What is a quantity (or if you find multiple, what are quantities) that we can compute using a pair of coordinates that will be invariant to rotating and translating the coordinates?*\n",
        "\n",
        "🤔 *Hint 2:  tensors passed to `propagate()` can be mapped to the respective nodes  and  by appending `_i` or `_j` to the variable name, e.g. `h_i` and `h_j` for the node features `h`. Note that we generally refer to `_i` as the central nodes that aggregates information, and refer to `_j` as the neighboring nodes.*"
      ]
    },
    {
      "cell_type": "code",
      "execution_count": null,
      "metadata": {
        "id": "cZ2f0wOEK-Qx"
      },
      "outputs": [],
      "source": [
        "class InvariantMPNNLayer(MessagePassing):\n",
        "    def __init__(self, emb_dim=64, edge_dim=4, aggr='add'):\n",
        "        \"\"\"Message Passing Neural Network Layer\n",
        "\n",
        "        This layer is invariant to 3D rotations and translations.\n",
        "\n",
        "        Args:\n",
        "            emb_dim: (int) - hidden dimension `d`\n",
        "            edge_dim: (int) - edge feature dimension `d_e`\n",
        "            aggr: (str) - aggregation function `\\oplus` (sum/mean/max)\n",
        "        \"\"\"\n",
        "        # Set the aggregation function\n",
        "        super().__init__(aggr=aggr)\n",
        "\n",
        "        self.emb_dim = emb_dim\n",
        "        self.edge_dim = edge_dim\n",
        "\n",
        "        # ============ YOUR CODE HERE ==============\n",
        "        # MLP `\\psi` for computing messages `m_ij`\n",
        "        # dims: 2d + e + 1 -> d\n",
        "        #\n",
        "        self.mlp_msg = Sequential(\n",
        "            Linear(2*emb_dim + edge_dim + 1, emb_dim), BatchNorm1d(emb_dim), ReLU(),\n",
        "            Linear(emb_dim, emb_dim), BatchNorm1d(emb_dim), ReLU()\n",
        "          )\n",
        "        # ==========================================\n",
        "\n",
        "        # MLP `\\phi` for computing updated node features `h_i^{l+1}`\n",
        "        # dims: 2d -> d\n",
        "        self.mlp_upd = Sequential(\n",
        "            Linear(2*emb_dim, emb_dim), BatchNorm1d(emb_dim), ReLU(),\n",
        "            Linear(emb_dim, emb_dim), BatchNorm1d(emb_dim), ReLU()\n",
        "          )\n",
        "\n",
        "    def forward(self, h, pos, edge_index, edge_attr):\n",
        "        \"\"\"\n",
        "        The forward pass updates node features `h` via one round of message passing.\n",
        "\n",
        "        Args:\n",
        "            h: (n, d) - initial node features\n",
        "            pos: (n, 3) - initial node coordinates\n",
        "            edge_index: (e, 2) - pairs of edges (i, j)\n",
        "            edge_attr: (e, d_e) - edge features\n",
        "\n",
        "        Returns:\n",
        "            out: (n, d) - updated node features\n",
        "        \"\"\"\n",
        "        # ============ YOUR CODE HERE ==============\n",
        "        # Notice that the `forward()` function has a new argument\n",
        "        # `pos` denoting the initial node coordinates. Your task is\n",
        "        # to update the `propagate()` function in order to pass `pos`\n",
        "        # to the `message()` function along with the other arguments.\n",
        "        #\n",
        "        out  = self.propagate(edge_index, h=h, edge_attr=edge_attr, pos=pos)\n",
        "        return out\n",
        "        # ==========================================\n",
        "\n",
        "    # ============ YOUR CODE HERE ==============\n",
        "    # Write a custom `message()` function that takes as arguments the\n",
        "    # source and destination node features, node coordinates, and `edge_attr`.\n",
        "    # Incorporate the coordinates `pos` into the message computation such\n",
        "    # that the messages are invariant to rotations and translations.\n",
        "    # This will ensure that the overall layer is also invariant.\n",
        "    #\n",
        "    def message(self, h_i, h_j, edge_attr, pos_i , pos_j):\n",
        "        \"\"\"The `message()` function constructs messages from source nodes j\n",
        "          to destination nodes i for each edge (j, i) in `edge_index`.\n",
        "\n",
        "        Args:\n",
        "              h_i: (e, d) - destination node features, essentially h[edge_index[1]]\n",
        "              h_j: (e, d) - source node features, essentially h[edge_index[0]]\n",
        "              edge_attr: (e, d_e) - edge features\n",
        "              pos_i: (e, 3)\n",
        "              pos_j: (e, 3)\n",
        "        Returns:\n",
        "              msg: (e, d) - messages `m_ji` passed through MLP `\\psi`\n",
        "        \"\"\"\n",
        "        edge_dist = torch.norm(pos_i - pos_j, p=2, dim=1)\n",
        "        edge_dist= edge_dist.unsqueeze(-1)\n",
        "        msg = torch.cat([h_i, h_j, edge_attr, edge_dist], dim=-1)\n",
        "        return self.mlp_msg(msg)\n",
        "    # ==========================================\n",
        "\n",
        "    def aggregate(self, inputs, index):\n",
        "        \"\"\"The `aggregate` function aggregates the messages from neighboring nodes,\n",
        "        according to the chosen aggregation function ('sum' by default).\n",
        "\n",
        "        Args:\n",
        "            inputs: (e, d) - messages `m_ji` from source to destination nodes\n",
        "            index: (e, 1) - list of destination nodes for each edge/message in `input`\n",
        "\n",
        "        Returns:\n",
        "            aggr_out: (n, d) - aggregated messages `m_i`\n",
        "        \"\"\"\n",
        "        return scatter(inputs, index, dim=self.node_dim, reduce=self.aggr)\n",
        "\n",
        "    def update(self, aggr_out, h):\n",
        "        \"\"\"The `update()` function computes the final node features by combining the\n",
        "        aggregated messages with the initial node features.\n",
        "\n",
        "        Args:\n",
        "            aggr_out: (n, d) - aggregated messages `m_i`\n",
        "            h: (n, d) - initial node features\n",
        "\n",
        "        Returns:\n",
        "            upd_out: (n, d) - updated node features passed through MLP `\\phi`\n",
        "        \"\"\"\n",
        "        upd_out = torch.cat([h, aggr_out], dim=-1)\n",
        "        return self.mlp_upd(upd_out)\n",
        "\n",
        "    def __repr__(self) -> str:\n",
        "        return (f'{self.__class__.__name__}(emb_dim={self.emb_dim}, aggr={self.aggr})')\n",
        "\n",
        "\n",
        "class InvariantMPNNModel(MPNNModel):\n",
        "    def __init__(self, num_layers=4, emb_dim=64, in_dim=11, edge_dim=4, out_dim=1):\n",
        "        \"\"\"Message Passing Neural Network model for graph property prediction\n",
        "\n",
        "        This model uses both node features and coordinates as inputs, and\n",
        "        is invariant to 3D rotations and translations.\n",
        "\n",
        "        Args:\n",
        "            num_layers: (int) - number of message passing layers `L`\n",
        "            emb_dim: (int) - hidden dimension `d`\n",
        "            in_dim: (int) - initial node feature dimension `d_n`\n",
        "            edge_dim: (int) - edge feature dimension `d_e`\n",
        "            out_dim: (int) - output dimension (fixed to 1)\n",
        "        \"\"\"\n",
        "        super().__init__()\n",
        "\n",
        "        # Linear projection for initial node features\n",
        "        # dim: d_n -> d\n",
        "        self.lin_in = Linear(in_dim, emb_dim)\n",
        "\n",
        "        # Stack of invariant MPNN layers\n",
        "        self.convs = torch.nn.ModuleList()\n",
        "        for layer in range(num_layers):\n",
        "            self.convs.append(InvariantMPNNLayer(emb_dim, edge_dim, aggr='add'))\n",
        "\n",
        "        # Global pooling/readout function `R` (mean pooling)\n",
        "        # PyG handles the underlying logic via `global_mean_pool()`\n",
        "        self.pool = global_mean_pool\n",
        "\n",
        "        # Linear prediction head\n",
        "        # dim: d -> out_dim\n",
        "        self.lin_pred = Linear(emb_dim, out_dim)\n",
        "\n",
        "    def forward(self, data):\n",
        "        \"\"\"\n",
        "        Args:\n",
        "            data: (PyG.Data) - batch of PyG graphs\n",
        "\n",
        "        Returns:\n",
        "            out: (batch_size, out_dim) - prediction for each graph\n",
        "        \"\"\"\n",
        "        h = self.lin_in(data.x) # (n, d_n) -> (n, d)\n",
        "\n",
        "        for conv in self.convs:\n",
        "            h = h + conv(h, data.pos, data.edge_index, data.edge_attr) # (n, d) -> (n, d)\n",
        "            # Note that we add a residual connection after each MPNN layer\n",
        "\n",
        "        h_graph = self.pool(h, data.batch) # (n, d) -> (batch_size, d)\n",
        "\n",
        "        out = self.lin_pred(h_graph) # (batch_size, d) -> (batch_size, 1)\n",
        "\n",
        "        return out.view(-1)"
      ]
    },
    {
      "cell_type": "code",
      "execution_count": null,
      "metadata": {
        "id": "epMyUUnaSolt"
      },
      "outputs": [],
      "source": [
        "# ============ YOUR CODE HERE ==============\n",
        "# Instantiate temporary model, layer, and dataloader for unit testing.\n",
        "# Remember that we are now unit testing the InvariantMPNNModel,\n",
        "# which is  composed of the InvariantMPNNLayer.\n",
        "#\n",
        "layer = InvariantMPNNLayer(emb_dim=11, edge_dim=4)\n",
        "model = InvariantMPNNModel(num_layers=4, emb_dim=64, in_dim=11, edge_dim=4, out_dim=1)\n",
        "# ==========================================\n",
        "dataloader = DataLoader(train_pyg_dataset, batch_size=1, shuffle=True)\n",
        "\n",
        "# Rotation and translation invariance unit test for MPNN model\n",
        "print(f\"Is {type(model).__name__} rotation and translation invariant? --> {rot_trans_invariance_unit_test(model, dataloader)}!\")\n",
        "\n",
        "# Rotation and translation invariance unit test for MPNN layer\n",
        "print(f\"Is {type(layer).__name__} rotation and translation invariant? --> {rot_trans_invariance_unit_test(layer, dataloader)}!\")"
      ]
    },
    {
      "cell_type": "code",
      "execution_count": null,
      "metadata": {
        "id": "rzZzzY1sh_5I"
      },
      "outputs": [],
      "source": [
        "# @title ✅ [RUN] **Please run this unit test to validate your code. The output would be used to mark your practical.**\n",
        "\n",
        "# Permutation equivariance unit test for layer\n",
        "is_permutation_equivariant = permutation_equivariance_unit_test(layer, dataloader, with_pos=True)\n",
        "assert is_permutation_equivariant, \"🤔 Something is wrong in the layer! Your layer is not permutation equivariant 🥺\"\n",
        "\n",
        "# 3D Invariance unit test for layer\n",
        "is_rot_trans_invariant = rot_trans_invariance_unit_test(layer, dataloader)\n",
        "assert is_rot_trans_invariant, \"🤔 Something is wrong in the layer! Your layer is not rotation and translation invariant 🥺\"\n",
        "\n",
        "# 3D Invariance unit test for model\n",
        "is_rot_trans_invariant = rot_trans_invariance_unit_test(model, dataloader)\n",
        "assert is_rot_trans_invariant, \"🤔 Something is wrong in the model! Your model is not rotation and translation invariant 🥺\"\n",
        "\n",
        "layer = InvariantMPNNLayer(emb_dim=1, edge_dim=1).eval()\n",
        "\n",
        "# Setting all weights and biases to positive to avoid all outputs becoming 0 due to ReLU\n",
        "layer = layer.requires_grad_(False)\n",
        "for p in layer.parameters():\n",
        "    torch.abs(p, out=p)\n",
        "\n",
        "outs = torch.concatenate(\n",
        "    [\n",
        "        layer(dummy_data.x, dummy_data.pos, dummy_data.edge_index, dummy_data.edge_attr)\n",
        "        for dummy_data in get_dummy_data()\n",
        "    ]\n",
        ")\n",
        "are_all_equal = torch.all(outs == outs[0])\n",
        "\n",
        "assert not are_all_equal, \"🤔 Something is wrong in the model! Your model is not using the positional information 🥺\"\n",
        "\n",
        "print(\"✅ All seems good!!!\")"
      ]
    },
    {
      "cell_type": "markdown",
      "metadata": {
        "id": "wqcJy1HtPgj6"
      },
      "source": [
        "Super! You have now defined a more geometrically principled message passing layer and used it to construct an MPNN model with is invariant to 3D rotations and translations.\n"
      ]
    },
    {
      "cell_type": "markdown",
      "metadata": {
        "id": "qx5XBblEryId"
      },
      "source": [
        "It is finally time to run an experiment with our geometrically principled model!\n",
        "\n",
        "## <font color = blue> 💻 [OPTIONAL] Train and evaluate your `InvariantMPNNModel`. Additionally, provide a few sentences explaining the model's results compared to the basic `MPNNModel` and the naive `CoordMPNNModel` defined previously. Is the new model visibly better?\n",
        "\n",
        "Re-use the experiment loop we have provided and fill in the `YOUR CODE HERE` sections to run the experiment.\n",
        "\n",
        "You will be training an `InvariantMPNNModel` consisting of 4 layers of message passing with a hidden dimension of 64, in order to compare your result fairly to the previous vanilla `MPNNModel` and naive `CoordMPNNModel`."
      ]
    },
    {
      "cell_type": "code",
      "execution_count": null,
      "metadata": {
        "id": "TDOR0aYRshZW"
      },
      "outputs": [],
      "source": [
        "# ============ YOUR CODE HERE ==============\n",
        "# Instantiate your InvariantMPNNModel with the appropriate arguments.\n",
        "#\n",
        "model = InvariantMPNNModel(num_layers=4, emb_dim=64, in_dim=11, edge_dim=4, out_dim=1)\n",
        "# ==========================================\n",
        "\n",
        "model_name = type(model).__name__\n",
        "best_val_error, test_error, train_time, perf_per_epoch = run_experiment(\n",
        "    model,\n",
        "    model_name, # \"MPNN w/ Features and Coordinates (Invariant Layers)\",\n",
        "    train_loader,\n",
        "    val_loader,\n",
        "    test_loader,\n",
        "    n_epochs=100\n",
        ")\n",
        "\n",
        "RESULTS[model_name] = (best_val_error, test_error, train_time)\n",
        "df_temp = pd.DataFrame(perf_per_epoch, columns=[\"Test MAE\", \"Val MAE\", \"Epoch\", \"Model\"])\n",
        "DF_RESULTS = DF_RESULTS.append(df_temp, ignore_index=True)"
      ]
    },
    {
      "cell_type": "code",
      "execution_count": null,
      "metadata": {
        "id": "2A0UoiyawMqw"
      },
      "outputs": [],
      "source": [
        "RESULTS"
      ]
    },
    {
      "cell_type": "code",
      "execution_count": null,
      "metadata": {
        "id": "-eJEGsolyHBN"
      },
      "outputs": [],
      "source": [
        "p = sns.lineplot(x=\"Epoch\", y=\"Val MAE\", hue=\"Model\", data=DF_RESULTS)\n",
        "p.set(ylim=(0, 2));"
      ]
    },
    {
      "cell_type": "code",
      "execution_count": null,
      "metadata": {
        "id": "fnkXCeabtk4a"
      },
      "outputs": [],
      "source": [
        "p = sns.lineplot(x=\"Epoch\", y=\"Test MAE\", hue=\"Model\", data=DF_RESULTS)\n",
        "p.set(ylim=(0, 1));"
      ]
    },
    {
      "cell_type": "markdown",
      "metadata": {
        "id": "9C1XPXAf_Tsx"
      },
      "source": [
        "Awesome! We have now gone from a vanilla `MPNNModel`, to a naive use of coordinate information in `CoordMPNNModel`, to a more geometrically principled approach in `InvariantMPNN` model.\n",
        "\n",
        "In the next part, we will try to further push the limits of how much information we can derive from the geometry of molecules!\n",
        "\n",
        "---\n",
        "---\n",
        "---"
      ]
    },
    {
      "cell_type": "markdown",
      "metadata": {
        "id": "g3abj3akCFcp"
      },
      "source": [
        "# 🚀 Message Passing with Equivariance to 3D Rotations and Translations\n",
        "\n",
        "In the previous part of the practical, we studied the concepts of **3D rotation** and **translation** invariance. Now, we will go one step further. We will consider a GNN for molecular property prediction that is composed of message passing layers that are **equivariant** to 3D rotations and translations.\n",
        "\n",
        "But why...you may ask.\n",
        "\n",
        "In order to motivate the need for geometric equivariance and symmetries, we would like to take you back to the notion of permutation symmetries in GNNs for graphs, as well as translation symmetries in ConvNets for 2D images.\n",
        "\n",
        "### Permutation Symmetry in GNNs vs. DeepSets\n",
        "\n",
        "Earlier in the practical, we reviewed the concept of **permutation invariance** and **equivariance**. Fundamentally, a GNN layer must be a permutation <ins>equivariant</ins> operation on the graph nodes, i.e. changing the node ordering of the graph results in the same permutation applied to the node outputs of the layer. However, the overall GNN model for graph-level property prediction is still a **permutation <ins>invariant</ins>** function on the graph nodes, i.e. changing the node ordering does not impact the predicted graph property.\n",
        "\n",
        "Recall from the lectures that the **[DeepSets model](https://arxiv.org/abs/1703.06114)** is yet another permutation <ins>invariant</ins> architecture over sets of nodes, and is a perfectly reasonable option for predicting graph-level properties (which are also permutation invariant, as we just stated). This raises a critical question: **why did we build permutation <ins>invariant</ins> GNN models composed of permutation <ins>equivariant</ins> GNN layers?**\n",
        "\n",
        "One line of thinking is that permutation <ins>equivariant</ins> GNN layers enable the model to better leverage the **relational structure** of the underlying nodes, as well as construct more powerful node representations by **stacking several layers** of these permutation <ins>equivariant</ins> operations. (You can try running a DeepSets model for QM9 yourself and see the performance drop.)\n",
        "\n",
        "Now, consider the same analogy for 3D rotation and translation symmetries for your molecular property prediction models. Consider your `InvariantMPNNModel` so far -- it is composed of `InvariantMPNNLayer` which are merely <ins>invariant</ins> to 3D rotations and translations.\n",
        "By definition, applying these layers loses geometric information related to orientation or positioning (as this is precisely the type of information that is *not* invariant, but rather transforms covariantly with 3D transformations of the system).\n",
        "\n",
        "Analogous to how permutation <ins>equivariant</ins> layer enabled GNNs to leverage relational structure in a more principled manner, a **3D rotation** and **translation <ins>equivariant</ins> layer** may enable your model to **leverage geometric structure** in a more principled manner, too.\n",
        "For instance, equivariant layers may enable models to reason about how various sub-structures in molecules are spatially oriented w.r.t. one-another.\n",
        "Solving such equivariant sub-tasks can often be critical for solving an overall invariant task.\n",
        "\n",
        "Pablo Picasso's famous abstract protraits are a great way to motivate geometric equivariance:\n",
        "<img src=\"https://drive.google.com/uc?id=1HNd850TrZlnWKraDi2HeGKP_x9PehEpN\" width=\"100%\">\n",
        "\n",
        "### Translation Symmetry in ConvNets for 2D Images\n",
        "\n",
        "Yet another example where <ins>invariant</ins> models are composed of <ins>equivariant</ins> layers is the ubiquitous **Convolutional Neural Network** for 2D images.\n",
        "The ConvNet model is <ins>invariant</ins> to **translations**, in the sense that it will detect a cat in an image, regardless of where the cat is positioned in the image.\n",
        "\n",
        "Importantly, the ConvNet is composed of **convolution filters** which are akin to sliding a rectangular window over the input image. Convolution filters are matching low level patterns within the image. Intuitively, one of these filters may be a cat detection filter, in that it will fire whenever it comes across cat-like pixels. Thus, convolution filters are translation <ins>equivariant</ins> functions since their output translates along with their input.\n",
        "\n",
        "<img src=\"https://drive.google.com/uc?id=1vgTAG_n5r3H2nqo5vaZPyC60hbZMTEkN\" width=\"100%\">\n",
        "\n",
        "([Source](https://bernhard-kainz.com/))\n",
        "\n",
        "Translation <ins>invariant</ins> ConvNets are composed of translation <ins>equivariant</ins> convolution filters in order to build **hierarchical features** across multiple layers. Stacking deep ConvNets enables the features across layers to interact in a **compositional** manner and enables the overall network to learn increasingly **complex visual concepts**.\n"
      ]
    },
    {
      "cell_type": "markdown",
      "metadata": {
        "id": "yO7iwRjvDD16"
      },
      "source": [
        "### Formalism\n",
        "\n",
        "Hopefully, we have sufficiently motivated the need for 3D rotation and translation equivariant GNN layers. Let us now try to formalise the notion of equivariance to 3D rotations and translations via matrix notation.\n",
        "\n",
        "- Let $\\mathbf{H} \\in \\mathbb{R}^{n \\times d}$ be a matrix of node features for a given molecular graph, where $n$ is the number of nodes/atoms and each row $h_i$ is the $d$-dimensional feature for node $i$.\n",
        "- Let $\\mathbf{X} \\in \\mathbb{R}^{n \\times 3}$ be a matrix of node coordinates for a given molecular graph, where $n$ is the number of nodes/atoms and each row $x_i$ is the 3D coordinate for node $i$.\n",
        "- Let $\\mathbf{A} \\in \\mathbb{R}^{n \\times n}$ be the adjacency matrix where each entry denotes $a_{ij}$ the presence or absence of an edge between nodes $i$ and $j$.\n",
        "- Let $\\mathbf{F}(\\mathbf{H}, \\mathbf{X}, \\mathbf{A}): \\mathbb{R}^{n \\times d} \\times \\mathbb{R}^{n \\times 3} \\times \\mathbb{R}^{n \\times n} \\rightarrow \\mathbb{R}^{n \\times d}\\times \\mathbb{R}^{n \\times 3}$ be a **GNN <ins>layer**</ins> that takes as input the node features, node coordinates, and adjacency matrix, and returns the **updated node features** as well as **updated node coordinates**.\n",
        "- Let $f(\\mathbf{H}, \\mathbf{X}, \\mathbf{A}): \\mathbb{R}^{n \\times d} \\times \\mathbb{R}^{n \\times 3} \\times \\mathbb{R}^{n \\times n} \\rightarrow \\mathbb{R}$ be a **GNN <ins>model**</ins> that takes as input the node features, node coordinates, and adjacency matrix, and returns the **predicted graph-level property**.\n",
        "\n",
        "Our GNN <ins>model</ins> $f(\\mathbf{H}, \\mathbf{X}, \\mathbf{A})$ is composed of multiple rotation and translation equivariant GNN <ins>layers</ins> $\\mathbf{F}^{\\ell}(\\mathbf{H}^{\\ell}, \\mathbf{X}^{\\ell}, \\mathbf{A}), \\ell = 1, 2, \\dots, L$.\n",
        "\n",
        "### How is this different from Geometrically Invariant Message Passing?\n",
        "\n",
        "Importantly, and in contrast to rotation and translation invariant message passing layers, each round of equivariant message passing updates both the **node features** as well as the **node coordinates**:\n",
        "$$\n",
        "\\mathbf{H}^{\\ell+1}, \\mathbf{X}^{\\ell+1} = \\mathbf{F}^{\\ell} (\\mathbf{H}^{\\ell}, \\mathbf{X}^{\\ell}, \\mathbf{A}).\n",
        "$$\n",
        "\n",
        "Such a formulation is highly beneficial for GNNs to learn useful node features in settings where we are modelling a **dynamical system** and have reason to believe that the node coordinates are continuously being updated, e.g. by the action of **intermolecular forces**.\n",
        "\n",
        "Do note the following nuances about geometrically equivariant message passing layers $\\mathbf{F}$:\n",
        "- The updated **node coordinates** $\\mathbf{X'}$ are **equivariant** to 3D rotations and translations of the input coordinates $\\mathbf{X}$.\n",
        "- The updated **node features** $\\mathbf{H'}$ are still **invariant** to 3D rotations and translations of the input coordinates $\\mathbf{X}$ (similar to the geometrically invariant message passing layer).\n",
        "- The overall **MPNN model** $f$ will still be **invariant** to 3D rotations and translations. This is because we are predicting a **single scalar quantity** (the electric dipole moment) per molecule, which remains unchanged under any rotations and translations of the atoms' coordinates. Thus, the final node feature vectors after $L$ layers of message passing are aggregated into a graph embedding (and the final node coordinates are ignored). The graph embedding is then used to predict the target.\n",
        "\n",
        "The following figure aims to succinctly capture these nuances about geometrically equivariant message passing layers $\\mathbf{F}$ which are used to compose a geometrically invariant GNN $\\mathbf{f}$:\n",
        "\n",
        "<img src=\"https://drive.google.com/uc?id=1rRsjM8AdxiU-uJ7C5t1JDMkC19QKdGPg\" width=\"100%\">\n",
        "\n",
        "What we want you to investigate in this part is how we may improve a **GNN model** that is **invariant** to 3D rotations and translations by using **message passing layers** that are **equivariant** to these **3D symmetries**.\n",
        "\n",
        "Let us get started!"
      ]
    },
    {
      "cell_type": "markdown",
      "metadata": {
        "id": "c-az-clhTLLv"
      },
      "source": [
        "### The GNN <ins>layer</ins> $\\mathbf{F}$ is equivariant to 3D rotations and translations. Let's express this mathematically using the definitions above.\n"
      ]
    },
    {
      "cell_type": "markdown",
      "metadata": {
        "id": "QJ5uZz67020U"
      },
      "source": [
        "\n",
        "Let us define an orthogonal rotation matrix $\\mathbf{Q} \\in \\mathbb{R}^{3 \\times 3}$ and translation vector $\\mathbf{t} \\in \\mathbb{R}^3$.\n",
        "\n",
        "\n",
        "The GNN layer $\\mathbf{F}$ is **rotation** and **translation equivariant** as follows:\n",
        "$$\n",
        "\\mathbf{F}(\\mathbf{H}, \\mathbf{X} \\ \\mathbf{Q} + \\mathbf{t}, \\mathbf{A}) = \\mathbf{Q} \\ \\mathbf{F}(\\mathbf{H}, \\mathbf{X}, \\mathbf{A}) + \\mathbf{t}.\n",
        "$$\n",
        "\n",
        "\n",
        "Another way to formulate the above could be: (1) Consider the updated node features and coordinates $\\mathbf{H'}, \\mathbf{X'} = \\mathbf{F}(\\mathbf{H}, \\mathbf{X}, \\mathbf{A})$. (2) Applying any rotation matrix $\\mathbf{Q}$ and translation vector $\\mathbf{t}$ to the input coordinates $\\mathbf{X}$ of the GNN layer $\\mathbf{F}$ should produce the same result as applying the same transformations on the updated coordinates $\\mathbf{X'}$:\n",
        "$$\n",
        "\\mathbf{F}(\\mathbf{H}, \\mathbf{X} \\ \\mathbf{Q} + \\mathbf{t}, \\mathbf{A}) = \\mathbf{H'}, \\mathbf{Q} \\ \\mathbf{X'} + \\mathbf{t}.\n",
        "$$"
      ]
    },
    {
      "cell_type": "markdown",
      "metadata": {
        "id": "xp4sViNah_5K"
      },
      "source": [
        "Before we code up an equivariant layer, we will first write a unit test (like all good programmers 😄).\n",
        "\n",
        "## <font color = purple> 💻 **Task 2.4:** Write a unit test for 3D rotation and translation equivariance for a GNN layer. **(1.0 Mark)**"
      ]
    },
    {
      "cell_type": "code",
      "execution_count": null,
      "metadata": {
        "id": "jW0FATN-P6CJ"
      },
      "outputs": [],
      "source": [
        "def rot_trans_equivariance_unit_test(module, dataloader):\n",
        "    \"\"\"Unit test for checking whether a module (GNN layer) is\n",
        "    rotation and translation equivariant.\n",
        "\n",
        "    module returns a tuple -- updated features and updated positions.\n",
        "    \"\"\"\n",
        "    it = iter(dataloader)\n",
        "    data = next(it)\n",
        "\n",
        "    out_1, pos_1 = module(data.x, data.pos, data.edge_index, data.edge_attr)\n",
        "\n",
        "    Q = random_orthogonal_matrix(dim=3)\n",
        "    t = torch.rand(3)\n",
        "    # ============ YOUR CODE HERE ==============\n",
        "    # Perform random rotation + translation on data.\n",
        "    data.pos = torch.mm(data.pos, Q) + t\n",
        "    # ==========================================\n",
        "\n",
        "    # Forward pass on rotated + translated example\n",
        "    out_2, pos_2 = module(data.x, data.pos, data.edge_index, data.edge_attr)\n",
        "\n",
        "    # ============ YOUR CODE HERE ==============\n",
        "    # Check whether output varies after applying transformations.\n",
        "    pos_2_back = torch.mm(pos_2 - t.unsqueeze(0), Q.t())\n",
        "    out_res = torch.allclose(out_1, out_2, atol=1e-04)      # checks invariance\n",
        "    pos_res = torch.allclose(pos_1, pos_2_back, atol=1e-04) # checks equivariance\n",
        "    return pos_res and out_res\n",
        "    # =========================================="
      ]
    },
    {
      "cell_type": "code",
      "execution_count": null,
      "metadata": {
        "id": "b7ro5omih_5K"
      },
      "outputs": [],
      "source": [
        "# @title ✅ [RUN] **Please run this unit test to validate your code. The output would be used to mark your practical.**\n",
        "dataloader = DataLoader(train_pyg_dataset, batch_size=1, shuffle=True)\n",
        "\n",
        "# Non-Equivariant unit test\n",
        "is_3D_equivariant = rot_trans_equivariance_unit_test(dummy_not_equivariant, dataloader)\n",
        "assert not is_3D_equivariant, \"🤔 Something is wrong in your unit test! It gave a false positive 🥺\"\n",
        "\n",
        "# Node Features not invariant unit test\n",
        "is_3D_equivariant = rot_trans_equivariance_unit_test(dummy_h_not_invariant, dataloader)\n",
        "assert not is_3D_equivariant, \"🤔 Something is wrong in your unit test! Maybe you did not code a check for invariance of node features? 🥺\"\n",
        "\n",
        "# Only Translation Invariant Features unit test\n",
        "is_3D_equivariant = rot_trans_equivariance_unit_test(dummy_h_only_trans_invariant, dataloader)\n",
        "assert not is_3D_equivariant, \"🤔 Something is wrong in your unit test! Maybe you did not code a check for rotational invariance of node features? 🥺\"\n",
        "\n",
        "# Only Rotational Invariant Features unit test\n",
        "is_3D_equivariant = rot_trans_equivariance_unit_test(dummy_h_only_rot_invariant, dataloader)\n",
        "assert not is_3D_equivariant, \"🤔 Something is wrong in your unit test! Maybe you did not code a check for translational invariance of node features? 🥺\"\n",
        "\n",
        "# Node Positions not invariant unit test\n",
        "is_3D_equivariant = rot_trans_equivariance_unit_test(dummy_x_not_equivariant, dataloader)\n",
        "assert not is_3D_equivariant, \"🤔 Something is wrong in your unit test! Maybe you did not code a check for equivariance of node positions? 🥺\"\n",
        "\n",
        "# Only Translation Equivariant Positions unit test\n",
        "is_3D_equivariant = rot_trans_equivariance_unit_test(dummy_x_only_trans_equivariant, dataloader)\n",
        "assert not is_3D_equivariant, \"🤔 Something is wrong in your unit test! Maybe you did not code a check for rotational equivariance of node positions? 🥺\"\n",
        "\n",
        "# Only Rotational Equivariant Positions unit test\n",
        "is_3D_equivariant = rot_trans_equivariance_unit_test(dummy_x_only_rot_equivariant, dataloader)\n",
        "assert not is_3D_equivariant, \"🤔 Something is wrong in your unit test! Maybe you did not code a check for translational equivariance of node positions? 🥺\"\n",
        "\n",
        "# Equivariant unit test\n",
        "is_3D_equivariant = rot_trans_equivariance_unit_test(dummy_equivariant, dataloader)\n",
        "assert is_3D_equivariant, \"🤔 Something is wrong in your unit test! It gave a false negative 🥺\"\n",
        "\n",
        "print(\"✅ All seems good!!!\")"
      ]
    },
    {
      "cell_type": "markdown",
      "metadata": {
        "id": "NPMwl3y1C-LD"
      },
      "source": [
        "## <font color = purple> 💻 **Task 2.5:** Design a new Message Passing Layer that is <ins>equivariant</ins> to 3D rotations and translations. Verify the equivariance of your layer and invariance of the resulting model using your unit test. **(3.0 Marks)**\n",
        "\n",
        "🤔 *Hint 1: To ensure equivariance to 3D rotations and translations, your message passing layer should now update both the node features as well as the node coordinates. This means that each of the `message()`, `aggregate()`, and `update()` functions will be passing around a tuple of outputs, consisting of the node features and node coordinates.*\n",
        "\n",
        "🤔 *Hint 2: Certain quantities that can be computed among a pair of node coordinates do not change when the coordinates are rotated or translated -- these are **invariant quantities**. On the other hand, certain quantities may rotate or translate along with the coordinates -- these are **equivariant quantities**. We want you to think about how you can set up the message passing in a way that messages for the node feature updates are <ins>invariant</ins> to 3D rotations and translations, while messages for the node coordinates are <ins>equivariant</ins> to the same.*\n",
        "\n",
        "**❗️Note:** This task has multiple possible approaches for achieving. Directly importing or copying implementations from PyG will not be accepted as a valid answer.\n",
        "\n",
        "**❗️Note:** The trivial solution $\\mathbf{X}^{\\ell+1} = \\mathbf{X}^{\\ell}$ will not be accepted as a valid answer. A general intuition about GNNs is that each node learns how to **borrow information** from its neighbours — here, this holds true for both node feature information as well as node coordinate information. Thus, we want you to use message passing to update the node coordinates by aggregating from the node coordinates of the neighbours. The ‘game’ here is about how to design a learnable message function for the coordinates such that it is equivariant to 3D symmetries."
      ]
    },
    {
      "cell_type": "code",
      "execution_count": null,
      "metadata": {
        "id": "oKraX_u9MXCS"
      },
      "outputs": [],
      "source": [
        "class EquivariantMPNNLayer(MessagePassing):\n",
        "    def __init__(self, emb_dim=64, edge_dim=4, aggr='add'):\n",
        "        \"\"\"Message Passing Neural Network Layer\n",
        "\n",
        "        This layer is equivariant to 3D rotations and translations.\n",
        "\n",
        "        Args:\n",
        "            emb_dim: (int) - hidden dimension `d`\n",
        "            edge_dim: (int) - edge feature dimension `d_e`\n",
        "            aggr: (str) - aggregation function `\\oplus` (sum/mean/max)\n",
        "        \"\"\"\n",
        "        # Set the aggregation function\n",
        "        super().__init__(aggr=aggr)\n",
        "\n",
        "        self.emb_dim = emb_dim\n",
        "        self.edge_dim = edge_dim\n",
        "\n",
        "        # ============ YOUR CODE HERE ==============\n",
        "        # Define the MLPs constituting your new layer.\n",
        "        # At the least, you will need `\\psi` and `\\phi`\n",
        "        # (but their definitions may be different from what\n",
        "        # we used previously).\n",
        "        #\n",
        "\n",
        "\n",
        "        # self.mlp_msg = ...  # MLP `\\psi`\n",
        "        # dims: (2d + d_e) -> d\n",
        "        self.mlp_msg = Sequential(\n",
        "            Linear(2*emb_dim + edge_dim + 1, emb_dim), BatchNorm1d(emb_dim), ReLU(),\n",
        "            Linear(emb_dim, emb_dim), BatchNorm1d(emb_dim), ReLU()\n",
        "          )\n",
        "\n",
        "        # MLP `\\psi` for computing messages `m_ij`\n",
        "        # dims: d -> 1 # this was initially 1, I also tried 3\n",
        "        self.mlp_pos = Sequential(\n",
        "            Linear(3, emb_dim), BatchNorm1d(emb_dim),\n",
        "            Linear(emb_dim, 1), BatchNorm1d(1)\n",
        "        )\n",
        "\n",
        "        # MLP `\\phi` for computing updated node features `h_i^{l+1}`\n",
        "        # dims: 2d -> d\n",
        "        self.mlp_upd = Sequential(\n",
        "            Linear(emb_dim + emb_dim, emb_dim), BatchNorm1d(emb_dim), ReLU(),\n",
        "            Linear(emb_dim, emb_dim), BatchNorm1d(emb_dim), ReLU()\n",
        "          )\n",
        "        # ===========================================\n",
        "\n",
        "    def forward(self, h, pos, edge_index, edge_attr):\n",
        "        \"\"\"\n",
        "        The forward pass updates node features `h` via one round of message passing.\n",
        "\n",
        "        Args:\n",
        "            h: (n, d) - initial node features\n",
        "            pos: (n, 3) - initial node coordinates\n",
        "            edge_index: (e, 2) - pairs of edges (i, j)\n",
        "            edge_attr: (e, d_e) - edge features\n",
        "\n",
        "        Returns:\n",
        "            out: [(n, d),(n,3)] - updated node features\n",
        "        \"\"\"\n",
        "        # ============ YOUR CODE HERE ==============\n",
        "        # Notice that the `forward()` function has a new argument\n",
        "        # `pos` denoting the initial node coordinates. Your task is\n",
        "        # to update the `propagate()` function in order to pass `pos`\n",
        "        # to the `message()` function along with the other arguments.\n",
        "        #\n",
        "        out  = self.propagate(edge_index, h=h, edge_attr=edge_attr, pos=pos)\n",
        "        return out\n",
        "        # ==========================================\n",
        "\n",
        "    # ============ YOUR CODE HERE ==============\n",
        "    # Write custom `message()`, `aggregate()`, and `update()` functions\n",
        "    # which ensure that the layer is 3D rotation and translation equivariant.\n",
        "    #\n",
        "    def message(self, h_i, h_j, edge_attr, pos_i , pos_j):\n",
        "\n",
        "        # msg = torch.cat([h_i, h_j, edge_attr], dim=-1)\n",
        "\n",
        "        pos_dist = torch.norm(pos_i - pos_j, p=2, dim=1)\n",
        "        pos_dist = pos_dist.unsqueeze(-1)\n",
        "        msg = torch.cat([h_i, h_j, edge_attr, pos_dist], dim=-1)    # number_edges x (2*embedding_size + edge_attr_size + 1)\n",
        "        msg_out = self.mlp_msg(msg)                                 # number_edges x embedding_size\n",
        "\n",
        "        pos_diff = pos_i - pos_j\n",
        "        pos_diff_coef = self.mlp_pos(pos_diff)                # number_edges x embedding_size\n",
        "        pos_msg_out = pos_diff_coef.sum(axis=0) * pos_diff    # number_edges x pos_size\n",
        "        return msg_out, pos_msg_out\n",
        "\n",
        "    def aggregate(self, inputs, index, ptr=None, dim_size=None):\n",
        "        msg, pos_msg = inputs\n",
        "        msg_agg = scatter(msg, index, dim=self.node_dim, reduce=self.aggr)\n",
        "        pos_msg_agg = scatter(pos_msg, index, dim=self.node_dim, reduce=self.aggr)\n",
        "        return msg_agg, pos_msg_agg\n",
        "\n",
        "    def update(self, aggr_out, h, pos):\n",
        "        msg_agg , pos_msg_agg = aggr_out\n",
        "        upd_out = torch.cat([h, msg_agg], dim=-1)\n",
        "        return self.mlp_upd(upd_out), pos+pos_msg_agg\n",
        "    # ==========================================\n",
        "\n",
        "    def __repr__(self) -> str:\n",
        "        return (f'{self.__class__.__name__}(emb_dim={self.emb_dim}, aggr={self.aggr})')\n",
        "\n",
        "\n",
        "class FinalMPNNModel(MPNNModel):\n",
        "    def __init__(self, num_layers=4, emb_dim=64, in_dim=11, edge_dim=4, out_dim=1):\n",
        "        \"\"\"Message Passing Neural Network model for graph property prediction\n",
        "\n",
        "        This model uses both node features and coordinates as inputs, and\n",
        "        is invariant to 3D rotations and translations (the constituent MPNN layers\n",
        "        are equivariant to 3D rotations and translations).\n",
        "\n",
        "        Args:\n",
        "            num_layers: (int) - number of message passing layers `L`\n",
        "            emb_dim: (int) - hidden dimension `d`\n",
        "            in_dim: (int) - initial node feature dimension `d_n`\n",
        "            edge_dim: (int) - edge feature dimension `d_e`\n",
        "            out_dim: (int) - output dimension (fixed to 1)\n",
        "        \"\"\"\n",
        "        super().__init__()\n",
        "\n",
        "        # Linear projection for initial node features\n",
        "        # dim: d_n -> d\n",
        "        self.lin_in = Linear(in_dim, emb_dim)\n",
        "\n",
        "        # Stack of MPNN layers\n",
        "        self.convs = torch.nn.ModuleList()\n",
        "        for layer in range(num_layers):\n",
        "            self.convs.append(EquivariantMPNNLayer(emb_dim, edge_dim, aggr='add'))\n",
        "\n",
        "        # Global pooling/readout function `R` (mean pooling)\n",
        "        # PyG handles the underlying logic via `global_mean_pool()`\n",
        "        self.pool = global_mean_pool\n",
        "\n",
        "        # Linear prediction head\n",
        "        # dim: d -> out_dim\n",
        "        self.lin_pred = Linear(emb_dim, out_dim)\n",
        "\n",
        "    def forward(self, data):\n",
        "        \"\"\"\n",
        "        Args:\n",
        "            data: (PyG.Data) - batch of PyG graphs\n",
        "\n",
        "        Returns:\n",
        "            out: (batch_size, out_dim) - prediction for each graph\n",
        "        \"\"\"\n",
        "        h = self.lin_in(data.x) # (n, d_n) -> (n, d)\n",
        "        pos = data.pos\n",
        "\n",
        "        for conv in self.convs:\n",
        "            # Message passing layer\n",
        "            h_update, pos_update = conv(h, pos, data.edge_index, data.edge_attr)\n",
        "\n",
        "            # Update node features\n",
        "            h = h + h_update # (n, d) -> (n, d)\n",
        "            # Note that we add a residual connection after each MPNN layer\n",
        "\n",
        "            # Update node coordinates\n",
        "            pos = pos_update # (n, 3) -> (n, 3)\n",
        "\n",
        "        h_graph = self.pool(h, data.batch) # (n, d) -> (batch_size, d)\n",
        "\n",
        "        out = self.lin_pred(h_graph) # (batch_size, d) -> (batch_size, 1)\n",
        "\n",
        "        return out.view(-1)"
      ]
    },
    {
      "cell_type": "code",
      "execution_count": null,
      "metadata": {
        "id": "hgxcp6WpP6OF"
      },
      "outputs": [],
      "source": [
        "# ============ YOUR CODE HERE ==============\n",
        "# Instantiate temporary model, layer, and dataloader for unit testing.\n",
        "# Remember that we are now unit testing the FinalMPNNModel,\n",
        "# which is composed of the EquivariantMPNNLayer.\n",
        "#\n",
        "layer = EquivariantMPNNLayer(emb_dim=11, edge_dim=4, aggr='add')\n",
        "model = FinalMPNNModel(num_layers=4, emb_dim=64, in_dim=11, edge_dim=4, out_dim=1)\n",
        "# ==========================================\n",
        "dataloader = DataLoader(train_pyg_dataset, batch_size=1, shuffle=True)\n",
        "\n",
        "# Rotation and translation invariance unit test for model\n",
        "is_rot_trans_invariant = rot_trans_invariance_unit_test(model, dataloader)\n",
        "print(f\"Is {type(model).__name__} rotation and translation invariant? --> {is_rot_trans_invariant}!\")\n",
        "\n",
        "# Rotation and translation equivariance unit test for layer\n",
        "is_rot_trans_equivariant = rot_trans_equivariance_unit_test(layer, dataloader)\n",
        "print(f\"Is {type(layer).__name__} rotation and translation equivariant? --> {is_rot_trans_equivariant}!\")"
      ]
    },
    {
      "cell_type": "code",
      "execution_count": null,
      "metadata": {
        "id": "P3Oqt8grl280"
      },
      "outputs": [],
      "source": [
        "# @title ✅ [RUN] **Please run this unit test to validate your code. The output would be used to mark your practical.**\n",
        "assert is_rot_trans_invariant, \"🤔 Something is wrong in the model! Your model is not rotation and translation invariant 🥺\"\n",
        "assert is_rot_trans_equivariant, \"🤔 Something is wrong in the layer! Your layer is not rotation and translation equivariant 🥺\"\n",
        "\n",
        "print(\"✅ All seems good!!!\")"
      ]
    },
    {
      "cell_type": "markdown",
      "metadata": {
        "id": "8Xo7x-U2DH-8"
      },
      "source": [
        "Awesome! You have now defined a new message passing layer that is equivariant to 3D rotations and translations, and used it to construct your final MPNN model for molecular property prediction.\n"
      ]
    },
    {
      "cell_type": "markdown",
      "metadata": {
        "id": "qUdwCBgiDl3t"
      },
      "source": [
        "It is finally time to run an experiment with our final geometrically principled model!\n",
        "\n",
        "## <font color = blue> 💻 [OPTIONAL] Train and evaluate your `FinalMPNNModel`. Additionally, provide a few sentences explaining the model's results compared to the basic `MPNNModel`, the naive `CoordMPNNModel`, and the `InvariantMPNNModel` defined previously. Is the new model better? By a significant margin or only minorly better?\n",
        "\n",
        "Re-use the experiment loop we have provided and fill in the `YOUR CODE HERE` sections to run the experiment.\n",
        "\n",
        "You will be training an `EquivariantMPNNModel` consisting of 4 layers of message passing with a hidden dimension of 64, in order to compare your result fairly to the previous vanilla `MPNNModel`, naive `CoordMPNNModel`, and `InvariantMPNNModel`."
      ]
    },
    {
      "cell_type": "code",
      "execution_count": null,
      "metadata": {
        "id": "lIm8C-4wRVpd"
      },
      "outputs": [],
      "source": [
        "# ============ YOUR CODE HERE ==============\n",
        "# Instantiate your FinalMPNNModel with the appropriate arguments.\n",
        "#\n",
        "model = FinalMPNNModel(num_layers=4, emb_dim=64, in_dim=11, edge_dim=4, out_dim=1)\n",
        "# ==========================================\n",
        "\n",
        "model_name = type(model).__name__\n",
        "best_val_error, test_error, train_time, perf_per_epoch = run_experiment(\n",
        "    model,\n",
        "    model_name, # \"MPNN w/ Features and Coordinates (Equivariant Layers)\",\n",
        "    train_loader,\n",
        "    val_loader,\n",
        "    test_loader,\n",
        "    n_epochs=100\n",
        ")\n",
        "\n",
        "RESULTS[model_name] = (best_val_error, test_error, train_time)\n",
        "df_temp = pd.DataFrame(perf_per_epoch, columns=[\"Test MAE\", \"Val MAE\", \"Epoch\", \"Model\"])\n",
        "DF_RESULTS = DF_RESULTS.append(df_temp, ignore_index=True)"
      ]
    },
    {
      "cell_type": "code",
      "execution_count": null,
      "metadata": {
        "id": "6Ai6EhSASjP5"
      },
      "outputs": [],
      "source": [
        "RESULTS"
      ]
    },
    {
      "cell_type": "code",
      "execution_count": null,
      "metadata": {
        "id": "sGjNj20A0JcO"
      },
      "outputs": [],
      "source": [
        "p = sns.lineplot(x=\"Epoch\", y=\"Val MAE\", hue=\"Model\", data=DF_RESULTS)\n",
        "p.set(ylim=(0, 2));"
      ]
    },
    {
      "cell_type": "code",
      "execution_count": null,
      "metadata": {
        "id": "4xZFggF9ulrT"
      },
      "outputs": [],
      "source": [
        " p = sns.lineplot(x=\"Epoch\", y=\"Test MAE\", hue=\"Model\", data=DF_RESULTS)\n",
        "p.set(ylim=(0, 1));"
      ]
    },
    {
      "cell_type": "markdown",
      "metadata": {
        "id": "G_n4dNz1UVpj"
      },
      "source": [
        "---\n",
        "\n",
        "<font color='red'>❗️YOUR ANSWER HERE</font>\n",
        "\n",
        "My current implementation of FinalMPNN performs better than CoordMPNN but worse than the InvariantMPNN and MPNN. Notably, the initial MPNN model performs better than all the models that incorporate positional information. We also observe that the validation error of the FinalMPNN Model fluctuates significantly more compared to the other models.\n",
        "\n",
        "\n",
        "---\n"
      ]
    },
    {
      "cell_type": "markdown",
      "metadata": {
        "id": "2SyqO97bUZpS"
      },
      "source": [
        "Congratulations! You have now gone from a vanilla `MPNNModel`, to a naive use of coordinate information in `CoordMPNNModel`, to a more geometrically principled approach in `InvariantMPNNModel`, and finally arrived at `FinalMPNNModel`, a **GNN that is invariant** to 3D rotations and translations while consisting of **message passing layers that are equivariant** to these 3D symmetries.\n",
        "\n",
        "In the next parts, we will compare these models under two different settings.\n",
        "\n",
        "---"
      ]
    },
    {
      "cell_type": "markdown",
      "metadata": {
        "id": "uO-84rI6Exu5"
      },
      "source": [
        "## 🌯 [Extra Content] Wrapping up\n",
        "\n",
        "Let's wrap up the practical by analysing two important aspects of the models that we have studied so far: **the why of invariance and equivariance** and choice of **graph structure**.\n",
        "\n",
        "❗️**Note:** Ideally, **you do not need to write any new code** for the tasks in this part. You are only required to run the cells in the notebook and infer the empirical results that you see. This is an exercise to simulate how you may need to infer tables and figures when reading or writing your own research papers."
      ]
    },
    {
      "cell_type": "markdown",
      "metadata": {
        "id": "xLbfIuHMQBep"
      },
      "source": [
        "Let us take a moment to think about why invariance to 3D rotations and translations is something desirable (or undesirable) for geometric GNNs (GNNs in 3D space)...\n",
        "\n",
        "- As molecular properties are invariant to 3D rotations and translations, a GNN model for predicting molecular properties should also be invariant to them.\n",
        "- Ideally, one should **align domain-specific inductive biases**  to the inductive biases built into model architectures. We've seen that doing so not only improves performance, but also leads to improved data efficiency (seen in things such as requiring fewer epochs to converge, as well as convergence to a lower training loss and validation set MAE).\n",
        "\n",
        "On the flip side:\n",
        "- Invariance / equivariance might be a bad idea when we deal with 3D rotations in a space with an ambient force, such as gravity or an electromagnetic field. Intermediate equivariance might be a good idea even if the downstream label is invariant (e.g. predicting a molecular property (invariant) may require reasoning about the forces between the atoms (equivariant)).\n",
        "- Besides architecture design, there could be other approaches for developing (approximately) equivariant models. For instance, data augmentation or symmetry-promoting loss functions are simple and popular approach that may be more scalable as they do not necessitate a restricted set of operations."
      ]
    },
    {
      "cell_type": "markdown",
      "metadata": {
        "id": "04WVO1Mnukdm"
      },
      "source": [
        "### Dense vs. Sparse Graphs\n",
        "\n",
        "Now, let's turn our attention to the choice of the **underlying graph structure**.\n",
        "\n",
        "In this practical we have been using sparse adjacency matrices to represent molecules (i.e. atoms are connected only if there exists a physical connection between them). Note, however, that we can create a **fully-connected** graph (i.e. all atoms in a molecule are connected to each other, except self-loops). In this case, the information about the molecule structures are available to the model through the edge features (`data.edge_attr`) as follows:\n",
        "- When two atoms are physically connected, the edge attributes indicate the **bond type** (single, double, triple, or aromatic) through a one-hot vector.\n",
        "- When two atoms are **not** physically connected, **all edge attributes** are **zero**.\n",
        "\n",
        "In the following task, we will study the advantages/downsides of fully-connected adjacency matrices versus sparse adjacency matrices."
      ]
    },
    {
      "cell_type": "markdown",
      "metadata": {
        "id": "8bHtpzJlMqrC"
      },
      "source": [
        "## <font color = blue> 💻 [OPTIONAL] Compare the models' performance in the two scenarios (fully-connected versus sparse graphs). Explain your findings.\n",
        "\n",
        "The code to load datasets in the fully-connected format is provided to you. You may need to wait for some time to let all the models finish training with the fully-connected format.\n",
        "\n",
        "Grab a coffee/tea! ☕️\n",
        "\n",
        "**❗️Note:** Once again, it is highly encouraged that you attempt this task even if you have not been successful in implementing all of the models in the practical. Just answer based on the models you did understand and implement!"
      ]
    },
    {
      "cell_type": "code",
      "execution_count": null,
      "metadata": {
        "id": "KCXierFguw7b"
      },
      "outputs": [],
      "source": [
        "# Load QM9 dataset with dense graphs\n",
        "\n",
        "# Transforms which are applied during data loading:\n",
        "# (1) Fully connect the graphs, (2) Select the target/label\n",
        "transform = T.Compose([CompleteGraph(), SetTarget()])\n",
        "\n",
        "# Load the QM9 dataset with the transforms defined\n",
        "dense_dataset = QM9(path, transform=transform)\n",
        "\n",
        "# Normalize targets per data sample to mean = 0 and std = 1.\n",
        "mean = dense_dataset.data.y.mean(dim=0, keepdim=True)\n",
        "std = dense_dataset.data.y.std(dim=0, keepdim=True)\n",
        "dense_dataset.data.y = (dense_dataset.data.y - mean) / std\n",
        "mean, std = mean[:, target].item(), std[:, target].item()\n",
        "\n",
        "# Split datasets (3K subset)\n",
        "train_dataset_dense = dense_dataset[:1000]\n",
        "val_dataset_dense = dense_dataset[1000:2000]\n",
        "test_dataset_dense = dense_dataset[2000:]\n",
        "print(f\"Created sparse dataset splits with {len(train_dataset_dense)} training, {len(val_dataset_dense)} validation, {len(test_dataset_dense)} test samples.\")\n",
        "\n",
        "# Create dataloaders with batch size = 32\n",
        "train_loader_dense = DataLoader(train_dataset_dense, batch_size=32, shuffle=True)\n",
        "test_loader_dense = DataLoader(test_dataset_dense, batch_size=32, shuffle=False)\n",
        "val_loader_dense = DataLoader(val_dataset_dense, batch_size=32, shuffle=False)"
      ]
    },
    {
      "cell_type": "markdown",
      "metadata": {
        "id": "r5Hzvjjlu8Po"
      },
      "source": [
        "Let's now check that the sparse dataset that we have been using throughout the practical is actually more sparse than the fully-connected dataset:"
      ]
    },
    {
      "cell_type": "code",
      "execution_count": null,
      "metadata": {
        "id": "KcoOtUlRu-7y"
      },
      "outputs": [],
      "source": [
        "val_batch_dense = next(iter(val_loader_dense))\n",
        "val_batch_sparse = next(iter(val_loader))\n",
        "\n",
        "# These two batches should correspond to the same molecules. Let's add a sanity check\n",
        "assert torch.allclose(val_batch_sparse.y, val_batch_dense.y, atol=1e-4)\n",
        "\n",
        "print(f\"Number of edges in sparse batch {val_batch_sparse.edge_index.shape[-1]}. Number of edges in dense batch {val_batch_dense.edge_index.shape[-1]}\")"
      ]
    },
    {
      "cell_type": "markdown",
      "metadata": {
        "id": "ZmEYl8nUvoiy"
      },
      "source": [
        "Let's now compare the models under the two scenarios:"
      ]
    },
    {
      "cell_type": "code",
      "execution_count": null,
      "metadata": {
        "id": "rA2iXAeg0c1s"
      },
      "outputs": [],
      "source": [
        "sparse_results = RESULTS\n",
        "dense_results = {}"
      ]
    },
    {
      "cell_type": "code",
      "execution_count": null,
      "metadata": {
        "id": "hphYbE9WvnQg"
      },
      "outputs": [],
      "source": [
        "# ============ YOUR CODE HERE ==============\n",
        "# Instantiate your models\n",
        "models = [MPNNModel(num_layers=4, emb_dim=64, in_dim=11, edge_dim=4, out_dim=1),\n",
        "          CoordMPNNModel(num_layers=4, emb_dim=64, in_dim=11, edge_dim=4, out_dim=1),\n",
        "          InvariantMPNNModel(num_layers=4, emb_dim=64, in_dim=11, edge_dim=4, out_dim=1),\n",
        "          FinalMPNNModel(num_layers=4, emb_dim=64, in_dim=11, edge_dim=4, out_dim=1)]\n",
        "# ==========================================\n",
        "\n",
        "for model in models:\n",
        "  model_name = type(model).__name__\n",
        "\n",
        "  if model_name not in dense_results:\n",
        "    dense_results[model_name] = run_experiment(\n",
        "        model,\n",
        "        model_name,\n",
        "        train_loader_dense,\n",
        "        val_loader_dense,\n",
        "        test_loader_dense,\n",
        "        n_epochs=100\n",
        "    )\n",
        "\n",
        "  if model_name not in sparse_results:\n",
        "    sparse_results[model_name] = run_experiment(\n",
        "        model,\n",
        "        model_name,\n",
        "        train_loader,\n",
        "        val_loader,\n",
        "        test_loader,\n",
        "        n_epochs=100\n",
        "    )"
      ]
    },
    {
      "cell_type": "code",
      "execution_count": null,
      "metadata": {
        "id": "Q2RoAlb-ytrE"
      },
      "outputs": [],
      "source": [
        "df_sparse = pd.DataFrame.from_dict(sparse_results, orient='index', columns=['Best val MAE', 'Test MAE', 'Train time'])\n",
        "df_dense = pd.DataFrame.from_dict(dense_results, orient='index', columns=['Best val MAE', 'Test MAE', 'Train time', 'Train History'])\n",
        "df_sparse['type'] = 'sparse'\n",
        "df_dense['type'] = 'dense'\n",
        "df = df_sparse.append(df_dense)\n",
        "\n",
        "sns.set(rc={'figure.figsize':(10, 6)})\n",
        "sns.barplot(x=df.index, y=\"Test MAE\", hue=\"type\", data=df);\n",
        "\n",
        "# You might want to save and download this plot\n",
        "plt.savefig(\"comparison.png\")\n",
        "# files.download(\"comparison.png\")"
      ]
    },
    {
      "cell_type": "markdown",
      "metadata": {
        "id": "3G6fTYdwzLWj"
      },
      "source": [
        "Compare the models' performances under the two scenarios. Which models performed better/worst? Why do you think that is the case? Did you observe any differences between the fully-connected and sparse scenarios? Provide at least *two* arguments to explain the differences.\n",
        "\n",
        "---\n",
        "\n",
        "<font color='red'>❗️YOUR ANSWER HERE</font>\n",
        "\n",
        "In the sparse scenario, the test Mean Absolute Error (MAE) of the models can be ranked as: MPNNModel < InvariantMPNNModel < FinalMPNNModel < CoordMPNNModel. That is, MPNNModel model performs the best and CoordMPNNModel performs the worst. The differences are observable but the margins are not drastic.\n",
        "\n",
        "In the dense scenario, the test Mean Absolute Error (MAE) of the models can be ranked as: InvariantMPNNModel < CoordMPNNModel < MPNNModel < FinalMPNNModel. That is, InvariantMPNNModel performs the best and FinalMPNNModel performs the worst.\n",
        "\n",
        "The most significant difference between the two scenarios is obsreved in the performance of FinalMPNNModel. While its performance is similar to the other models in the sparse scenario, in the dense scenario, it performs significantly worse.  \n",
        "\n",
        "Argument 1: One explanation of this phenomenon can be that the FinalMPNN Model overfits in the dense setting, becuase the model has more parameters compared to the sparse setting and it is not properly regularized. In particular, we observe that the FinalMPNNModel's validation and test error achieves their lowest values 0.9703050 and 2.1294306, respectively, around epochs 80-90. At the end of the 100th epoch,  we observed that the test error peaks at 5.5487688, which is one of the test highest errors that the model achieves during training. for reference, the test error of the model after training for 20 epochs was 3.5922026.\n",
        "\n",
        "Argument 2: Positional information is observed to be beneficial in the dense scenario since the test Mean Absolute Error (MAE) of the models can be ranked as: InvariantMPNNModel < CoordMPNNModel < MPNNModel. We ignore the FinalMPNN here because its performance suffers due to overfitting. One reason why the positional information can be especially beneficial when the graph is assumed to be fully connected is the following: The model can partially recover the adjacency matrix of the graph structure using the positional information since the nodes that are closely positioned in 3D space are more likely to be connected with each other in the original grpah. Hence, the distance between the nodes can be used by the model to internally learn to attend to connections that are closer in 3D-space since those are likely to be true graph edges.\n",
        "\n",
        "\n",
        "\n",
        "---\n"
      ]
    },
    {
      "cell_type": "markdown",
      "metadata": {
        "id": "GqzHnsceNk4z"
      },
      "source": [
        "\n",
        "---\n",
        "\n",
        "[Fin.](https://www.youtube.com/watch?v=b9434BoGkNQ)"
      ]
    },
    {
      "cell_type": "markdown",
      "metadata": {
        "id": "vg3BV0uSDqlx"
      },
      "source": [
        "---\n",
        "---\n",
        "---\n",
        "\n",
        "# FAQ and General Advice\n",
        "\n",
        "### Unit Testing\n",
        "Consider using the unit test functions as sanity checks to make sure what you think is going on is actually going on. You can even consider writing your own unit tests beyond what we have asked in order to test specific properties of layers/models or numerical issues during training.\n",
        "\n",
        "### Theory vs. Empirical Results\n",
        "If you are confident that your proposed layer is theoretically sound, e.g. if your solution satisfied 3D equivariance but the results are not impressive or you are unable to achieve stable training, it may be due to numerical instability or engineering issues. If that is the case and you are not able to overcome those issues eventually, you may still submit whatever you have as a solution.\n",
        "\n",
        "### GPU rate-limit on Google Colab\n",
        "**TL;DR** Don’t panic, start early, save and load your results instead of re-running every time.\n",
        "\n",
        "We experienced rate-limits several times during the testing of the practical. It seems that there is an upper limit to the amount of GPU computation per user per 12-24 hours. When the limit is hit, Colab disconnects the GPU runtime (you do reconnect back to the GPU by the next day). Thus, we have tried to keep the practical as computationally simple as we can.\n",
        "\n",
        "We have several suggestions to make life more manageable, which we enumerate in the following bullet points:\n",
        "- If possible, do not leave things for the last moment. Start early so that you are not struggling with the rate limit on the day of the deadline!\n",
        "- If you do get rate-limited, you can consider writing and testing your model implementations with very small dataset sizes, e.g. 100 samples each. When you reconnect to the GPU, you can re-run your models with the full dataset.\n",
        "- If you find yourself hit by regular rate-limiting (e.g. if you also have other Colab projects running, this can happen a lot), you can save the results of each task to your Google Drive/local storage and simply load them each time you re-run the notebook.\n",
        "- You can use some combination of a new Google account, your cam.ac.uk account, and/or a new IP address to get a fresh GPU runtime if you have been rate-limited on one account.\n"
      ]
    }
  ],
  "metadata": {
    "accelerator": "GPU",
    "colab": {
      "provenance": [],
      "machine_shape": "hm",
      "gpuType": "A100",
      "toc_visible": true,
      "collapsed_sections": [
        "qU87TNON39IV",
        "jeN6Me1h7Qr0"
      ],
      "include_colab_link": true
    },
    "kernelspec": {
      "display_name": "Python 3",
      "name": "python3"
    },
    "language_info": {
      "name": "python"
    }
  },
  "nbformat": 4,
  "nbformat_minor": 0
}
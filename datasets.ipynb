{
 "cells": [
  {
   "cell_type": "code",
   "execution_count": 11,
   "metadata": {},
   "outputs": [],
   "source": [
    "import dgl.data\n",
    "from dgl.data import KarateClubDataset, BACommunityDataset\n",
    "import torch\n",
    "from torch_geometric.data import Data\n",
    "import numpy as np\n"
   ]
  },
  {
   "cell_type": "code",
   "execution_count": 5,
   "metadata": {},
   "outputs": [
    {
     "name": "stdout",
     "output_type": "stream",
     "text": [
      "<class 'dgl.data.karate.KarateClubDataset'>\n"
     ]
    }
   ],
   "source": [
    "print(KarateClubDataset)"
   ]
  },
  {
   "cell_type": "code",
   "execution_count": 7,
   "metadata": {},
   "outputs": [
    {
     "data": {
      "text/plain": [
       "2"
      ]
     },
     "execution_count": 7,
     "metadata": {},
     "output_type": "execute_result"
    }
   ],
   "source": [
    "dataset = KarateClubDataset()\n",
    "dataset.num_classes"
   ]
  },
  {
   "cell_type": "code",
   "execution_count": 12,
   "metadata": {},
   "outputs": [
    {
     "name": "stdout",
     "output_type": "stream",
     "text": [
      "Done saving data into cached files.\n"
     ]
    }
   ],
   "source": [
    "dataset = BACommunityDataset(num_base_nodes=160,\n",
    "                             num_base_edges_per_node=4,\n",
    "                             num_motifs=80,\n",
    "                             perturb_ratio=0.01,\n",
    "                             num_inter_edges=350,\n",
    "                             seed=None,\n",
    "                             raw_dir=None,\n",
    "                             force_reload=True,\n",
    "                             verbose=True,\n",
    "                             transform=None)"
   ]
  },
  {
   "cell_type": "code",
   "execution_count": 13,
   "metadata": {},
   "outputs": [],
   "source": [
    "def preprocess(data, train_ratio = 0.7, val_ratio = 0.15, test_ratio = 0.15):\n",
    "    g = dataset[0]\n",
    "    y = g.ndata['label']\n",
    "    feat = g.ndata['feat']\n",
    "\n",
    "    num_nodes = len(y)\n",
    "    indices = torch.randperm(num_nodes)\n",
    "\n",
    "    num_train, num_val = int(num_nodes * train_ratio), int(num_nodes * val_ratio)\n",
    "    num_test = num_nodes - num_train - num_val\n",
    "\n",
    "    train_mask, val_mask, test_mask = torch.zeros(num_nodes, dtype=torch.bool), torch.zeros(num_nodes, dtype=torch.bool), torch.zeros(num_nodes, dtype=torch.bool)\n",
    "    train_mask[indices[:num_train]] = True\n",
    "    val_mask[indices[num_train:num_train+num_val]] = True\n",
    "    test_mask[indices[num_train+num_val:]] = True\n",
    "\n",
    "    # Convert NetworkX graph to edge list\n",
    "    src, dst = g.edges()\n",
    "    edge_list = list(zip(src.tolist(), dst.tolist()))\n",
    "    # Create a set for symmetric edges to avoid duplicates\n",
    "    symmetric_edges = set()\n",
    "\n",
    "    # Add each edge and its reverse to the set\n",
    "    for u, v in edge_list:\n",
    "        symmetric_edges.add((u, v))\n",
    "        symmetric_edges.add((v, u))\n",
    "    edge_list = list(symmetric_edges)\n",
    "\n",
    "    edge_index = torch.tensor(edge_list, dtype=torch.long).t().contiguous()\n",
    "    node_features = feat #[g.nodes[node]['feat'] for node in G.nodes()]\n",
    "    # Create a Data object\n",
    "    if len(np.array(node_features).shape) == 1:\n",
    "      data = Data(x=torch.tensor(np.array(node_features)).unsqueeze(1), edge_index=torch.tensor(np.array(edge_index)), y=torch.tensor(np.array(y)), train_mask=torch.tensor(np.array(train_mask)), val_mask=torch.tensor(np.array(val_mask)), test_mask=torch.tensor(np.array(test_mask)))\n",
    "    else:\n",
    "      data = Data(x=torch.tensor(np.array(node_features, dtype=float)).float(), edge_index=torch.tensor(np.array(edge_index)), y=torch.tensor(np.array(y)), train_mask=torch.tensor(np.array(train_mask)), val_mask=torch.tensor(np.array(val_mask)), test_mask=torch.tensor(np.array(test_mask)))\n",
    "    return data"
   ]
  },
  {
   "cell_type": "code",
   "execution_count": 14,
   "metadata": {},
   "outputs": [],
   "source": [
    "data = preprocess(dataset)"
   ]
  }
 ],
 "metadata": {
  "kernelspec": {
   "display_name": ".venv",
   "language": "python",
   "name": "python3"
  },
  "language_info": {
   "codemirror_mode": {
    "name": "ipython",
    "version": 3
   },
   "file_extension": ".py",
   "mimetype": "text/x-python",
   "name": "python",
   "nbconvert_exporter": "python",
   "pygments_lexer": "ipython3",
   "version": "3.10.12"
  }
 },
 "nbformat": 4,
 "nbformat_minor": 2
}
